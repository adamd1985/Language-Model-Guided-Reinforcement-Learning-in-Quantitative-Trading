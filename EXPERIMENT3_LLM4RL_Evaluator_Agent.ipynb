{
 "cells": [
  {
   "cell_type": "markdown",
   "metadata": {},
   "source": [
    "# Experiment - KLD for Reward Regularization"
   ]
  },
  {
   "cell_type": "markdown",
   "metadata": {},
   "source": [
    "## Prepare Notebook"
   ]
  },
  {
   "cell_type": "code",
   "execution_count": null,
   "metadata": {},
   "outputs": [],
   "source": [
    "if False:\n",
    "    %pip install gym==0.23.0\n",
    "    %pip install matplotlib==3.8.2\n",
    "    %pip install numpy==2.2.1\n",
    "    %pip install openai==1.59.8\n",
    "    %pip install pandas==2.2.3\n",
    "    %pip install polars==1.20.0\n",
    "    %pip install protobuf==3.20.3\n",
    "    %pip install pydantic==2.10.5\n",
    "    %pip install python-dotenv==1.0.1\n",
    "    %pip install PyYAML==6.0.2\n",
    "    %pip install scikit_learn==1.4.0\n",
    "    %pip install scipy==1.15.1\n",
    "    %pip install statsmodels==0.14.1\n",
    "    %pip install tabulate==0.9.0\n",
    "    %pip install torch==2.4.1\n",
    "    %pip install tqdm==4.66.5\n"
   ]
  },
  {
   "cell_type": "code",
   "execution_count": null,
   "metadata": {},
   "outputs": [],
   "source": [
    "import os\n",
    "import sys\n",
    "import logging\n",
    "import warnings\n",
    "warnings.filterwarnings(\"ignore\")\n",
    "\n",
    "%load_ext dotenv\n",
    "\n",
    "\n",
    "MODELS_PATH = os.getenv(\"MODELS_PATH\")\n",
    "HISTORIC_PATH = os.getenv(\"HISTORIC_PATH\")\n",
    "LLM_PROMPTS_PATH = os.getenv(\"LLM_PROMPTS_PATH\", '/prompts')\n",
    "LLM_OUTPUT_PATH = os.getenv(\"LLM_OUTPUT_PATH\", '/llm_data')\n",
    "LLM_OUTPUT_PATH = f\"{LLM_OUTPUT_PATH}/gated\"\n",
    "LOGS_PATH = os.getenv(\"LOGS_PATH\")\n",
    "MACRO_PATH = os.getenv(\"MACRO_PATH\", '/macro')\n",
    "OPTIONS_PATH = os.getenv(\"OPTIONS_PATH\", '/options')\n",
    "RL_OUTPUT_PATH = os.getenv(\"RL_OUTPUT_PATH\", '/rl_data')\n",
    "\n",
    "paths = [LLM_OUTPUT_PATH, LOGS_PATH, MODELS_PATH]\n",
    "for path in paths:\n",
    "    if path and not os.path.exists(path):\n",
    "        os.makedirs(path)\n",
    "\n",
    "if \"KAGGLE_KERNEL_RUN_TYPE\" in os.environ:\n",
    "    logging.info(\"Running in Kaggle...\")\n",
    "    for dirname, _, filenames in os.walk(\"/kaggle/input\"):\n",
    "        for filename in filenames:\n",
    "            print(os.path.join(dirname, filename))\n",
    "    DATA_PATH = \"/kaggle/input/drl-dataset-quant\"\n",
    "    HISTORIC_PATH = DATA_PATH + HISTORIC_PATH\n",
    "    LLM_PROMPTS_PATH = DATA_PATH + LLM_PROMPTS_PATH\n",
    "\n",
    "    sys.path.insert(1, \"/kaggle/usr/lib/drlutil\")"
   ]
  },
  {
   "cell_type": "markdown",
   "metadata": {},
   "source": [
    "# Initialize LLM"
   ]
  },
  {
   "cell_type": "code",
   "execution_count": null,
   "metadata": {},
   "outputs": [],
   "source": [
    "import pandas as pd\n",
    "import numpy as np\n",
    "from datetime import datetime\n",
    "import matplotlib.pyplot as plt\n",
    "from tqdm.notebook import tqdm\n",
    "from openai import OpenAI\n",
    "\n",
    "module_path = os.path.abspath(os.path.join(os.getcwd(), 'utils'))\n",
    "if module_path not in sys.path:\n",
    "    sys.path.append(module_path)\n",
    "\n",
    "from thesis_utils import *\n",
    "from data_utils import *\n",
    "\n",
    "OPENAI_API_KEY = os.getenv(\"OPENAI_API_KEY\")\n",
    "OPENAI_MODEL = os.getenv(\"OPENAI_MODEL\")\n",
    "OPENAI_CLIENT = OpenAI(api_key=OPENAI_API_KEY)"
   ]
  },
  {
   "cell_type": "markdown",
   "metadata": {},
   "source": [
    "# Run LLM+RL"
   ]
  },
  {
   "cell_type": "code",
   "execution_count": null,
   "metadata": {},
   "outputs": [],
   "source": [
    "money=100000.\n",
    "stateLength = 30\n",
    "observationSpace =  (stateLength - 1) * 5\n",
    "actionSpace = 2\n",
    "bounds = [1, 30]\n",
    "step = 1\n",
    "numberOfEpisodes = 50\n",
    "percentageCosts = [0, 0.1, 0.2]\n",
    "transactionCosts = percentageCosts[1]/100\n",
    "simulator = TradingSimulator()\n",
    "\n",
    "TARGET = 'AAPL'\n",
    "STARTDATE = '2012-01-01'\n",
    "SPLITDATE = '2018-01-01'\n",
    "ENDDATE = '2020-01-01'\n",
    "RISK_EXPERIMENT = 'r'\n",
    "PROMPT_VERSION = 'v3'"
   ]
  },
  {
   "cell_type": "code",
   "execution_count": null,
   "metadata": {},
   "outputs": [],
   "source": [
    "rl_output_dir = f'{RL_OUTPUT_PATH}/{RISK_EXPERIMENT}/{PROMPT_VERSION}'\n",
    "os.makedirs(rl_output_dir, exist_ok=True)\n",
    "\n",
    "train_file = f'{rl_output_dir}/{TARGET}_train_results.pkl'\n",
    "test_file = f'{rl_output_dir}/{TARGET}_test_results.pkl'\n",
    "sharpe_train_file = f'{rl_output_dir}/{TARGET}_sharpe_train_results.pkl'\n",
    "sharpe_test_file = f'{rl_output_dir}/{TARGET}_sharpe_test_results.pkl'\n",
    "time_file = f'{rl_output_dir}/{TARGET}_time_results.pkl'\n",
    "input_file = f\"{HISTORIC_PATH}/engineered_{TARGET}_data.parquet\"\n",
    "engineered_df = pd.read_parquet(input_file)\n",
    "engineered_df.set_index('Date', inplace=True)\n",
    "output_dir = f'{LLM_OUTPUT_PATH}/response/{RISK_EXPERIMENT}/{PROMPT_VERSION}'\n",
    "\n",
    "engineered_df = generate_strategy_for_ticker(ticker_df=engineered_df,\n",
    "                                            ticker=TARGET,\n",
    "                                            LLM_OUTPUT_PATH=output_dir,\n",
    "                                            persona=PERSONA,\n",
    "                                            HIGH_RISK_PROFILE=HIGH_RISK_PROFILE if RISK_EXPERIMENT == 'r' else LOW_RISK_PROFILE,\n",
    "                                            HIGH_OBJECTIVES=HIGH_OBJECTIVES if RISK_EXPERIMENT == 'r' else LOW_OBJECTIVES,\n",
    "                                            client=OPENAI_CLIENT,\n",
    "                                            model=OPENAI_MODEL,\n",
    "                                            strategy_yaml_file=f'{LLM_PROMPTS_PATH}/strat_prompt_{PROMPT_VERSION}.yml',\n",
    "                                            eval_yaml_file=f'{LLM_PROMPTS_PATH}/evaluator_prompt_v1.yml',\n",
    "                                            news_yaml_file=f'{LLM_PROMPTS_PATH}/analyst_prompt_v1.yml',\n",
    "                                            start_date=STARTDATE,\n",
    "                                            end_date=ENDDATE,\n",
    "                                            max_news=5\n",
    "                                        )\n",
    "\n",
    "engineered_df.tail(3)"
   ]
  },
  {
   "cell_type": "code",
   "execution_count": null,
   "metadata": {},
   "outputs": [],
   "source": [
    "if os.path.exists(train_file) and os.path.exists(test_file) and os.path.exists(time_file):\n",
    "    with open(train_file, 'rb') as f:\n",
    "        train_results = pickle.load(f)\n",
    "    with open(test_file, 'rb') as f:\n",
    "        test_results = pickle.load(f)\n",
    "    with open(time_file, 'rb') as f:\n",
    "        time_results = pickle.load(f)\n",
    "else:\n",
    "    strat, train_env, test_env = simulator.simulateNewStrategy(engineered_df.copy(),\n",
    "                                                                startingDate=STARTDATE,\n",
    "                                                                endingDate=ENDDATE,\n",
    "                                                                splitingDate=SPLITDATE,\n",
    "                                                                verbose=True,\n",
    "                                                                plotTraining=True,\n",
    "                                                                rendering=True,\n",
    "                                                                showPerformance=True,\n",
    "                                                                models_path=MODELS_PATH,\n",
    "                                                                saveStrategy=True,\n",
    "                                                                money=money,\n",
    "                                                                observationSpace=observationSpace,\n",
    "                                                                actionSpace=actionSpace,\n",
    "                                                                stateLength=stateLength,\n",
    "                                                                bounds=bounds,\n",
    "                                                                step=step,\n",
    "                                                                numberOfEpisodes=numberOfEpisodes,\n",
    "                                                                transactionCosts=transactionCosts,\n",
    "                                                                ticker_symbol=TARGET)\n",
    "    analyser = PerformanceEstimator(train_env.data)\n",
    "    train_results = analyser.getComputedPerformance()\n",
    "    analyser = PerformanceEstimator(test_env.data)\n",
    "    test_results = analyser.getComputedPerformance()\n",
    "    with open(train_file, 'wb') as f:\n",
    "        pickle.dump(train_results, f)\n",
    "    with open(test_file, 'wb') as f:\n",
    "        pickle.dump(test_results, f)"
   ]
  },
  {
   "cell_type": "code",
   "execution_count": null,
   "metadata": {},
   "outputs": [],
   "source": [
    "test_results"
   ]
  },
  {
   "cell_type": "code",
   "execution_count": null,
   "metadata": {},
   "outputs": [],
   "source": [
    "test_env.data"
   ]
  },
  {
   "cell_type": "code",
   "execution_count": null,
   "metadata": {},
   "outputs": [],
   "source": [
    "test_engineered_df = engineered_df[SPLITDATE:ENDDATE].copy()\n",
    "test_engineered_df['LLM_Trade_Action'] = test_engineered_df['trade_action']\n",
    "test_engineered_df['trade_action'] = test_env.data['action'] == 0\n",
    "test_engineered_df['reward'] = test_env.data['returns']\n",
    "llm_trading_metrics, llm_trades_df = evaluate_trading_metrics(test_engineered_df)\n",
    "llm_trades_df['cumulative_returns'] = (1 + test_env.data['returns']).cumprod() - 1\n",
    "llm_trading_metrics"
   ]
  },
  {
   "cell_type": "code",
   "execution_count": null,
   "metadata": {},
   "outputs": [],
   "source": [
    "fig1, fig3, fig2, fig4 = plot_llm_trade(llm_trades_df, plot=False)\n",
    "\n",
    "change_points = llm_trades_df['LLM_Trade_Action'].shift(1) != llm_trades_df['LLM_Trade_Action']\n",
    "llm_changes = llm_trades_df[change_points]\n",
    "\n",
    "longs = llm_changes[llm_changes['LLM_Trade_Action'] == 1]\n",
    "flats = llm_changes[llm_changes['LLM_Trade_Action'] == 0]\n",
    "\n",
    "fig1.axes[0].scatter(\n",
    "    longs.index,\n",
    "    longs['Close'],\n",
    "    marker='^',\n",
    "    facecolors='none',\n",
    "    edgecolors='purple',\n",
    "    label='LLM Long',\n",
    "    s=200\n",
    ")\n",
    "\n",
    "fig1.axes[0].scatter(\n",
    "    flats.index,\n",
    "    flats['Close'],\n",
    "    marker='v',\n",
    "    facecolors='none',\n",
    "    edgecolors='gray',\n",
    "    label='LLM Short',\n",
    "    s=200\n",
    ")\n",
    "\n",
    "fig1.axes[0].legend(loc='upper right')\n",
    "for fig in [fig1, fig2, fig3, fig4]:\n",
    "    if fig:\n",
    "        fig.show()\n",
    "        display(fig)"
   ]
  }
 ],
 "metadata": {
  "kaggle": {
   "accelerator": "gpu",
   "dataSources": [
    {
     "datasetId": 5722911,
     "sourceId": 9421991,
     "sourceType": "datasetVersion"
    },
    {
     "sourceId": 197612253,
     "sourceType": "kernelVersion"
    }
   ],
   "dockerImageVersionId": 30762,
   "isGpuEnabled": true,
   "isInternetEnabled": true,
   "language": "python",
   "sourceType": "notebook"
  },
  "kernelspec": {
   "display_name": "quant_drl",
   "language": "python",
   "name": "python3"
  },
  "language_info": {
   "codemirror_mode": {
    "name": "ipython",
    "version": 3
   },
   "file_extension": ".py",
   "mimetype": "text/x-python",
   "name": "python",
   "nbconvert_exporter": "python",
   "pygments_lexer": "ipython3",
   "version": "3.10.14"
  },
  "papermill": {
   "default_parameters": {},
   "duration": 1234.187031,
   "end_time": "2024-09-17T20:07:16.406924",
   "environment_variables": {},
   "exception": null,
   "input_path": "__notebook__.ipynb",
   "output_path": "__notebook__.ipynb",
   "parameters": {},
   "start_time": "2024-09-17T19:46:42.219893",
   "version": "2.6.0"
  }
 },
 "nbformat": 4,
 "nbformat_minor": 4
}
