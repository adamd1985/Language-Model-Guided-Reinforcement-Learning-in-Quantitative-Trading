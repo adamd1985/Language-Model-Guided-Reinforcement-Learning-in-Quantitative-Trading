{
 "cells": [
  {
   "cell_type": "markdown",
   "metadata": {},
   "source": [
    "# Experiment 1 - Tuning and Distilling LLM"
   ]
  },
  {
   "cell_type": "markdown",
   "metadata": {},
   "source": [
    "## Prepare Notebook"
   ]
  },
  {
   "cell_type": "code",
   "execution_count": 1,
   "metadata": {},
   "outputs": [
    {
     "name": "stdout",
     "output_type": "stream",
     "text": [
      "Requirement already satisfied: yfinance==0.2.43 in /home/adamd1985/anaconda3/envs/quant_drl/lib/python3.10/site-packages (0.2.43)\n",
      "Requirement already satisfied: pandas>=1.3.0 in /home/adamd1985/anaconda3/envs/quant_drl/lib/python3.10/site-packages (from yfinance==0.2.43) (2.2.3)\n",
      "Requirement already satisfied: numpy>=1.16.5 in /home/adamd1985/anaconda3/envs/quant_drl/lib/python3.10/site-packages (from yfinance==0.2.43) (1.26.4)\n",
      "Requirement already satisfied: requests>=2.31 in /home/adamd1985/anaconda3/envs/quant_drl/lib/python3.10/site-packages (from yfinance==0.2.43) (2.32.2)\n",
      "Requirement already satisfied: multitasking>=0.0.7 in /home/adamd1985/anaconda3/envs/quant_drl/lib/python3.10/site-packages (from yfinance==0.2.43) (0.0.11)\n",
      "Requirement already satisfied: lxml>=4.9.1 in /home/adamd1985/anaconda3/envs/quant_drl/lib/python3.10/site-packages (from yfinance==0.2.43) (5.2.2)\n",
      "Requirement already satisfied: platformdirs>=2.0.0 in /home/adamd1985/anaconda3/envs/quant_drl/lib/python3.10/site-packages (from yfinance==0.2.43) (4.2.2)\n",
      "Requirement already satisfied: pytz>=2022.5 in /home/adamd1985/anaconda3/envs/quant_drl/lib/python3.10/site-packages (from yfinance==0.2.43) (2024.1)\n",
      "Requirement already satisfied: frozendict>=2.3.4 in /home/adamd1985/anaconda3/envs/quant_drl/lib/python3.10/site-packages (from yfinance==0.2.43) (2.4.4)\n",
      "Requirement already satisfied: peewee>=3.16.2 in /home/adamd1985/anaconda3/envs/quant_drl/lib/python3.10/site-packages (from yfinance==0.2.43) (3.17.5)\n",
      "Requirement already satisfied: beautifulsoup4>=4.11.1 in /home/adamd1985/anaconda3/envs/quant_drl/lib/python3.10/site-packages (from yfinance==0.2.43) (4.12.3)\n",
      "Requirement already satisfied: html5lib>=1.1 in /home/adamd1985/anaconda3/envs/quant_drl/lib/python3.10/site-packages (from yfinance==0.2.43) (1.1)\n",
      "Requirement already satisfied: soupsieve>1.2 in /home/adamd1985/anaconda3/envs/quant_drl/lib/python3.10/site-packages (from beautifulsoup4>=4.11.1->yfinance==0.2.43) (2.5)\n",
      "Requirement already satisfied: six>=1.9 in /home/adamd1985/anaconda3/envs/quant_drl/lib/python3.10/site-packages (from html5lib>=1.1->yfinance==0.2.43) (1.16.0)\n",
      "Requirement already satisfied: webencodings in /home/adamd1985/anaconda3/envs/quant_drl/lib/python3.10/site-packages (from html5lib>=1.1->yfinance==0.2.43) (0.5.1)\n",
      "Requirement already satisfied: python-dateutil>=2.8.2 in /home/adamd1985/anaconda3/envs/quant_drl/lib/python3.10/site-packages (from pandas>=1.3.0->yfinance==0.2.43) (2.9.0.post0)\n",
      "Requirement already satisfied: tzdata>=2022.7 in /home/adamd1985/anaconda3/envs/quant_drl/lib/python3.10/site-packages (from pandas>=1.3.0->yfinance==0.2.43) (2023.3)\n",
      "Requirement already satisfied: charset-normalizer<4,>=2 in /home/adamd1985/anaconda3/envs/quant_drl/lib/python3.10/site-packages (from requests>=2.31->yfinance==0.2.43) (2.0.4)\n",
      "Requirement already satisfied: idna<4,>=2.5 in /home/adamd1985/anaconda3/envs/quant_drl/lib/python3.10/site-packages (from requests>=2.31->yfinance==0.2.43) (3.7)\n",
      "Requirement already satisfied: urllib3<3,>=1.21.1 in /home/adamd1985/anaconda3/envs/quant_drl/lib/python3.10/site-packages (from requests>=2.31->yfinance==0.2.43) (2.2.1)\n",
      "Requirement already satisfied: certifi>=2017.4.17 in /home/adamd1985/anaconda3/envs/quant_drl/lib/python3.10/site-packages (from requests>=2.31->yfinance==0.2.43) (2024.12.14)\n",
      "Note: you may need to restart the kernel to use updated packages.\n",
      "Requirement already satisfied: openai==1.51.2 in /home/adamd1985/anaconda3/envs/quant_drl/lib/python3.10/site-packages (1.51.2)\n",
      "Requirement already satisfied: anyio<5,>=3.5.0 in /home/adamd1985/anaconda3/envs/quant_drl/lib/python3.10/site-packages (from openai==1.51.2) (4.6.2.post1)\n",
      "Requirement already satisfied: distro<2,>=1.7.0 in /home/adamd1985/anaconda3/envs/quant_drl/lib/python3.10/site-packages (from openai==1.51.2) (1.9.0)\n",
      "Requirement already satisfied: httpx<1,>=0.23.0 in /home/adamd1985/anaconda3/envs/quant_drl/lib/python3.10/site-packages (from openai==1.51.2) (0.27.2)\n",
      "Requirement already satisfied: jiter<1,>=0.4.0 in /home/adamd1985/anaconda3/envs/quant_drl/lib/python3.10/site-packages (from openai==1.51.2) (0.6.1)\n",
      "Requirement already satisfied: pydantic<3,>=1.9.0 in /home/adamd1985/anaconda3/envs/quant_drl/lib/python3.10/site-packages (from openai==1.51.2) (2.10.5)\n",
      "Requirement already satisfied: sniffio in /home/adamd1985/anaconda3/envs/quant_drl/lib/python3.10/site-packages (from openai==1.51.2) (1.3.1)\n",
      "Requirement already satisfied: tqdm>4 in /home/adamd1985/anaconda3/envs/quant_drl/lib/python3.10/site-packages (from openai==1.51.2) (4.66.5)\n",
      "Requirement already satisfied: typing-extensions<5,>=4.11 in /home/adamd1985/anaconda3/envs/quant_drl/lib/python3.10/site-packages (from openai==1.51.2) (4.12.2)\n",
      "Requirement already satisfied: idna>=2.8 in /home/adamd1985/anaconda3/envs/quant_drl/lib/python3.10/site-packages (from anyio<5,>=3.5.0->openai==1.51.2) (3.7)\n",
      "Requirement already satisfied: exceptiongroup>=1.0.2 in /home/adamd1985/anaconda3/envs/quant_drl/lib/python3.10/site-packages (from anyio<5,>=3.5.0->openai==1.51.2) (1.2.0)\n",
      "Requirement already satisfied: certifi in /home/adamd1985/anaconda3/envs/quant_drl/lib/python3.10/site-packages (from httpx<1,>=0.23.0->openai==1.51.2) (2024.12.14)\n",
      "Requirement already satisfied: httpcore==1.* in /home/adamd1985/anaconda3/envs/quant_drl/lib/python3.10/site-packages (from httpx<1,>=0.23.0->openai==1.51.2) (1.0.6)\n",
      "Requirement already satisfied: h11<0.15,>=0.13 in /home/adamd1985/anaconda3/envs/quant_drl/lib/python3.10/site-packages (from httpcore==1.*->httpx<1,>=0.23.0->openai==1.51.2) (0.14.0)\n",
      "Requirement already satisfied: annotated-types>=0.6.0 in /home/adamd1985/anaconda3/envs/quant_drl/lib/python3.10/site-packages (from pydantic<3,>=1.9.0->openai==1.51.2) (0.7.0)\n",
      "Requirement already satisfied: pydantic-core==2.27.2 in /home/adamd1985/anaconda3/envs/quant_drl/lib/python3.10/site-packages (from pydantic<3,>=1.9.0->openai==1.51.2) (2.27.2)\n",
      "Note: you may need to restart the kernel to use updated packages.\n"
     ]
    }
   ],
   "source": [
    "import os\n",
    "import sys\n",
    "import logging\n",
    "import warnings\n",
    "import re\n",
    "\n",
    "warnings.filterwarnings(\"ignore\")\n",
    "\n",
    "INSTALL_DEPS = True\n",
    "if INSTALL_DEPS:\n",
    "    %pip install yfinance==0.2.43\n",
    "    %pip install openai==1.51.2\n",
    "\n",
    "%load_ext dotenv\n",
    "\n",
    "FUNDAMENTALS_PATH = os.getenv(\"FUNDAMENTALS_PATH\")\n",
    "LLM_PROMPTS_PATH = os.getenv(\"LLM_PROMPTS_PATH\")\n",
    "FUNDAMENTALS_PATH = os.getenv(\"FUNDAMENTALS_PATH\")\n",
    "HISTORIC_PATH = os.getenv(\"HISTORIC_PATH\")\n",
    "MACRO_PATH = os.getenv(\"MACRO_PATH\")\n",
    "OPTIONS_PATH = os.getenv(\"OPTIONS_PATH\")\n",
    "LLM_OUTPUT_PATH = os.getenv(\"LLM_OUTPUT_PATH\")\n",
    "LOGS_PATH = os.getenv(\"LOGS_PATH\")\n",
    "paths = [LLM_OUTPUT_PATH, LOGS_PATH]\n",
    "for path in paths:\n",
    "    if path and not os.path.exists(path):\n",
    "        os.makedirs(path)\n",
    "\n",
    "if \"KAGGLE_KERNEL_RUN_TYPE\" in os.environ:\n",
    "    logging.info(\"Running in Kaggle...\")\n",
    "    for dirname, _, filenames in os.walk(\"/kaggle/input\"):\n",
    "        for filename in filenames:\n",
    "            print(os.path.join(dirname, filename))\n",
    "    DATA_PATH = \"/kaggle/input/drl-dataset-quant\"\n",
    "    FUNDAMENTALS_PATH = DATA_PATH + FUNDAMENTALS_PATH\n",
    "    HISTORIC_PATH = DATA_PATH + HISTORIC_PATH\n",
    "    MACRO_PATH = DATA_PATH + MACRO_PATH\n",
    "    OPTIONS_PATH = DATA_PATH + OPTIONS_PATH\n",
    "\n",
    "    sys.path.insert(1, \"/kaggle/usr/lib/drlutil\")"
   ]
  },
  {
   "cell_type": "code",
   "execution_count": 2,
   "metadata": {
    "execution": {
     "iopub.execute_input": "2024-09-23T14:39:13.829574Z",
     "iopub.status.busy": "2024-09-23T14:39:13.829218Z",
     "iopub.status.idle": "2024-09-23T14:39:14.190909Z",
     "shell.execute_reply": "2024-09-23T14:39:14.189908Z",
     "shell.execute_reply.started": "2024-09-23T14:39:13.829533Z"
    },
    "papermill": {
     "duration": 0.761376,
     "end_time": "2024-09-17T19:46:45.797391",
     "exception": false,
     "start_time": "2024-09-17T19:46:45.036015",
     "status": "completed"
    },
    "tags": [],
    "trusted": true
   },
   "outputs": [
    {
     "name": "stderr",
     "output_type": "stream",
     "text": [
      "2025-05-30 13:42:29.625347: I tensorflow/core/util/port.cc:113] oneDNN custom operations are on. You may see slightly different numerical results due to floating-point round-off errors from different computation orders. To turn them off, set the environment variable `TF_ENABLE_ONEDNN_OPTS=0`.\n",
      "2025-05-30 13:42:29.698392: E external/local_xla/xla/stream_executor/cuda/cuda_dnn.cc:9261] Unable to register cuDNN factory: Attempting to register factory for plugin cuDNN when one has already been registered\n",
      "2025-05-30 13:42:29.698448: E external/local_xla/xla/stream_executor/cuda/cuda_fft.cc:607] Unable to register cuFFT factory: Attempting to register factory for plugin cuFFT when one has already been registered\n",
      "2025-05-30 13:42:29.705296: E external/local_xla/xla/stream_executor/cuda/cuda_blas.cc:1515] Unable to register cuBLAS factory: Attempting to register factory for plugin cuBLAS when one has already been registered\n",
      "2025-05-30 13:42:29.732081: I tensorflow/core/platform/cpu_feature_guard.cc:182] This TensorFlow binary is optimized to use available CPU instructions in performance-critical operations.\n",
      "To enable the following instructions: AVX2 AVX_VNNI FMA, in other operations, rebuild TensorFlow with the appropriate compiler flags.\n",
      "2025-05-30 13:42:30.346593: W tensorflow/compiler/tf2tensorrt/utils/py_utils.cc:38] TF-TRT Warning: Could not find TensorRT\n"
     ]
    }
   ],
   "source": [
    "import pandas as pd\n",
    "import numpy as np\n",
    "from datetime import datetime, timedelta\n",
    "from pandas.tseries.offsets import BDay\n",
    "import matplotlib.pyplot as plt\n",
    "from tqdm.notebook import tqdm\n",
    "from openai import OpenAI\n",
    "\n",
    "module_path = os.path.abspath(os.path.join(os.getcwd(), 'utils'))\n",
    "if module_path not in sys.path:\n",
    "    sys.path.append(module_path)\n",
    "\n",
    "from data_utils import *\n",
    "from thesis_utils import *"
   ]
  },
  {
   "cell_type": "markdown",
   "metadata": {},
   "source": [
    "## Environment and Constants"
   ]
  },
  {
   "cell_type": "code",
   "execution_count": 3,
   "metadata": {},
   "outputs": [],
   "source": [
    "# A lot of ranging in these dates across the market.\n",
    "START_DATE = '20140701'\n",
    "END_DATE = '20180901'\n",
    "TARGET = \"META\"\n",
    "WRITER_OPENAI_MODEL = os.getenv(\"OPENAI_MODEL\")\n",
    "# OPENAI_MODEL =\"gpt-4o\"  # use models good with reasoning\n",
    "OPENAI_API_KEY = os.getenv(\"OPENAI_API_KEY\")\n",
    "DISTIL_SAMPLES = 1"
   ]
  },
  {
   "cell_type": "code",
   "execution_count": 4,
   "metadata": {},
   "outputs": [
    {
     "data": {
      "application/vnd.microsoft.datawrangler.viewer.v0+json": {
       "columns": [
        {
         "name": "Date",
         "rawType": "datetime64[ns, UTC]",
         "type": "unknown"
        },
        {
         "name": "Open",
         "rawType": "float64",
         "type": "float"
        },
        {
         "name": "High",
         "rawType": "float64",
         "type": "float"
        },
        {
         "name": "Low",
         "rawType": "float64",
         "type": "float"
        },
        {
         "name": "Close",
         "rawType": "float64",
         "type": "float"
        },
        {
         "name": "Volume",
         "rawType": "int64",
         "type": "integer"
        },
        {
         "name": "IV_Open",
         "rawType": "float64",
         "type": "float"
        },
        {
         "name": "IV_High",
         "rawType": "float64",
         "type": "float"
        },
        {
         "name": "IV_Low",
         "rawType": "float64",
         "type": "float"
        },
        {
         "name": "IV_Close",
         "rawType": "float64",
         "type": "float"
        },
        {
         "name": "IV_Volume",
         "rawType": "float64",
         "type": "float"
        },
        {
         "name": "HV_Open",
         "rawType": "float64",
         "type": "float"
        },
        {
         "name": "HV_High",
         "rawType": "float64",
         "type": "float"
        },
        {
         "name": "HV_Low",
         "rawType": "float64",
         "type": "float"
        },
        {
         "name": "HV_Close",
         "rawType": "float64",
         "type": "float"
        },
        {
         "name": "HV_Volume",
         "rawType": "float64",
         "type": "float"
        },
        {
         "name": "Ticker",
         "rawType": "object",
         "type": "string"
        },
        {
         "name": "Quarter",
         "rawType": "object",
         "type": "string"
        },
        {
         "name": "Net_Income",
         "rawType": "float64",
         "type": "float"
        },
        {
         "name": "Invested_Capital",
         "rawType": "float64",
         "type": "float"
        },
        {
         "name": "Return_on_Investment",
         "rawType": "float64",
         "type": "float"
        },
        {
         "name": "Current_Ratio",
         "rawType": "float64",
         "type": "float"
        },
        {
         "name": "Long_term_Debt_/_Capital",
         "rawType": "float64",
         "type": "float"
        },
        {
         "name": "Gross_Margin",
         "rawType": "float64",
         "type": "float"
        },
        {
         "name": "Operating_Margin",
         "rawType": "float64",
         "type": "float"
        },
        {
         "name": "EBIT_Margin",
         "rawType": "float64",
         "type": "float"
        },
        {
         "name": "EBITDA_Margin",
         "rawType": "float64",
         "type": "float"
        },
        {
         "name": "Pre_Tax_Profit_Margin",
         "rawType": "float64",
         "type": "float"
        },
        {
         "name": "Net_Profit_Margin",
         "rawType": "float64",
         "type": "float"
        },
        {
         "name": "Asset_Turnover",
         "rawType": "float64",
         "type": "float"
        },
        {
         "name": "Inventory_Turnover_Ratio",
         "rawType": "float64",
         "type": "float"
        },
        {
         "name": "Days_Sales_In_Receivables",
         "rawType": "float64",
         "type": "float"
        },
        {
         "name": "Book_Value_Per_Share",
         "rawType": "float64",
         "type": "float"
        },
        {
         "name": "Operating_Cash_Flow_Per_Share",
         "rawType": "float64",
         "type": "float"
        },
        {
         "name": "Free_Cash_Flow_Per_Share",
         "rawType": "float64",
         "type": "float"
        },
        {
         "name": "Stock_Price",
         "rawType": "float64",
         "type": "float"
        },
        {
         "name": "Book_Value_per_Share",
         "rawType": "float64",
         "type": "float"
        },
        {
         "name": "Price_to_Book_Ratio",
         "rawType": "float64",
         "type": "float"
        },
        {
         "name": "EPS",
         "rawType": "float64",
         "type": "float"
        },
        {
         "name": "TTM_FCF_per_Share",
         "rawType": "float64",
         "type": "float"
        },
        {
         "name": "Price_to_FCF_Ratio",
         "rawType": "float64",
         "type": "float"
        },
        {
         "name": "Total_Assets",
         "rawType": "float64",
         "type": "float"
        },
        {
         "name": "Return_on_Assets",
         "rawType": "float64",
         "type": "float"
        },
        {
         "name": "Current_Assets",
         "rawType": "float64",
         "type": "float"
        },
        {
         "name": "Current_Liabilities",
         "rawType": "float64",
         "type": "float"
        },
        {
         "name": "TTM_Sales_per_Share",
         "rawType": "float64",
         "type": "float"
        },
        {
         "name": "Price_to_Sales_Ratio",
         "rawType": "float64",
         "type": "float"
        },
        {
         "name": "Long_Term_Debt",
         "rawType": "float64",
         "type": "float"
        },
        {
         "name": "Shareholder's_Equity",
         "rawType": "float64",
         "type": "float"
        },
        {
         "name": "Debt_to_Equity_Ratio",
         "rawType": "float64",
         "type": "float"
        },
        {
         "name": "TTM_Net_EPS",
         "rawType": "float64",
         "type": "float"
        },
        {
         "name": "PE_Ratio",
         "rawType": "float64",
         "type": "float"
        },
        {
         "name": "Return_on_Equity",
         "rawType": "float64",
         "type": "float"
        },
        {
         "name": "Current_Assets___Inventory",
         "rawType": "float64",
         "type": "float"
        },
        {
         "name": "Quick_Ratio",
         "rawType": "float64",
         "type": "float"
        },
        {
         "name": "Quick_Ratio_QoQ_Growth",
         "rawType": "float64",
         "type": "float"
        },
        {
         "name": "Quick_Ratio_YoY_Growth",
         "rawType": "float64",
         "type": "float"
        },
        {
         "name": "Current_Ratio_QoQ_Growth",
         "rawType": "float64",
         "type": "float"
        },
        {
         "name": "Current_Ratio_YoY_Growth",
         "rawType": "float64",
         "type": "float"
        },
        {
         "name": "Debt_to_Equity_Ratio_QoQ_Growth",
         "rawType": "float64",
         "type": "float"
        },
        {
         "name": "Debt_to_Equity_Ratio_YoY_Growth",
         "rawType": "float64",
         "type": "float"
        },
        {
         "name": "Gross_Margin_QoQ_Growth",
         "rawType": "float64",
         "type": "float"
        },
        {
         "name": "Gross_Margin_YoY_Growth",
         "rawType": "float64",
         "type": "float"
        },
        {
         "name": "Operating_Margin_QoQ_Growth",
         "rawType": "float64",
         "type": "float"
        },
        {
         "name": "Operating_Margin_YoY_Growth",
         "rawType": "float64",
         "type": "float"
        },
        {
         "name": "EBIT_Margin_QoQ_Growth",
         "rawType": "float64",
         "type": "float"
        },
        {
         "name": "EBIT_Margin_YoY_Growth",
         "rawType": "float64",
         "type": "float"
        },
        {
         "name": "Net_Profit_Margin_QoQ_Growth",
         "rawType": "float64",
         "type": "float"
        },
        {
         "name": "Net_Profit_Margin_YoY_Growth",
         "rawType": "float64",
         "type": "float"
        },
        {
         "name": "Asset_Turnover_QoQ_Growth",
         "rawType": "float64",
         "type": "float"
        },
        {
         "name": "Asset_Turnover_YoY_Growth",
         "rawType": "float64",
         "type": "float"
        },
        {
         "name": "Inventory_Turnover_Ratio_QoQ_Growth",
         "rawType": "float64",
         "type": "float"
        },
        {
         "name": "Inventory_Turnover_Ratio_YoY_Growth",
         "rawType": "float64",
         "type": "float"
        },
        {
         "name": "Price_to_Book_Ratio_QoQ_Growth",
         "rawType": "float64",
         "type": "float"
        },
        {
         "name": "Price_to_Book_Ratio_YoY_Growth",
         "rawType": "float64",
         "type": "float"
        },
        {
         "name": "PE_Ratio_QoQ_Growth",
         "rawType": "float64",
         "type": "float"
        },
        {
         "name": "PE_Ratio_YoY_Growth",
         "rawType": "float64",
         "type": "float"
        },
        {
         "name": "EPS_QoQ_Growth",
         "rawType": "float64",
         "type": "float"
        },
        {
         "name": "EPS_YoY_Growth",
         "rawType": "float64",
         "type": "float"
        },
        {
         "name": "Net_Income_QoQ_Growth",
         "rawType": "float64",
         "type": "float"
        },
        {
         "name": "Net_Income_YoY_Growth",
         "rawType": "float64",
         "type": "float"
        },
        {
         "name": "Free_Cash_Flow_Per_Share_QoQ_Growth",
         "rawType": "float64",
         "type": "float"
        },
        {
         "name": "Free_Cash_Flow_Per_Share_YoY_Growth",
         "rawType": "float64",
         "type": "float"
        },
        {
         "name": "Operating_Cash_Flow_Per_Share_QoQ_Growth",
         "rawType": "float64",
         "type": "float"
        },
        {
         "name": "Operating_Cash_Flow_Per_Share_YoY_Growth",
         "rawType": "float64",
         "type": "float"
        },
        {
         "name": "Return_on_Equity_QoQ_Growth",
         "rawType": "float64",
         "type": "float"
        },
        {
         "name": "Return_on_Equity_YoY_Growth",
         "rawType": "float64",
         "type": "float"
        },
        {
         "name": "Return_on_Assets_QoQ_Growth",
         "rawType": "float64",
         "type": "float"
        },
        {
         "name": "Return_on_Assets_YoY_Growth",
         "rawType": "float64",
         "type": "float"
        },
        {
         "name": "PMI",
         "rawType": "float64",
         "type": "float"
        },
        {
         "name": "PPI",
         "rawType": "float64",
         "type": "float"
        },
        {
         "name": "Retail_Sales",
         "rawType": "float64",
         "type": "float"
        },
        {
         "name": "Employment",
         "rawType": "float64",
         "type": "float"
        },
        {
         "name": "Yield_Curve",
         "rawType": "float64",
         "type": "float"
        },
        {
         "name": "Treasury_Yields",
         "rawType": "float64",
         "type": "float"
        },
        {
         "name": "CPI",
         "rawType": "float64",
         "type": "float"
        },
        {
         "name": "Consumer_Confidence",
         "rawType": "float64",
         "type": "float"
        },
        {
         "name": "Housing_Starts",
         "rawType": "float64",
         "type": "float"
        },
        {
         "name": "M2_Money_Supply",
         "rawType": "float64",
         "type": "float"
        },
        {
         "name": "GDP",
         "rawType": "float64",
         "type": "float"
        },
        {
         "name": "PMI_YoY",
         "rawType": "float64",
         "type": "float"
        },
        {
         "name": "PPI_YoY",
         "rawType": "float64",
         "type": "float"
        },
        {
         "name": "Retail_Sales_YoY",
         "rawType": "float64",
         "type": "float"
        },
        {
         "name": "Employment_YoY",
         "rawType": "float64",
         "type": "float"
        },
        {
         "name": "Yield_Curve_YoY",
         "rawType": "float64",
         "type": "float"
        },
        {
         "name": "Treasury_Yields_YoY",
         "rawType": "float64",
         "type": "float"
        },
        {
         "name": "CPI_YoY",
         "rawType": "float64",
         "type": "float"
        },
        {
         "name": "Consumer_Confidence_YoY",
         "rawType": "float64",
         "type": "float"
        },
        {
         "name": "Housing_Starts_YoY",
         "rawType": "float64",
         "type": "float"
        },
        {
         "name": "M2_Money_Supply_YoY",
         "rawType": "float64",
         "type": "float"
        },
        {
         "name": "GDP_YoY",
         "rawType": "float64",
         "type": "float"
        },
        {
         "name": "PMI_QoQ",
         "rawType": "float64",
         "type": "float"
        },
        {
         "name": "PPI_QoQ",
         "rawType": "float64",
         "type": "float"
        },
        {
         "name": "Retail_Sales_QoQ",
         "rawType": "float64",
         "type": "float"
        },
        {
         "name": "Employment_QoQ",
         "rawType": "float64",
         "type": "float"
        },
        {
         "name": "Yield_Curve_QoQ",
         "rawType": "float64",
         "type": "float"
        },
        {
         "name": "Treasury_Yields_QoQ",
         "rawType": "float64",
         "type": "float"
        },
        {
         "name": "CPI_QoQ",
         "rawType": "float64",
         "type": "float"
        },
        {
         "name": "Consumer_Confidence_QoQ",
         "rawType": "float64",
         "type": "float"
        },
        {
         "name": "Housing_Starts_QoQ",
         "rawType": "float64",
         "type": "float"
        },
        {
         "name": "M2_Money_Supply_QoQ",
         "rawType": "float64",
         "type": "float"
        },
        {
         "name": "GDP_QoQ",
         "rawType": "float64",
         "type": "float"
        },
        {
         "name": "SPX_Open",
         "rawType": "float64",
         "type": "float"
        },
        {
         "name": "SPX_High",
         "rawType": "float64",
         "type": "float"
        },
        {
         "name": "SPX_Low",
         "rawType": "float64",
         "type": "float"
        },
        {
         "name": "SPX_Close",
         "rawType": "float64",
         "type": "float"
        },
        {
         "name": "SPX_Volume",
         "rawType": "float64",
         "type": "float"
        },
        {
         "name": "SPX_IV_Open",
         "rawType": "float64",
         "type": "float"
        },
        {
         "name": "SPX_IV_High",
         "rawType": "float64",
         "type": "float"
        },
        {
         "name": "SPX_IV_Low",
         "rawType": "float64",
         "type": "float"
        },
        {
         "name": "SPX_IV_Close",
         "rawType": "float64",
         "type": "float"
        },
        {
         "name": "SPX_IV_Volume",
         "rawType": "float64",
         "type": "float"
        },
        {
         "name": "SPX_HV_Open",
         "rawType": "float64",
         "type": "float"
        },
        {
         "name": "SPX_HV_High",
         "rawType": "float64",
         "type": "float"
        },
        {
         "name": "SPX_HV_Low",
         "rawType": "float64",
         "type": "float"
        },
        {
         "name": "SPX_HV_Close",
         "rawType": "float64",
         "type": "float"
        },
        {
         "name": "SPX_HV_Volume",
         "rawType": "float64",
         "type": "float"
        },
        {
         "name": "NDX_Open",
         "rawType": "float64",
         "type": "float"
        },
        {
         "name": "NDX_High",
         "rawType": "float64",
         "type": "float"
        },
        {
         "name": "NDX_Low",
         "rawType": "float64",
         "type": "float"
        },
        {
         "name": "NDX_Close",
         "rawType": "float64",
         "type": "float"
        },
        {
         "name": "NDX_Volume",
         "rawType": "float64",
         "type": "float"
        },
        {
         "name": "NDX_IV_Open",
         "rawType": "float64",
         "type": "float"
        },
        {
         "name": "NDX_IV_High",
         "rawType": "float64",
         "type": "float"
        },
        {
         "name": "NDX_IV_Low",
         "rawType": "float64",
         "type": "float"
        },
        {
         "name": "NDX_IV_Close",
         "rawType": "float64",
         "type": "float"
        },
        {
         "name": "NDX_IV_Volume",
         "rawType": "float64",
         "type": "float"
        },
        {
         "name": "NDX_HV_Open",
         "rawType": "float64",
         "type": "float"
        },
        {
         "name": "NDX_HV_High",
         "rawType": "float64",
         "type": "float"
        },
        {
         "name": "NDX_HV_Low",
         "rawType": "float64",
         "type": "float"
        },
        {
         "name": "NDX_HV_Close",
         "rawType": "float64",
         "type": "float"
        },
        {
         "name": "NDX_HV_Volume",
         "rawType": "float64",
         "type": "float"
        },
        {
         "name": "VIX_Open",
         "rawType": "float64",
         "type": "float"
        },
        {
         "name": "VIX_High",
         "rawType": "float64",
         "type": "float"
        },
        {
         "name": "VIX_Low",
         "rawType": "float64",
         "type": "float"
        },
        {
         "name": "VIX_Close",
         "rawType": "float64",
         "type": "float"
        },
        {
         "name": "VIX_Volume",
         "rawType": "float64",
         "type": "float"
        },
        {
         "name": "VIX_IV_Open",
         "rawType": "float64",
         "type": "float"
        },
        {
         "name": "VIX_IV_High",
         "rawType": "float64",
         "type": "float"
        },
        {
         "name": "VIX_IV_Low",
         "rawType": "float64",
         "type": "float"
        },
        {
         "name": "VIX_IV_Close",
         "rawType": "float64",
         "type": "float"
        },
        {
         "name": "VIX_IV_Volume",
         "rawType": "float64",
         "type": "float"
        },
        {
         "name": "VIX_HV_Open",
         "rawType": "float64",
         "type": "float"
        },
        {
         "name": "VIX_HV_High",
         "rawType": "float64",
         "type": "float"
        },
        {
         "name": "VIX_HV_Low",
         "rawType": "float64",
         "type": "float"
        },
        {
         "name": "VIX_HV_Close",
         "rawType": "float64",
         "type": "float"
        },
        {
         "name": "VIX_HV_Volume",
         "rawType": "float64",
         "type": "float"
        },
        {
         "name": "TNX_Open",
         "rawType": "float64",
         "type": "float"
        },
        {
         "name": "TNX_High",
         "rawType": "float64",
         "type": "float"
        },
        {
         "name": "TNX_Low",
         "rawType": "float64",
         "type": "float"
        },
        {
         "name": "TNX_Close",
         "rawType": "float64",
         "type": "float"
        },
        {
         "name": "TNX_Volume",
         "rawType": "float64",
         "type": "float"
        },
        {
         "name": "TNX_HV_Open",
         "rawType": "float64",
         "type": "float"
        },
        {
         "name": "TNX_HV_High",
         "rawType": "float64",
         "type": "float"
        },
        {
         "name": "TNX_HV_Low",
         "rawType": "float64",
         "type": "float"
        },
        {
         "name": "TNX_HV_Close",
         "rawType": "float64",
         "type": "float"
        },
        {
         "name": "TNX_HV_Volume",
         "rawType": "float64",
         "type": "float"
        },
        {
         "name": "IRX_Open",
         "rawType": "float64",
         "type": "float"
        },
        {
         "name": "IRX_High",
         "rawType": "float64",
         "type": "float"
        },
        {
         "name": "IRX_Low",
         "rawType": "float64",
         "type": "float"
        },
        {
         "name": "IRX_Close",
         "rawType": "float64",
         "type": "float"
        },
        {
         "name": "IRX_Volume",
         "rawType": "float64",
         "type": "float"
        },
        {
         "name": "IRX_HV_Open",
         "rawType": "float64",
         "type": "float"
        },
        {
         "name": "IRX_HV_High",
         "rawType": "float64",
         "type": "float"
        },
        {
         "name": "IRX_HV_Low",
         "rawType": "float64",
         "type": "float"
        },
        {
         "name": "IRX_HV_Close",
         "rawType": "float64",
         "type": "float"
        },
        {
         "name": "IRX_HV_Volume",
         "rawType": "float64",
         "type": "float"
        },
        {
         "name": "OTM_IV_Call",
         "rawType": "float64",
         "type": "float"
        },
        {
         "name": "expiration_date",
         "rawType": "object",
         "type": "string"
        },
        {
         "name": "OTM_IV_Put",
         "rawType": "float64",
         "type": "float"
        },
        {
         "name": "OTM_Skew",
         "rawType": "float64",
         "type": "float"
        },
        {
         "name": "ATM_IV_Call",
         "rawType": "float64",
         "type": "float"
        },
        {
         "name": "ATM_IV_Put",
         "rawType": "float64",
         "type": "float"
        },
        {
         "name": "ATM_Skew",
         "rawType": "float64",
         "type": "float"
        },
        {
         "name": "ITM_IV_Call",
         "rawType": "float64",
         "type": "float"
        },
        {
         "name": "ITM_IV_Put",
         "rawType": "float64",
         "type": "float"
        },
        {
         "name": "ITM_Skew",
         "rawType": "float64",
         "type": "float"
        },
        {
         "name": "Skew",
         "rawType": "float64",
         "type": "float"
        },
        {
         "name": "Vol_Surface",
         "rawType": "object",
         "type": "string"
        },
        {
         "name": "DTE",
         "rawType": "float64",
         "type": "float"
        },
        {
         "name": "20MA",
         "rawType": "float64",
         "type": "float"
        },
        {
         "name": "50MA",
         "rawType": "float64",
         "type": "float"
        },
        {
         "name": "100MA",
         "rawType": "float64",
         "type": "float"
        },
        {
         "name": "200MA",
         "rawType": "float64",
         "type": "float"
        },
        {
         "name": "RSI",
         "rawType": "float64",
         "type": "float"
        },
        {
         "name": "ATR",
         "rawType": "float64",
         "type": "float"
        },
        {
         "name": "MACD",
         "rawType": "float64",
         "type": "float"
        },
        {
         "name": "Signal_Line",
         "rawType": "float64",
         "type": "float"
        },
        {
         "name": "VWAP",
         "rawType": "float64",
         "type": "float"
        },
        {
         "name": "20MA_Slope",
         "rawType": "float64",
         "type": "float"
        },
        {
         "name": "20MA_Z",
         "rawType": "float64",
         "type": "float"
        },
        {
         "name": "50MA_Slope",
         "rawType": "float64",
         "type": "float"
        },
        {
         "name": "50MA_Z",
         "rawType": "float64",
         "type": "float"
        },
        {
         "name": "100MA_Slope",
         "rawType": "float64",
         "type": "float"
        },
        {
         "name": "100MA_Z",
         "rawType": "float64",
         "type": "float"
        },
        {
         "name": "200MA_Slope",
         "rawType": "float64",
         "type": "float"
        },
        {
         "name": "200MA_Z",
         "rawType": "float64",
         "type": "float"
        },
        {
         "name": "Open_MA",
         "rawType": "float64",
         "type": "float"
        },
        {
         "name": "Open_Slope",
         "rawType": "float64",
         "type": "float"
        },
        {
         "name": "Open_Z",
         "rawType": "float64",
         "type": "float"
        },
        {
         "name": "High_MA",
         "rawType": "float64",
         "type": "float"
        },
        {
         "name": "High_Slope",
         "rawType": "float64",
         "type": "float"
        },
        {
         "name": "High_Z",
         "rawType": "float64",
         "type": "float"
        },
        {
         "name": "Low_MA",
         "rawType": "float64",
         "type": "float"
        },
        {
         "name": "Low_Slope",
         "rawType": "float64",
         "type": "float"
        },
        {
         "name": "Low_Z",
         "rawType": "float64",
         "type": "float"
        },
        {
         "name": "Close_MA",
         "rawType": "float64",
         "type": "float"
        },
        {
         "name": "Close_Slope",
         "rawType": "float64",
         "type": "float"
        },
        {
         "name": "Close_Z",
         "rawType": "float64",
         "type": "float"
        },
        {
         "name": "Volume_MA",
         "rawType": "float64",
         "type": "float"
        },
        {
         "name": "Volume_Slope",
         "rawType": "float64",
         "type": "float"
        },
        {
         "name": "Volume_Z",
         "rawType": "float64",
         "type": "float"
        },
        {
         "name": "IV_Close_MA",
         "rawType": "float64",
         "type": "float"
        },
        {
         "name": "IV_Close_Slope",
         "rawType": "float64",
         "type": "float"
        },
        {
         "name": "IV_Close_Z",
         "rawType": "float64",
         "type": "float"
        },
        {
         "name": "HV_Close_MA",
         "rawType": "float64",
         "type": "float"
        },
        {
         "name": "HV_Close_Slope",
         "rawType": "float64",
         "type": "float"
        },
        {
         "name": "HV_Close_Z",
         "rawType": "float64",
         "type": "float"
        },
        {
         "name": "SPX_Close_MA",
         "rawType": "float64",
         "type": "float"
        },
        {
         "name": "SPX_Close_Slope",
         "rawType": "float64",
         "type": "float"
        },
        {
         "name": "SPX_Close_Z",
         "rawType": "float64",
         "type": "float"
        },
        {
         "name": "NDX_Close_MA",
         "rawType": "float64",
         "type": "float"
        },
        {
         "name": "NDX_Close_Slope",
         "rawType": "float64",
         "type": "float"
        },
        {
         "name": "NDX_Close_Z",
         "rawType": "float64",
         "type": "float"
        },
        {
         "name": "VIX_Close_MA",
         "rawType": "float64",
         "type": "float"
        },
        {
         "name": "VIX_Close_Slope",
         "rawType": "float64",
         "type": "float"
        },
        {
         "name": "VIX_Close_Z",
         "rawType": "float64",
         "type": "float"
        },
        {
         "name": "TNX_Close_MA",
         "rawType": "float64",
         "type": "float"
        },
        {
         "name": "TNX_Close_Slope",
         "rawType": "float64",
         "type": "float"
        },
        {
         "name": "TNX_Close_Z",
         "rawType": "float64",
         "type": "float"
        },
        {
         "name": "Gap_Open",
         "rawType": "float64",
         "type": "float"
        },
        {
         "name": "Gap_Percentage",
         "rawType": "float64",
         "type": "float"
        },
        {
         "name": "Range_Percentage",
         "rawType": "float64",
         "type": "float"
        },
        {
         "name": "Weekly_High",
         "rawType": "float64",
         "type": "float"
        },
        {
         "name": "Weekly_Low",
         "rawType": "float64",
         "type": "float"
        },
        {
         "name": "Weekly_Range_Width",
         "rawType": "float64",
         "type": "float"
        },
        {
         "name": "Rolling_Gap",
         "rawType": "float64",
         "type": "float"
        },
        {
         "name": "Gap_Holding_Strength",
         "rawType": "float64",
         "type": "float"
        },
        {
         "name": "Daily_Cumulative_Return",
         "rawType": "float64",
         "type": "float"
        },
        {
         "name": "Daily_Past_Returns",
         "rawType": "object",
         "type": "string"
        },
        {
         "name": "Weekly_Past_Returns",
         "rawType": "object",
         "type": "string"
        },
        {
         "name": "Market_Returns",
         "rawType": "float64",
         "type": "float"
        },
        {
         "name": "Close_Returns",
         "rawType": "float64",
         "type": "float"
        },
        {
         "name": "Market_Beta",
         "rawType": "float64",
         "type": "float"
        },
        {
         "name": "MA_OTM_IV_Call",
         "rawType": "float64",
         "type": "float"
        },
        {
         "name": "MA_OTM_IV_Put",
         "rawType": "float64",
         "type": "float"
        },
        {
         "name": "MA_OTM_Skew",
         "rawType": "float64",
         "type": "float"
        },
        {
         "name": "MA_ATM_IV_Call",
         "rawType": "float64",
         "type": "float"
        },
        {
         "name": "MA_ATM_IV_Put",
         "rawType": "float64",
         "type": "float"
        },
        {
         "name": "MA_ATM_Skew",
         "rawType": "float64",
         "type": "float"
        },
        {
         "name": "MA_ITM_IV_Call",
         "rawType": "float64",
         "type": "float"
        },
        {
         "name": "MA_ITM_IV_Put",
         "rawType": "float64",
         "type": "float"
        },
        {
         "name": "MA_ITM_Skew",
         "rawType": "float64",
         "type": "float"
        },
        {
         "name": "MACD_Strength",
         "rawType": "float64",
         "type": "float"
        },
        {
         "name": "MACD_Strength_Slope",
         "rawType": "float64",
         "type": "float"
        },
        {
         "name": "RSI_Divergence",
         "rawType": "float64",
         "type": "float"
        },
        {
         "name": "Volume_Momentum",
         "rawType": "float64",
         "type": "float"
        },
        {
         "name": "Volume_Weighted_Returns",
         "rawType": "float64",
         "type": "float"
        },
        {
         "name": "BB_Upper",
         "rawType": "float64",
         "type": "float"
        },
        {
         "name": "BB_Middle",
         "rawType": "float64",
         "type": "float"
        },
        {
         "name": "BB_Lower",
         "rawType": "float64",
         "type": "float"
        },
        {
         "name": "BB_Width",
         "rawType": "float64",
         "type": "float"
        },
        {
         "name": "IV_Percentile",
         "rawType": "float64",
         "type": "float"
        },
        {
         "name": "VIX_Impact",
         "rawType": "float64",
         "type": "float"
        },
        {
         "name": "Momentum_Long",
         "rawType": "bool",
         "type": "boolean"
        },
        {
         "name": "Momentum_Short",
         "rawType": "bool",
         "type": "boolean"
        },
        {
         "name": "content",
         "rawType": "object",
         "type": "unknown"
        }
       ],
       "ref": "b805f033-2111-46df-b4e2-7e4d54a84df6",
       "rows": [
        [
         "2018-08-29 00:00:00+00:00",
         "176.23",
         "176.75",
         "174.75",
         "175.9",
         "3549177",
         "0.2329584",
         "0.23484747",
         "0.22854529",
         "0.22865641",
         "1.0",
         "0.68415954",
         "0.68415954",
         "0.68415954",
         "0.68415954",
         "1.0",
         "META",
         "2018Q3",
         "24450000000.0",
         "44330000000.0",
         "0.0",
         "7.194",
         "0.0024",
         "83.2462",
         "44.6166",
         "44.6166",
         "52.3443",
         "45.4189",
         "39.5985",
         "0.5737",
         "0.0",
         "49.5945",
         "29.4769",
         "1.8297",
         "-0.6563",
         "163.84",
         "27.96",
         "5.86",
         "1.76",
         "5.96",
         "27.47",
         "92450000000.0",
         "0.2189",
         "49150000000.0",
         "5460000000.0",
         "17.68",
         "9.27",
         "12110000000.0",
         "80340000000.0",
         "0.15",
         "6.63",
         "24.73",
         "0.2502",
         "0.0",
         "0.0",
         "0.0",
         "0.0",
         "-0.44300347638920073",
         "-0.44300347638920073",
         "0.07142857142857129",
         "0.3636363636363636",
         "-0.0385498475468909",
         "-0.0385498475468909",
         "-0.10221304647035385",
         "-0.10221304647035385",
         "-0.10221304647035385",
         "-0.10221304647035385",
         "0.01117957544170566",
         "0.01117957544170566",
         "0.19272349272349273",
         "0.19272349272349273",
         "0.0",
         "0.0",
         "-0.1687943262411347",
         "-0.15561959654178675",
         "-0.17539179726575518",
         "-0.2510599636583889",
         "0.011494252873563229",
         "0.10691823899371064",
         "0.027742749054224466",
         "0.40355912743972444",
         "-1.33781140621783",
         "-1.33781140621783",
         "-0.31859824221659466",
         "-0.31859824221659466",
         "-0.007142857142857237",
         "0.06513409961685815",
         "-0.01617977528089884",
         "0.03060263653484049",
         "54.5",
         "203.4",
         "520502.0",
         "149274.0",
         "0.24",
         "2.89",
         "251.663",
         "101.4186",
         "1288.0",
         "14206.0",
         "20917.867",
         "0.03809523809523818",
         "0.049535603715170184",
         "0.06154489369295879",
         "0.016112234270660997",
         "-0.6962025316455697",
         "0.3076923076923077",
         "0.026429238568742575",
         "0.0024295067448958374",
         "0.1113028472821398",
         "0.03784336645236697",
         "0.05617009845579002",
         "-0.03710247349823326",
         "0.0009842519685039353",
         "-0.015105442917017542",
         "0.003488958354340932",
         "-0.4418604651162791",
         "-0.030201342281879096",
         "0.0034729975437812755",
         "-0.0007557000176363626",
         "-0.05084745762711862",
         "0.01069317074211873",
         "0.010583496008340187",
         "2908.94",
         "2912.46",
         "2895.22",
         "2901.13",
         "0.0",
         "0.08951635",
         "0.09742185",
         "0.08772253",
         "0.0943422",
         "1.0",
         "0.07194327",
         "0.07194327",
         "0.07194327",
         "0.07194327",
         "1.0",
         "7645.11",
         "7691.1",
         "7619.73",
         "7642.67",
         "0.0",
         "0.1305837",
         "0.13999728",
         "0.13050433",
         "0.13875907",
         "1.0",
         "0.12877401",
         "0.12877401",
         "0.12877401",
         "0.12877401",
         "1.0",
         "12.25",
         "13.95",
         "12.24",
         "13.53",
         "0.0",
         "0.88343224",
         "1.91087801",
         "0.81645769",
         "0.93575462",
         "1.0",
         "1.22535326",
         "1.22535326",
         "1.22535326",
         "1.22535326",
         "1.0",
         "28.77",
         "28.79",
         "28.59",
         "28.6",
         "0.0",
         "0.14009253",
         "0.14009253",
         "0.14009253",
         "0.14009253",
         "1.0",
         "20.73",
         "20.73",
         "20.55",
         "20.58",
         "0.0",
         "0.14158474",
         "0.14158474",
         "0.14158474",
         "0.14158474",
         "1.0",
         "0.239116",
         "2018-09-14",
         "0.209895",
         "-0.12220428578597835",
         "0.224285",
         "0.218662",
         "-0.025070780480192685",
         "0.232769",
         "0.221305",
         "-0.049250544531273505",
         "0.9749292195198073",
         "FLAT",
         "16.0",
         "177.86500000000018",
         "190.30479999999997",
         "185.52290000000005",
         "181.6485",
         "41.65914551363899",
         "4.180835163082092",
         "-4.115532960735948",
         "-4.779515600817957",
         "77.17733705044402",
         "0.19129999999997316",
         "1.3037873886728952",
         "-0.41764000000000806",
         "-1.2803349715574894",
         "0.18657999999998154",
         "1.253067395644297",
         "-0.015870000000027796",
         "-1.1435708096939523",
         "175.39000000000001",
         "-0.0101106555074988",
         "0.4130695198585258",
         "176.796",
         "-0.008248232521602507",
         "-0.0277061684270798",
         "174.436",
         "-0.006368340251322025",
         "0.21165642975928564",
         "175.43400000000003",
         "-0.0020424373085214187",
         "0.26859882700611387",
         "3288025.6",
         "0.09488161430993507",
         "0.9502830795119528",
         "0.23222500199999999",
         "-0.017462508318462442",
         "-1.0413030930252012",
         "0.684610376",
         "-6.959880396461501e-05",
         "-0.8952673625268796",
         "2896.9800000000005",
         "-0.004430275493816096",
         "0.2924106521386378",
         "7585.745999999999",
         "-0.0022858470688678616",
         "0.8188394593144809",
         "12.553999999999998",
         "0.1044897959183673",
         "1.6683638807952479",
         "28.676",
         "-0.00832177531206652",
         "-0.2983720730227686",
         "-0.030000000000001137",
         "-0.0170203109043465",
         "1.137009664582149",
         "178.66",
         "172.84",
         "3.3086981239340494",
         "0.4079999999999984",
         "-0.00016905218077313837",
         "1.0130154342317437",
         "-0.43%, 1.01%, 1.61%, -0.68%, -0.20%",
         "-16.70%, 1.65%, 1.39%, -3.58%",
         "-0.004430275493816138",
         "-0.002042437308521383",
         "-1.0026909535748896",
         "0.2392356",
         "0.2254586",
         "-0.05746135639349574",
         "0.22738999999999998",
         "0.22211760000000008",
         "-0.023205312435180477",
         "0.23423700000000008",
         "0.2281596",
         "-0.026115166605858463",
         "0.6639826400820095",
         "0.24251482875334449",
         "1.0803320501574916",
         "0.04258445087725369",
         "7551.845531632151",
         "178.53753604782517",
         "175.4339999999999",
         "172.33046395217465",
         "0.035287504807564055",
         "0.0",
         "-13.566408601868256",
         "False",
         "False",
         "['In June 2018, Facebook launched a new transparency initiative, requiring advertisers running political or issue ads to verify their identity and disclose funding. The move came in response to concerns over election interference and misinformation, particularly stemming from Russian campaigns in 2016.']"
        ],
        [
         "2018-08-30 00:00:00+00:00",
         "175.9",
         "179.79",
         "175.71",
         "177.64",
         "4614986",
         "0.22768807",
         "0.23441886",
         "0.22722771",
         "0.23378388",
         "1.0",
         "0.68517551",
         "0.68517551",
         "0.68517551",
         "0.68517551",
         "1.0",
         "META",
         "2018Q3",
         "24450000000.0",
         "44330000000.0",
         "0.0",
         "7.194",
         "0.0024",
         "83.2462",
         "44.6166",
         "44.6166",
         "52.3443",
         "45.4189",
         "39.5985",
         "0.5737",
         "0.0",
         "49.5945",
         "29.4769",
         "1.8297",
         "-0.6563",
         "163.84",
         "27.96",
         "5.86",
         "1.76",
         "5.96",
         "27.47",
         "92450000000.0",
         "0.2189",
         "49150000000.0",
         "5460000000.0",
         "17.68",
         "9.27",
         "12110000000.0",
         "80340000000.0",
         "0.15",
         "6.63",
         "24.73",
         "0.2502",
         "0.0",
         "0.0",
         "0.0",
         "0.0",
         "-0.44300347638920073",
         "-0.44300347638920073",
         "0.07142857142857129",
         "0.3636363636363636",
         "-0.0385498475468909",
         "-0.0385498475468909",
         "-0.10221304647035385",
         "-0.10221304647035385",
         "-0.10221304647035385",
         "-0.10221304647035385",
         "0.01117957544170566",
         "0.01117957544170566",
         "0.19272349272349273",
         "0.19272349272349273",
         "0.0",
         "0.0",
         "-0.1687943262411347",
         "-0.15561959654178675",
         "-0.17539179726575518",
         "-0.2510599636583889",
         "0.011494252873563229",
         "0.10691823899371064",
         "0.027742749054224466",
         "0.40355912743972444",
         "-1.33781140621783",
         "-1.33781140621783",
         "-0.31859824221659466",
         "-0.31859824221659466",
         "-0.007142857142857237",
         "0.06513409961685815",
         "-0.01617977528089884",
         "0.03060263653484049",
         "54.5",
         "203.4",
         "520502.0",
         "149274.0",
         "0.24",
         "2.89",
         "251.663",
         "101.4186",
         "1288.0",
         "14206.0",
         "20917.867",
         "0.03809523809523818",
         "0.049535603715170184",
         "0.06154489369295879",
         "0.016112234270660997",
         "-0.6962025316455697",
         "0.3076923076923077",
         "0.026429238568742575",
         "0.0024295067448958374",
         "0.1113028472821398",
         "0.03784336645236697",
         "0.05617009845579002",
         "-0.03710247349823326",
         "0.0009842519685039353",
         "-0.015105442917017542",
         "0.003488958354340932",
         "-0.4418604651162791",
         "-0.030201342281879096",
         "0.0034729975437812755",
         "-0.0007557000176363626",
         "-0.05084745762711862",
         "0.01069317074211873",
         "0.010583496008340187",
         "2898.37",
         "2906.32",
         "2891.73",
         "2901.52",
         "0.0",
         "0.0967075",
         "0.0967075",
         "0.08823051",
         "0.08823051",
         "1.0",
         "0.07238776",
         "0.07238776",
         "0.07238776",
         "0.07238776",
         "1.0",
         "7634.44",
         "7676.46",
         "7628.54",
         "7654.56",
         "0.0",
         "0.13853683",
         "0.14175936",
         "0.13448883",
         "0.13459995",
         "1.0",
         "0.12820253",
         "0.12820253",
         "0.12820253",
         "0.12820253",
         "1.0",
         "13.54",
         "14.03",
         "12.82",
         "12.86",
         "0.0",
         "0.91988011",
         "1.13094756",
         "0.8653988",
         "0.89246483",
         "1.0",
         "1.22357532",
         "1.22357532",
         "1.22357532",
         "1.22357532",
         "1.0",
         "28.42",
         "28.57",
         "28.31",
         "28.53",
         "0.0",
         "0.13983854",
         "0.13983854",
         "0.13983854",
         "0.13983854",
         "1.0",
         "20.55",
         "20.6",
         "20.55",
         "20.55",
         "0.0",
         "0.14153711",
         "0.14153711",
         "0.14153711",
         "0.14153711",
         "1.0",
         "0.241901",
         "2018-09-14",
         "0.234293",
         "-0.03145088279916165",
         "0.22769",
         "0.225314",
         "-0.010435240897711875",
         "0.235269",
         "0.229174",
         "-0.02590651552053189",
         "0.9895647591022881",
         "FLAT",
         "15.0",
         "177.92850000000018",
         "189.81759999999994",
         "185.64890000000003",
         "181.64285000000004",
         "44.931166733953496",
         "4.17363265143337",
         "-3.7120476387534893",
         "-4.566022008405064",
         "77.22001495308798",
         "0.19564999999997848",
         "0.9974134897424665",
         "-0.4328400000000207",
         "-1.3118685151418366",
         "0.17252999999997806",
         "1.1742101966608696",
         "-0.011630000000008738",
         "-1.0983579976153828",
         "175.952",
         "-0.0018725529138057318",
         "-0.032999614173061624",
         "177.64600000000002",
         "0.017199434229137153",
         "1.114608006405905",
         "175.01",
         "0.005493562231759702",
         "0.560808146013107",
         "176.382",
         "0.009891984081864586",
         "1.0278655995104709",
         "3510581.2",
         "0.3002975055907327",
         "1.6605307784551302",
         "0.23174876800000002",
         "0.022424344019045847",
         "0.7112270418365059",
         "0.684724672",
         "0.0014849898899311953",
         "0.8006197357415865",
         "2902.346",
         "0.00013443037712886796",
         "-0.12129655913457935",
         "7619.5779999999995",
         "0.0015557390283762516",
         "0.7691612669327933",
         "12.728",
         "-0.049519586104951954",
         "0.26491820825828405",
         "28.73",
         "-0.0024475524475524573",
         "-1.3102435641989323",
         "0.0",
         "0.0",
         "2.296780004503481",
         "179.79",
         "172.93",
         "3.861742850709292",
         "0.517999999999995",
         "0.0",
         "1.0274146905725852",
         "1.01%, 1.61%, -0.68%, -0.20%, 0.99%",
         "-16.70%, 1.65%, 1.39%, -3.58%",
         "0.00013443037712890238",
         "0.009891984081864535",
         "-0.15129962109448636",
         "0.2383026",
         "0.225713",
         "-0.05276461667127783",
         "0.22594339999999996",
         "0.2210420000000001",
         "-0.02169032931084883",
         "0.23285040000000007",
         "0.22605560000000002",
         "-0.02922547112200933",
         "0.8539743696515742",
         "0.2046405454893476",
         "1.8867823128054042",
         "0.06956408295694401",
         "19667.18470256827",
         "178.5713706858708",
         "176.38199999999992",
         "174.19262931412905",
         "0.024649523596834835",
         "0.8346252262576008",
         "-1.9457131272750945",
         "False",
         "False",
         "['In June 2018, Facebook launched a new transparency initiative, requiring advertisers running political or issue ads to verify their identity and disclose funding. The move came in response to concerns over election interference and misinformation, particularly stemming from Russian campaigns in 2016.']"
        ],
        [
         "2018-08-31 00:00:00+00:00",
         "177.2",
         "177.6",
         "174.99",
         "175.73",
         "3464919",
         "0.23210118",
         "0.24397531",
         "0.23210118",
         "0.23645079",
         "1.0",
         "0.68511201",
         "0.68511201",
         "0.68511201",
         "0.68511201",
         "1.0",
         "META",
         "2018Q3",
         "24450000000.0",
         "44330000000.0",
         "0.0",
         "7.194",
         "0.0024",
         "83.2462",
         "44.6166",
         "44.6166",
         "52.3443",
         "45.4189",
         "39.5985",
         "0.5737",
         "0.0",
         "49.5945",
         "29.4769",
         "1.8297",
         "-0.6563",
         "163.84",
         "27.96",
         "5.86",
         "1.76",
         "5.96",
         "27.47",
         "92450000000.0",
         "0.2189",
         "49150000000.0",
         "5460000000.0",
         "17.68",
         "9.27",
         "12110000000.0",
         "80340000000.0",
         "0.15",
         "6.63",
         "24.73",
         "0.2502",
         "0.0",
         "0.0",
         "0.0",
         "0.0",
         "-0.44300347638920073",
         "-0.44300347638920073",
         "0.07142857142857129",
         "0.3636363636363636",
         "-0.0385498475468909",
         "-0.0385498475468909",
         "-0.10221304647035385",
         "-0.10221304647035385",
         "-0.10221304647035385",
         "-0.10221304647035385",
         "0.01117957544170566",
         "0.01117957544170566",
         "0.19272349272349273",
         "0.19272349272349273",
         "0.0",
         "0.0",
         "-0.1687943262411347",
         "-0.15561959654178675",
         "-0.17539179726575518",
         "-0.2510599636583889",
         "0.011494252873563229",
         "0.10691823899371064",
         "0.027742749054224466",
         "0.40355912743972444",
         "-1.33781140621783",
         "-1.33781140621783",
         "-0.31859824221659466",
         "-0.31859824221659466",
         "-0.007142857142857237",
         "0.06513409961685815",
         "-0.01617977528089884",
         "0.03060263653484049",
         "54.5",
         "203.4",
         "520502.0",
         "149274.0",
         "0.24",
         "2.89",
         "251.663",
         "101.4186",
         "1288.0",
         "14206.0",
         "20917.867",
         "0.03809523809523818",
         "0.049535603715170184",
         "0.06154489369295879",
         "0.016112234270660997",
         "-0.6962025316455697",
         "0.3076923076923077",
         "0.026429238568742575",
         "0.0024295067448958374",
         "0.1113028472821398",
         "0.03784336645236697",
         "0.05617009845579002",
         "-0.03710247349823326",
         "0.0009842519685039353",
         "-0.015105442917017542",
         "0.003488958354340932",
         "-0.4418604651162791",
         "-0.030201342281879096",
         "0.0034729975437812755",
         "-0.0007557000176363626",
         "-0.05084745762711862",
         "0.01069317074211873",
         "0.010583496008340187",
         "2891.59",
         "2894.21",
         "2876.92",
         "2888.6",
         "0.0",
         "0.09718374",
         "0.10385103",
         "0.09512005",
         "0.09700912",
         "1.0",
         "0.07127654",
         "0.07127654",
         "0.07127654",
         "0.07127654",
         "1.0",
         "7600.95",
         "7607.18",
         "7498.38",
         "7523.26",
         "0.0",
         "0.14355317",
         "0.16223747",
         "0.14355317",
         "0.15807835",
         "1.0",
         "0.12372591",
         "0.12372591",
         "0.12372591",
         "0.12372591",
         "1.0",
         "13.69",
         "14.3",
         "13.23",
         "13.91",
         "0.0",
         "0.97483765",
         "0.97483765",
         "0.89960836",
         "0.96729726",
         "1.0",
         "1.21660641",
         "1.21660641",
         "1.21660641",
         "1.21660641",
         "1.0",
         "28.88",
         "29.17",
         "28.84",
         "29.02",
         "0.0",
         "0.14047352",
         "0.14047352",
         "0.14047352",
         "0.14047352",
         "1.0",
         "20.9",
         "20.9",
         "20.9",
         "20.9",
         "0.0",
         "0.13225053",
         "0.13225053",
         "0.13225053",
         "0.13225053",
         "1.0",
         "0.246565",
         "2018-09-14",
         "0.250661",
         "0.016612252347251298",
         "0.225591",
         "0.226506",
         "0.0040560128728539665",
         "0.235485",
         "0.243101",
         "0.03234176274497319",
         "1.004056012872854",
         "FLAT",
         "14.0",
         "177.8260000000002",
         "189.30219999999994",
         "185.74300000000002",
         "181.63115000000005",
         "42.13746200982779",
         "4.064801747759556",
         "-3.505988795163205",
         "-4.354015365756692",
         "77.25152169230678",
         "0.09909999999999161",
         "0.4169985490246921",
         "-0.4669800000000332",
         "-1.3067386128347724",
         "0.1486499999999697",
         "1.0989435376453667",
         "-0.010915000000006224",
         "-1.1985727597286109",
         "176.67199999999997",
         "0.007390562819783871",
         "0.5755918075554178",
         "178.204",
         "-0.012180877690639066",
         "-0.5296147294698087",
         "175.42199999999997",
         "-0.004097660918558983",
         "-0.8402697595045184",
         "176.59799999999998",
         "-0.010752082864219753",
         "-0.9729376646289827",
         "3632182.4",
         "-0.249202706140387",
         "-0.29681472098429434",
         "0.23328224400000003",
         "0.011407587212599922",
         "1.0819037400354963",
         "0.68481357",
         "-9.267698432478142e-05",
         "0.508904895386949",
         "2900.562",
         "-0.004452838512228098",
         "-1.3066396295744822",
         "7610.182000000001",
         "-0.01715317405572628",
         "-1.4350387566750837",
         "13.01",
         "0.08164852255054439",
         "1.2921248878314864",
         "28.766",
         "0.017174903610234785",
         "1.2751106846546842",
         "-0.4399999999999977",
         "-0.247691961269983",
         "1.4852330279405823",
         "179.79",
         "174.75",
         "2.8680361918852744",
         "0.2899999999999977",
         "-0.00247691961269983",
         "1.0061837961637559",
         "1.61%, -0.68%, -0.20%, 0.99%, -1.08%",
         "-16.70%, 1.65%, 1.39%, -3.58%",
         "-0.004452838512228108",
         "-0.010752082864219803",
         "0.012006604259784021",
         "0.240759",
         "0.2303604",
         "-0.04358685446345986",
         "0.2268174",
         "0.22301900000000008",
         "-0.016720389545866646",
         "0.23442500000000005",
         "0.23058520000000002",
         "-0.016466589075448658",
         "0.8480265705934871",
         "0.12730664631479513",
         "0.6740780136519205",
         "0.056574294168470415",
         "6432.940765050113",
         "178.1939147847339",
         "176.59799999999993",
         "175.00208521526596",
         "0.018163259372150044",
         "1.0",
         "0.16701186525359574",
         "False",
         "False",
         "['In June 2018, Facebook launched a new transparency initiative, requiring advertisers running political or issue ads to verify their identity and disclose funding. The move came in response to concerns over election interference and misinformation, particularly stemming from Russian campaigns in 2016.']"
        ]
       ],
       "shape": {
        "columns": 286,
        "rows": 3
       }
      },
      "text/html": [
       "<div>\n",
       "<style scoped>\n",
       "    .dataframe tbody tr th:only-of-type {\n",
       "        vertical-align: middle;\n",
       "    }\n",
       "\n",
       "    .dataframe tbody tr th {\n",
       "        vertical-align: top;\n",
       "    }\n",
       "\n",
       "    .dataframe thead th {\n",
       "        text-align: right;\n",
       "    }\n",
       "</style>\n",
       "<table border=\"1\" class=\"dataframe\">\n",
       "  <thead>\n",
       "    <tr style=\"text-align: right;\">\n",
       "      <th></th>\n",
       "      <th>Open</th>\n",
       "      <th>High</th>\n",
       "      <th>Low</th>\n",
       "      <th>Close</th>\n",
       "      <th>Volume</th>\n",
       "      <th>IV_Open</th>\n",
       "      <th>IV_High</th>\n",
       "      <th>IV_Low</th>\n",
       "      <th>IV_Close</th>\n",
       "      <th>IV_Volume</th>\n",
       "      <th>...</th>\n",
       "      <th>Volume_Weighted_Returns</th>\n",
       "      <th>BB_Upper</th>\n",
       "      <th>BB_Middle</th>\n",
       "      <th>BB_Lower</th>\n",
       "      <th>BB_Width</th>\n",
       "      <th>IV_Percentile</th>\n",
       "      <th>VIX_Impact</th>\n",
       "      <th>Momentum_Long</th>\n",
       "      <th>Momentum_Short</th>\n",
       "      <th>content</th>\n",
       "    </tr>\n",
       "    <tr>\n",
       "      <th>Date</th>\n",
       "      <th></th>\n",
       "      <th></th>\n",
       "      <th></th>\n",
       "      <th></th>\n",
       "      <th></th>\n",
       "      <th></th>\n",
       "      <th></th>\n",
       "      <th></th>\n",
       "      <th></th>\n",
       "      <th></th>\n",
       "      <th></th>\n",
       "      <th></th>\n",
       "      <th></th>\n",
       "      <th></th>\n",
       "      <th></th>\n",
       "      <th></th>\n",
       "      <th></th>\n",
       "      <th></th>\n",
       "      <th></th>\n",
       "      <th></th>\n",
       "      <th></th>\n",
       "    </tr>\n",
       "  </thead>\n",
       "  <tbody>\n",
       "    <tr>\n",
       "      <th>2018-08-29 00:00:00+00:00</th>\n",
       "      <td>176.23</td>\n",
       "      <td>176.75</td>\n",
       "      <td>174.75</td>\n",
       "      <td>175.90</td>\n",
       "      <td>3549177</td>\n",
       "      <td>0.232958</td>\n",
       "      <td>0.234847</td>\n",
       "      <td>0.228545</td>\n",
       "      <td>0.228656</td>\n",
       "      <td>1.0</td>\n",
       "      <td>...</td>\n",
       "      <td>7551.845532</td>\n",
       "      <td>178.537536</td>\n",
       "      <td>175.434</td>\n",
       "      <td>172.330464</td>\n",
       "      <td>0.035288</td>\n",
       "      <td>0.000000</td>\n",
       "      <td>-13.566409</td>\n",
       "      <td>False</td>\n",
       "      <td>False</td>\n",
       "      <td>[In June 2018, Facebook launched a new transpa...</td>\n",
       "    </tr>\n",
       "    <tr>\n",
       "      <th>2018-08-30 00:00:00+00:00</th>\n",
       "      <td>175.90</td>\n",
       "      <td>179.79</td>\n",
       "      <td>175.71</td>\n",
       "      <td>177.64</td>\n",
       "      <td>4614986</td>\n",
       "      <td>0.227688</td>\n",
       "      <td>0.234419</td>\n",
       "      <td>0.227228</td>\n",
       "      <td>0.233784</td>\n",
       "      <td>1.0</td>\n",
       "      <td>...</td>\n",
       "      <td>19667.184703</td>\n",
       "      <td>178.571371</td>\n",
       "      <td>176.382</td>\n",
       "      <td>174.192629</td>\n",
       "      <td>0.024650</td>\n",
       "      <td>0.834625</td>\n",
       "      <td>-1.945713</td>\n",
       "      <td>False</td>\n",
       "      <td>False</td>\n",
       "      <td>[In June 2018, Facebook launched a new transpa...</td>\n",
       "    </tr>\n",
       "    <tr>\n",
       "      <th>2018-08-31 00:00:00+00:00</th>\n",
       "      <td>177.20</td>\n",
       "      <td>177.60</td>\n",
       "      <td>174.99</td>\n",
       "      <td>175.73</td>\n",
       "      <td>3464919</td>\n",
       "      <td>0.232101</td>\n",
       "      <td>0.243975</td>\n",
       "      <td>0.232101</td>\n",
       "      <td>0.236451</td>\n",
       "      <td>1.0</td>\n",
       "      <td>...</td>\n",
       "      <td>6432.940765</td>\n",
       "      <td>178.193915</td>\n",
       "      <td>176.598</td>\n",
       "      <td>175.002085</td>\n",
       "      <td>0.018163</td>\n",
       "      <td>1.000000</td>\n",
       "      <td>0.167012</td>\n",
       "      <td>False</td>\n",
       "      <td>False</td>\n",
       "      <td>[In June 2018, Facebook launched a new transpa...</td>\n",
       "    </tr>\n",
       "  </tbody>\n",
       "</table>\n",
       "<p>3 rows × 286 columns</p>\n",
       "</div>"
      ],
      "text/plain": [
       "                             Open    High     Low   Close   Volume   IV_Open  \\\n",
       "Date                                                                           \n",
       "2018-08-29 00:00:00+00:00  176.23  176.75  174.75  175.90  3549177  0.232958   \n",
       "2018-08-30 00:00:00+00:00  175.90  179.79  175.71  177.64  4614986  0.227688   \n",
       "2018-08-31 00:00:00+00:00  177.20  177.60  174.99  175.73  3464919  0.232101   \n",
       "\n",
       "                            IV_High    IV_Low  IV_Close  IV_Volume  ...  \\\n",
       "Date                                                                ...   \n",
       "2018-08-29 00:00:00+00:00  0.234847  0.228545  0.228656        1.0  ...   \n",
       "2018-08-30 00:00:00+00:00  0.234419  0.227228  0.233784        1.0  ...   \n",
       "2018-08-31 00:00:00+00:00  0.243975  0.232101  0.236451        1.0  ...   \n",
       "\n",
       "                           Volume_Weighted_Returns    BB_Upper  BB_Middle  \\\n",
       "Date                                                                        \n",
       "2018-08-29 00:00:00+00:00              7551.845532  178.537536    175.434   \n",
       "2018-08-30 00:00:00+00:00             19667.184703  178.571371    176.382   \n",
       "2018-08-31 00:00:00+00:00              6432.940765  178.193915    176.598   \n",
       "\n",
       "                             BB_Lower  BB_Width IV_Percentile VIX_Impact  \\\n",
       "Date                                                                       \n",
       "2018-08-29 00:00:00+00:00  172.330464  0.035288      0.000000 -13.566409   \n",
       "2018-08-30 00:00:00+00:00  174.192629  0.024650      0.834625  -1.945713   \n",
       "2018-08-31 00:00:00+00:00  175.002085  0.018163      1.000000   0.167012   \n",
       "\n",
       "                           Momentum_Long  Momentum_Short  \\\n",
       "Date                                                       \n",
       "2018-08-29 00:00:00+00:00          False           False   \n",
       "2018-08-30 00:00:00+00:00          False           False   \n",
       "2018-08-31 00:00:00+00:00          False           False   \n",
       "\n",
       "                                                                     content  \n",
       "Date                                                                          \n",
       "2018-08-29 00:00:00+00:00  [In June 2018, Facebook launched a new transpa...  \n",
       "2018-08-30 00:00:00+00:00  [In June 2018, Facebook launched a new transpa...  \n",
       "2018-08-31 00:00:00+00:00  [In June 2018, Facebook launched a new transpa...  \n",
       "\n",
       "[3 rows x 286 columns]"
      ]
     },
     "execution_count": 4,
     "metadata": {},
     "output_type": "execute_result"
    }
   ],
   "source": [
    "output_file = f\"{HISTORIC_PATH}/engineered_{TARGET}_data.parquet\"\n",
    "stock_aug_data = pd.read_parquet(output_file)\n",
    "stock_aug_data['Date'] = pd.to_datetime(stock_aug_data['Date'], utc=True)\n",
    "stock_aug_data.set_index('Date', inplace=True)\n",
    "\n",
    "sample_start_date = pd.Timestamp(START_DATE, tz='UTC')\n",
    "sample_end_date = pd.Timestamp(END_DATE, tz='UTC')\n",
    "\n",
    "stock_aug_data = stock_aug_data.loc[sample_start_date:sample_end_date]\n",
    "stock_aug_data.tail(3)\n"
   ]
  },
  {
   "cell_type": "markdown",
   "metadata": {},
   "source": [
    "# Writer Judge Loop"
   ]
  },
  {
   "cell_type": "code",
   "execution_count": 5,
   "metadata": {},
   "outputs": [],
   "source": [
    "RISK_EXPERIMENT = 'r'\n",
    "PROMPT_VERSION = 'v2'\n",
    "WRITER_PROMPT_YML = f'{LLM_PROMPTS_PATH}/strat_prompt_{PROMPT_VERSION}.yml'\n",
    "JUDGE_PROMPT_YML = f'{LLM_PROMPTS_PATH}/judge_prompt_v1.yml'\n",
    "\n",
    "DISTIL = False\n",
    "META_ID = \"self_improving_agent_v1\""
   ]
  },
  {
   "cell_type": "code",
   "execution_count": 6,
   "metadata": {},
   "outputs": [],
   "source": [
    "import yaml\n",
    "from pydantic import BaseModel\n",
    "\n",
    "\n",
    "def enum_to_str_representer(dumper, data):\n",
    "    \"\"\"Helper function to represent enums as their string values in YAML.\"\"\"\n",
    "    return dumper.represent_str(data.value)\n",
    "\n",
    "yaml.add_representer(Action, enum_to_str_representer)\n",
    "\n",
    "OPENAI_CLIENT = OpenAI(api_key=OPENAI_API_KEY)\n",
    "SHARED_MEMORY = []\n",
    "class JudgeResponse(BaseModel):\n",
    "    explanation: str\n",
    "    features: str\n",
    "    action: Action"
   ]
  },
  {
   "cell_type": "code",
   "execution_count": 7,
   "metadata": {},
   "outputs": [],
   "source": [
    "def generate_random_sample_dates(dataframe, num_samples=15):\n",
    "    timestamps = pd.to_datetime(dataframe.index, utc=True)\n",
    "    random_dates = np.random.choice(timestamps, size=num_samples, replace=False)\n",
    "    return pd.to_datetime(random_dates)\n"
   ]
  },
  {
   "cell_type": "markdown",
   "metadata": {},
   "source": [
    "## Optimization Loop\n",
    "\n",
    "Using a cost effective LLM for writing and a rationale superior LLM for judging.\n",
    "Juding output will be used to distil the former LLM."
   ]
  },
  {
   "cell_type": "code",
   "execution_count": 8,
   "metadata": {},
   "outputs": [
    {
     "data": {
      "application/vnd.jupyter.widget-view+json": {
       "model_id": "543ff0dfb900481ba32ad5ecb9e19d27",
       "version_major": 2,
       "version_minor": 0
      },
      "text/plain": [
       "Optimizing Strategies:   0%|          | 0/3 [00:00<?, ?it/s]"
      ]
     },
     "metadata": {},
     "output_type": "display_data"
    },
    {
     "ename": "KeyboardInterrupt",
     "evalue": "",
     "output_type": "error",
     "traceback": [
      "\u001b[0;31m---------------------------------------------------------------------------\u001b[0m",
      "\u001b[0;31mKeyboardInterrupt\u001b[0m                         Traceback (most recent call last)",
      "Cell \u001b[0;32mIn[8], line 195\u001b[0m\n\u001b[1;32m    192\u001b[0m     logging\u001b[38;5;241m.\u001b[39minfo(\u001b[38;5;124mf\u001b[39m\u001b[38;5;124m\"\u001b[39m\u001b[38;5;124m[META_ID: \u001b[39m\u001b[38;5;132;01m{\u001b[39;00mMETA_ID\u001b[38;5;132;01m}\u001b[39;00m\u001b[38;5;124m] Completed outer loop\u001b[39m\u001b[38;5;124m\"\u001b[39m)\n\u001b[1;32m    193\u001b[0m     \u001b[38;5;28;01mreturn\u001b[39;00m final_results\n\u001b[0;32m--> 195\u001b[0m results \u001b[38;5;241m=\u001b[39m \u001b[43mouter_loop\u001b[49m\u001b[43m(\u001b[49m\u001b[43mhistorical_df\u001b[49m\u001b[38;5;241;43m=\u001b[39;49m\u001b[43mstock_aug_data\u001b[49m\u001b[43m,\u001b[49m\n\u001b[1;32m    196\u001b[0m \u001b[43m                     \u001b[49m\u001b[43mwriter_yaml_file\u001b[49m\u001b[38;5;241;43m=\u001b[39;49m\u001b[43mWRITER_PROMPT_YML\u001b[49m\u001b[43m,\u001b[49m\n\u001b[1;32m    197\u001b[0m \u001b[43m                     \u001b[49m\u001b[43mjudge_yaml_file\u001b[49m\u001b[38;5;241;43m=\u001b[39;49m\u001b[43mJUDGE_PROMPT_YML\u001b[49m\u001b[43m,\u001b[49m\n\u001b[1;32m    198\u001b[0m \u001b[43m                     \u001b[49m\u001b[43mclient\u001b[49m\u001b[38;5;241;43m=\u001b[39;49m\u001b[43mOPENAI_CLIENT\u001b[49m\u001b[43m,\u001b[49m\n\u001b[1;32m    199\u001b[0m \u001b[43m                     \u001b[49m\u001b[43mmodel\u001b[49m\u001b[38;5;241;43m=\u001b[39;49m\u001b[43mWRITER_OPENAI_MODEL\u001b[49m\u001b[43m,\u001b[49m\n\u001b[1;32m    200\u001b[0m \u001b[43m                     \u001b[49m\u001b[43mdistil\u001b[49m\u001b[38;5;241;43m=\u001b[39;49m\u001b[38;5;28;43;01mFalse\u001b[39;49;00m\u001b[43m,\u001b[49m\n\u001b[1;32m    201\u001b[0m \u001b[43m                     \u001b[49m\u001b[43mnum_samples\u001b[49m\u001b[38;5;241;43m=\u001b[39;49m\u001b[43mDISTIL_SAMPLES\u001b[49m\u001b[43m)\u001b[49m\n",
      "Cell \u001b[0;32mIn[8], line 160\u001b[0m, in \u001b[0;36mouter_loop\u001b[0;34m(historical_df, writer_yaml_file, judge_yaml_file, client, model, max_iterations, target_cumulative_returns, horizon, distil, num_samples)\u001b[0m\n\u001b[1;32m    158\u001b[0m \u001b[38;5;66;03m# Inner loop for refining strategy\u001b[39;00m\n\u001b[1;32m    159\u001b[0m \u001b[38;5;28;01mwhile\u001b[39;00m iterations \u001b[38;5;241m<\u001b[39m max_iterations:\n\u001b[0;32m--> 160\u001b[0m     strategy, action \u001b[38;5;241m=\u001b[39m \u001b[43mjudge_loop\u001b[49m\u001b[43m(\u001b[49m\n\u001b[1;32m    161\u001b[0m \u001b[43m        \u001b[49m\u001b[43mtrain_template\u001b[49m\u001b[38;5;241;43m=\u001b[39;49m\u001b[43mstrategy\u001b[49m\u001b[43m,\u001b[49m\n\u001b[1;32m    162\u001b[0m \u001b[43m        \u001b[49m\u001b[43mjudge_template\u001b[49m\u001b[38;5;241;43m=\u001b[39;49m\u001b[43mjudge_template\u001b[49m\u001b[43m,\u001b[49m\n\u001b[1;32m    163\u001b[0m \u001b[43m        \u001b[49m\u001b[43mmodel\u001b[49m\u001b[38;5;241;43m=\u001b[39;49m\u001b[43mmodel\u001b[49m\u001b[43m,\u001b[49m\n\u001b[1;32m    164\u001b[0m \u001b[43m        \u001b[49m\u001b[43mclient\u001b[49m\u001b[38;5;241;43m=\u001b[39;49m\u001b[43mclient\u001b[49m\u001b[43m,\u001b[49m\n\u001b[1;32m    165\u001b[0m \u001b[43m        \u001b[49m\u001b[43mshared_memory\u001b[49m\u001b[38;5;241;43m=\u001b[39;49m\u001b[43mshared_memory\u001b[49m\u001b[43m,\u001b[49m\n\u001b[1;32m    166\u001b[0m \u001b[43m        \u001b[49m\u001b[43mdistil\u001b[49m\u001b[38;5;241;43m=\u001b[39;49m\u001b[43mdistil\u001b[49m\u001b[43m,\u001b[49m\n\u001b[1;32m    167\u001b[0m \u001b[43m    \u001b[49m\u001b[43m)\u001b[49m\n\u001b[1;32m    168\u001b[0m     shared_memory\u001b[38;5;241m.\u001b[39mappend(\u001b[38;5;124mf\u001b[39m\u001b[38;5;124m\"\u001b[39m\u001b[38;5;124mTuned strategy \u001b[39m\u001b[38;5;132;01m{\u001b[39;00miterations\u001b[38;5;132;01m}\u001b[39;00m\u001b[38;5;124m:|\u001b[39m\u001b[38;5;130;01m\\n\u001b[39;00m\u001b[38;5;130;01m\\t\u001b[39;00m\u001b[38;5;124m'\u001b[39m\u001b[38;5;132;01m{\u001b[39;00mstrategy\u001b[38;5;132;01m}\u001b[39;00m\u001b[38;5;124m'\u001b[39m\u001b[38;5;124m\"\u001b[39m)\n\u001b[1;32m    169\u001b[0m     iterations \u001b[38;5;241m+\u001b[39m\u001b[38;5;241m=\u001b[39m \u001b[38;5;241m1\u001b[39m\n",
      "Cell \u001b[0;32mIn[8], line 8\u001b[0m, in \u001b[0;36mjudge_loop\u001b[0;34m(train_template, judge_template, model, shared_memory, client, distil)\u001b[0m\n\u001b[1;32m      6\u001b[0m judge_template \u001b[38;5;241m=\u001b[39m fill_yaml_template(context, judge_template)\n\u001b[1;32m      7\u001b[0m judge_template \u001b[38;5;241m=\u001b[39m yaml\u001b[38;5;241m.\u001b[39mdump(judge_template, default_flow_style\u001b[38;5;241m=\u001b[39m\u001b[38;5;28;01mTrue\u001b[39;00m, allow_unicode\u001b[38;5;241m=\u001b[39m\u001b[38;5;28;01mTrue\u001b[39;00m)\n\u001b[0;32m----> 8\u001b[0m judge_response \u001b[38;5;241m=\u001b[39m \u001b[43mclient\u001b[49m\u001b[38;5;241;43m.\u001b[39;49m\u001b[43mbeta\u001b[49m\u001b[38;5;241;43m.\u001b[39;49m\u001b[43mchat\u001b[49m\u001b[38;5;241;43m.\u001b[39;49m\u001b[43mcompletions\u001b[49m\u001b[38;5;241;43m.\u001b[39;49m\u001b[43mparse\u001b[49m\u001b[43m(\u001b[49m\n\u001b[1;32m      9\u001b[0m \u001b[43m    \u001b[49m\u001b[43mmodel\u001b[49m\u001b[38;5;241;43m=\u001b[39;49m\u001b[43mmodel\u001b[49m\u001b[43m,\u001b[49m\n\u001b[1;32m     10\u001b[0m \u001b[43m    \u001b[49m\u001b[43mmessages\u001b[49m\u001b[38;5;241;43m=\u001b[39;49m\u001b[43m[\u001b[49m\n\u001b[1;32m     11\u001b[0m \u001b[43m        \u001b[49m\u001b[43m{\u001b[49m\u001b[38;5;124;43m\"\u001b[39;49m\u001b[38;5;124;43mrole\u001b[39;49m\u001b[38;5;124;43m\"\u001b[39;49m\u001b[43m:\u001b[49m\u001b[43m \u001b[49m\u001b[38;5;124;43m\"\u001b[39;49m\u001b[38;5;124;43muser\u001b[39;49m\u001b[38;5;124;43m\"\u001b[39;49m\u001b[43m,\u001b[49m\u001b[43m \u001b[49m\u001b[38;5;124;43m\"\u001b[39;49m\u001b[38;5;124;43mcontent\u001b[39;49m\u001b[38;5;124;43m\"\u001b[39;49m\u001b[43m:\u001b[49m\u001b[43m \u001b[49m\u001b[43mjudge_template\u001b[49m\u001b[43m}\u001b[49m\n\u001b[1;32m     12\u001b[0m \u001b[43m    \u001b[49m\u001b[43m]\u001b[49m\u001b[43m,\u001b[49m\n\u001b[1;32m     13\u001b[0m \u001b[43m    \u001b[49m\u001b[43mtemperature\u001b[49m\u001b[38;5;241;43m=\u001b[39;49m\u001b[38;5;241;43m0.7\u001b[39;49m\u001b[43m,\u001b[49m\n\u001b[1;32m     14\u001b[0m \u001b[43m    \u001b[49m\u001b[43mstore\u001b[49m\u001b[38;5;241;43m=\u001b[39;49m\u001b[43mdistil\u001b[49m\u001b[43m,\u001b[49m\n\u001b[1;32m     15\u001b[0m \u001b[43m    \u001b[49m\u001b[43mmetadata\u001b[49m\u001b[43m \u001b[49m\u001b[38;5;241;43m=\u001b[39;49m\u001b[43m \u001b[49m\u001b[43m{\u001b[49m\n\u001b[1;32m     16\u001b[0m \u001b[43m        \u001b[49m\u001b[38;5;124;43m'\u001b[39;49m\u001b[38;5;124;43mrole\u001b[39;49m\u001b[38;5;124;43m'\u001b[39;49m\u001b[43m:\u001b[49m\u001b[43m \u001b[49m\u001b[43mMETA_ID\u001b[49m\u001b[43m,\u001b[49m\n\u001b[1;32m     17\u001b[0m \u001b[43m        \u001b[49m\u001b[38;5;124;43m'\u001b[39;49m\u001b[38;5;124;43mversion\u001b[39;49m\u001b[38;5;124;43m'\u001b[39;49m\u001b[43m:\u001b[49m\u001b[43m \u001b[49m\u001b[43mPROMPT_VERSION\u001b[49m\u001b[43m,\u001b[49m\n\u001b[1;32m     18\u001b[0m \u001b[43m    \u001b[49m\u001b[43m}\u001b[49m\u001b[43m \u001b[49m\u001b[38;5;28;43;01mif\u001b[39;49;00m\u001b[43m \u001b[49m\u001b[43mdistil\u001b[49m\u001b[43m \u001b[49m\u001b[38;5;28;43;01melse\u001b[39;49;00m\u001b[43m \u001b[49m\u001b[38;5;28;43;01mNone\u001b[39;49;00m\u001b[43m,\u001b[49m\n\u001b[1;32m     19\u001b[0m \u001b[43m    \u001b[49m\u001b[43mresponse_format\u001b[49m\u001b[38;5;241;43m=\u001b[39;49m\u001b[43mJudgeResponse\u001b[49m\u001b[43m,\u001b[49m\n\u001b[1;32m     20\u001b[0m \u001b[43m    \u001b[49m\u001b[43mmax_tokens\u001b[49m\u001b[38;5;241;43m=\u001b[39;49m\u001b[38;5;241;43m2300\u001b[39;49m\u001b[43m,\u001b[49m\n\u001b[1;32m     21\u001b[0m \u001b[43m\u001b[49m\u001b[43m)\u001b[49m\n\u001b[1;32m     22\u001b[0m opt_prompt \u001b[38;5;241m=\u001b[39m {\n\u001b[1;32m     23\u001b[0m     \u001b[38;5;124m\"\u001b[39m\u001b[38;5;124mSelected Features\u001b[39m\u001b[38;5;124m\"\u001b[39m: judge_response\u001b[38;5;241m.\u001b[39mchoices[\u001b[38;5;241m0\u001b[39m]\u001b[38;5;241m.\u001b[39mmessage\u001b[38;5;241m.\u001b[39mparsed\u001b[38;5;241m.\u001b[39mfeatures,\n\u001b[1;32m     24\u001b[0m     \u001b[38;5;124m\"\u001b[39m\u001b[38;5;124mstrategy Rationale\u001b[39m\u001b[38;5;124m\"\u001b[39m: judge_response\u001b[38;5;241m.\u001b[39mchoices[\u001b[38;5;241m0\u001b[39m]\u001b[38;5;241m.\u001b[39mmessage\u001b[38;5;241m.\u001b[39mparsed\u001b[38;5;241m.\u001b[39mexplanation,\n\u001b[1;32m     25\u001b[0m }\n\u001b[1;32m     26\u001b[0m \u001b[38;5;28;01mreturn\u001b[39;00m opt_prompt, judge_response\u001b[38;5;241m.\u001b[39mchoices[\u001b[38;5;241m0\u001b[39m]\u001b[38;5;241m.\u001b[39mmessage\u001b[38;5;241m.\u001b[39mparsed\u001b[38;5;241m.\u001b[39maction\u001b[38;5;241m.\u001b[39mvalue\n",
      "File \u001b[0;32m~/anaconda3/envs/quant_drl/lib/python3.10/site-packages/openai/resources/beta/chat/completions.py:150\u001b[0m, in \u001b[0;36mCompletions.parse\u001b[0;34m(self, messages, model, response_format, frequency_penalty, function_call, functions, logit_bias, logprobs, max_completion_tokens, max_tokens, metadata, n, parallel_tool_calls, presence_penalty, seed, service_tier, stop, store, stream_options, temperature, tool_choice, tools, top_logprobs, top_p, user, extra_headers, extra_query, extra_body, timeout)\u001b[0m\n\u001b[1;32m    143\u001b[0m \u001b[38;5;28;01mdef\u001b[39;00m \u001b[38;5;21mparser\u001b[39m(raw_completion: ChatCompletion) \u001b[38;5;241m-\u001b[39m\u001b[38;5;241m>\u001b[39m ParsedChatCompletion[ResponseFormatT]:\n\u001b[1;32m    144\u001b[0m     \u001b[38;5;28;01mreturn\u001b[39;00m _parse_chat_completion(\n\u001b[1;32m    145\u001b[0m         response_format\u001b[38;5;241m=\u001b[39mresponse_format,\n\u001b[1;32m    146\u001b[0m         chat_completion\u001b[38;5;241m=\u001b[39mraw_completion,\n\u001b[1;32m    147\u001b[0m         input_tools\u001b[38;5;241m=\u001b[39mtools,\n\u001b[1;32m    148\u001b[0m     )\n\u001b[0;32m--> 150\u001b[0m \u001b[38;5;28;01mreturn\u001b[39;00m \u001b[38;5;28;43mself\u001b[39;49m\u001b[38;5;241;43m.\u001b[39;49m\u001b[43m_post\u001b[49m\u001b[43m(\u001b[49m\n\u001b[1;32m    151\u001b[0m \u001b[43m    \u001b[49m\u001b[38;5;124;43m\"\u001b[39;49m\u001b[38;5;124;43m/chat/completions\u001b[39;49m\u001b[38;5;124;43m\"\u001b[39;49m\u001b[43m,\u001b[49m\n\u001b[1;32m    152\u001b[0m \u001b[43m    \u001b[49m\u001b[43mbody\u001b[49m\u001b[38;5;241;43m=\u001b[39;49m\u001b[43mmaybe_transform\u001b[49m\u001b[43m(\u001b[49m\n\u001b[1;32m    153\u001b[0m \u001b[43m        \u001b[49m\u001b[43m{\u001b[49m\n\u001b[1;32m    154\u001b[0m \u001b[43m            \u001b[49m\u001b[38;5;124;43m\"\u001b[39;49m\u001b[38;5;124;43mmessages\u001b[39;49m\u001b[38;5;124;43m\"\u001b[39;49m\u001b[43m:\u001b[49m\u001b[43m \u001b[49m\u001b[43mmessages\u001b[49m\u001b[43m,\u001b[49m\n\u001b[1;32m    155\u001b[0m \u001b[43m            \u001b[49m\u001b[38;5;124;43m\"\u001b[39;49m\u001b[38;5;124;43mmodel\u001b[39;49m\u001b[38;5;124;43m\"\u001b[39;49m\u001b[43m:\u001b[49m\u001b[43m \u001b[49m\u001b[43mmodel\u001b[49m\u001b[43m,\u001b[49m\n\u001b[1;32m    156\u001b[0m \u001b[43m            \u001b[49m\u001b[38;5;124;43m\"\u001b[39;49m\u001b[38;5;124;43mfrequency_penalty\u001b[39;49m\u001b[38;5;124;43m\"\u001b[39;49m\u001b[43m:\u001b[49m\u001b[43m \u001b[49m\u001b[43mfrequency_penalty\u001b[49m\u001b[43m,\u001b[49m\n\u001b[1;32m    157\u001b[0m \u001b[43m            \u001b[49m\u001b[38;5;124;43m\"\u001b[39;49m\u001b[38;5;124;43mfunction_call\u001b[39;49m\u001b[38;5;124;43m\"\u001b[39;49m\u001b[43m:\u001b[49m\u001b[43m \u001b[49m\u001b[43mfunction_call\u001b[49m\u001b[43m,\u001b[49m\n\u001b[1;32m    158\u001b[0m \u001b[43m            \u001b[49m\u001b[38;5;124;43m\"\u001b[39;49m\u001b[38;5;124;43mfunctions\u001b[39;49m\u001b[38;5;124;43m\"\u001b[39;49m\u001b[43m:\u001b[49m\u001b[43m \u001b[49m\u001b[43mfunctions\u001b[49m\u001b[43m,\u001b[49m\n\u001b[1;32m    159\u001b[0m \u001b[43m            \u001b[49m\u001b[38;5;124;43m\"\u001b[39;49m\u001b[38;5;124;43mlogit_bias\u001b[39;49m\u001b[38;5;124;43m\"\u001b[39;49m\u001b[43m:\u001b[49m\u001b[43m \u001b[49m\u001b[43mlogit_bias\u001b[49m\u001b[43m,\u001b[49m\n\u001b[1;32m    160\u001b[0m \u001b[43m            \u001b[49m\u001b[38;5;124;43m\"\u001b[39;49m\u001b[38;5;124;43mlogprobs\u001b[39;49m\u001b[38;5;124;43m\"\u001b[39;49m\u001b[43m:\u001b[49m\u001b[43m \u001b[49m\u001b[43mlogprobs\u001b[49m\u001b[43m,\u001b[49m\n\u001b[1;32m    161\u001b[0m \u001b[43m            \u001b[49m\u001b[38;5;124;43m\"\u001b[39;49m\u001b[38;5;124;43mmax_completion_tokens\u001b[39;49m\u001b[38;5;124;43m\"\u001b[39;49m\u001b[43m:\u001b[49m\u001b[43m \u001b[49m\u001b[43mmax_completion_tokens\u001b[49m\u001b[43m,\u001b[49m\n\u001b[1;32m    162\u001b[0m \u001b[43m            \u001b[49m\u001b[38;5;124;43m\"\u001b[39;49m\u001b[38;5;124;43mmax_tokens\u001b[39;49m\u001b[38;5;124;43m\"\u001b[39;49m\u001b[43m:\u001b[49m\u001b[43m \u001b[49m\u001b[43mmax_tokens\u001b[49m\u001b[43m,\u001b[49m\n\u001b[1;32m    163\u001b[0m \u001b[43m            \u001b[49m\u001b[38;5;124;43m\"\u001b[39;49m\u001b[38;5;124;43mmetadata\u001b[39;49m\u001b[38;5;124;43m\"\u001b[39;49m\u001b[43m:\u001b[49m\u001b[43m \u001b[49m\u001b[43mmetadata\u001b[49m\u001b[43m,\u001b[49m\n\u001b[1;32m    164\u001b[0m \u001b[43m            \u001b[49m\u001b[38;5;124;43m\"\u001b[39;49m\u001b[38;5;124;43mn\u001b[39;49m\u001b[38;5;124;43m\"\u001b[39;49m\u001b[43m:\u001b[49m\u001b[43m \u001b[49m\u001b[43mn\u001b[49m\u001b[43m,\u001b[49m\n\u001b[1;32m    165\u001b[0m \u001b[43m            \u001b[49m\u001b[38;5;124;43m\"\u001b[39;49m\u001b[38;5;124;43mparallel_tool_calls\u001b[39;49m\u001b[38;5;124;43m\"\u001b[39;49m\u001b[43m:\u001b[49m\u001b[43m \u001b[49m\u001b[43mparallel_tool_calls\u001b[49m\u001b[43m,\u001b[49m\n\u001b[1;32m    166\u001b[0m \u001b[43m            \u001b[49m\u001b[38;5;124;43m\"\u001b[39;49m\u001b[38;5;124;43mpresence_penalty\u001b[39;49m\u001b[38;5;124;43m\"\u001b[39;49m\u001b[43m:\u001b[49m\u001b[43m \u001b[49m\u001b[43mpresence_penalty\u001b[49m\u001b[43m,\u001b[49m\n\u001b[1;32m    167\u001b[0m \u001b[43m            \u001b[49m\u001b[38;5;124;43m\"\u001b[39;49m\u001b[38;5;124;43mresponse_format\u001b[39;49m\u001b[38;5;124;43m\"\u001b[39;49m\u001b[43m:\u001b[49m\u001b[43m \u001b[49m\u001b[43m_type_to_response_format\u001b[49m\u001b[43m(\u001b[49m\u001b[43mresponse_format\u001b[49m\u001b[43m)\u001b[49m\u001b[43m,\u001b[49m\n\u001b[1;32m    168\u001b[0m \u001b[43m            \u001b[49m\u001b[38;5;124;43m\"\u001b[39;49m\u001b[38;5;124;43mseed\u001b[39;49m\u001b[38;5;124;43m\"\u001b[39;49m\u001b[43m:\u001b[49m\u001b[43m \u001b[49m\u001b[43mseed\u001b[49m\u001b[43m,\u001b[49m\n\u001b[1;32m    169\u001b[0m \u001b[43m            \u001b[49m\u001b[38;5;124;43m\"\u001b[39;49m\u001b[38;5;124;43mservice_tier\u001b[39;49m\u001b[38;5;124;43m\"\u001b[39;49m\u001b[43m:\u001b[49m\u001b[43m \u001b[49m\u001b[43mservice_tier\u001b[49m\u001b[43m,\u001b[49m\n\u001b[1;32m    170\u001b[0m \u001b[43m            \u001b[49m\u001b[38;5;124;43m\"\u001b[39;49m\u001b[38;5;124;43mstop\u001b[39;49m\u001b[38;5;124;43m\"\u001b[39;49m\u001b[43m:\u001b[49m\u001b[43m \u001b[49m\u001b[43mstop\u001b[49m\u001b[43m,\u001b[49m\n\u001b[1;32m    171\u001b[0m \u001b[43m            \u001b[49m\u001b[38;5;124;43m\"\u001b[39;49m\u001b[38;5;124;43mstore\u001b[39;49m\u001b[38;5;124;43m\"\u001b[39;49m\u001b[43m:\u001b[49m\u001b[43m \u001b[49m\u001b[43mstore\u001b[49m\u001b[43m,\u001b[49m\n\u001b[1;32m    172\u001b[0m \u001b[43m            \u001b[49m\u001b[38;5;124;43m\"\u001b[39;49m\u001b[38;5;124;43mstream\u001b[39;49m\u001b[38;5;124;43m\"\u001b[39;49m\u001b[43m:\u001b[49m\u001b[43m \u001b[49m\u001b[38;5;28;43;01mFalse\u001b[39;49;00m\u001b[43m,\u001b[49m\n\u001b[1;32m    173\u001b[0m \u001b[43m            \u001b[49m\u001b[38;5;124;43m\"\u001b[39;49m\u001b[38;5;124;43mstream_options\u001b[39;49m\u001b[38;5;124;43m\"\u001b[39;49m\u001b[43m:\u001b[49m\u001b[43m \u001b[49m\u001b[43mstream_options\u001b[49m\u001b[43m,\u001b[49m\n\u001b[1;32m    174\u001b[0m \u001b[43m            \u001b[49m\u001b[38;5;124;43m\"\u001b[39;49m\u001b[38;5;124;43mtemperature\u001b[39;49m\u001b[38;5;124;43m\"\u001b[39;49m\u001b[43m:\u001b[49m\u001b[43m \u001b[49m\u001b[43mtemperature\u001b[49m\u001b[43m,\u001b[49m\n\u001b[1;32m    175\u001b[0m \u001b[43m            \u001b[49m\u001b[38;5;124;43m\"\u001b[39;49m\u001b[38;5;124;43mtool_choice\u001b[39;49m\u001b[38;5;124;43m\"\u001b[39;49m\u001b[43m:\u001b[49m\u001b[43m \u001b[49m\u001b[43mtool_choice\u001b[49m\u001b[43m,\u001b[49m\n\u001b[1;32m    176\u001b[0m \u001b[43m            \u001b[49m\u001b[38;5;124;43m\"\u001b[39;49m\u001b[38;5;124;43mtools\u001b[39;49m\u001b[38;5;124;43m\"\u001b[39;49m\u001b[43m:\u001b[49m\u001b[43m \u001b[49m\u001b[43mtools\u001b[49m\u001b[43m,\u001b[49m\n\u001b[1;32m    177\u001b[0m \u001b[43m            \u001b[49m\u001b[38;5;124;43m\"\u001b[39;49m\u001b[38;5;124;43mtop_logprobs\u001b[39;49m\u001b[38;5;124;43m\"\u001b[39;49m\u001b[43m:\u001b[49m\u001b[43m \u001b[49m\u001b[43mtop_logprobs\u001b[49m\u001b[43m,\u001b[49m\n\u001b[1;32m    178\u001b[0m \u001b[43m            \u001b[49m\u001b[38;5;124;43m\"\u001b[39;49m\u001b[38;5;124;43mtop_p\u001b[39;49m\u001b[38;5;124;43m\"\u001b[39;49m\u001b[43m:\u001b[49m\u001b[43m \u001b[49m\u001b[43mtop_p\u001b[49m\u001b[43m,\u001b[49m\n\u001b[1;32m    179\u001b[0m \u001b[43m            \u001b[49m\u001b[38;5;124;43m\"\u001b[39;49m\u001b[38;5;124;43muser\u001b[39;49m\u001b[38;5;124;43m\"\u001b[39;49m\u001b[43m:\u001b[49m\u001b[43m \u001b[49m\u001b[43muser\u001b[49m\u001b[43m,\u001b[49m\n\u001b[1;32m    180\u001b[0m \u001b[43m        \u001b[49m\u001b[43m}\u001b[49m\u001b[43m,\u001b[49m\n\u001b[1;32m    181\u001b[0m \u001b[43m        \u001b[49m\u001b[43mcompletion_create_params\u001b[49m\u001b[38;5;241;43m.\u001b[39;49m\u001b[43mCompletionCreateParams\u001b[49m\u001b[43m,\u001b[49m\n\u001b[1;32m    182\u001b[0m \u001b[43m    \u001b[49m\u001b[43m)\u001b[49m\u001b[43m,\u001b[49m\n\u001b[1;32m    183\u001b[0m \u001b[43m    \u001b[49m\u001b[43moptions\u001b[49m\u001b[38;5;241;43m=\u001b[39;49m\u001b[43mmake_request_options\u001b[49m\u001b[43m(\u001b[49m\n\u001b[1;32m    184\u001b[0m \u001b[43m        \u001b[49m\u001b[43mextra_headers\u001b[49m\u001b[38;5;241;43m=\u001b[39;49m\u001b[43mextra_headers\u001b[49m\u001b[43m,\u001b[49m\n\u001b[1;32m    185\u001b[0m \u001b[43m        \u001b[49m\u001b[43mextra_query\u001b[49m\u001b[38;5;241;43m=\u001b[39;49m\u001b[43mextra_query\u001b[49m\u001b[43m,\u001b[49m\n\u001b[1;32m    186\u001b[0m \u001b[43m        \u001b[49m\u001b[43mextra_body\u001b[49m\u001b[38;5;241;43m=\u001b[39;49m\u001b[43mextra_body\u001b[49m\u001b[43m,\u001b[49m\n\u001b[1;32m    187\u001b[0m \u001b[43m        \u001b[49m\u001b[43mtimeout\u001b[49m\u001b[38;5;241;43m=\u001b[39;49m\u001b[43mtimeout\u001b[49m\u001b[43m,\u001b[49m\n\u001b[1;32m    188\u001b[0m \u001b[43m        \u001b[49m\u001b[43mpost_parser\u001b[49m\u001b[38;5;241;43m=\u001b[39;49m\u001b[43mparser\u001b[49m\u001b[43m,\u001b[49m\n\u001b[1;32m    189\u001b[0m \u001b[43m    \u001b[49m\u001b[43m)\u001b[49m\u001b[43m,\u001b[49m\n\u001b[1;32m    190\u001b[0m \u001b[43m    \u001b[49m\u001b[38;5;66;43;03m# we turn the `ChatCompletion` instance into a `ParsedChatCompletion`\u001b[39;49;00m\n\u001b[1;32m    191\u001b[0m \u001b[43m    \u001b[49m\u001b[38;5;66;43;03m# in the `parser` function above\u001b[39;49;00m\n\u001b[1;32m    192\u001b[0m \u001b[43m    \u001b[49m\u001b[43mcast_to\u001b[49m\u001b[38;5;241;43m=\u001b[39;49m\u001b[43mcast\u001b[49m\u001b[43m(\u001b[49m\u001b[43mType\u001b[49m\u001b[43m[\u001b[49m\u001b[43mParsedChatCompletion\u001b[49m\u001b[43m[\u001b[49m\u001b[43mResponseFormatT\u001b[49m\u001b[43m]\u001b[49m\u001b[43m]\u001b[49m\u001b[43m,\u001b[49m\u001b[43m \u001b[49m\u001b[43mChatCompletion\u001b[49m\u001b[43m)\u001b[49m\u001b[43m,\u001b[49m\n\u001b[1;32m    193\u001b[0m \u001b[43m    \u001b[49m\u001b[43mstream\u001b[49m\u001b[38;5;241;43m=\u001b[39;49m\u001b[38;5;28;43;01mFalse\u001b[39;49;00m\u001b[43m,\u001b[49m\n\u001b[1;32m    194\u001b[0m \u001b[43m\u001b[49m\u001b[43m)\u001b[49m\n",
      "File \u001b[0;32m~/anaconda3/envs/quant_drl/lib/python3.10/site-packages/openai/_base_client.py:1277\u001b[0m, in \u001b[0;36mSyncAPIClient.post\u001b[0;34m(self, path, cast_to, body, options, files, stream, stream_cls)\u001b[0m\n\u001b[1;32m   1263\u001b[0m \u001b[38;5;28;01mdef\u001b[39;00m \u001b[38;5;21mpost\u001b[39m(\n\u001b[1;32m   1264\u001b[0m     \u001b[38;5;28mself\u001b[39m,\n\u001b[1;32m   1265\u001b[0m     path: \u001b[38;5;28mstr\u001b[39m,\n\u001b[0;32m   (...)\u001b[0m\n\u001b[1;32m   1272\u001b[0m     stream_cls: \u001b[38;5;28mtype\u001b[39m[_StreamT] \u001b[38;5;241m|\u001b[39m \u001b[38;5;28;01mNone\u001b[39;00m \u001b[38;5;241m=\u001b[39m \u001b[38;5;28;01mNone\u001b[39;00m,\n\u001b[1;32m   1273\u001b[0m ) \u001b[38;5;241m-\u001b[39m\u001b[38;5;241m>\u001b[39m ResponseT \u001b[38;5;241m|\u001b[39m _StreamT:\n\u001b[1;32m   1274\u001b[0m     opts \u001b[38;5;241m=\u001b[39m FinalRequestOptions\u001b[38;5;241m.\u001b[39mconstruct(\n\u001b[1;32m   1275\u001b[0m         method\u001b[38;5;241m=\u001b[39m\u001b[38;5;124m\"\u001b[39m\u001b[38;5;124mpost\u001b[39m\u001b[38;5;124m\"\u001b[39m, url\u001b[38;5;241m=\u001b[39mpath, json_data\u001b[38;5;241m=\u001b[39mbody, files\u001b[38;5;241m=\u001b[39mto_httpx_files(files), \u001b[38;5;241m*\u001b[39m\u001b[38;5;241m*\u001b[39moptions\n\u001b[1;32m   1276\u001b[0m     )\n\u001b[0;32m-> 1277\u001b[0m     \u001b[38;5;28;01mreturn\u001b[39;00m cast(ResponseT, \u001b[38;5;28;43mself\u001b[39;49m\u001b[38;5;241;43m.\u001b[39;49m\u001b[43mrequest\u001b[49m\u001b[43m(\u001b[49m\u001b[43mcast_to\u001b[49m\u001b[43m,\u001b[49m\u001b[43m \u001b[49m\u001b[43mopts\u001b[49m\u001b[43m,\u001b[49m\u001b[43m \u001b[49m\u001b[43mstream\u001b[49m\u001b[38;5;241;43m=\u001b[39;49m\u001b[43mstream\u001b[49m\u001b[43m,\u001b[49m\u001b[43m \u001b[49m\u001b[43mstream_cls\u001b[49m\u001b[38;5;241;43m=\u001b[39;49m\u001b[43mstream_cls\u001b[49m\u001b[43m)\u001b[49m)\n",
      "File \u001b[0;32m~/anaconda3/envs/quant_drl/lib/python3.10/site-packages/openai/_base_client.py:954\u001b[0m, in \u001b[0;36mSyncAPIClient.request\u001b[0;34m(self, cast_to, options, remaining_retries, stream, stream_cls)\u001b[0m\n\u001b[1;32m    951\u001b[0m \u001b[38;5;28;01melse\u001b[39;00m:\n\u001b[1;32m    952\u001b[0m     retries_taken \u001b[38;5;241m=\u001b[39m \u001b[38;5;241m0\u001b[39m\n\u001b[0;32m--> 954\u001b[0m \u001b[38;5;28;01mreturn\u001b[39;00m \u001b[38;5;28;43mself\u001b[39;49m\u001b[38;5;241;43m.\u001b[39;49m\u001b[43m_request\u001b[49m\u001b[43m(\u001b[49m\n\u001b[1;32m    955\u001b[0m \u001b[43m    \u001b[49m\u001b[43mcast_to\u001b[49m\u001b[38;5;241;43m=\u001b[39;49m\u001b[43mcast_to\u001b[49m\u001b[43m,\u001b[49m\n\u001b[1;32m    956\u001b[0m \u001b[43m    \u001b[49m\u001b[43moptions\u001b[49m\u001b[38;5;241;43m=\u001b[39;49m\u001b[43moptions\u001b[49m\u001b[43m,\u001b[49m\n\u001b[1;32m    957\u001b[0m \u001b[43m    \u001b[49m\u001b[43mstream\u001b[49m\u001b[38;5;241;43m=\u001b[39;49m\u001b[43mstream\u001b[49m\u001b[43m,\u001b[49m\n\u001b[1;32m    958\u001b[0m \u001b[43m    \u001b[49m\u001b[43mstream_cls\u001b[49m\u001b[38;5;241;43m=\u001b[39;49m\u001b[43mstream_cls\u001b[49m\u001b[43m,\u001b[49m\n\u001b[1;32m    959\u001b[0m \u001b[43m    \u001b[49m\u001b[43mretries_taken\u001b[49m\u001b[38;5;241;43m=\u001b[39;49m\u001b[43mretries_taken\u001b[49m\u001b[43m,\u001b[49m\n\u001b[1;32m    960\u001b[0m \u001b[43m\u001b[49m\u001b[43m)\u001b[49m\n",
      "File \u001b[0;32m~/anaconda3/envs/quant_drl/lib/python3.10/site-packages/openai/_base_client.py:990\u001b[0m, in \u001b[0;36mSyncAPIClient._request\u001b[0;34m(self, cast_to, options, retries_taken, stream, stream_cls)\u001b[0m\n\u001b[1;32m    987\u001b[0m log\u001b[38;5;241m.\u001b[39mdebug(\u001b[38;5;124m\"\u001b[39m\u001b[38;5;124mSending HTTP Request: \u001b[39m\u001b[38;5;132;01m%s\u001b[39;00m\u001b[38;5;124m \u001b[39m\u001b[38;5;132;01m%s\u001b[39;00m\u001b[38;5;124m\"\u001b[39m, request\u001b[38;5;241m.\u001b[39mmethod, request\u001b[38;5;241m.\u001b[39murl)\n\u001b[1;32m    989\u001b[0m \u001b[38;5;28;01mtry\u001b[39;00m:\n\u001b[0;32m--> 990\u001b[0m     response \u001b[38;5;241m=\u001b[39m \u001b[38;5;28;43mself\u001b[39;49m\u001b[38;5;241;43m.\u001b[39;49m\u001b[43m_client\u001b[49m\u001b[38;5;241;43m.\u001b[39;49m\u001b[43msend\u001b[49m\u001b[43m(\u001b[49m\n\u001b[1;32m    991\u001b[0m \u001b[43m        \u001b[49m\u001b[43mrequest\u001b[49m\u001b[43m,\u001b[49m\n\u001b[1;32m    992\u001b[0m \u001b[43m        \u001b[49m\u001b[43mstream\u001b[49m\u001b[38;5;241;43m=\u001b[39;49m\u001b[43mstream\u001b[49m\u001b[43m \u001b[49m\u001b[38;5;129;43;01mor\u001b[39;49;00m\u001b[43m \u001b[49m\u001b[38;5;28;43mself\u001b[39;49m\u001b[38;5;241;43m.\u001b[39;49m\u001b[43m_should_stream_response_body\u001b[49m\u001b[43m(\u001b[49m\u001b[43mrequest\u001b[49m\u001b[38;5;241;43m=\u001b[39;49m\u001b[43mrequest\u001b[49m\u001b[43m)\u001b[49m\u001b[43m,\u001b[49m\n\u001b[1;32m    993\u001b[0m \u001b[43m        \u001b[49m\u001b[38;5;241;43m*\u001b[39;49m\u001b[38;5;241;43m*\u001b[39;49m\u001b[43mkwargs\u001b[49m\u001b[43m,\u001b[49m\n\u001b[1;32m    994\u001b[0m \u001b[43m    \u001b[49m\u001b[43m)\u001b[49m\n\u001b[1;32m    995\u001b[0m \u001b[38;5;28;01mexcept\u001b[39;00m httpx\u001b[38;5;241m.\u001b[39mTimeoutException \u001b[38;5;28;01mas\u001b[39;00m err:\n\u001b[1;32m    996\u001b[0m     log\u001b[38;5;241m.\u001b[39mdebug(\u001b[38;5;124m\"\u001b[39m\u001b[38;5;124mEncountered httpx.TimeoutException\u001b[39m\u001b[38;5;124m\"\u001b[39m, exc_info\u001b[38;5;241m=\u001b[39m\u001b[38;5;28;01mTrue\u001b[39;00m)\n",
      "File \u001b[0;32m~/anaconda3/envs/quant_drl/lib/python3.10/site-packages/httpx/_client.py:926\u001b[0m, in \u001b[0;36mClient.send\u001b[0;34m(self, request, stream, auth, follow_redirects)\u001b[0m\n\u001b[1;32m    922\u001b[0m \u001b[38;5;28mself\u001b[39m\u001b[38;5;241m.\u001b[39m_set_timeout(request)\n\u001b[1;32m    924\u001b[0m auth \u001b[38;5;241m=\u001b[39m \u001b[38;5;28mself\u001b[39m\u001b[38;5;241m.\u001b[39m_build_request_auth(request, auth)\n\u001b[0;32m--> 926\u001b[0m response \u001b[38;5;241m=\u001b[39m \u001b[38;5;28;43mself\u001b[39;49m\u001b[38;5;241;43m.\u001b[39;49m\u001b[43m_send_handling_auth\u001b[49m\u001b[43m(\u001b[49m\n\u001b[1;32m    927\u001b[0m \u001b[43m    \u001b[49m\u001b[43mrequest\u001b[49m\u001b[43m,\u001b[49m\n\u001b[1;32m    928\u001b[0m \u001b[43m    \u001b[49m\u001b[43mauth\u001b[49m\u001b[38;5;241;43m=\u001b[39;49m\u001b[43mauth\u001b[49m\u001b[43m,\u001b[49m\n\u001b[1;32m    929\u001b[0m \u001b[43m    \u001b[49m\u001b[43mfollow_redirects\u001b[49m\u001b[38;5;241;43m=\u001b[39;49m\u001b[43mfollow_redirects\u001b[49m\u001b[43m,\u001b[49m\n\u001b[1;32m    930\u001b[0m \u001b[43m    \u001b[49m\u001b[43mhistory\u001b[49m\u001b[38;5;241;43m=\u001b[39;49m\u001b[43m[\u001b[49m\u001b[43m]\u001b[49m\u001b[43m,\u001b[49m\n\u001b[1;32m    931\u001b[0m \u001b[43m\u001b[49m\u001b[43m)\u001b[49m\n\u001b[1;32m    932\u001b[0m \u001b[38;5;28;01mtry\u001b[39;00m:\n\u001b[1;32m    933\u001b[0m     \u001b[38;5;28;01mif\u001b[39;00m \u001b[38;5;129;01mnot\u001b[39;00m stream:\n",
      "File \u001b[0;32m~/anaconda3/envs/quant_drl/lib/python3.10/site-packages/httpx/_client.py:954\u001b[0m, in \u001b[0;36mClient._send_handling_auth\u001b[0;34m(self, request, auth, follow_redirects, history)\u001b[0m\n\u001b[1;32m    951\u001b[0m request \u001b[38;5;241m=\u001b[39m \u001b[38;5;28mnext\u001b[39m(auth_flow)\n\u001b[1;32m    953\u001b[0m \u001b[38;5;28;01mwhile\u001b[39;00m \u001b[38;5;28;01mTrue\u001b[39;00m:\n\u001b[0;32m--> 954\u001b[0m     response \u001b[38;5;241m=\u001b[39m \u001b[38;5;28;43mself\u001b[39;49m\u001b[38;5;241;43m.\u001b[39;49m\u001b[43m_send_handling_redirects\u001b[49m\u001b[43m(\u001b[49m\n\u001b[1;32m    955\u001b[0m \u001b[43m        \u001b[49m\u001b[43mrequest\u001b[49m\u001b[43m,\u001b[49m\n\u001b[1;32m    956\u001b[0m \u001b[43m        \u001b[49m\u001b[43mfollow_redirects\u001b[49m\u001b[38;5;241;43m=\u001b[39;49m\u001b[43mfollow_redirects\u001b[49m\u001b[43m,\u001b[49m\n\u001b[1;32m    957\u001b[0m \u001b[43m        \u001b[49m\u001b[43mhistory\u001b[49m\u001b[38;5;241;43m=\u001b[39;49m\u001b[43mhistory\u001b[49m\u001b[43m,\u001b[49m\n\u001b[1;32m    958\u001b[0m \u001b[43m    \u001b[49m\u001b[43m)\u001b[49m\n\u001b[1;32m    959\u001b[0m     \u001b[38;5;28;01mtry\u001b[39;00m:\n\u001b[1;32m    960\u001b[0m         \u001b[38;5;28;01mtry\u001b[39;00m:\n",
      "File \u001b[0;32m~/anaconda3/envs/quant_drl/lib/python3.10/site-packages/httpx/_client.py:991\u001b[0m, in \u001b[0;36mClient._send_handling_redirects\u001b[0;34m(self, request, follow_redirects, history)\u001b[0m\n\u001b[1;32m    988\u001b[0m \u001b[38;5;28;01mfor\u001b[39;00m hook \u001b[38;5;129;01min\u001b[39;00m \u001b[38;5;28mself\u001b[39m\u001b[38;5;241m.\u001b[39m_event_hooks[\u001b[38;5;124m\"\u001b[39m\u001b[38;5;124mrequest\u001b[39m\u001b[38;5;124m\"\u001b[39m]:\n\u001b[1;32m    989\u001b[0m     hook(request)\n\u001b[0;32m--> 991\u001b[0m response \u001b[38;5;241m=\u001b[39m \u001b[38;5;28;43mself\u001b[39;49m\u001b[38;5;241;43m.\u001b[39;49m\u001b[43m_send_single_request\u001b[49m\u001b[43m(\u001b[49m\u001b[43mrequest\u001b[49m\u001b[43m)\u001b[49m\n\u001b[1;32m    992\u001b[0m \u001b[38;5;28;01mtry\u001b[39;00m:\n\u001b[1;32m    993\u001b[0m     \u001b[38;5;28;01mfor\u001b[39;00m hook \u001b[38;5;129;01min\u001b[39;00m \u001b[38;5;28mself\u001b[39m\u001b[38;5;241m.\u001b[39m_event_hooks[\u001b[38;5;124m\"\u001b[39m\u001b[38;5;124mresponse\u001b[39m\u001b[38;5;124m\"\u001b[39m]:\n",
      "File \u001b[0;32m~/anaconda3/envs/quant_drl/lib/python3.10/site-packages/httpx/_client.py:1027\u001b[0m, in \u001b[0;36mClient._send_single_request\u001b[0;34m(self, request)\u001b[0m\n\u001b[1;32m   1022\u001b[0m     \u001b[38;5;28;01mraise\u001b[39;00m \u001b[38;5;167;01mRuntimeError\u001b[39;00m(\n\u001b[1;32m   1023\u001b[0m         \u001b[38;5;124m\"\u001b[39m\u001b[38;5;124mAttempted to send an async request with a sync Client instance.\u001b[39m\u001b[38;5;124m\"\u001b[39m\n\u001b[1;32m   1024\u001b[0m     )\n\u001b[1;32m   1026\u001b[0m \u001b[38;5;28;01mwith\u001b[39;00m request_context(request\u001b[38;5;241m=\u001b[39mrequest):\n\u001b[0;32m-> 1027\u001b[0m     response \u001b[38;5;241m=\u001b[39m \u001b[43mtransport\u001b[49m\u001b[38;5;241;43m.\u001b[39;49m\u001b[43mhandle_request\u001b[49m\u001b[43m(\u001b[49m\u001b[43mrequest\u001b[49m\u001b[43m)\u001b[49m\n\u001b[1;32m   1029\u001b[0m \u001b[38;5;28;01massert\u001b[39;00m \u001b[38;5;28misinstance\u001b[39m(response\u001b[38;5;241m.\u001b[39mstream, SyncByteStream)\n\u001b[1;32m   1031\u001b[0m response\u001b[38;5;241m.\u001b[39mrequest \u001b[38;5;241m=\u001b[39m request\n",
      "File \u001b[0;32m~/anaconda3/envs/quant_drl/lib/python3.10/site-packages/httpx/_transports/default.py:236\u001b[0m, in \u001b[0;36mHTTPTransport.handle_request\u001b[0;34m(self, request)\u001b[0m\n\u001b[1;32m    223\u001b[0m req \u001b[38;5;241m=\u001b[39m httpcore\u001b[38;5;241m.\u001b[39mRequest(\n\u001b[1;32m    224\u001b[0m     method\u001b[38;5;241m=\u001b[39mrequest\u001b[38;5;241m.\u001b[39mmethod,\n\u001b[1;32m    225\u001b[0m     url\u001b[38;5;241m=\u001b[39mhttpcore\u001b[38;5;241m.\u001b[39mURL(\n\u001b[0;32m   (...)\u001b[0m\n\u001b[1;32m    233\u001b[0m     extensions\u001b[38;5;241m=\u001b[39mrequest\u001b[38;5;241m.\u001b[39mextensions,\n\u001b[1;32m    234\u001b[0m )\n\u001b[1;32m    235\u001b[0m \u001b[38;5;28;01mwith\u001b[39;00m map_httpcore_exceptions():\n\u001b[0;32m--> 236\u001b[0m     resp \u001b[38;5;241m=\u001b[39m \u001b[38;5;28;43mself\u001b[39;49m\u001b[38;5;241;43m.\u001b[39;49m\u001b[43m_pool\u001b[49m\u001b[38;5;241;43m.\u001b[39;49m\u001b[43mhandle_request\u001b[49m\u001b[43m(\u001b[49m\u001b[43mreq\u001b[49m\u001b[43m)\u001b[49m\n\u001b[1;32m    238\u001b[0m \u001b[38;5;28;01massert\u001b[39;00m \u001b[38;5;28misinstance\u001b[39m(resp\u001b[38;5;241m.\u001b[39mstream, typing\u001b[38;5;241m.\u001b[39mIterable)\n\u001b[1;32m    240\u001b[0m \u001b[38;5;28;01mreturn\u001b[39;00m Response(\n\u001b[1;32m    241\u001b[0m     status_code\u001b[38;5;241m=\u001b[39mresp\u001b[38;5;241m.\u001b[39mstatus,\n\u001b[1;32m    242\u001b[0m     headers\u001b[38;5;241m=\u001b[39mresp\u001b[38;5;241m.\u001b[39mheaders,\n\u001b[1;32m    243\u001b[0m     stream\u001b[38;5;241m=\u001b[39mResponseStream(resp\u001b[38;5;241m.\u001b[39mstream),\n\u001b[1;32m    244\u001b[0m     extensions\u001b[38;5;241m=\u001b[39mresp\u001b[38;5;241m.\u001b[39mextensions,\n\u001b[1;32m    245\u001b[0m )\n",
      "File \u001b[0;32m~/anaconda3/envs/quant_drl/lib/python3.10/site-packages/httpcore/_sync/connection_pool.py:216\u001b[0m, in \u001b[0;36mConnectionPool.handle_request\u001b[0;34m(self, request)\u001b[0m\n\u001b[1;32m    213\u001b[0m         closing \u001b[38;5;241m=\u001b[39m \u001b[38;5;28mself\u001b[39m\u001b[38;5;241m.\u001b[39m_assign_requests_to_connections()\n\u001b[1;32m    215\u001b[0m     \u001b[38;5;28mself\u001b[39m\u001b[38;5;241m.\u001b[39m_close_connections(closing)\n\u001b[0;32m--> 216\u001b[0m     \u001b[38;5;28;01mraise\u001b[39;00m exc \u001b[38;5;28;01mfrom\u001b[39;00m \u001b[38;5;28;01mNone\u001b[39;00m\n\u001b[1;32m    218\u001b[0m \u001b[38;5;66;03m# Return the response. Note that in this case we still have to manage\u001b[39;00m\n\u001b[1;32m    219\u001b[0m \u001b[38;5;66;03m# the point at which the response is closed.\u001b[39;00m\n\u001b[1;32m    220\u001b[0m \u001b[38;5;28;01massert\u001b[39;00m \u001b[38;5;28misinstance\u001b[39m(response\u001b[38;5;241m.\u001b[39mstream, Iterable)\n",
      "File \u001b[0;32m~/anaconda3/envs/quant_drl/lib/python3.10/site-packages/httpcore/_sync/connection_pool.py:196\u001b[0m, in \u001b[0;36mConnectionPool.handle_request\u001b[0;34m(self, request)\u001b[0m\n\u001b[1;32m    192\u001b[0m connection \u001b[38;5;241m=\u001b[39m pool_request\u001b[38;5;241m.\u001b[39mwait_for_connection(timeout\u001b[38;5;241m=\u001b[39mtimeout)\n\u001b[1;32m    194\u001b[0m \u001b[38;5;28;01mtry\u001b[39;00m:\n\u001b[1;32m    195\u001b[0m     \u001b[38;5;66;03m# Send the request on the assigned connection.\u001b[39;00m\n\u001b[0;32m--> 196\u001b[0m     response \u001b[38;5;241m=\u001b[39m \u001b[43mconnection\u001b[49m\u001b[38;5;241;43m.\u001b[39;49m\u001b[43mhandle_request\u001b[49m\u001b[43m(\u001b[49m\n\u001b[1;32m    197\u001b[0m \u001b[43m        \u001b[49m\u001b[43mpool_request\u001b[49m\u001b[38;5;241;43m.\u001b[39;49m\u001b[43mrequest\u001b[49m\n\u001b[1;32m    198\u001b[0m \u001b[43m    \u001b[49m\u001b[43m)\u001b[49m\n\u001b[1;32m    199\u001b[0m \u001b[38;5;28;01mexcept\u001b[39;00m ConnectionNotAvailable:\n\u001b[1;32m    200\u001b[0m     \u001b[38;5;66;03m# In some cases a connection may initially be available to\u001b[39;00m\n\u001b[1;32m    201\u001b[0m     \u001b[38;5;66;03m# handle a request, but then become unavailable.\u001b[39;00m\n\u001b[1;32m    202\u001b[0m     \u001b[38;5;66;03m#\u001b[39;00m\n\u001b[1;32m    203\u001b[0m     \u001b[38;5;66;03m# In this case we clear the connection and try again.\u001b[39;00m\n\u001b[1;32m    204\u001b[0m     pool_request\u001b[38;5;241m.\u001b[39mclear_connection()\n",
      "File \u001b[0;32m~/anaconda3/envs/quant_drl/lib/python3.10/site-packages/httpcore/_sync/connection.py:101\u001b[0m, in \u001b[0;36mHTTPConnection.handle_request\u001b[0;34m(self, request)\u001b[0m\n\u001b[1;32m     98\u001b[0m     \u001b[38;5;28mself\u001b[39m\u001b[38;5;241m.\u001b[39m_connect_failed \u001b[38;5;241m=\u001b[39m \u001b[38;5;28;01mTrue\u001b[39;00m\n\u001b[1;32m     99\u001b[0m     \u001b[38;5;28;01mraise\u001b[39;00m exc\n\u001b[0;32m--> 101\u001b[0m \u001b[38;5;28;01mreturn\u001b[39;00m \u001b[38;5;28;43mself\u001b[39;49m\u001b[38;5;241;43m.\u001b[39;49m\u001b[43m_connection\u001b[49m\u001b[38;5;241;43m.\u001b[39;49m\u001b[43mhandle_request\u001b[49m\u001b[43m(\u001b[49m\u001b[43mrequest\u001b[49m\u001b[43m)\u001b[49m\n",
      "File \u001b[0;32m~/anaconda3/envs/quant_drl/lib/python3.10/site-packages/httpcore/_sync/http11.py:143\u001b[0m, in \u001b[0;36mHTTP11Connection.handle_request\u001b[0;34m(self, request)\u001b[0m\n\u001b[1;32m    141\u001b[0m     \u001b[38;5;28;01mwith\u001b[39;00m Trace(\u001b[38;5;124m\"\u001b[39m\u001b[38;5;124mresponse_closed\u001b[39m\u001b[38;5;124m\"\u001b[39m, logger, request) \u001b[38;5;28;01mas\u001b[39;00m trace:\n\u001b[1;32m    142\u001b[0m         \u001b[38;5;28mself\u001b[39m\u001b[38;5;241m.\u001b[39m_response_closed()\n\u001b[0;32m--> 143\u001b[0m \u001b[38;5;28;01mraise\u001b[39;00m exc\n",
      "File \u001b[0;32m~/anaconda3/envs/quant_drl/lib/python3.10/site-packages/httpcore/_sync/http11.py:113\u001b[0m, in \u001b[0;36mHTTP11Connection.handle_request\u001b[0;34m(self, request)\u001b[0m\n\u001b[1;32m    102\u001b[0m     \u001b[38;5;28;01mpass\u001b[39;00m\n\u001b[1;32m    104\u001b[0m \u001b[38;5;28;01mwith\u001b[39;00m Trace(\n\u001b[1;32m    105\u001b[0m     \u001b[38;5;124m\"\u001b[39m\u001b[38;5;124mreceive_response_headers\u001b[39m\u001b[38;5;124m\"\u001b[39m, logger, request, kwargs\n\u001b[1;32m    106\u001b[0m ) \u001b[38;5;28;01mas\u001b[39;00m trace:\n\u001b[1;32m    107\u001b[0m     (\n\u001b[1;32m    108\u001b[0m         http_version,\n\u001b[1;32m    109\u001b[0m         status,\n\u001b[1;32m    110\u001b[0m         reason_phrase,\n\u001b[1;32m    111\u001b[0m         headers,\n\u001b[1;32m    112\u001b[0m         trailing_data,\n\u001b[0;32m--> 113\u001b[0m     ) \u001b[38;5;241m=\u001b[39m \u001b[38;5;28;43mself\u001b[39;49m\u001b[38;5;241;43m.\u001b[39;49m\u001b[43m_receive_response_headers\u001b[49m\u001b[43m(\u001b[49m\u001b[38;5;241;43m*\u001b[39;49m\u001b[38;5;241;43m*\u001b[39;49m\u001b[43mkwargs\u001b[49m\u001b[43m)\u001b[49m\n\u001b[1;32m    114\u001b[0m     trace\u001b[38;5;241m.\u001b[39mreturn_value \u001b[38;5;241m=\u001b[39m (\n\u001b[1;32m    115\u001b[0m         http_version,\n\u001b[1;32m    116\u001b[0m         status,\n\u001b[1;32m    117\u001b[0m         reason_phrase,\n\u001b[1;32m    118\u001b[0m         headers,\n\u001b[1;32m    119\u001b[0m     )\n\u001b[1;32m    121\u001b[0m network_stream \u001b[38;5;241m=\u001b[39m \u001b[38;5;28mself\u001b[39m\u001b[38;5;241m.\u001b[39m_network_stream\n",
      "File \u001b[0;32m~/anaconda3/envs/quant_drl/lib/python3.10/site-packages/httpcore/_sync/http11.py:186\u001b[0m, in \u001b[0;36mHTTP11Connection._receive_response_headers\u001b[0;34m(self, request)\u001b[0m\n\u001b[1;32m    183\u001b[0m timeout \u001b[38;5;241m=\u001b[39m timeouts\u001b[38;5;241m.\u001b[39mget(\u001b[38;5;124m\"\u001b[39m\u001b[38;5;124mread\u001b[39m\u001b[38;5;124m\"\u001b[39m, \u001b[38;5;28;01mNone\u001b[39;00m)\n\u001b[1;32m    185\u001b[0m \u001b[38;5;28;01mwhile\u001b[39;00m \u001b[38;5;28;01mTrue\u001b[39;00m:\n\u001b[0;32m--> 186\u001b[0m     event \u001b[38;5;241m=\u001b[39m \u001b[38;5;28;43mself\u001b[39;49m\u001b[38;5;241;43m.\u001b[39;49m\u001b[43m_receive_event\u001b[49m\u001b[43m(\u001b[49m\u001b[43mtimeout\u001b[49m\u001b[38;5;241;43m=\u001b[39;49m\u001b[43mtimeout\u001b[49m\u001b[43m)\u001b[49m\n\u001b[1;32m    187\u001b[0m     \u001b[38;5;28;01mif\u001b[39;00m \u001b[38;5;28misinstance\u001b[39m(event, h11\u001b[38;5;241m.\u001b[39mResponse):\n\u001b[1;32m    188\u001b[0m         \u001b[38;5;28;01mbreak\u001b[39;00m\n",
      "File \u001b[0;32m~/anaconda3/envs/quant_drl/lib/python3.10/site-packages/httpcore/_sync/http11.py:224\u001b[0m, in \u001b[0;36mHTTP11Connection._receive_event\u001b[0;34m(self, timeout)\u001b[0m\n\u001b[1;32m    221\u001b[0m     event \u001b[38;5;241m=\u001b[39m \u001b[38;5;28mself\u001b[39m\u001b[38;5;241m.\u001b[39m_h11_state\u001b[38;5;241m.\u001b[39mnext_event()\n\u001b[1;32m    223\u001b[0m \u001b[38;5;28;01mif\u001b[39;00m event \u001b[38;5;129;01mis\u001b[39;00m h11\u001b[38;5;241m.\u001b[39mNEED_DATA:\n\u001b[0;32m--> 224\u001b[0m     data \u001b[38;5;241m=\u001b[39m \u001b[38;5;28;43mself\u001b[39;49m\u001b[38;5;241;43m.\u001b[39;49m\u001b[43m_network_stream\u001b[49m\u001b[38;5;241;43m.\u001b[39;49m\u001b[43mread\u001b[49m\u001b[43m(\u001b[49m\n\u001b[1;32m    225\u001b[0m \u001b[43m        \u001b[49m\u001b[38;5;28;43mself\u001b[39;49m\u001b[38;5;241;43m.\u001b[39;49m\u001b[43mREAD_NUM_BYTES\u001b[49m\u001b[43m,\u001b[49m\u001b[43m \u001b[49m\u001b[43mtimeout\u001b[49m\u001b[38;5;241;43m=\u001b[39;49m\u001b[43mtimeout\u001b[49m\n\u001b[1;32m    226\u001b[0m \u001b[43m    \u001b[49m\u001b[43m)\u001b[49m\n\u001b[1;32m    228\u001b[0m     \u001b[38;5;66;03m# If we feed this case through h11 we'll raise an exception like:\u001b[39;00m\n\u001b[1;32m    229\u001b[0m     \u001b[38;5;66;03m#\u001b[39;00m\n\u001b[1;32m    230\u001b[0m     \u001b[38;5;66;03m#     httpcore.RemoteProtocolError: can't handle event type\u001b[39;00m\n\u001b[0;32m   (...)\u001b[0m\n\u001b[1;32m    234\u001b[0m     \u001b[38;5;66;03m# perspective. Instead we handle this case distinctly and treat\u001b[39;00m\n\u001b[1;32m    235\u001b[0m     \u001b[38;5;66;03m# it as a ConnectError.\u001b[39;00m\n\u001b[1;32m    236\u001b[0m     \u001b[38;5;28;01mif\u001b[39;00m data \u001b[38;5;241m==\u001b[39m \u001b[38;5;124mb\u001b[39m\u001b[38;5;124m\"\u001b[39m\u001b[38;5;124m\"\u001b[39m \u001b[38;5;129;01mand\u001b[39;00m \u001b[38;5;28mself\u001b[39m\u001b[38;5;241m.\u001b[39m_h11_state\u001b[38;5;241m.\u001b[39mtheir_state \u001b[38;5;241m==\u001b[39m h11\u001b[38;5;241m.\u001b[39mSEND_RESPONSE:\n",
      "File \u001b[0;32m~/anaconda3/envs/quant_drl/lib/python3.10/site-packages/httpcore/_backends/sync.py:126\u001b[0m, in \u001b[0;36mSyncStream.read\u001b[0;34m(self, max_bytes, timeout)\u001b[0m\n\u001b[1;32m    124\u001b[0m \u001b[38;5;28;01mwith\u001b[39;00m map_exceptions(exc_map):\n\u001b[1;32m    125\u001b[0m     \u001b[38;5;28mself\u001b[39m\u001b[38;5;241m.\u001b[39m_sock\u001b[38;5;241m.\u001b[39msettimeout(timeout)\n\u001b[0;32m--> 126\u001b[0m     \u001b[38;5;28;01mreturn\u001b[39;00m \u001b[38;5;28;43mself\u001b[39;49m\u001b[38;5;241;43m.\u001b[39;49m\u001b[43m_sock\u001b[49m\u001b[38;5;241;43m.\u001b[39;49m\u001b[43mrecv\u001b[49m\u001b[43m(\u001b[49m\u001b[43mmax_bytes\u001b[49m\u001b[43m)\u001b[49m\n",
      "File \u001b[0;32m~/anaconda3/envs/quant_drl/lib/python3.10/ssl.py:1292\u001b[0m, in \u001b[0;36mSSLSocket.recv\u001b[0;34m(self, buflen, flags)\u001b[0m\n\u001b[1;32m   1288\u001b[0m     \u001b[38;5;28;01mif\u001b[39;00m flags \u001b[38;5;241m!=\u001b[39m \u001b[38;5;241m0\u001b[39m:\n\u001b[1;32m   1289\u001b[0m         \u001b[38;5;28;01mraise\u001b[39;00m \u001b[38;5;167;01mValueError\u001b[39;00m(\n\u001b[1;32m   1290\u001b[0m             \u001b[38;5;124m\"\u001b[39m\u001b[38;5;124mnon-zero flags not allowed in calls to recv() on \u001b[39m\u001b[38;5;132;01m%s\u001b[39;00m\u001b[38;5;124m\"\u001b[39m \u001b[38;5;241m%\u001b[39m\n\u001b[1;32m   1291\u001b[0m             \u001b[38;5;28mself\u001b[39m\u001b[38;5;241m.\u001b[39m\u001b[38;5;18m__class__\u001b[39m)\n\u001b[0;32m-> 1292\u001b[0m     \u001b[38;5;28;01mreturn\u001b[39;00m \u001b[38;5;28;43mself\u001b[39;49m\u001b[38;5;241;43m.\u001b[39;49m\u001b[43mread\u001b[49m\u001b[43m(\u001b[49m\u001b[43mbuflen\u001b[49m\u001b[43m)\u001b[49m\n\u001b[1;32m   1293\u001b[0m \u001b[38;5;28;01melse\u001b[39;00m:\n\u001b[1;32m   1294\u001b[0m     \u001b[38;5;28;01mreturn\u001b[39;00m \u001b[38;5;28msuper\u001b[39m()\u001b[38;5;241m.\u001b[39mrecv(buflen, flags)\n",
      "File \u001b[0;32m~/anaconda3/envs/quant_drl/lib/python3.10/ssl.py:1165\u001b[0m, in \u001b[0;36mSSLSocket.read\u001b[0;34m(self, len, buffer)\u001b[0m\n\u001b[1;32m   1163\u001b[0m         \u001b[38;5;28;01mreturn\u001b[39;00m \u001b[38;5;28mself\u001b[39m\u001b[38;5;241m.\u001b[39m_sslobj\u001b[38;5;241m.\u001b[39mread(\u001b[38;5;28mlen\u001b[39m, buffer)\n\u001b[1;32m   1164\u001b[0m     \u001b[38;5;28;01melse\u001b[39;00m:\n\u001b[0;32m-> 1165\u001b[0m         \u001b[38;5;28;01mreturn\u001b[39;00m \u001b[38;5;28;43mself\u001b[39;49m\u001b[38;5;241;43m.\u001b[39;49m\u001b[43m_sslobj\u001b[49m\u001b[38;5;241;43m.\u001b[39;49m\u001b[43mread\u001b[49m\u001b[43m(\u001b[49m\u001b[38;5;28;43mlen\u001b[39;49m\u001b[43m)\u001b[49m\n\u001b[1;32m   1166\u001b[0m \u001b[38;5;28;01mexcept\u001b[39;00m SSLError \u001b[38;5;28;01mas\u001b[39;00m x:\n\u001b[1;32m   1167\u001b[0m     \u001b[38;5;28;01mif\u001b[39;00m x\u001b[38;5;241m.\u001b[39margs[\u001b[38;5;241m0\u001b[39m] \u001b[38;5;241m==\u001b[39m SSL_ERROR_EOF \u001b[38;5;129;01mand\u001b[39;00m \u001b[38;5;28mself\u001b[39m\u001b[38;5;241m.\u001b[39msuppress_ragged_eofs:\n",
      "\u001b[0;31mKeyboardInterrupt\u001b[0m: "
     ]
    }
   ],
   "source": [
    "def judge_loop(train_template, judge_template, model, shared_memory=None, client=None, distil=False):\n",
    "    context = {\n",
    "        'train_template': train_template,\n",
    "        'shared_memory': shared_memory\n",
    "    }\n",
    "    judge_template = fill_yaml_template(context, judge_template)\n",
    "    judge_template = yaml.dump(judge_template, default_flow_style=True, allow_unicode=True)\n",
    "    judge_response = client.beta.chat.completions.parse(\n",
    "        model=model,\n",
    "        messages=[\n",
    "            {\"role\": \"user\", \"content\": judge_template}\n",
    "        ],\n",
    "        temperature=0.7,\n",
    "        store=distil,\n",
    "        metadata = {\n",
    "            'role': META_ID,\n",
    "            'version': PROMPT_VERSION,\n",
    "        } if distil else None,\n",
    "        response_format=JudgeResponse,\n",
    "        max_tokens=2300,\n",
    "    )\n",
    "    opt_prompt = {\n",
    "        \"Selected Features\": judge_response.choices[0].message.parsed.features,\n",
    "        \"strategy Rationale\": judge_response.choices[0].message.parsed.explanation,\n",
    "    }\n",
    "    return opt_prompt, judge_response.choices[0].message.parsed.action.value\n",
    "\n",
    "def backtest_strategy(action, historical_data, anchor_date, horizon=5*4):\n",
    "    stock_df = historical_data.loc[anchor_date - BDay(horizon):anchor_date]\n",
    "\n",
    "    action_multiplier = 1 if action == 'LONG' else -1\n",
    "    rets = (stock_df['Close'].pct_change() * action_multiplier).fillna(0)\n",
    "\n",
    "    cum_rets = (rets + 1).prod() - 1\n",
    "    max_rets = rets.max()\n",
    "    min_rets = rets.min()\n",
    "    cum_rets = 0.0 if pd.isna(cum_rets) else cum_rets\n",
    "    max_rets = 0.0 if pd.isna(max_rets) else max_rets\n",
    "    min_rets = 0.0 if pd.isna(min_rets) else min_rets\n",
    "\n",
    "    return {\n",
    "        \"Cumulative Returns\": cum_rets,\n",
    "        \"Min Return\": min_rets,\n",
    "        \"Max Return\": max_rets\n",
    "    }\n",
    "\n",
    "def writer_loop(historical_df,\n",
    "                anchor_date,\n",
    "                train_template,\n",
    "                persona=PERSONA,\n",
    "                risk_profile=HIGH_RISK_PROFILE,\n",
    "                objectives=HIGH_OBJECTIVES,\n",
    "                horizon=5*4,\n",
    "                model=WRITER_OPENAI_MODEL,\n",
    "                client=OPENAI_CLIENT,\n",
    "                distil=False,\n",
    "                Last_LLM_Strat=None,\n",
    "                Last_LLM_Strat_Action=None,\n",
    "                Last_LLM_Strat_Returns=None,\n",
    "                Last_LLM_Strat_Days=None,\n",
    "                Peak_Returns=None,\n",
    "                Trough_Returns=None):\n",
    "\n",
    "    context = update_historical_data_context(\n",
    "        historical_df.loc[anchor_date:anchor_date + pd.Timedelta(days=horizon)],\n",
    "        persona=persona,\n",
    "        HIGH_RISK_PROFILE=risk_profile,\n",
    "        HIGH_OBJECTIVES=objectives,\n",
    "        Last_LLM_Strat=Last_LLM_Strat,\n",
    "        Last_LLM_Strat_Action=Last_LLM_Strat_Action,\n",
    "        Last_LLM_Strat_Cum_Returns=Last_LLM_Strat_Returns,\n",
    "        Last_LLM_Strat_Days=Last_LLM_Strat_Days,\n",
    "        Peak_Returns=Peak_Returns,\n",
    "        Trough_Returns=Trough_Returns,\n",
    "    )\n",
    "    train_template = fill_yaml_template(context, train_template)\n",
    "    context_yaml = yaml.dump(train_template, default_flow_style=True, allow_unicode=True)\n",
    "    writer_response = client.beta.chat.completions.parse(\n",
    "        model=model,\n",
    "        messages=[\n",
    "            {\"role\": \"user\", \"content\": context_yaml}\n",
    "        ],\n",
    "        temperature=0.7,\n",
    "        store=distil,\n",
    "        response_format=TradeStrategy,\n",
    "    )\n",
    "    strategy = writer_response.choices[0].message.parsed\n",
    "    action = strategy.action.value\n",
    "    results = backtest_strategy(action, historical_df, anchor_date)\n",
    "    return strategy, results, context_yaml\n",
    "\n",
    "\n",
    "\n",
    "def outer_loop(historical_df,\n",
    "               writer_yaml_file,\n",
    "               judge_yaml_file,\n",
    "               client,\n",
    "               model,\n",
    "               max_iterations=2,\n",
    "               target_cumulative_returns=0.025,\n",
    "               horizon=5*4,\n",
    "               distil=False,\n",
    "               num_samples=15):\n",
    "    logging.info(f\"[META_ID: {META_ID}] Starting outer loop\")\n",
    "    final_results = []\n",
    "    train_template = load_yaml_template(writer_yaml_file)\n",
    "    judge_template = load_yaml_template(judge_yaml_file)\n",
    "\n",
    "    sampled_dates_df = generate_random_sample_dates(historical_df, num_samples=num_samples)\n",
    "    unique_months = sorted(set((dt.year, dt.month) for dt in sampled_dates_df))\n",
    "    action = None\n",
    "    cum_rets = None\n",
    "    min_rets = None\n",
    "    max_rets = None\n",
    "    orig_strategy = None\n",
    "\n",
    "    total_iterations = len(unique_months) * 3\n",
    "    with tqdm(total=total_iterations, desc=\"Optimizing Strategies\") as monthly_pbar:\n",
    "        for year, month in unique_months:\n",
    "            # Run and curate strategy for 3 months.\n",
    "            for offset in range(3):\n",
    "                iter_year = year\n",
    "                iter_month = month + offset\n",
    "                if iter_month > 12:\n",
    "                    iter_year += 1\n",
    "                    iter_month -= 12\n",
    "                sub_df = historical_df[(historical_df.index.year == iter_year) & (historical_df.index.month == iter_month)]\n",
    "                if sub_df.empty:\n",
    "                    monthly_pbar.update(1)\n",
    "                    continue\n",
    "                anchor_date = sub_df.index[0]\n",
    "\n",
    "                iterations = 0\n",
    "                shared_memory = []\n",
    "                strategy, results, filled_train_template = writer_loop(historical_df,\n",
    "                                                                        anchor_date,\n",
    "                                                                        train_template,\n",
    "                                                                        distil=False,\n",
    "                                                                        Last_LLM_Strat=strategy.explanation if orig_strategy is not None else None,\n",
    "                                                                        Last_LLM_Strat_Action=action,\n",
    "                                                                        Last_LLM_Strat_Returns=cum_rets,\n",
    "                                                                        Last_LLM_Strat_Days=horizon,\n",
    "                                                                        Peak_Returns=max_rets,\n",
    "                                                                        Trough_Returns=min_rets)\n",
    "\n",
    "                context_yaml = yaml.dump(filled_train_template, default_flow_style=True, allow_unicode=True)\n",
    "                shared_memory.append(f\"Original Template:|\\n\\t'{context_yaml}'\\n\")\n",
    "\n",
    "                cum_rets = results[\"Cumulative Returns\"]\n",
    "                min_rets = results[\"Min Return\"]\n",
    "                max_rets = results[\"Max Return\"]\n",
    "                assert not any(pd.isna([cum_rets, min_rets, max_rets])), \"Cumulative, Min, or Max Returns contain NaN values!\"\n",
    "                shared_memory.append(f\"Original strategy:|\\n\\t'{orig_strategy}'\")\n",
    "                shared_memory.append(\n",
    "                    f\"Original Backtest:\\n\\tCumulative Returns: {cum_rets}\\n\\tMin Return: {min_rets}\\n\\tMax Return: {max_rets}\"\n",
    "                )\n",
    "\n",
    "                # Inner loop for refining strategy\n",
    "                while iterations < max_iterations:\n",
    "                    strategy, action = judge_loop(\n",
    "                        train_template=strategy,\n",
    "                        judge_template=judge_template,\n",
    "                        model=model,\n",
    "                        client=client,\n",
    "                        shared_memory=shared_memory,\n",
    "                        distil=distil,\n",
    "                    )\n",
    "                    shared_memory.append(f\"Tuned strategy {iterations}:|\\n\\t'{strategy}'\")\n",
    "                    iterations += 1\n",
    "\n",
    "                    results = backtest_strategy(action, historical_df, anchor_date)\n",
    "                    assert not any(pd.isna([cum_rets, min_rets, max_rets])), \"Cumulative, Min, or Max Returns contain NaN values!\"\n",
    "                    cum_rets = results[\"Cumulative Returns\"]\n",
    "                    min_rets = results[\"Min Return\"]\n",
    "                    max_rets = results[\"Max Return\"]\n",
    "                    shared_memory.append(\n",
    "                        f\"Tuned strategy {iterations} Backtest:\\n\\tCumulative Returns: {cum_rets}\\n\\tMin Return: {min_rets}\\n\\tMax Return: {max_rets}\"\n",
    "                    )\n",
    "                    if results[\"Cumulative Returns\"] >= target_cumulative_returns:\n",
    "                        logging.info(\"Target achieved. Refinement complete.\")\n",
    "                        break\n",
    "\n",
    "                final_results.append({\n",
    "                    \"memory\": shared_memory,\n",
    "                    \"anchor_date\": anchor_date,\n",
    "                    \"strategy\": strategy,\n",
    "                    \"backtest_results\": results\n",
    "                })\n",
    "\n",
    "                monthly_pbar.update(1)\n",
    "\n",
    "    logging.info(f\"[META_ID: {META_ID}] Completed outer loop\")\n",
    "    return final_results\n",
    "\n",
    "results = outer_loop(historical_df=stock_aug_data,\n",
    "                     writer_yaml_file=WRITER_PROMPT_YML,\n",
    "                     judge_yaml_file=JUDGE_PROMPT_YML,\n",
    "                     client=OPENAI_CLIENT,\n",
    "                     model=WRITER_OPENAI_MODEL,\n",
    "                     distil=False,\n",
    "                     num_samples=DISTIL_SAMPLES)\n"
   ]
  },
  {
   "cell_type": "code",
   "execution_count": null,
   "metadata": {},
   "outputs": [],
   "source": [
    "from pprint import pprint\n",
    "pprint(results[-1])"
   ]
  }
 ],
 "metadata": {
  "kaggle": {
   "accelerator": "gpu",
   "dataSources": [
    {
     "datasetId": 5722911,
     "sourceId": 9421991,
     "sourceType": "datasetVersion"
    },
    {
     "sourceId": 197612253,
     "sourceType": "kernelVersion"
    }
   ],
   "dockerImageVersionId": 30762,
   "isGpuEnabled": true,
   "isInternetEnabled": true,
   "language": "python",
   "sourceType": "notebook"
  },
  "kernelspec": {
   "display_name": "quant_drl",
   "language": "python",
   "name": "python3"
  },
  "language_info": {
   "codemirror_mode": {
    "name": "ipython",
    "version": 3
   },
   "file_extension": ".py",
   "mimetype": "text/x-python",
   "name": "python",
   "nbconvert_exporter": "python",
   "pygments_lexer": "ipython3",
   "version": "3.10.14"
  },
  "papermill": {
   "default_parameters": {},
   "duration": 1234.187031,
   "end_time": "2024-09-17T20:07:16.406924",
   "environment_variables": {},
   "exception": null,
   "input_path": "__notebook__.ipynb",
   "output_path": "__notebook__.ipynb",
   "parameters": {},
   "start_time": "2024-09-17T19:46:42.219893",
   "version": "2.6.0"
  }
 },
 "nbformat": 4,
 "nbformat_minor": 4
}
