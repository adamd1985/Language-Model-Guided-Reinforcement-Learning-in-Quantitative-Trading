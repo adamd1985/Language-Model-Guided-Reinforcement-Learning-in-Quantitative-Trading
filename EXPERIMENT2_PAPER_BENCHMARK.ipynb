{
 "cells": [
  {
   "cell_type": "markdown",
   "metadata": {
    "papermill": {
     "duration": 0.003867,
     "end_time": "2024-09-17T19:46:45.026500",
     "exception": false,
     "start_time": "2024-09-17T19:46:45.022633",
     "status": "completed"
    },
    "tags": []
   },
   "source": [
    "# Benchmark Paper Experiment\n",
    "```BibTeX\n",
    "@article{theate2021application,\n",
    "  title={An application of deep reinforcement learning to algorithmic trading},\n",
    "  author={Th{\\'e}ate, Thibaut and Ernst, Damien},\n",
    "  journal={Expert Systems with Applications},\n",
    "  volume={173},\n",
    "  pages={114632},\n",
    "  year={2021},\n",
    "  publisher={Elsevier}\n",
    "}\n",
    "```"
   ]
  },
  {
   "cell_type": "markdown",
   "metadata": {
    "papermill": {
     "duration": 0.002952,
     "end_time": "2024-09-17T19:46:45.032876",
     "exception": false,
     "start_time": "2024-09-17T19:46:45.029924",
     "status": "completed"
    },
    "tags": []
   },
   "source": [
    "## Setup Notebook"
   ]
  },
  {
   "cell_type": "code",
   "execution_count": null,
   "metadata": {
    "execution": {
     "iopub.execute_input": "2024-09-23T14:39:13.829574Z",
     "iopub.status.busy": "2024-09-23T14:39:13.829218Z",
     "iopub.status.idle": "2024-09-23T14:39:14.190909Z",
     "shell.execute_reply": "2024-09-23T14:39:14.189908Z",
     "shell.execute_reply.started": "2024-09-23T14:39:13.829533Z"
    },
    "papermill": {
     "duration": 0.761376,
     "end_time": "2024-09-17T19:46:45.797391",
     "exception": false,
     "start_time": "2024-09-17T19:46:45.036015",
     "status": "completed"
    },
    "tags": [],
    "trusted": true
   },
   "outputs": [],
   "source": [
    "import os\n",
    "import sys\n",
    "import warnings\n",
    "import time\n",
    "import yaml\n",
    "import pickle\n",
    "from textwrap import dedent\n",
    "from enum import Enum\n",
    "from typing import List\n",
    "from datetime import datetime, timedelta\n",
    "\n",
    "import pandas as pd\n",
    "import numpy as np\n",
    "\n",
    "from scipy import stats\n",
    "\n",
    "module_path = os.path.abspath(os.path.join(os.getcwd(), 'utils'))\n",
    "if module_path not in sys.path:\n",
    "    sys.path.append(module_path)\n",
    "\n",
    "warnings.filterwarnings(\"ignore\")\n",
    "\n",
    "INSTALL_DEPS = True\n",
    "if INSTALL_DEPS:\n",
    "    %pip install yfinance==0.2.43\n",
    "    %pip install openai==1.51.2\n",
    "IN_KAGGLE = IN_COLAB = False\n",
    "try:\n",
    "    import google.colab\n",
    "    from google.colab import drive\n",
    "\n",
    "    drive.mount(\"/content/drive\")\n",
    "    DATA_PATH = \"/drive/input/drl-dataset-quant\"\n",
    "    IN_COLAB = True\n",
    "    print(\"Colab!\")\n",
    "except:\n",
    "    IN_COLAB = False\n",
    "if \"KAGGLE_KERNEL_RUN_TYPE\" in os.environ and not IN_COLAB:\n",
    "    print(\"Running in Kaggle...\")\n",
    "    for dirname, _, filenames in os.walk(\"/kaggle/input\"):\n",
    "        for filename in filenames:\n",
    "            print(os.path.join(dirname, filename))\n",
    "    DATA_PATH = \"/kaggle/input/drl-dataset-quant\"\n",
    "    sys.path.insert(1, \"/kaggle/usr/lib/drlutil\")\n",
    "    IN_KAGGLE = True\n",
    "    print(\"Kaggle!\")\n",
    "elif not IN_COLAB:\n",
    "    IN_KAGGLE = False\n",
    "    DATA_PATH = \"./data/\"\n",
    "    module_path = os.path.abspath(os.path.join('..'))\n",
    "    if module_path not in sys.path:\n",
    "        sys.path.append(module_path)\n",
    "    print(\"running localhost!\")\n",
    "\n",
    "from tqdm.notebook import tqdm\n",
    "import logging\n",
    "from pprint import pprint\n",
    "\n",
    "from dotenv import load_dotenv\n",
    "load_dotenv()\n",
    "\n",
    "%load_ext dotenv\n",
    "\n",
    "RL_OUTPUT_PATH = os.getenv(\"RL_OUTPUT_PATH\", '/rl_data')\n",
    "LOGS_PATH = os.getenv(\"LOGS_PATH\", '/logs')\n",
    "paths = [LOGS_PATH, RL_OUTPUT_PATH]\n",
    "\n",
    "for path in paths:\n",
    "    if path and not os.path.exists(path):\n",
    "        os.makedirs(path)\n",
    "\n",
    "from paper_utils import TradingSimulator, PerformanceEstimator"
   ]
  },
  {
   "cell_type": "markdown",
   "metadata": {
    "papermill": {
     "duration": 0.003224,
     "end_time": "2024-09-17T19:47:38.577706",
     "exception": false,
     "start_time": "2024-09-17T19:47:38.574482",
     "status": "completed"
    },
    "tags": []
   },
   "source": [
    "## Experiment Parameters"
   ]
  },
  {
   "cell_type": "code",
   "execution_count": null,
   "metadata": {
    "execution": {
     "iopub.execute_input": "2024-09-23T14:40:06.735872Z",
     "iopub.status.busy": "2024-09-23T14:40:06.735271Z",
     "iopub.status.idle": "2024-09-23T14:40:06.742604Z",
     "shell.execute_reply": "2024-09-23T14:40:06.741541Z",
     "shell.execute_reply.started": "2024-09-23T14:40:06.735837Z"
    },
    "papermill": {
     "duration": 0.014079,
     "end_time": "2024-09-17T19:47:38.595230",
     "exception": false,
     "start_time": "2024-09-17T19:47:38.581151",
     "status": "completed"
    },
    "tags": [],
    "trusted": true
   },
   "outputs": [],
   "source": [
    "STARTDATE = '2012-01-01'\n",
    "SPLITDATE = '2018-01-01'\n",
    "ENDDATE = '2020-01-01'\n",
    "TARGET = 'Tesla'\n",
    "money=100_000.\n",
    "stateLength = 30\n",
    "features = ['Close', 'Low', 'High', 'Volume', 'strat_signal_long', 'strat_signal_short']\n",
    "observationSpace =  (stateLength - 1) * len(features)\n",
    "actionSpace = 2\n",
    "bounds = [1, 30]\n",
    "step = 1\n",
    "numberOfEpisodes = 18\n",
    "percentageCosts = [0, 0.1, 0.2]\n",
    "transactionCosts = percentageCosts[1]/100\n",
    "simulator = TradingSimulator()\n"
   ]
  },
  {
   "cell_type": "markdown",
   "metadata": {
    "papermill": {
     "duration": 0.003275,
     "end_time": "2024-09-17T19:47:38.601951",
     "exception": false,
     "start_time": "2024-09-17T19:47:38.598676",
     "status": "completed"
    },
    "tags": []
   },
   "source": [
    "# Run Experiments"
   ]
  },
  {
   "cell_type": "markdown",
   "metadata": {
    "papermill": {
     "duration": 0.003219,
     "end_time": "2024-09-17T19:47:38.608658",
     "exception": false,
     "start_time": "2024-09-17T19:47:38.605439",
     "status": "completed"
    },
    "tags": []
   },
   "source": [
    "## Test Selected Stock and strategy"
   ]
  },
  {
   "cell_type": "code",
   "execution_count": null,
   "metadata": {
    "papermill": {
     "duration": 1174.827124,
     "end_time": "2024-09-17T20:07:13.439225",
     "exception": false,
     "start_time": "2024-09-17T19:47:38.612101",
     "status": "completed"
    },
    "tags": [],
    "trusted": true
   },
   "outputs": [],
   "source": [
    "rl_output_dir = f'{RL_OUTPUT_PATH}/benchmark'\n",
    "os.makedirs(rl_output_dir, exist_ok=True)\n",
    "\n",
    "train_file = f'{rl_output_dir}/{TARGET}_train_results.pkl'\n",
    "test_file = f'{rl_output_dir}/{TARGET}_test_results.pkl'\n",
    "train_env_file = f'{rl_output_dir}/{TARGET}_train_env.pkl'\n",
    "test_env_file = f'{rl_output_dir}/{TARGET}_test_env.pkl'\n",
    "\n",
    "if os.path.exists(train_file) and os.path.exists(test_file) and os.path.exists(train_env_file) and os.path.exists(test_env_file):\n",
    "    with open(train_file, 'rb') as f:\n",
    "        train_results = pickle.load(f)\n",
    "    with open(test_file, 'rb') as f:\n",
    "        test_results = pickle.load(f)\n",
    "    with open(train_env_file, 'rb') as f:\n",
    "        train_env = pickle.load(f)\n",
    "    with open(test_env_file, 'rb') as f:\n",
    "        test_env = pickle.load(f)\n",
    "else:\n",
    "    start_train_time = time.time()\n",
    "    strat, train_env, test_env = simulator.simulateNewStrategy(\"TDQN\",\n",
    "                                                                TARGET,\n",
    "                                                                startingDate=STARTDATE,\n",
    "                                                                endingDate=ENDDATE,\n",
    "                                                                splitingDate=SPLITDATE,\n",
    "                                                                verbose=True,\n",
    "                                                                plotTraining=True,\n",
    "                                                                rendering=True,\n",
    "                                                                showPerformance=True,\n",
    "                                                                saveStrategy=True,\n",
    "                                                                money=money,\n",
    "                                                                observationSpace=observationSpace,\n",
    "                                                                actionSpace=actionSpace,\n",
    "                                                                stateLength=stateLength,\n",
    "                                                                bounds=bounds,\n",
    "                                                                step=step,\n",
    "                                                                numberOfEpisodes=numberOfEpisodes,\n",
    "                                                                transactionCosts=transactionCosts)\n",
    "    analyser = PerformanceEstimator(train_env.data)\n",
    "    train_results = analyser.getComputedPerformance()\n",
    "    analyser = PerformanceEstimator(test_env.data)\n",
    "    test_results = analyser.getComputedPerformance()\n",
    "    with open(train_file, 'wb') as f:\n",
    "        pickle.dump(train_results, f)\n",
    "    with open(test_file, 'wb') as f:\n",
    "        pickle.dump(test_results, f)\n",
    "    with open(train_env_file, 'wb') as f:\n",
    "        pickle.dump(train_env, f)\n",
    "    with open(test_env_file, 'wb') as f:\n",
    "        pickle.dump(test_env, f)\n",
    "\n",
    "pprint(test_results)"
   ]
  },
  {
   "cell_type": "code",
   "execution_count": null,
   "metadata": {
    "execution": {
     "iopub.status.busy": "2024-09-23T14:42:37.644578Z",
     "iopub.status.idle": "2024-09-23T14:42:37.645075Z",
     "shell.execute_reply": "2024-09-23T14:42:37.644843Z",
     "shell.execute_reply.started": "2024-09-23T14:42:37.644817Z"
    },
    "trusted": true
   },
   "outputs": [],
   "source": [
    "sharpe_df = pd.read_csv(f\"./papers/results.csv\")\n",
    "sharpe_df.set_index('Stock', inplace=True)\n",
    "\n",
    "final_summary_df = pd.DataFrame()\n",
    "\n",
    "for stock_name, stock in tqdm(STOCKS.items(), disable=True):\n",
    "    with open(f'./{stock}_bm_train_results.pkl', 'rb') as f:\n",
    "        test_results = pickle.load(f)\n",
    "    with open(f'./{stock}_bm_time_results.pkl', 'rb') as f:\n",
    "        time_results = pickle.load(f)\n",
    "\n",
    "    metrics_data = {}\n",
    "    for df in test_results:\n",
    "        for _, row in df.iterrows():\n",
    "            metric = row['Metric']\n",
    "            value = row['Value']\n",
    "            if metric not in metrics_data:\n",
    "                metrics_data[metric] = []\n",
    "            metrics_data[metric].append(value)\n",
    "\n",
    "    stock_summary = {}\n",
    "\n",
    "    for metric, values in metrics_data.items():\n",
    "        data = pd.Series(values)\n",
    "        mean_val = round(data.mean(), 2)\n",
    "        std_val = round(data.std(), 2)\n",
    "        t_stat, p_value = stats.ttest_1samp(data, 0)\n",
    "        p_value = round(p_value, 2)\n",
    "\n",
    "        stock_summary[metric] = [mean_val, std_val, p_value]\n",
    "\n",
    "    stock_df = pd.DataFrame(stock_summary, index=[\"Mean\", \"+/-\", \"P-Value\"]).T\n",
    "    stock_df = stock_df.T.unstack().to_frame().T\n",
    "    stock_df.index = [stock_name]\n",
    "\n",
    "    stock_df['Paper'] = sharpe_df.loc[stock_name, 'TDQN'] if stock_name in sharpe_df.index else None\n",
    "    stock_df['Avg Train Time (s)'] = time_results['avg_train_time']\n",
    "    stock_df['Avg Test Time (s)'] = time_results['avg_test_time']\n",
    "\n",
    "    if final_summary_df.empty:\n",
    "        final_summary_df = stock_df\n",
    "    else:\n",
    "        final_summary_df = pd.concat([final_summary_df, stock_df])\n",
    "\n",
    "final_summary_df.T"
   ]
  },
  {
   "cell_type": "code",
   "execution_count": null,
   "metadata": {},
   "outputs": [],
   "source": [
    "final_summary_df.to_csv('./bm_results.csv')"
   ]
  }
 ],
 "metadata": {
  "kaggle": {
   "accelerator": "gpu",
   "dataSources": [
    {
     "sourceId": 201383824,
     "sourceType": "kernelVersion"
    }
   ],
   "isGpuEnabled": true,
   "isInternetEnabled": true,
   "language": "python",
   "sourceType": "notebook"
  },
  "kernelspec": {
   "display_name": "quant_drl",
   "language": "python",
   "name": "python3"
  },
  "language_info": {
   "codemirror_mode": {
    "name": "ipython",
    "version": 3
   },
   "file_extension": ".py",
   "mimetype": "text/x-python",
   "name": "python",
   "nbconvert_exporter": "python",
   "pygments_lexer": "ipython3",
   "version": "3.10.14"
  },
  "papermill": {
   "default_parameters": {},
   "duration": 1234.187031,
   "end_time": "2024-09-17T20:07:16.406924",
   "environment_variables": {},
   "exception": null,
   "input_path": "__notebook__.ipynb",
   "output_path": "__notebook__.ipynb",
   "parameters": {},
   "start_time": "2024-09-17T19:46:42.219893",
   "version": "2.6.0"
  }
 },
 "nbformat": 4,
 "nbformat_minor": 4
}
