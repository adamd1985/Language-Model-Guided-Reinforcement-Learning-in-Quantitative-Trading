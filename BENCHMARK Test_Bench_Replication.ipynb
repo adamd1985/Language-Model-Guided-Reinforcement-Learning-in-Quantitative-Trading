{
 "cells": [
  {
   "cell_type": "markdown",
   "metadata": {
    "papermill": {
     "duration": 0.003867,
     "end_time": "2024-09-17T19:46:45.026500",
     "exception": false,
     "start_time": "2024-09-17T19:46:45.022633",
     "status": "completed"
    },
    "tags": []
   },
   "source": [
    "# Benchmark Paper Experiment Test Bench Replication\n",
    "```BibTeX\n",
    "@article{theate2021application,\n",
    "  title={An application of deep reinforcement learning to algorithmic trading},\n",
    "  author={Th{\\'e}ate, Thibaut and Ernst, Damien},\n",
    "  journal={Expert Systems with Applications},\n",
    "  volume={173},\n",
    "  pages={114632},\n",
    "  year={2021},\n",
    "  publisher={Elsevier}\n",
    "}\n",
    "```"
   ]
  },
  {
   "cell_type": "markdown",
   "metadata": {},
   "source": [
    "In this notebook we replicate the architecture of our benchmark paper."
   ]
  },
  {
   "cell_type": "markdown",
   "metadata": {
    "papermill": {
     "duration": 0.002952,
     "end_time": "2024-09-17T19:46:45.032876",
     "exception": false,
     "start_time": "2024-09-17T19:46:45.029924",
     "status": "completed"
    },
    "tags": []
   },
   "source": [
    "## Setup Notebook"
   ]
  },
  {
   "cell_type": "code",
   "execution_count": null,
   "metadata": {
    "execution": {
     "iopub.execute_input": "2024-09-23T14:39:13.829574Z",
     "iopub.status.busy": "2024-09-23T14:39:13.829218Z",
     "iopub.status.idle": "2024-09-23T14:39:14.190909Z",
     "shell.execute_reply": "2024-09-23T14:39:14.189908Z",
     "shell.execute_reply.started": "2024-09-23T14:39:13.829533Z"
    },
    "papermill": {
     "duration": 0.761376,
     "end_time": "2024-09-17T19:46:45.797391",
     "exception": false,
     "start_time": "2024-09-17T19:46:45.036015",
     "status": "completed"
    },
    "tags": [],
    "trusted": true
   },
   "outputs": [],
   "source": [
    "import os\n",
    "import sys\n",
    "import warnings\n",
    "import time\n",
    "import yaml\n",
    "import pickle\n",
    "from textwrap import dedent\n",
    "from datetime import datetime, timedelta\n",
    "\n",
    "import pandas as pd\n",
    "import numpy as np\n",
    "from scipy import stats\n",
    "from pprint import pprint\n",
    "\n",
    "\n",
    "module_path = os.path.abspath(os.path.join(os.getcwd(), 'utils'))\n",
    "if module_path not in sys.path:\n",
    "    sys.path.append(module_path)\n",
    "\n",
    "warnings.filterwarnings(\"ignore\")\n",
    "\n",
    "\n",
    "IN_KAGGLE = False\n",
    "DATA_PATH = \"./data/\"\n",
    "module_path = os.path.abspath(os.path.join('..'))\n",
    "if module_path not in sys.path:\n",
    "    sys.path.append(module_path)\n",
    "\n",
    "from tqdm.notebook import tqdm\n",
    "import logging\n",
    "\n",
    "from dotenv import load_dotenv\n",
    "load_dotenv()\n",
    "\n",
    "from paper_utils import TradingSimulator, PerformanceEstimator\n",
    "from data_utils import safe_pickle_load"
   ]
  },
  {
   "cell_type": "markdown",
   "metadata": {
    "papermill": {
     "duration": 0.003224,
     "end_time": "2024-09-17T19:47:38.577706",
     "exception": false,
     "start_time": "2024-09-17T19:47:38.574482",
     "status": "completed"
    },
    "tags": []
   },
   "source": [
    "## Experiment Parameters"
   ]
  },
  {
   "cell_type": "code",
   "execution_count": null,
   "metadata": {
    "execution": {
     "iopub.execute_input": "2024-09-23T14:40:06.735872Z",
     "iopub.status.busy": "2024-09-23T14:40:06.735271Z",
     "iopub.status.idle": "2024-09-23T14:40:06.742604Z",
     "shell.execute_reply": "2024-09-23T14:40:06.741541Z",
     "shell.execute_reply.started": "2024-09-23T14:40:06.735837Z"
    },
    "papermill": {
     "duration": 0.014079,
     "end_time": "2024-09-17T19:47:38.595230",
     "exception": false,
     "start_time": "2024-09-17T19:47:38.581151",
     "status": "completed"
    },
    "tags": [],
    "trusted": true
   },
   "outputs": [],
   "source": [
    "simulator = TradingSimulator()\n",
    "strategy = \"TDQN\"\n",
    "money=100000.\n",
    "stateLength = 30\n",
    "actionSpace = 2\n",
    "bounds = [1, 30]\n",
    "step = 2\n",
    "N_EPISODES = 50\n",
    "startingDate = '2012-01-01'\n",
    "endingDate = '2020-01-01'\n",
    "splitingDate = '2018-01-01'\n",
    "percentageCosts = [0, 0.1, 0.2]\n",
    "transactionCosts = percentageCosts[1]/100\n",
    "\n",
    "STOCKS = {\n",
    "    'Meta' : 'META',\n",
    "    'Amazon' : 'AMZN',\n",
    "    'Google' : 'GOOGL',\n",
    "    'Microsoft' : 'MSFT',\n",
    "    'Tesla' : 'TSLA',\n",
    "    'Apple' : 'AAPL',\n",
    "}"
   ]
  },
  {
   "cell_type": "markdown",
   "metadata": {
    "papermill": {
     "duration": 0.003275,
     "end_time": "2024-09-17T19:47:38.601951",
     "exception": false,
     "start_time": "2024-09-17T19:47:38.598676",
     "status": "completed"
    },
    "tags": []
   },
   "source": [
    "# Run Experiments"
   ]
  },
  {
   "cell_type": "code",
   "execution_count": null,
   "metadata": {},
   "outputs": [],
   "source": [
    "N_EXPERIMENTS = 25\n",
    "STOCK_RESULTS = {}\n",
    "RL_OUTPUT_DIR = \"./papers/bm_experiment\""
   ]
  },
  {
   "cell_type": "code",
   "execution_count": null,
   "metadata": {
    "papermill": {
     "duration": 1174.827124,
     "end_time": "2024-09-17T20:07:13.439225",
     "exception": false,
     "start_time": "2024-09-17T19:47:38.612101",
     "status": "completed"
    },
    "tags": [],
    "trusted": true
   },
   "outputs": [],
   "source": [
    "for stock_name, stock in tqdm(STOCKS.items(), disable=True):\n",
    "    train_file = f'{RL_OUTPUT_DIR}/{stock}_bm_train_results.pkl'\n",
    "    test_file = f'{RL_OUTPUT_DIR}/{stock}_bm_test_results.pkl'\n",
    "    time_file = f'{RL_OUTPUT_DIR}/{stock}_bm_time_results.pkl'\n",
    "\n",
    "    # Check if results are already cached\n",
    "    if os.path.exists(train_file) and os.path.exists(test_file):\n",
    "        train_results = safe_pickle_load(train_file)\n",
    "        test_results = safe_pickle_load(test_file)\n",
    "        STOCK_RESULTS[stock] = (train_results, test_results)\n",
    "        continue  # Skip the experiment loop if cache exists\n",
    "\n",
    "    train_results = []\n",
    "    test_results = []\n",
    "    train_times = []\n",
    "    test_times = []\n",
    "    print(stock_name)\n",
    "    for i in tqdm(range(N_EXPERIMENTS), desc=\"Running test episodes...\", disable=True):\n",
    "        start_train_time = time.time()\n",
    "        strat, train_env, test_env = simulator.simulateNewStrategy(strategy,\n",
    "                                                                    stock_name,\n",
    "                                                                    startingDate=startingDate,\n",
    "                                                                    endingDate=endingDate,\n",
    "                                                                    splitingDate=splitingDate,\n",
    "                                                                    verbose=True,\n",
    "                                                                    plotTraining=False,\n",
    "                                                                    rendering=False,\n",
    "                                                                    showPerformance=False,\n",
    "                                                                    saveStrategy=False,\n",
    "                                                                    money=money,\n",
    "                                                                    observationSpace=observationSpace,\n",
    "                                                                    actionSpace=actionSpace,\n",
    "                                                                    stateLength=stateLength,\n",
    "                                                                    bounds=bounds,\n",
    "                                                                    step=step,\n",
    "                                                                    numberOfEpisodes=N_EPISODES,\n",
    "                                                                    transactionCosts=transactionCosts)\n",
    "        end_train_time = time.time()\n",
    "        train_times.append(end_train_time - start_train_time)\n",
    "\n",
    "        analyser = PerformanceEstimator(train_env.data)\n",
    "        train_perf = analyser.getComputedPerformance()\n",
    "        train_results.append(train_perf)\n",
    "\n",
    "        start_test_time = time.time()\n",
    "        analyser = PerformanceEstimator(test_env.data)\n",
    "        test_perf = analyser.getComputedPerformance()\n",
    "        test_results.append(test_perf)\n",
    "        end_test_time = time.time()\n",
    "        test_times.append(end_test_time - start_test_time)\n",
    "\n",
    "    avg_train_time = sum(train_times) / N_EXPERIMENTS\n",
    "    avg_test_time = sum(test_times) / N_EXPERIMENTS\n",
    "\n",
    "    time_results = {\n",
    "        'avg_train_time': avg_train_time,\n",
    "        'avg_test_time': avg_test_time\n",
    "    }\n",
    "\n",
    "    STOCK_RESULTS[stock] = (train_results, test_results, time_results)\n",
    "\n",
    "    with open(train_file, 'wb') as f:\n",
    "        pickle.dump(train_results, f)\n",
    "    with open(test_file, 'wb') as f:\n",
    "        pickle.dump(test_results, f)\n",
    "    with open(time_file, 'wb') as f:\n",
    "        pickle.dump(time_results, f)"
   ]
  },
  {
   "cell_type": "markdown",
   "metadata": {},
   "source": [
    "## Aggregate Results and T-Tests"
   ]
  },
  {
   "cell_type": "code",
   "execution_count": null,
   "metadata": {
    "execution": {
     "iopub.status.busy": "2024-09-23T14:42:37.644578Z",
     "iopub.status.idle": "2024-09-23T14:42:37.645075Z",
     "shell.execute_reply": "2024-09-23T14:42:37.644843Z",
     "shell.execute_reply.started": "2024-09-23T14:42:37.644817Z"
    },
    "trusted": true
   },
   "outputs": [],
   "source": [
    "final_summary_df = pd.DataFrame()\n",
    "sharpe_df = pd.read_csv(\"./papers/results.csv\")\n",
    "sharpe_df.set_index('Stock', inplace=True)\n",
    "\n",
    "for stock_name, stock in tqdm(STOCKS.items(), disable=False, desc=\"Testing stock workbench...\"):\n",
    "    print(stock_name)\n",
    "    test_results = safe_pickle_load(f'{RL_OUTPUT_DIR}/{stock}_bm_test_results.pkl')\n",
    "    time_results = safe_pickle_load(f'{RL_OUTPUT_DIR}/{stock}_bm_time_results.pkl')\n",
    "    metrics_data = {}\n",
    "    for df in test_results:\n",
    "        for _, row in df.iterrows():\n",
    "            metric = row['Metric']\n",
    "            value = row['Value']\n",
    "            if metric not in metrics_data:\n",
    "                metrics_data[metric] = []\n",
    "            metrics_data[metric].append(value)\n",
    "\n",
    "    stock_summary = {}\n",
    "\n",
    "    for metric, values in metrics_data.items():\n",
    "        data = pd.Series(values).fillna(0)\n",
    "        mean_val = round(data.mean(), 2)\n",
    "        std_val = round(data.std(), 2)\n",
    "\n",
    "        # TDQN only has Sharpe ratio! Paper reports only this.\n",
    "        if metric.lower() == \"sharpe ratio\":\n",
    "            tdqn_value = sharpe_df.loc[stock_name, 'TDQN'] if stock_name in sharpe_df.index else 0\n",
    "        else:\n",
    "            tdqn_value = 0\n",
    "\n",
    "        t_stat, p_value = stats.ttest_1samp(data, popmean=tdqn_value)\n",
    "        p_value = round(p_value, 2)\n",
    "\n",
    "        stock_summary[metric] = [mean_val, std_val, p_value]\n",
    "\n",
    "    stock_df = pd.DataFrame(stock_summary, index=[\"Mean\", \"+/-\", \"P-Value\"]).T\n",
    "    stock_df = stock_df.T.unstack().to_frame().T\n",
    "    stock_df.index = [stock]\n",
    "\n",
    "    stock_df['Avg Train Time (s)'] = time_results['avg_train_time']\n",
    "    stock_df['Avg Test Time (s)'] = time_results['avg_test_time']\n",
    "\n",
    "    if final_summary_df.empty:\n",
    "        final_summary_df = stock_df\n",
    "    else:\n",
    "        final_summary_df = pd.concat([final_summary_df, stock_df])\n",
    "\n",
    "final_summary_df.to_csv('final_summary.csv', index=True)\n",
    "pprint(final_summary_df.T)\n"
   ]
  }
 ],
 "metadata": {
  "kaggle": {
   "accelerator": "gpu",
   "dataSources": [
    {
     "sourceId": 201383824,
     "sourceType": "kernelVersion"
    }
   ],
   "isGpuEnabled": true,
   "isInternetEnabled": true,
   "language": "python",
   "sourceType": "notebook"
  },
  "kernelspec": {
   "display_name": "quant_drl",
   "language": "python",
   "name": "python3"
  },
  "language_info": {
   "codemirror_mode": {
    "name": "ipython",
    "version": 3
   },
   "file_extension": ".py",
   "mimetype": "text/x-python",
   "name": "python",
   "nbconvert_exporter": "python",
   "pygments_lexer": "ipython3",
   "version": "3.10.14"
  },
  "papermill": {
   "default_parameters": {},
   "duration": 1234.187031,
   "end_time": "2024-09-17T20:07:16.406924",
   "environment_variables": {},
   "exception": null,
   "input_path": "__notebook__.ipynb",
   "output_path": "__notebook__.ipynb",
   "parameters": {},
   "start_time": "2024-09-17T19:46:42.219893",
   "version": "2.6.0"
  }
 },
 "nbformat": 4,
 "nbformat_minor": 4
}
