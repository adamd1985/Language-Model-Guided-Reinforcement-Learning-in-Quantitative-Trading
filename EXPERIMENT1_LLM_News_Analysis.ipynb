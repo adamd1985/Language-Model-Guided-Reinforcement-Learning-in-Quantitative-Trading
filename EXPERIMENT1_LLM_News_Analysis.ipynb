{
 "cells": [
  {
   "cell_type": "markdown",
   "metadata": {},
   "source": [
    "# Experiment 1: Prompting for News Factors"
   ]
  },
  {
   "cell_type": "markdown",
   "metadata": {},
   "source": [
    "This notebook tests the prompts to generate the news factors and anonymize entities."
   ]
  },
  {
   "cell_type": "markdown",
   "metadata": {},
   "source": [
    "## Prepare Notebook"
   ]
  },
  {
   "cell_type": "code",
   "execution_count": null,
   "metadata": {},
   "outputs": [],
   "source": [
    "import os\n",
    "import sys\n",
    "import logging\n",
    "import warnings\n",
    "warnings.filterwarnings(\"ignore\")\n",
    "\n",
    "INSTALL_DEPS = True\n",
    "if INSTALL_DEPS:\n",
    "    %pip install openai==1.51.2\n",
    "\n",
    "%load_ext dotenv\n",
    "\n",
    "NEWS_PATH = os.getenv(\"NEWS_PATH\")\n",
    "HISTORIC_PATH = os.getenv(\"HISTORIC_PATH\")\n",
    "LLM_PROMPTS_PATH = os.getenv(\"LLM_PROMPTS_PATH\")\n",
    "LLM_OUTPUT_PATH = os.getenv(\"LLM_OUTPUT_PATH\")\n",
    "LOGS_PATH = os.getenv(\"LOGS_PATH\")\n",
    "paths = [LOGS_PATH, LLM_OUTPUT_PATH]\n",
    "for path in paths:\n",
    "    if path and not os.path.exists(path):\n",
    "        os.makedirs(path)\n",
    "\n",
    "if \"KAGGLE_KERNEL_RUN_TYPE\" in os.environ:\n",
    "    logging.info(\"Running in Kaggle...\")\n",
    "    for dirname, _, filenames in os.walk(\"/kaggle/input\"):\n",
    "        for filename in filenames:\n",
    "            print(os.path.join(dirname, filename))\n",
    "    DATA_PATH = \"/kaggle/input/drl-dataset-quant\"\n",
    "    sys.path.insert(1, \"/kaggle/usr/lib/drlutil\")"
   ]
  },
  {
   "cell_type": "code",
   "execution_count": null,
   "metadata": {
    "execution": {
     "iopub.execute_input": "2024-09-23T14:39:13.829574Z",
     "iopub.status.busy": "2024-09-23T14:39:13.829218Z",
     "iopub.status.idle": "2024-09-23T14:39:14.190909Z",
     "shell.execute_reply": "2024-09-23T14:39:14.189908Z",
     "shell.execute_reply.started": "2024-09-23T14:39:13.829533Z"
    },
    "papermill": {
     "duration": 0.761376,
     "end_time": "2024-09-17T19:46:45.797391",
     "exception": false,
     "start_time": "2024-09-17T19:46:45.036015",
     "status": "completed"
    },
    "tags": [],
    "trusted": true
   },
   "outputs": [],
   "source": [
    "import pandas as pd\n",
    "import numpy as np\n",
    "from datetime import datetime\n",
    "import matplotlib.pyplot as plt\n",
    "from tqdm.notebook import tqdm\n",
    "from openai import OpenAI\n",
    "\n",
    "module_path = os.path.abspath(os.path.join(os.getcwd(), 'utils'))\n",
    "if module_path not in sys.path:\n",
    "    sys.path.append(module_path)\n",
    "\n",
    "from data_utils import load_yaml_template, prepare_yaml_with_articles, call_openai_to_extract_news, combine_news_by_month, process_news_with_llm, TICKER_COMPANY_NAME_MAP"
   ]
  },
  {
   "cell_type": "markdown",
   "metadata": {},
   "source": [
    "## Environment and Constants"
   ]
  },
  {
   "cell_type": "code",
   "execution_count": null,
   "metadata": {},
   "outputs": [],
   "source": [
    "START_DATE = '20180528'\n",
    "END_DATE = '20180712'\n",
    "OPENAI_MODEL = os.getenv(\"OPENAI_MODEL\") # Best use a more rationale model like 4o or 1o.\n",
    "OPENAI_API_KEY = os.getenv(\"OPENAI_API_KEY\")"
   ]
  },
  {
   "cell_type": "markdown",
   "metadata": {},
   "source": [
    "# Initialize LLM"
   ]
  },
  {
   "cell_type": "code",
   "execution_count": null,
   "metadata": {},
   "outputs": [],
   "source": [
    "OPENAI_CLIENT = OpenAI(api_key=OPENAI_API_KEY)"
   ]
  },
  {
   "cell_type": "code",
   "execution_count": null,
   "metadata": {},
   "outputs": [],
   "source": [
    "PROMPT_YML = f'{LLM_PROMPTS_PATH}/news_analyst_prompt_v1.yml'\n",
    "TICKERS = [\"AAPL\", \"MSFT\", \"GOOGL\", \"TSLA\", \"AMZN\", \"META\"]\n",
    "TARGET = TICKERS[3]"
   ]
  },
  {
   "cell_type": "code",
   "execution_count": null,
   "metadata": {},
   "outputs": [],
   "source": [
    "grouped_news = pd.read_parquet(f'{NEWS_PATH}/{TARGET}_2012-01-01_2025-01-21.parquet')\n",
    "grouped_news['datetime'] = pd.to_datetime(grouped_news['datetime'], utc=True)\n",
    "\n",
    "sample_start_date = pd.to_datetime(START_DATE, format='%Y%m%d').tz_localize('UTC')\n",
    "sample_end_date = pd.to_datetime(END_DATE, format='%Y%m%d').tz_localize('UTC')\n",
    "\n",
    "grouped_news = grouped_news.set_index('datetime')\n",
    "grouped_news = grouped_news[(grouped_news.index >= sample_start_date) & (grouped_news.index < sample_end_date)]\n",
    "\n",
    "grouped_news.tail(1)\n"
   ]
  },
  {
   "cell_type": "markdown",
   "metadata": {},
   "source": [
    "# Get News and Summarize"
   ]
  },
  {
   "cell_type": "code",
   "execution_count": null,
   "metadata": {},
   "outputs": [],
   "source": [
    "test_news = [\"Stocks slipped into negative territory during early trading today, reversing some of yesterday's gains. Monday's rally raised questions about its sustainability, driven by an unusual combination: crude oil prices and shares of Apple Inc. (NASDAQ: AAPL). The day saw every major benchmark climb higher, with analysts debating the reasoning behind Berkshire Hathaway's recent investment in Apple—a sector Warren Buffett has historically avoided.\",\n",
    "             \"Buffett, known for his skepticism toward technology investments due to challenges in predicting future earnings, didn't personally make the over $1 billion bet on AAPL. Instead, his investment managers, Ted Weschler and Todd Combs, took the initiative, reportedly without requiring Buffett's direct approval.\",\n",
    "             \"Apple's CEO, Tim Cook, is preparing for the company's earnings call next week, scheduled for March 25, 2016, where updates on its performance and future product plans are expected. By this time, the iPhone 6 had already been released in 2014, with anticipation now shifting toward newer models and updates.\"]\n",
    "\n",
    "llm_response = call_openai_to_extract_news(articles=test_news, news_yml_file=PROMPT_YML, ticker='AAPL', target_name='Apple Inc.', date='2016-03', client=OPENAI_CLIENT, model=OPENAI_MODEL, LLM_OUTPUT_PATH=LLM_OUTPUT_PATH)\n",
    "llm_response"
   ]
  },
  {
   "cell_type": "code",
   "execution_count": null,
   "metadata": {},
   "outputs": [],
   "source": [
    "\n",
    "grouped_news = combine_news_by_month(grouped_news)\n"
   ]
  },
  {
   "cell_type": "code",
   "execution_count": null,
   "metadata": {},
   "outputs": [],
   "source": [
    "\n",
    "grouped_news.tail(3)"
   ]
  },
  {
   "cell_type": "code",
   "execution_count": null,
   "metadata": {},
   "outputs": [],
   "source": [
    "results = process_news_with_llm(grouped_news, ticker=TARGET, target_name='Apple Inc.', news_yml_file=PROMPT_YML, llm_client=OPENAI_CLIENT, llm_model=OPENAI_MODEL, LLM_OUTPUT_PATH=LLM_OUTPUT_PATH)\n",
    "results\n"
   ]
  },
  {
   "cell_type": "code",
   "execution_count": null,
   "metadata": {},
   "outputs": [],
   "source": [
    "for factor in results[0]['factors']:\n",
    "    print(factor)"
   ]
  },
  {
   "cell_type": "code",
   "execution_count": null,
   "metadata": {},
   "outputs": [],
   "source": [
    "START_DATE = '20120101'\n",
    "END_DATE = '20200101'\n",
    "\n",
    "output_file = f\"{HISTORIC_PATH}/engineered_{TARGET}_data.parquet\"\n",
    "stock_aug_data = pd.read_parquet(output_file)\n",
    "stock_aug_data['Date'] = pd.to_datetime(stock_aug_data['Date'], utc=True).dt.normalize()\n",
    "stock_aug_data.set_index('Date', inplace=True)\n",
    "stock_aug_data.tail(3)"
   ]
  },
  {
   "cell_type": "code",
   "execution_count": null,
   "metadata": {},
   "outputs": [],
   "source": [
    "from datetime import timedelta\n",
    "from itertools import chain\n",
    "import numpy as np\n",
    "\n",
    "def generate_monthly_news_factors(ticker_df, ticker, LLM_OUTPUT_PATH, news_yml_file, client, model, start_date, end_date):\n",
    "    start_date = pd.to_datetime(start_date, utc=True)\n",
    "    end_date = pd.to_datetime(end_date, utc=True)\n",
    "    filtered_ticker_df = ticker_df[(ticker_df.index >= start_date) & (ticker_df.index <= end_date)].copy()\n",
    "    filtered_ticker_df['news_factor_file'] = np.nan\n",
    "    current_month = None\n",
    "\n",
    "    for date, _ in tqdm(filtered_ticker_df.iterrows(), total=len(filtered_ticker_df), desc=\"Processing rows\"):\n",
    "        month = (date.year, date.month)\n",
    "\n",
    "        if current_month != month:\n",
    "            if current_month is not None:\n",
    "                last_5_days = list(chain.from_iterable(\n",
    "                    content for content in filtered_ticker_df.loc[:date].iloc[-5:]['content'].dropna().tolist()\n",
    "                ))\n",
    "                if last_5_days:\n",
    "                    call_openai_to_extract_news(\n",
    "                        articles=last_5_days[:min(35, len(last_5_days))],\n",
    "                        news_yml_file=news_yml_file,\n",
    "                        ticker=ticker,\n",
    "                        target_name=ticker,\n",
    "                        date=f\"{current_month[0]}-{current_month[1]:02d}\",\n",
    "                        client=client,\n",
    "                        model=model,\n",
    "                        LLM_OUTPUT_PATH=LLM_OUTPUT_PATH\n",
    "                    )\n",
    "                    factors_file = f'{date}_news.yml'\n",
    "                    filtered_ticker_df.loc[date:, 'news_factor_file'] = factors_file\n",
    "                    filtered_ticker_df['news_factor_file'] = filtered_ticker_df['news_factor_file'].bfill().ffill()\n",
    "            current_month = month\n",
    "    return filtered_ticker_df\n",
    "\n",
    "\n",
    "processed_data = generate_monthly_news_factors(ticker_df=stock_aug_data.copy(),\n",
    "                                                ticker=TARGET,\n",
    "                                                news_yml_file=PROMPT_YML,\n",
    "                                                client=OPENAI_CLIENT,\n",
    "                                                model=OPENAI_MODEL,\n",
    "                                                LLM_OUTPUT_PATH=LLM_OUTPUT_PATH,\n",
    "                                                start_date=START_DATE,\n",
    "                                                end_date=END_DATE)\n",
    "processed_data.tail(3)"
   ]
  }
 ],
 "metadata": {
  "kaggle": {
   "accelerator": "gpu",
   "dataSources": [
    {
     "datasetId": 5722911,
     "sourceId": 9421991,
     "sourceType": "datasetVersion"
    },
    {
     "sourceId": 197612253,
     "sourceType": "kernelVersion"
    }
   ],
   "dockerImageVersionId": 30762,
   "isGpuEnabled": true,
   "isInternetEnabled": true,
   "language": "python",
   "sourceType": "notebook"
  },
  "kernelspec": {
   "display_name": "quant_drl",
   "language": "python",
   "name": "python3"
  },
  "language_info": {
   "codemirror_mode": {
    "name": "ipython",
    "version": 3
   },
   "file_extension": ".py",
   "mimetype": "text/x-python",
   "name": "python",
   "nbconvert_exporter": "python",
   "pygments_lexer": "ipython3",
   "version": "3.10.14"
  },
  "papermill": {
   "default_parameters": {},
   "duration": 1234.187031,
   "end_time": "2024-09-17T20:07:16.406924",
   "environment_variables": {},
   "exception": null,
   "input_path": "__notebook__.ipynb",
   "output_path": "__notebook__.ipynb",
   "parameters": {},
   "start_time": "2024-09-17T19:46:42.219893",
   "version": "2.6.0"
  }
 },
 "nbformat": 4,
 "nbformat_minor": 4
}
