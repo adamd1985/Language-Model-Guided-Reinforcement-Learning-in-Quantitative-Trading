{
 "cells": [
  {
   "cell_type": "markdown",
   "metadata": {},
   "source": [
    "# Experiment - Prompting OpenAI API"
   ]
  },
  {
   "cell_type": "markdown",
   "metadata": {},
   "source": [
    "## Prepare Notebook"
   ]
  },
  {
   "cell_type": "code",
   "execution_count": 1,
   "metadata": {},
   "outputs": [],
   "source": [
    "import os\n",
    "import re\n",
    "import sys\n",
    "import logging\n",
    "import warnings\n",
    "from tqdm.notebook import tqdm\n",
    "warnings.filterwarnings(\"ignore\")\n",
    "\n",
    "if False:\n",
    "    %pip install yfinance==0.2.43\n",
    "    %pip install openai==1.51.2\n",
    "\n",
    "%load_ext dotenv\n",
    "\n",
    "FUNDAMENTALS_PATH = os.getenv(\"FUNDAMENTALS_PATH\")\n",
    "LLM_PROMPTS_PATH = os.getenv(\"LLM_PROMPTS_PATH\")\n",
    "FUNDAMENTALS_PATH = os.getenv(\"FUNDAMENTALS_PATH\")\n",
    "HISTORIC_PATH = os.getenv(\"HISTORIC_PATH\")\n",
    "MACRO_PATH = os.getenv(\"MACRO_PATH\")\n",
    "US_ECON_PATH = f\"{MACRO_PATH}/us\"\n",
    "OPTIONS_PATH = os.getenv(\"OPTIONS_PATH\")\n",
    "LOGS_PATH = os.getenv(\"LOGS_PATH\")\n",
    "NEWS_PATH = os.getenv(\"NEWS_PATH\")\n",
    "paths = [LOGS_PATH]\n",
    "for path in paths:\n",
    "    if path and not os.path.exists(path):\n",
    "        os.makedirs(path)\n",
    "\n",
    "module_path = os.path.abspath(os.path.join(os.getcwd(), 'utils'))\n",
    "if module_path not in sys.path:\n",
    "    sys.path.append(module_path)\n",
    "\n",
    "if \"KAGGLE_KERNEL_RUN_TYPE\" in os.environ:\n",
    "    logging.info(\"Running in Kaggle...\")\n",
    "    for dirname, _, filenames in os.walk(\"/kaggle/input\"):\n",
    "        for filename in filenames:\n",
    "            print(os.path.join(dirname, filename))\n",
    "    DATA_PATH = \"/kaggle/input/drl-dataset-quant\"\n",
    "    FUNDAMENTALS_PATH = DATA_PATH + FUNDAMENTALS_PATH\n",
    "    HISTORIC_PATH = DATA_PATH + HISTORIC_PATH\n",
    "    MACRO_PATH = DATA_PATH + MACRO_PATH\n",
    "    OPTIONS_PATH = DATA_PATH + OPTIONS_PATH\n",
    "    NEWS_PATH = DATA_PATH + NEWS_PATH\n",
    "    sys.path.insert(1, \"/kaggle/usr/lib/utils\")"
   ]
  },
  {
   "cell_type": "code",
   "execution_count": 2,
   "metadata": {
    "execution": {
     "iopub.execute_input": "2024-09-23T14:39:13.829574Z",
     "iopub.status.busy": "2024-09-23T14:39:13.829218Z",
     "iopub.status.idle": "2024-09-23T14:39:14.190909Z",
     "shell.execute_reply": "2024-09-23T14:39:14.189908Z",
     "shell.execute_reply.started": "2024-09-23T14:39:13.829533Z"
    },
    "papermill": {
     "duration": 0.761376,
     "end_time": "2024-09-17T19:46:45.797391",
     "exception": false,
     "start_time": "2024-09-17T19:46:45.036015",
     "status": "completed"
    },
    "tags": [],
    "trusted": true
   },
   "outputs": [],
   "source": [
    "import pandas as pd\n",
    "import numpy as np\n",
    "import polars as pl\n",
    "from datetime import datetime, timedelta\n",
    "import matplotlib.pyplot as plt\n",
    "from tqdm.notebook import tqdm\n",
    "\n",
    "from data_utils import get_fundamentals, get_historic, get_macro_data, feature_engineer, get_historic_optionschain_summary, get_economic_indicators"
   ]
  },
  {
   "cell_type": "markdown",
   "metadata": {},
   "source": [
    "## Environment and Constants"
   ]
  },
  {
   "cell_type": "code",
   "execution_count": 3,
   "metadata": {},
   "outputs": [],
   "source": [
    "START_DATE = '20120101'\n",
    "END_DATE = '20200101'\n",
    "TARGET = 'META'"
   ]
  },
  {
   "cell_type": "markdown",
   "metadata": {},
   "source": [
    "# Data Wrangling"
   ]
  },
  {
   "cell_type": "markdown",
   "metadata": {},
   "source": [
    "### Fundamental Data\n",
    "\n",
    "Scraped from the SEC and Macro Trends."
   ]
  },
  {
   "cell_type": "code",
   "execution_count": 4,
   "metadata": {},
   "outputs": [
    {
     "data": {
      "application/vnd.microsoft.datawrangler.viewer.v0+json": {
       "columns": [
        {
         "name": "Date",
         "rawType": "datetime64[ns, UTC]",
         "type": "unknown"
        },
        {
         "name": "Net Income",
         "rawType": "float64",
         "type": "float"
        },
        {
         "name": "Invested Capital",
         "rawType": "float64",
         "type": "float"
        },
        {
         "name": "Return on Investment",
         "rawType": "float64",
         "type": "float"
        },
        {
         "name": "Current Ratio",
         "rawType": "float64",
         "type": "float"
        },
        {
         "name": "Long-term Debt / Capital",
         "rawType": "float64",
         "type": "float"
        },
        {
         "name": "Gross Margin",
         "rawType": "float64",
         "type": "float"
        },
        {
         "name": "Operating Margin",
         "rawType": "float64",
         "type": "float"
        },
        {
         "name": "EBIT Margin",
         "rawType": "float64",
         "type": "float"
        },
        {
         "name": "EBITDA Margin",
         "rawType": "float64",
         "type": "float"
        },
        {
         "name": "Pre-Tax Profit Margin",
         "rawType": "float64",
         "type": "float"
        },
        {
         "name": "Net Profit Margin",
         "rawType": "float64",
         "type": "float"
        },
        {
         "name": "Asset Turnover",
         "rawType": "float64",
         "type": "float"
        },
        {
         "name": "Inventory Turnover Ratio",
         "rawType": "float64",
         "type": "float"
        },
        {
         "name": "Days Sales In Receivables",
         "rawType": "float64",
         "type": "float"
        },
        {
         "name": "Book Value Per Share",
         "rawType": "float64",
         "type": "float"
        },
        {
         "name": "Operating Cash Flow Per Share",
         "rawType": "float64",
         "type": "float"
        },
        {
         "name": "Free Cash Flow Per Share",
         "rawType": "float64",
         "type": "float"
        },
        {
         "name": "Stock Price",
         "rawType": "float64",
         "type": "float"
        },
        {
         "name": "Book Value per Share",
         "rawType": "float64",
         "type": "float"
        },
        {
         "name": "Price to Book Ratio",
         "rawType": "float64",
         "type": "float"
        },
        {
         "name": "EPS",
         "rawType": "float64",
         "type": "float"
        },
        {
         "name": "TTM FCF per Share",
         "rawType": "float64",
         "type": "float"
        },
        {
         "name": "Price to FCF Ratio",
         "rawType": "float64",
         "type": "float"
        },
        {
         "name": "Total Assets",
         "rawType": "float64",
         "type": "float"
        },
        {
         "name": "Return on Assets",
         "rawType": "float64",
         "type": "float"
        },
        {
         "name": "Current Assets",
         "rawType": "float64",
         "type": "float"
        },
        {
         "name": "Current Liabilities",
         "rawType": "float64",
         "type": "float"
        },
        {
         "name": "TTM Sales per Share",
         "rawType": "float64",
         "type": "float"
        },
        {
         "name": "Price to Sales Ratio",
         "rawType": "float64",
         "type": "float"
        },
        {
         "name": "Long Term Debt",
         "rawType": "float64",
         "type": "float"
        },
        {
         "name": "Shareholder's Equity",
         "rawType": "float64",
         "type": "float"
        },
        {
         "name": "Debt to Equity Ratio",
         "rawType": "float64",
         "type": "float"
        },
        {
         "name": "TTM Net EPS",
         "rawType": "float64",
         "type": "float"
        },
        {
         "name": "PE Ratio",
         "rawType": "float64",
         "type": "float"
        },
        {
         "name": "Return on Equity",
         "rawType": "float64",
         "type": "float"
        },
        {
         "name": "Current Assets - Inventory",
         "rawType": "float64",
         "type": "float"
        },
        {
         "name": "Quick Ratio",
         "rawType": "float64",
         "type": "float"
        },
        {
         "name": "Quick Ratio_QoQ_Growth",
         "rawType": "float64",
         "type": "float"
        },
        {
         "name": "Quick Ratio_YoY_Growth",
         "rawType": "float64",
         "type": "float"
        },
        {
         "name": "Current Ratio_QoQ_Growth",
         "rawType": "float64",
         "type": "float"
        },
        {
         "name": "Current Ratio_YoY_Growth",
         "rawType": "float64",
         "type": "float"
        },
        {
         "name": "Debt to Equity Ratio_QoQ_Growth",
         "rawType": "float64",
         "type": "float"
        },
        {
         "name": "Debt to Equity Ratio_YoY_Growth",
         "rawType": "float64",
         "type": "float"
        },
        {
         "name": "Gross Margin_QoQ_Growth",
         "rawType": "float64",
         "type": "float"
        },
        {
         "name": "Gross Margin_YoY_Growth",
         "rawType": "float64",
         "type": "float"
        },
        {
         "name": "Operating Margin_QoQ_Growth",
         "rawType": "float64",
         "type": "float"
        },
        {
         "name": "Operating Margin_YoY_Growth",
         "rawType": "float64",
         "type": "float"
        },
        {
         "name": "EBIT Margin_QoQ_Growth",
         "rawType": "float64",
         "type": "float"
        },
        {
         "name": "EBIT Margin_YoY_Growth",
         "rawType": "float64",
         "type": "float"
        },
        {
         "name": "Net Profit Margin_QoQ_Growth",
         "rawType": "float64",
         "type": "float"
        },
        {
         "name": "Net Profit Margin_YoY_Growth",
         "rawType": "float64",
         "type": "float"
        },
        {
         "name": "Asset Turnover_QoQ_Growth",
         "rawType": "float64",
         "type": "float"
        },
        {
         "name": "Asset Turnover_YoY_Growth",
         "rawType": "float64",
         "type": "float"
        },
        {
         "name": "Inventory Turnover Ratio_QoQ_Growth",
         "rawType": "float64",
         "type": "float"
        },
        {
         "name": "Inventory Turnover Ratio_YoY_Growth",
         "rawType": "float64",
         "type": "float"
        },
        {
         "name": "Price to Book Ratio_QoQ_Growth",
         "rawType": "float64",
         "type": "float"
        },
        {
         "name": "Price to Book Ratio_YoY_Growth",
         "rawType": "float64",
         "type": "float"
        },
        {
         "name": "PE Ratio_QoQ_Growth",
         "rawType": "float64",
         "type": "float"
        },
        {
         "name": "PE Ratio_YoY_Growth",
         "rawType": "float64",
         "type": "float"
        },
        {
         "name": "EPS_QoQ_Growth",
         "rawType": "float64",
         "type": "float"
        },
        {
         "name": "EPS_YoY_Growth",
         "rawType": "float64",
         "type": "float"
        },
        {
         "name": "Net Income_QoQ_Growth",
         "rawType": "float64",
         "type": "float"
        },
        {
         "name": "Net Income_YoY_Growth",
         "rawType": "float64",
         "type": "float"
        },
        {
         "name": "Free Cash Flow Per Share_QoQ_Growth",
         "rawType": "float64",
         "type": "float"
        },
        {
         "name": "Free Cash Flow Per Share_YoY_Growth",
         "rawType": "float64",
         "type": "float"
        },
        {
         "name": "Operating Cash Flow Per Share_QoQ_Growth",
         "rawType": "float64",
         "type": "float"
        },
        {
         "name": "Operating Cash Flow Per Share_YoY_Growth",
         "rawType": "float64",
         "type": "float"
        },
        {
         "name": "Return on Equity_QoQ_Growth",
         "rawType": "float64",
         "type": "float"
        },
        {
         "name": "Return on Equity_YoY_Growth",
         "rawType": "float64",
         "type": "float"
        },
        {
         "name": "Return on Assets_QoQ_Growth",
         "rawType": "float64",
         "type": "float"
        },
        {
         "name": "Return on Assets_YoY_Growth",
         "rawType": "float64",
         "type": "float"
        }
       ],
       "conversionMethod": "pd.DataFrame",
       "ref": "75a0a3ef-e87f-4b87-a2ff-4013e8fcd525",
       "rows": [
        [
         "2010-12-31 00:00:00+00:00",
         "1030000000.0",
         "2410000000.0",
         "1.7131",
         "5.7738",
         "0.1451",
         "75.0253",
         "52.2796",
         "52.2796",
         "59.3212",
         "51.0638",
         "18.845",
         "0.6602",
         "0.0",
         "68.9691",
         "1.7678",
         "0.4369",
         "0.2417",
         "30.98",
         "6.21",
         "4.99",
         "0.0",
         "0.31",
         "82.93",
         "2990000000.0",
         "0.8107",
         "2250000000.0",
         "390000000.0",
         "2.37",
         "10.77",
         "830000000.0",
         "2160000000.0",
         "0.38",
         "0.02",
         "1275.18",
         "1.1212",
         "0.0",
         "0.0",
         "0.0",
         "0.0",
         "0.0",
         "0.0",
         "0.0",
         "0.0",
         "0.0",
         "0.0",
         "0.0",
         "0.0",
         "0.0",
         "0.0",
         "0.0",
         "0.0",
         "0.0",
         "0.0",
         "0.0",
         "0.0",
         "0.0",
         "0.0",
         "0.0",
         "0.0",
         "0.0",
         "0.0",
         "0.0",
         "0.0",
         "0.0",
         "0.0",
         "0.0",
         "0.0",
         "0.0",
         "0.0",
         "0.0",
         "0.0"
        ],
        [
         "2011-03-31 00:00:00+00:00",
         "1260000000.0",
         "2410000000.0",
         "2.0879",
         "5.1212",
         "0.0751",
         "76.8257",
         "47.3188",
         "47.3188",
         "56.0226",
         "45.675",
         "18.0005",
         "0.5862",
         "0.0",
         "53.8009",
         "3.6918",
         "0.5336",
         "0.3389",
         "30.98",
         "6.21",
         "4.99",
         "0.11",
         "0.31",
         "82.93",
         "0.0",
         "0.8883",
         "0.0",
         "390000000.0",
         "2.37",
         "10.77",
         "0.0",
         "2160000000.0",
         "0.0",
         "0.02",
         "1275.18",
         "1.2285",
         "0.0",
         "0.0",
         "0.0",
         "0.0",
         "-0.11302781530361282",
         "0.0",
         "-1.0",
         "0.0",
         "0.02399723826495857",
         "0.0",
         "-0.09488978492566888",
         "0.0",
         "-0.09488978492566888",
         "0.0",
         "-0.04481294773149377",
         "0.0",
         "-0.11208724628900327",
         "0.0",
         "0.0",
         "0.0",
         "0.0",
         "0.0",
         "0.0",
         "0.0",
         "0.0",
         "0.0",
         "0.22330097087378642",
         "0.0",
         "0.4021514273893255",
         "0.0",
         "0.22133211261158148",
         "0.0",
         "0.09570103460577949",
         "0.0",
         "0.09571974836560997",
         "0.0"
        ],
        [
         "2011-06-30 00:00:00+00:00",
         "1450000000.0",
         "2410000000.0",
         "2.4013",
         "5.1212",
         "0.0751",
         "76.8257",
         "47.3188",
         "47.3188",
         "56.0226",
         "45.675",
         "18.0005",
         "0.5862",
         "0.0",
         "53.8009",
         "3.6918",
         "0.5336",
         "0.3389",
         "30.98",
         "6.21",
         "4.99",
         "0.11",
         "0.31",
         "82.93",
         "0.0",
         "0.9284",
         "0.0",
         "390000000.0",
         "2.37",
         "10.77",
         "0.0",
         "2160000000.0",
         "0.0",
         "0.02",
         "1275.18",
         "1.284",
         "0.0",
         "0.0",
         "0.0",
         "0.0",
         "-0.11302781530361282",
         "0.0",
         "-1.0",
         "0.0",
         "0.02399723826495857",
         "0.0",
         "-0.09488978492566888",
         "0.0",
         "-0.09488978492566888",
         "0.0",
         "-0.04481294773149377",
         "0.0",
         "-0.11208724628900327",
         "0.0",
         "0.0",
         "0.0",
         "0.0",
         "0.0",
         "0.0",
         "0.0",
         "0.0",
         "0.0",
         "0.15079365079365079",
         "0.0",
         "0.4021514273893255",
         "0.0",
         "0.22133211261158148",
         "0.0",
         "0.045177045177045266",
         "0.0",
         "0.045142406844534536",
         "0.0"
        ]
       ],
       "shape": {
        "columns": 71,
        "rows": 3
       }
      },
      "text/html": [
       "<div>\n",
       "<style scoped>\n",
       "    .dataframe tbody tr th:only-of-type {\n",
       "        vertical-align: middle;\n",
       "    }\n",
       "\n",
       "    .dataframe tbody tr th {\n",
       "        vertical-align: top;\n",
       "    }\n",
       "\n",
       "    .dataframe thead th {\n",
       "        text-align: right;\n",
       "    }\n",
       "</style>\n",
       "<table border=\"1\" class=\"dataframe\">\n",
       "  <thead>\n",
       "    <tr style=\"text-align: right;\">\n",
       "      <th></th>\n",
       "      <th>Net Income</th>\n",
       "      <th>Invested Capital</th>\n",
       "      <th>Return on Investment</th>\n",
       "      <th>Current Ratio</th>\n",
       "      <th>Long-term Debt / Capital</th>\n",
       "      <th>Gross Margin</th>\n",
       "      <th>Operating Margin</th>\n",
       "      <th>EBIT Margin</th>\n",
       "      <th>EBITDA Margin</th>\n",
       "      <th>Pre-Tax Profit Margin</th>\n",
       "      <th>...</th>\n",
       "      <th>Net Income_QoQ_Growth</th>\n",
       "      <th>Net Income_YoY_Growth</th>\n",
       "      <th>Free Cash Flow Per Share_QoQ_Growth</th>\n",
       "      <th>Free Cash Flow Per Share_YoY_Growth</th>\n",
       "      <th>Operating Cash Flow Per Share_QoQ_Growth</th>\n",
       "      <th>Operating Cash Flow Per Share_YoY_Growth</th>\n",
       "      <th>Return on Equity_QoQ_Growth</th>\n",
       "      <th>Return on Equity_YoY_Growth</th>\n",
       "      <th>Return on Assets_QoQ_Growth</th>\n",
       "      <th>Return on Assets_YoY_Growth</th>\n",
       "    </tr>\n",
       "    <tr>\n",
       "      <th>Date</th>\n",
       "      <th></th>\n",
       "      <th></th>\n",
       "      <th></th>\n",
       "      <th></th>\n",
       "      <th></th>\n",
       "      <th></th>\n",
       "      <th></th>\n",
       "      <th></th>\n",
       "      <th></th>\n",
       "      <th></th>\n",
       "      <th></th>\n",
       "      <th></th>\n",
       "      <th></th>\n",
       "      <th></th>\n",
       "      <th></th>\n",
       "      <th></th>\n",
       "      <th></th>\n",
       "      <th></th>\n",
       "      <th></th>\n",
       "      <th></th>\n",
       "      <th></th>\n",
       "    </tr>\n",
       "  </thead>\n",
       "  <tbody>\n",
       "    <tr>\n",
       "      <th>2010-12-31 00:00:00+00:00</th>\n",
       "      <td>1.030000e+09</td>\n",
       "      <td>2.410000e+09</td>\n",
       "      <td>1.7131</td>\n",
       "      <td>5.7738</td>\n",
       "      <td>0.1451</td>\n",
       "      <td>75.0253</td>\n",
       "      <td>52.2796</td>\n",
       "      <td>52.2796</td>\n",
       "      <td>59.3212</td>\n",
       "      <td>51.0638</td>\n",
       "      <td>...</td>\n",
       "      <td>0.000000</td>\n",
       "      <td>0.0</td>\n",
       "      <td>0.000000</td>\n",
       "      <td>0.0</td>\n",
       "      <td>0.000000</td>\n",
       "      <td>0.0</td>\n",
       "      <td>0.000000</td>\n",
       "      <td>0.0</td>\n",
       "      <td>0.000000</td>\n",
       "      <td>0.0</td>\n",
       "    </tr>\n",
       "    <tr>\n",
       "      <th>2011-03-31 00:00:00+00:00</th>\n",
       "      <td>1.260000e+09</td>\n",
       "      <td>2.410000e+09</td>\n",
       "      <td>2.0879</td>\n",
       "      <td>5.1212</td>\n",
       "      <td>0.0751</td>\n",
       "      <td>76.8257</td>\n",
       "      <td>47.3188</td>\n",
       "      <td>47.3188</td>\n",
       "      <td>56.0226</td>\n",
       "      <td>45.6750</td>\n",
       "      <td>...</td>\n",
       "      <td>0.223301</td>\n",
       "      <td>0.0</td>\n",
       "      <td>0.402151</td>\n",
       "      <td>0.0</td>\n",
       "      <td>0.221332</td>\n",
       "      <td>0.0</td>\n",
       "      <td>0.095701</td>\n",
       "      <td>0.0</td>\n",
       "      <td>0.095720</td>\n",
       "      <td>0.0</td>\n",
       "    </tr>\n",
       "    <tr>\n",
       "      <th>2011-06-30 00:00:00+00:00</th>\n",
       "      <td>1.450000e+09</td>\n",
       "      <td>2.410000e+09</td>\n",
       "      <td>2.4013</td>\n",
       "      <td>5.1212</td>\n",
       "      <td>0.0751</td>\n",
       "      <td>76.8257</td>\n",
       "      <td>47.3188</td>\n",
       "      <td>47.3188</td>\n",
       "      <td>56.0226</td>\n",
       "      <td>45.6750</td>\n",
       "      <td>...</td>\n",
       "      <td>0.150794</td>\n",
       "      <td>0.0</td>\n",
       "      <td>0.402151</td>\n",
       "      <td>0.0</td>\n",
       "      <td>0.221332</td>\n",
       "      <td>0.0</td>\n",
       "      <td>0.045177</td>\n",
       "      <td>0.0</td>\n",
       "      <td>0.045142</td>\n",
       "      <td>0.0</td>\n",
       "    </tr>\n",
       "  </tbody>\n",
       "</table>\n",
       "<p>3 rows × 71 columns</p>\n",
       "</div>"
      ],
      "text/plain": [
       "                             Net Income  Invested Capital  \\\n",
       "Date                                                        \n",
       "2010-12-31 00:00:00+00:00  1.030000e+09      2.410000e+09   \n",
       "2011-03-31 00:00:00+00:00  1.260000e+09      2.410000e+09   \n",
       "2011-06-30 00:00:00+00:00  1.450000e+09      2.410000e+09   \n",
       "\n",
       "                           Return on Investment  Current Ratio  \\\n",
       "Date                                                             \n",
       "2010-12-31 00:00:00+00:00                1.7131         5.7738   \n",
       "2011-03-31 00:00:00+00:00                2.0879         5.1212   \n",
       "2011-06-30 00:00:00+00:00                2.4013         5.1212   \n",
       "\n",
       "                           Long-term Debt / Capital  Gross Margin  \\\n",
       "Date                                                                \n",
       "2010-12-31 00:00:00+00:00                    0.1451       75.0253   \n",
       "2011-03-31 00:00:00+00:00                    0.0751       76.8257   \n",
       "2011-06-30 00:00:00+00:00                    0.0751       76.8257   \n",
       "\n",
       "                           Operating Margin  EBIT Margin  EBITDA Margin  \\\n",
       "Date                                                                      \n",
       "2010-12-31 00:00:00+00:00           52.2796      52.2796        59.3212   \n",
       "2011-03-31 00:00:00+00:00           47.3188      47.3188        56.0226   \n",
       "2011-06-30 00:00:00+00:00           47.3188      47.3188        56.0226   \n",
       "\n",
       "                           Pre-Tax Profit Margin  ...  Net Income_QoQ_Growth  \\\n",
       "Date                                              ...                          \n",
       "2010-12-31 00:00:00+00:00                51.0638  ...               0.000000   \n",
       "2011-03-31 00:00:00+00:00                45.6750  ...               0.223301   \n",
       "2011-06-30 00:00:00+00:00                45.6750  ...               0.150794   \n",
       "\n",
       "                           Net Income_YoY_Growth  \\\n",
       "Date                                               \n",
       "2010-12-31 00:00:00+00:00                    0.0   \n",
       "2011-03-31 00:00:00+00:00                    0.0   \n",
       "2011-06-30 00:00:00+00:00                    0.0   \n",
       "\n",
       "                           Free Cash Flow Per Share_QoQ_Growth  \\\n",
       "Date                                                             \n",
       "2010-12-31 00:00:00+00:00                             0.000000   \n",
       "2011-03-31 00:00:00+00:00                             0.402151   \n",
       "2011-06-30 00:00:00+00:00                             0.402151   \n",
       "\n",
       "                           Free Cash Flow Per Share_YoY_Growth  \\\n",
       "Date                                                             \n",
       "2010-12-31 00:00:00+00:00                                  0.0   \n",
       "2011-03-31 00:00:00+00:00                                  0.0   \n",
       "2011-06-30 00:00:00+00:00                                  0.0   \n",
       "\n",
       "                           Operating Cash Flow Per Share_QoQ_Growth  \\\n",
       "Date                                                                  \n",
       "2010-12-31 00:00:00+00:00                                  0.000000   \n",
       "2011-03-31 00:00:00+00:00                                  0.221332   \n",
       "2011-06-30 00:00:00+00:00                                  0.221332   \n",
       "\n",
       "                           Operating Cash Flow Per Share_YoY_Growth  \\\n",
       "Date                                                                  \n",
       "2010-12-31 00:00:00+00:00                                       0.0   \n",
       "2011-03-31 00:00:00+00:00                                       0.0   \n",
       "2011-06-30 00:00:00+00:00                                       0.0   \n",
       "\n",
       "                           Return on Equity_QoQ_Growth  \\\n",
       "Date                                                     \n",
       "2010-12-31 00:00:00+00:00                     0.000000   \n",
       "2011-03-31 00:00:00+00:00                     0.095701   \n",
       "2011-06-30 00:00:00+00:00                     0.045177   \n",
       "\n",
       "                           Return on Equity_YoY_Growth  \\\n",
       "Date                                                     \n",
       "2010-12-31 00:00:00+00:00                          0.0   \n",
       "2011-03-31 00:00:00+00:00                          0.0   \n",
       "2011-06-30 00:00:00+00:00                          0.0   \n",
       "\n",
       "                           Return on Assets_QoQ_Growth  \\\n",
       "Date                                                     \n",
       "2010-12-31 00:00:00+00:00                     0.000000   \n",
       "2011-03-31 00:00:00+00:00                     0.095720   \n",
       "2011-06-30 00:00:00+00:00                     0.045142   \n",
       "\n",
       "                           Return on Assets_YoY_Growth  \n",
       "Date                                                    \n",
       "2010-12-31 00:00:00+00:00                          0.0  \n",
       "2011-03-31 00:00:00+00:00                          0.0  \n",
       "2011-06-30 00:00:00+00:00                          0.0  \n",
       "\n",
       "[3 rows x 71 columns]"
      ]
     },
     "execution_count": 4,
     "metadata": {},
     "output_type": "execute_result"
    }
   ],
   "source": [
    "fundamentals = get_fundamentals(TARGET, FUNDAMENTALS_PATH)\n",
    "if fundamentals.isna().any().any():\n",
    "    raise ValueError(f\"Missing values detected in fundamentals data for {TARGET}. Fix the data before saving.\")\n",
    "fundamentals.head(3)\n"
   ]
  },
  {
   "cell_type": "markdown",
   "metadata": {},
   "source": [
    "### Historic Price\n",
    "\n",
    "Procured from IBKR API."
   ]
  },
  {
   "cell_type": "code",
   "execution_count": 5,
   "metadata": {},
   "outputs": [
    {
     "data": {
      "application/vnd.microsoft.datawrangler.viewer.v0+json": {
       "columns": [
        {
         "name": "Date",
         "rawType": "datetime64[ns, UTC]",
         "type": "unknown"
        },
        {
         "name": "Open",
         "rawType": "float64",
         "type": "float"
        },
        {
         "name": "High",
         "rawType": "float64",
         "type": "float"
        },
        {
         "name": "Low",
         "rawType": "float64",
         "type": "float"
        },
        {
         "name": "Close",
         "rawType": "float64",
         "type": "float"
        },
        {
         "name": "Volume",
         "rawType": "int64",
         "type": "integer"
        },
        {
         "name": "Average",
         "rawType": "int64",
         "type": "integer"
        },
        {
         "name": "Barcount",
         "rawType": "float64",
         "type": "float"
        },
        {
         "name": "IV_Open",
         "rawType": "float64",
         "type": "float"
        },
        {
         "name": "IV_High",
         "rawType": "float64",
         "type": "float"
        },
        {
         "name": "IV_Low",
         "rawType": "float64",
         "type": "float"
        },
        {
         "name": "IV_Close",
         "rawType": "float64",
         "type": "float"
        },
        {
         "name": "IV_Volume",
         "rawType": "float64",
         "type": "float"
        },
        {
         "name": "IV_Average",
         "rawType": "float64",
         "type": "float"
        },
        {
         "name": "IV_Barcount",
         "rawType": "float64",
         "type": "float"
        },
        {
         "name": "HV_Open",
         "rawType": "float64",
         "type": "float"
        },
        {
         "name": "HV_High",
         "rawType": "float64",
         "type": "float"
        },
        {
         "name": "HV_Low",
         "rawType": "float64",
         "type": "float"
        },
        {
         "name": "HV_Close",
         "rawType": "float64",
         "type": "float"
        },
        {
         "name": "HV_Volume",
         "rawType": "float64",
         "type": "float"
        },
        {
         "name": "HV_Average",
         "rawType": "float64",
         "type": "float"
        },
        {
         "name": "HV_Barcount",
         "rawType": "float64",
         "type": "float"
        },
        {
         "name": "Ticker",
         "rawType": "object",
         "type": "string"
        }
       ],
       "conversionMethod": "pd.DataFrame",
       "ref": "d3e08145-6d21-4365-98da-4f9a407900c6",
       "rows": [
        [
         "2024-12-18 00:00:00+00:00",
         "620.91",
         "627.27",
         "596.38",
         "597.19",
         "1490586",
         "9926",
         "614.236",
         "0.30094892",
         "0.33741266",
         "0.29380539",
         "0.33741266",
         "1.0",
         "0.0",
         "0.3374126647000672",
         "0.27724828",
         "0.27724828",
         "0.27724828",
         "0.27724828",
         "1.0",
         "0.0",
         "0.2772482798864585",
         "META"
        ],
        [
         "2024-12-19 00:00:00+00:00",
         "610.2",
         "611.52",
         "595.0",
         "595.57",
         "1280265",
         "8615",
         "603.473",
         "0.34374659",
         "0.34722311",
         "0.32312561",
         "0.34246076",
         "1.0",
         "0.0",
         "0.3472231105614947",
         "0.27623231",
         "0.27623231",
         "0.27623231",
         "0.27623231",
         "1.0",
         "0.0",
         "0.2762323113830097",
         "META"
        ],
        [
         "2024-12-20 00:00:00+00:00",
         "590.04",
         "603.11",
         "584.0",
         "585.25",
         "4112358",
         "13407",
         "590.407",
         "0.35360466",
         "0.35916074",
         "0.30909254",
         "0.31423588",
         "1.0",
         "0.0",
         "0.3591607404770182",
         "0.28253449",
         "0.28253449",
         "0.28253449",
         "0.28253449",
         "1.0",
         "0.0",
         "0.2825344910059655",
         "META"
        ]
       ],
       "shape": {
        "columns": 22,
        "rows": 3
       }
      },
      "text/html": [
       "<div>\n",
       "<style scoped>\n",
       "    .dataframe tbody tr th:only-of-type {\n",
       "        vertical-align: middle;\n",
       "    }\n",
       "\n",
       "    .dataframe tbody tr th {\n",
       "        vertical-align: top;\n",
       "    }\n",
       "\n",
       "    .dataframe thead th {\n",
       "        text-align: right;\n",
       "    }\n",
       "</style>\n",
       "<table border=\"1\" class=\"dataframe\">\n",
       "  <thead>\n",
       "    <tr style=\"text-align: right;\">\n",
       "      <th></th>\n",
       "      <th>Open</th>\n",
       "      <th>High</th>\n",
       "      <th>Low</th>\n",
       "      <th>Close</th>\n",
       "      <th>Volume</th>\n",
       "      <th>Average</th>\n",
       "      <th>Barcount</th>\n",
       "      <th>IV_Open</th>\n",
       "      <th>IV_High</th>\n",
       "      <th>IV_Low</th>\n",
       "      <th>...</th>\n",
       "      <th>IV_Average</th>\n",
       "      <th>IV_Barcount</th>\n",
       "      <th>HV_Open</th>\n",
       "      <th>HV_High</th>\n",
       "      <th>HV_Low</th>\n",
       "      <th>HV_Close</th>\n",
       "      <th>HV_Volume</th>\n",
       "      <th>HV_Average</th>\n",
       "      <th>HV_Barcount</th>\n",
       "      <th>Ticker</th>\n",
       "    </tr>\n",
       "    <tr>\n",
       "      <th>Date</th>\n",
       "      <th></th>\n",
       "      <th></th>\n",
       "      <th></th>\n",
       "      <th></th>\n",
       "      <th></th>\n",
       "      <th></th>\n",
       "      <th></th>\n",
       "      <th></th>\n",
       "      <th></th>\n",
       "      <th></th>\n",
       "      <th></th>\n",
       "      <th></th>\n",
       "      <th></th>\n",
       "      <th></th>\n",
       "      <th></th>\n",
       "      <th></th>\n",
       "      <th></th>\n",
       "      <th></th>\n",
       "      <th></th>\n",
       "      <th></th>\n",
       "      <th></th>\n",
       "    </tr>\n",
       "  </thead>\n",
       "  <tbody>\n",
       "    <tr>\n",
       "      <th>2024-12-18 00:00:00+00:00</th>\n",
       "      <td>620.91</td>\n",
       "      <td>627.27</td>\n",
       "      <td>596.38</td>\n",
       "      <td>597.19</td>\n",
       "      <td>1490586</td>\n",
       "      <td>9926</td>\n",
       "      <td>614.236</td>\n",
       "      <td>0.300949</td>\n",
       "      <td>0.337413</td>\n",
       "      <td>0.293805</td>\n",
       "      <td>...</td>\n",
       "      <td>0.0</td>\n",
       "      <td>0.337413</td>\n",
       "      <td>0.277248</td>\n",
       "      <td>0.277248</td>\n",
       "      <td>0.277248</td>\n",
       "      <td>0.277248</td>\n",
       "      <td>1.0</td>\n",
       "      <td>0.0</td>\n",
       "      <td>0.277248</td>\n",
       "      <td>META</td>\n",
       "    </tr>\n",
       "    <tr>\n",
       "      <th>2024-12-19 00:00:00+00:00</th>\n",
       "      <td>610.20</td>\n",
       "      <td>611.52</td>\n",
       "      <td>595.00</td>\n",
       "      <td>595.57</td>\n",
       "      <td>1280265</td>\n",
       "      <td>8615</td>\n",
       "      <td>603.473</td>\n",
       "      <td>0.343747</td>\n",
       "      <td>0.347223</td>\n",
       "      <td>0.323126</td>\n",
       "      <td>...</td>\n",
       "      <td>0.0</td>\n",
       "      <td>0.347223</td>\n",
       "      <td>0.276232</td>\n",
       "      <td>0.276232</td>\n",
       "      <td>0.276232</td>\n",
       "      <td>0.276232</td>\n",
       "      <td>1.0</td>\n",
       "      <td>0.0</td>\n",
       "      <td>0.276232</td>\n",
       "      <td>META</td>\n",
       "    </tr>\n",
       "    <tr>\n",
       "      <th>2024-12-20 00:00:00+00:00</th>\n",
       "      <td>590.04</td>\n",
       "      <td>603.11</td>\n",
       "      <td>584.00</td>\n",
       "      <td>585.25</td>\n",
       "      <td>4112358</td>\n",
       "      <td>13407</td>\n",
       "      <td>590.407</td>\n",
       "      <td>0.353605</td>\n",
       "      <td>0.359161</td>\n",
       "      <td>0.309093</td>\n",
       "      <td>...</td>\n",
       "      <td>0.0</td>\n",
       "      <td>0.359161</td>\n",
       "      <td>0.282534</td>\n",
       "      <td>0.282534</td>\n",
       "      <td>0.282534</td>\n",
       "      <td>0.282534</td>\n",
       "      <td>1.0</td>\n",
       "      <td>0.0</td>\n",
       "      <td>0.282534</td>\n",
       "      <td>META</td>\n",
       "    </tr>\n",
       "  </tbody>\n",
       "</table>\n",
       "<p>3 rows × 22 columns</p>\n",
       "</div>"
      ],
      "text/plain": [
       "                             Open    High     Low   Close   Volume  Average  \\\n",
       "Date                                                                          \n",
       "2024-12-18 00:00:00+00:00  620.91  627.27  596.38  597.19  1490586     9926   \n",
       "2024-12-19 00:00:00+00:00  610.20  611.52  595.00  595.57  1280265     8615   \n",
       "2024-12-20 00:00:00+00:00  590.04  603.11  584.00  585.25  4112358    13407   \n",
       "\n",
       "                           Barcount   IV_Open   IV_High    IV_Low  ...  \\\n",
       "Date                                                               ...   \n",
       "2024-12-18 00:00:00+00:00   614.236  0.300949  0.337413  0.293805  ...   \n",
       "2024-12-19 00:00:00+00:00   603.473  0.343747  0.347223  0.323126  ...   \n",
       "2024-12-20 00:00:00+00:00   590.407  0.353605  0.359161  0.309093  ...   \n",
       "\n",
       "                           IV_Average  IV_Barcount   HV_Open   HV_High  \\\n",
       "Date                                                                     \n",
       "2024-12-18 00:00:00+00:00         0.0     0.337413  0.277248  0.277248   \n",
       "2024-12-19 00:00:00+00:00         0.0     0.347223  0.276232  0.276232   \n",
       "2024-12-20 00:00:00+00:00         0.0     0.359161  0.282534  0.282534   \n",
       "\n",
       "                             HV_Low  HV_Close  HV_Volume  HV_Average  \\\n",
       "Date                                                                   \n",
       "2024-12-18 00:00:00+00:00  0.277248  0.277248        1.0         0.0   \n",
       "2024-12-19 00:00:00+00:00  0.276232  0.276232        1.0         0.0   \n",
       "2024-12-20 00:00:00+00:00  0.282534  0.282534        1.0         0.0   \n",
       "\n",
       "                           HV_Barcount  Ticker  \n",
       "Date                                            \n",
       "2024-12-18 00:00:00+00:00     0.277248    META  \n",
       "2024-12-19 00:00:00+00:00     0.276232    META  \n",
       "2024-12-20 00:00:00+00:00     0.282534    META  \n",
       "\n",
       "[3 rows x 22 columns]"
      ]
     },
     "execution_count": 5,
     "metadata": {},
     "output_type": "execute_result"
    }
   ],
   "source": [
    "stock_data = get_historic(TARGET, HISTORIC_PATH)\n",
    "if stock_data.isna().any().any():\n",
    "    raise ValueError(f\"Missing values detected in stock_data for {TARGET}. Fix the data before saving.\")\n",
    "\n",
    "stock_data.tail(3)"
   ]
  },
  {
   "cell_type": "markdown",
   "metadata": {},
   "source": [
    "### Historic Economic Date\n",
    "\n",
    "Also procured from FRED, BLS, and ISM."
   ]
  },
  {
   "cell_type": "code",
   "execution_count": 6,
   "metadata": {},
   "outputs": [
    {
     "name": "stdout",
     "output_type": "stream",
     "text": [
      "Index(['PMI', 'PPI', 'Retail Sales', 'Employment', 'Yield_Curve',\n",
      "       'Treasury Yields', 'CPI', 'Consumer Confidence', 'Consumer_Confidence',\n",
      "       'Housing Starts', 'Housing_Starts', 'M2_Money_Supply', 'Retail_Sales',\n",
      "       'Treasury_Yields', 'GDP', 'Yield Curve', 'PMI_YoY', 'PPI_YoY',\n",
      "       'Retail Sales_YoY', 'Employment_YoY', 'Yield_Curve_YoY',\n",
      "       'Treasury Yields_YoY', 'CPI_YoY', 'Consumer Confidence_YoY',\n",
      "       'Consumer_Confidence_YoY', 'Housing Starts_YoY', 'Housing_Starts_YoY',\n",
      "       'M2_Money_Supply_YoY', 'Retail_Sales_YoY', 'Treasury_Yields_YoY',\n",
      "       'GDP_YoY', 'Yield Curve_YoY', 'PMI_QoQ', 'PPI_QoQ', 'Retail Sales_QoQ',\n",
      "       'Employment_QoQ', 'Yield_Curve_QoQ', 'Treasury Yields_QoQ', 'CPI_QoQ',\n",
      "       'Consumer Confidence_QoQ', 'Consumer_Confidence_QoQ',\n",
      "       'Housing Starts_QoQ', 'Housing_Starts_QoQ', 'M2_Money_Supply_QoQ',\n",
      "       'Retail_Sales_QoQ', 'Treasury_Yields_QoQ', 'GDP_QoQ',\n",
      "       'Yield Curve_QoQ'],\n",
      "      dtype='object')\n"
     ]
    },
    {
     "data": {
      "application/vnd.microsoft.datawrangler.viewer.v0+json": {
       "columns": [
        {
         "name": "Date",
         "rawType": "datetime64[ns, UTC]",
         "type": "unknown"
        },
        {
         "name": "PMI",
         "rawType": "float64",
         "type": "float"
        },
        {
         "name": "PPI",
         "rawType": "float64",
         "type": "float"
        },
        {
         "name": "Retail Sales",
         "rawType": "float64",
         "type": "float"
        },
        {
         "name": "Employment",
         "rawType": "float64",
         "type": "float"
        },
        {
         "name": "Yield_Curve",
         "rawType": "float64",
         "type": "float"
        },
        {
         "name": "Treasury Yields",
         "rawType": "float64",
         "type": "float"
        },
        {
         "name": "CPI",
         "rawType": "float64",
         "type": "float"
        },
        {
         "name": "Consumer Confidence",
         "rawType": "float64",
         "type": "float"
        },
        {
         "name": "Consumer_Confidence",
         "rawType": "float64",
         "type": "float"
        },
        {
         "name": "Housing Starts",
         "rawType": "float64",
         "type": "float"
        },
        {
         "name": "Housing_Starts",
         "rawType": "float64",
         "type": "float"
        },
        {
         "name": "M2_Money_Supply",
         "rawType": "float64",
         "type": "float"
        },
        {
         "name": "Retail_Sales",
         "rawType": "float64",
         "type": "float"
        },
        {
         "name": "Treasury_Yields",
         "rawType": "float64",
         "type": "float"
        },
        {
         "name": "GDP",
         "rawType": "float64",
         "type": "float"
        },
        {
         "name": "Yield Curve",
         "rawType": "float64",
         "type": "float"
        },
        {
         "name": "PMI_YoY",
         "rawType": "float64",
         "type": "float"
        },
        {
         "name": "PPI_YoY",
         "rawType": "float64",
         "type": "float"
        },
        {
         "name": "Retail Sales_YoY",
         "rawType": "float64",
         "type": "float"
        },
        {
         "name": "Employment_YoY",
         "rawType": "float64",
         "type": "float"
        },
        {
         "name": "Yield_Curve_YoY",
         "rawType": "float64",
         "type": "float"
        },
        {
         "name": "Treasury Yields_YoY",
         "rawType": "float64",
         "type": "float"
        },
        {
         "name": "CPI_YoY",
         "rawType": "float64",
         "type": "float"
        },
        {
         "name": "Consumer Confidence_YoY",
         "rawType": "float64",
         "type": "float"
        },
        {
         "name": "Consumer_Confidence_YoY",
         "rawType": "float64",
         "type": "float"
        },
        {
         "name": "Housing Starts_YoY",
         "rawType": "float64",
         "type": "float"
        },
        {
         "name": "Housing_Starts_YoY",
         "rawType": "float64",
         "type": "float"
        },
        {
         "name": "M2_Money_Supply_YoY",
         "rawType": "float64",
         "type": "float"
        },
        {
         "name": "Retail_Sales_YoY",
         "rawType": "float64",
         "type": "float"
        },
        {
         "name": "Treasury_Yields_YoY",
         "rawType": "float64",
         "type": "float"
        },
        {
         "name": "GDP_YoY",
         "rawType": "float64",
         "type": "float"
        },
        {
         "name": "Yield Curve_YoY",
         "rawType": "float64",
         "type": "float"
        },
        {
         "name": "PMI_QoQ",
         "rawType": "float64",
         "type": "float"
        },
        {
         "name": "PPI_QoQ",
         "rawType": "float64",
         "type": "float"
        },
        {
         "name": "Retail Sales_QoQ",
         "rawType": "float64",
         "type": "float"
        },
        {
         "name": "Employment_QoQ",
         "rawType": "float64",
         "type": "float"
        },
        {
         "name": "Yield_Curve_QoQ",
         "rawType": "float64",
         "type": "float"
        },
        {
         "name": "Treasury Yields_QoQ",
         "rawType": "float64",
         "type": "float"
        },
        {
         "name": "CPI_QoQ",
         "rawType": "float64",
         "type": "float"
        },
        {
         "name": "Consumer Confidence_QoQ",
         "rawType": "float64",
         "type": "float"
        },
        {
         "name": "Consumer_Confidence_QoQ",
         "rawType": "float64",
         "type": "float"
        },
        {
         "name": "Housing Starts_QoQ",
         "rawType": "float64",
         "type": "float"
        },
        {
         "name": "Housing_Starts_QoQ",
         "rawType": "float64",
         "type": "float"
        },
        {
         "name": "M2_Money_Supply_QoQ",
         "rawType": "float64",
         "type": "float"
        },
        {
         "name": "Retail_Sales_QoQ",
         "rawType": "float64",
         "type": "float"
        },
        {
         "name": "Treasury_Yields_QoQ",
         "rawType": "float64",
         "type": "float"
        },
        {
         "name": "GDP_QoQ",
         "rawType": "float64",
         "type": "float"
        },
        {
         "name": "Yield Curve_QoQ",
         "rawType": "float64",
         "type": "float"
        }
       ],
       "conversionMethod": "pd.DataFrame",
       "ref": "38d44a55-4171-4fa1-b375-c2f637cc4904",
       "rows": [
        [
         "2010-01-01 00:00:00+00:00",
         "52.9",
         "181.9",
         "314557.0",
         "129795.0",
         "2.81",
         "3.73",
         "217.488",
         "98.50824",
         "98.50824",
         "614.0",
         "614.0",
         "8478.0",
         "314557.0",
         "3.73",
         "14764.61",
         "2.81",
         "-0.013232514177693666",
         "0.059373282023089446",
         "0.06685592754254399",
         "0.0080434531376401",
         "0.010676156583629748",
         "-0.09115281501340478",
         "0.017007834915029774",
         "0.0014271902533229408",
         "0.0014271902533229408",
         "0.026058631921824116",
         "0.026058631921824116",
         "0.043312101910828016",
         "0.06685592754254399",
         "-0.09115281501340478",
         "0.039746258113150246",
         "0.010676156583629748",
         "-0.026465028355387443",
         "0.013743815283122629",
         "0.1328089980512277",
         "0.0024654262490850787",
         "-0.03202846975088958",
         "0.03217158176943702",
         "-0.00039082616052388275",
         "0.00031977020399498457",
         "0.00031977020399498457",
         "0.11889250814332253",
         "0.11889250814332253",
         "0.009094125973106992",
         "0.1328089980512277",
         "0.03217158176943702",
         "0.014601333865235766",
         "-0.03202846975088958"
        ],
        [
         "2010-02-01 00:00:00+00:00",
         "52.9",
         "181.0",
         "310925.0",
         "129702.0",
         "2.8",
         "3.69",
         "217.281",
         "98.56321",
         "98.56321",
         "604.0",
         "604.0",
         "8527.6",
         "310925.0",
         "3.69",
         "14980.193",
         "2.8",
         "-0.013232514177693666",
         "0.059373282023089446",
         "0.06685592754254399",
         "0.0080434531376401",
         "0.010676156583629748",
         "-0.09115281501340478",
         "0.017007834915029774",
         "0.0014271902533229408",
         "0.0014271902533229408",
         "0.026058631921824116",
         "0.026058631921824116",
         "0.043312101910828016",
         "0.06685592754254399",
         "-0.09115281501340478",
         "0.039746258113150246",
         "0.010676156583629748",
         "-0.026465028355387443",
         "0.013743815283122629",
         "0.1328089980512277",
         "0.0024654262490850787",
         "-0.03202846975088958",
         "0.03217158176943702",
         "-0.00039082616052388275",
         "0.00031977020399498457",
         "0.00031977020399498457",
         "0.11889250814332253",
         "0.11889250814332253",
         "0.009094125973106992",
         "0.1328089980512277",
         "0.03217158176943702",
         "0.014601333865235766",
         "-0.03202846975088958"
        ],
        [
         "2010-03-01 00:00:00+00:00",
         "52.9",
         "183.3",
         "360679.0",
         "129865.0",
         "2.82",
         "3.73",
         "217.353",
         "98.56012",
         "98.56012",
         "636.0",
         "636.0",
         "8523.7",
         "360679.0",
         "3.73",
         "14980.193",
         "2.82",
         "-0.013232514177693666",
         "0.059373282023089446",
         "0.06685592754254399",
         "0.0080434531376401",
         "0.010676156583629748",
         "-0.09115281501340478",
         "0.017007834915029774",
         "0.0014271902533229408",
         "0.0014271902533229408",
         "0.026058631921824116",
         "0.026058631921824116",
         "0.043312101910828016",
         "0.06685592754254399",
         "-0.09115281501340478",
         "0.039746258113150246",
         "0.010676156583629748",
         "-0.026465028355387443",
         "0.013743815283122629",
         "0.1328089980512277",
         "0.0024654262490850787",
         "-0.03202846975088958",
         "0.03217158176943702",
         "-0.00039082616052388275",
         "0.00031977020399498457",
         "0.00031977020399498457",
         "0.11889250814332253",
         "0.11889250814332253",
         "0.009094125973106992",
         "0.1328089980512277",
         "0.03217158176943702",
         "0.014601333865235766",
         "-0.03202846975088958"
        ]
       ],
       "shape": {
        "columns": 48,
        "rows": 3
       }
      },
      "text/html": [
       "<div>\n",
       "<style scoped>\n",
       "    .dataframe tbody tr th:only-of-type {\n",
       "        vertical-align: middle;\n",
       "    }\n",
       "\n",
       "    .dataframe tbody tr th {\n",
       "        vertical-align: top;\n",
       "    }\n",
       "\n",
       "    .dataframe thead th {\n",
       "        text-align: right;\n",
       "    }\n",
       "</style>\n",
       "<table border=\"1\" class=\"dataframe\">\n",
       "  <thead>\n",
       "    <tr style=\"text-align: right;\">\n",
       "      <th></th>\n",
       "      <th>PMI</th>\n",
       "      <th>PPI</th>\n",
       "      <th>Retail Sales</th>\n",
       "      <th>Employment</th>\n",
       "      <th>Yield_Curve</th>\n",
       "      <th>Treasury Yields</th>\n",
       "      <th>CPI</th>\n",
       "      <th>Consumer Confidence</th>\n",
       "      <th>Consumer_Confidence</th>\n",
       "      <th>Housing Starts</th>\n",
       "      <th>...</th>\n",
       "      <th>CPI_QoQ</th>\n",
       "      <th>Consumer Confidence_QoQ</th>\n",
       "      <th>Consumer_Confidence_QoQ</th>\n",
       "      <th>Housing Starts_QoQ</th>\n",
       "      <th>Housing_Starts_QoQ</th>\n",
       "      <th>M2_Money_Supply_QoQ</th>\n",
       "      <th>Retail_Sales_QoQ</th>\n",
       "      <th>Treasury_Yields_QoQ</th>\n",
       "      <th>GDP_QoQ</th>\n",
       "      <th>Yield Curve_QoQ</th>\n",
       "    </tr>\n",
       "    <tr>\n",
       "      <th>Date</th>\n",
       "      <th></th>\n",
       "      <th></th>\n",
       "      <th></th>\n",
       "      <th></th>\n",
       "      <th></th>\n",
       "      <th></th>\n",
       "      <th></th>\n",
       "      <th></th>\n",
       "      <th></th>\n",
       "      <th></th>\n",
       "      <th></th>\n",
       "      <th></th>\n",
       "      <th></th>\n",
       "      <th></th>\n",
       "      <th></th>\n",
       "      <th></th>\n",
       "      <th></th>\n",
       "      <th></th>\n",
       "      <th></th>\n",
       "      <th></th>\n",
       "      <th></th>\n",
       "    </tr>\n",
       "  </thead>\n",
       "  <tbody>\n",
       "    <tr>\n",
       "      <th>2010-01-01 00:00:00+00:00</th>\n",
       "      <td>52.9</td>\n",
       "      <td>181.9</td>\n",
       "      <td>314557.0</td>\n",
       "      <td>129795.0</td>\n",
       "      <td>2.81</td>\n",
       "      <td>3.73</td>\n",
       "      <td>217.488</td>\n",
       "      <td>98.50824</td>\n",
       "      <td>98.50824</td>\n",
       "      <td>614.0</td>\n",
       "      <td>...</td>\n",
       "      <td>-0.000391</td>\n",
       "      <td>0.00032</td>\n",
       "      <td>0.00032</td>\n",
       "      <td>0.118893</td>\n",
       "      <td>0.118893</td>\n",
       "      <td>0.009094</td>\n",
       "      <td>0.132809</td>\n",
       "      <td>0.032172</td>\n",
       "      <td>0.014601</td>\n",
       "      <td>-0.032028</td>\n",
       "    </tr>\n",
       "    <tr>\n",
       "      <th>2010-02-01 00:00:00+00:00</th>\n",
       "      <td>52.9</td>\n",
       "      <td>181.0</td>\n",
       "      <td>310925.0</td>\n",
       "      <td>129702.0</td>\n",
       "      <td>2.80</td>\n",
       "      <td>3.69</td>\n",
       "      <td>217.281</td>\n",
       "      <td>98.56321</td>\n",
       "      <td>98.56321</td>\n",
       "      <td>604.0</td>\n",
       "      <td>...</td>\n",
       "      <td>-0.000391</td>\n",
       "      <td>0.00032</td>\n",
       "      <td>0.00032</td>\n",
       "      <td>0.118893</td>\n",
       "      <td>0.118893</td>\n",
       "      <td>0.009094</td>\n",
       "      <td>0.132809</td>\n",
       "      <td>0.032172</td>\n",
       "      <td>0.014601</td>\n",
       "      <td>-0.032028</td>\n",
       "    </tr>\n",
       "    <tr>\n",
       "      <th>2010-03-01 00:00:00+00:00</th>\n",
       "      <td>52.9</td>\n",
       "      <td>183.3</td>\n",
       "      <td>360679.0</td>\n",
       "      <td>129865.0</td>\n",
       "      <td>2.82</td>\n",
       "      <td>3.73</td>\n",
       "      <td>217.353</td>\n",
       "      <td>98.56012</td>\n",
       "      <td>98.56012</td>\n",
       "      <td>636.0</td>\n",
       "      <td>...</td>\n",
       "      <td>-0.000391</td>\n",
       "      <td>0.00032</td>\n",
       "      <td>0.00032</td>\n",
       "      <td>0.118893</td>\n",
       "      <td>0.118893</td>\n",
       "      <td>0.009094</td>\n",
       "      <td>0.132809</td>\n",
       "      <td>0.032172</td>\n",
       "      <td>0.014601</td>\n",
       "      <td>-0.032028</td>\n",
       "    </tr>\n",
       "  </tbody>\n",
       "</table>\n",
       "<p>3 rows × 48 columns</p>\n",
       "</div>"
      ],
      "text/plain": [
       "                            PMI    PPI  Retail Sales  Employment  Yield_Curve  \\\n",
       "Date                                                                            \n",
       "2010-01-01 00:00:00+00:00  52.9  181.9      314557.0    129795.0         2.81   \n",
       "2010-02-01 00:00:00+00:00  52.9  181.0      310925.0    129702.0         2.80   \n",
       "2010-03-01 00:00:00+00:00  52.9  183.3      360679.0    129865.0         2.82   \n",
       "\n",
       "                           Treasury Yields      CPI  Consumer Confidence  \\\n",
       "Date                                                                       \n",
       "2010-01-01 00:00:00+00:00             3.73  217.488             98.50824   \n",
       "2010-02-01 00:00:00+00:00             3.69  217.281             98.56321   \n",
       "2010-03-01 00:00:00+00:00             3.73  217.353             98.56012   \n",
       "\n",
       "                           Consumer_Confidence  Housing Starts  ...   CPI_QoQ  \\\n",
       "Date                                                            ...             \n",
       "2010-01-01 00:00:00+00:00             98.50824           614.0  ... -0.000391   \n",
       "2010-02-01 00:00:00+00:00             98.56321           604.0  ... -0.000391   \n",
       "2010-03-01 00:00:00+00:00             98.56012           636.0  ... -0.000391   \n",
       "\n",
       "                           Consumer Confidence_QoQ  Consumer_Confidence_QoQ  \\\n",
       "Date                                                                          \n",
       "2010-01-01 00:00:00+00:00                  0.00032                  0.00032   \n",
       "2010-02-01 00:00:00+00:00                  0.00032                  0.00032   \n",
       "2010-03-01 00:00:00+00:00                  0.00032                  0.00032   \n",
       "\n",
       "                           Housing Starts_QoQ  Housing_Starts_QoQ  \\\n",
       "Date                                                                \n",
       "2010-01-01 00:00:00+00:00            0.118893            0.118893   \n",
       "2010-02-01 00:00:00+00:00            0.118893            0.118893   \n",
       "2010-03-01 00:00:00+00:00            0.118893            0.118893   \n",
       "\n",
       "                           M2_Money_Supply_QoQ  Retail_Sales_QoQ  \\\n",
       "Date                                                               \n",
       "2010-01-01 00:00:00+00:00             0.009094          0.132809   \n",
       "2010-02-01 00:00:00+00:00             0.009094          0.132809   \n",
       "2010-03-01 00:00:00+00:00             0.009094          0.132809   \n",
       "\n",
       "                           Treasury_Yields_QoQ   GDP_QoQ  Yield Curve_QoQ  \n",
       "Date                                                                       \n",
       "2010-01-01 00:00:00+00:00             0.032172  0.014601        -0.032028  \n",
       "2010-02-01 00:00:00+00:00             0.032172  0.014601        -0.032028  \n",
       "2010-03-01 00:00:00+00:00             0.032172  0.014601        -0.032028  \n",
       "\n",
       "[3 rows x 48 columns]"
      ]
     },
     "execution_count": 6,
     "metadata": {},
     "output_type": "execute_result"
    }
   ],
   "source": [
    "econ_df = get_economic_indicators(US_ECON_PATH)\n",
    "print(econ_df.columns)\n",
    "econ_df.head(3)\n"
   ]
  },
  {
   "cell_type": "markdown",
   "metadata": {},
   "source": [
    "### Historic Macro Indices\n",
    "\n",
    "Also procured from IBKR API, FRED, BLS, and ISM."
   ]
  },
  {
   "cell_type": "code",
   "execution_count": 7,
   "metadata": {},
   "outputs": [
    {
     "data": {
      "application/vnd.microsoft.datawrangler.viewer.v0+json": {
       "columns": [
        {
         "name": "Date",
         "rawType": "datetime64[ns, UTC]",
         "type": "unknown"
        },
        {
         "name": "SPX_Open",
         "rawType": "float64",
         "type": "float"
        },
        {
         "name": "SPX_High",
         "rawType": "float64",
         "type": "float"
        },
        {
         "name": "SPX_Low",
         "rawType": "float64",
         "type": "float"
        },
        {
         "name": "SPX_Close",
         "rawType": "float64",
         "type": "float"
        },
        {
         "name": "SPX_Volume",
         "rawType": "float64",
         "type": "float"
        },
        {
         "name": "SPX_Average",
         "rawType": "float64",
         "type": "float"
        },
        {
         "name": "SPX_Barcount",
         "rawType": "float64",
         "type": "float"
        },
        {
         "name": "SPX_IV_Open",
         "rawType": "float64",
         "type": "float"
        },
        {
         "name": "SPX_IV_High",
         "rawType": "float64",
         "type": "float"
        },
        {
         "name": "SPX_IV_Low",
         "rawType": "float64",
         "type": "float"
        },
        {
         "name": "SPX_IV_Close",
         "rawType": "float64",
         "type": "float"
        },
        {
         "name": "SPX_IV_Volume",
         "rawType": "float64",
         "type": "float"
        },
        {
         "name": "SPX_IV_Average",
         "rawType": "float64",
         "type": "float"
        },
        {
         "name": "SPX_IV_Barcount",
         "rawType": "float64",
         "type": "float"
        },
        {
         "name": "SPX_HV_Open",
         "rawType": "float64",
         "type": "float"
        },
        {
         "name": "SPX_HV_High",
         "rawType": "float64",
         "type": "float"
        },
        {
         "name": "SPX_HV_Low",
         "rawType": "float64",
         "type": "float"
        },
        {
         "name": "SPX_HV_Close",
         "rawType": "float64",
         "type": "float"
        },
        {
         "name": "SPX_HV_Volume",
         "rawType": "float64",
         "type": "float"
        },
        {
         "name": "SPX_HV_Average",
         "rawType": "float64",
         "type": "float"
        },
        {
         "name": "SPX_HV_Barcount",
         "rawType": "float64",
         "type": "float"
        },
        {
         "name": "NDX_Open",
         "rawType": "float64",
         "type": "float"
        },
        {
         "name": "NDX_High",
         "rawType": "float64",
         "type": "float"
        },
        {
         "name": "NDX_Low",
         "rawType": "float64",
         "type": "float"
        },
        {
         "name": "NDX_Close",
         "rawType": "float64",
         "type": "float"
        },
        {
         "name": "NDX_Volume",
         "rawType": "float64",
         "type": "float"
        },
        {
         "name": "NDX_Average",
         "rawType": "float64",
         "type": "float"
        },
        {
         "name": "NDX_Barcount",
         "rawType": "int64",
         "type": "integer"
        },
        {
         "name": "NDX_IV_Open",
         "rawType": "float64",
         "type": "float"
        },
        {
         "name": "NDX_IV_High",
         "rawType": "float64",
         "type": "float"
        },
        {
         "name": "NDX_IV_Low",
         "rawType": "float64",
         "type": "float"
        },
        {
         "name": "NDX_IV_Close",
         "rawType": "float64",
         "type": "float"
        },
        {
         "name": "NDX_IV_Volume",
         "rawType": "float64",
         "type": "float"
        },
        {
         "name": "NDX_IV_Average",
         "rawType": "float64",
         "type": "float"
        },
        {
         "name": "NDX_IV_Barcount",
         "rawType": "float64",
         "type": "float"
        },
        {
         "name": "NDX_HV_Open",
         "rawType": "float64",
         "type": "float"
        },
        {
         "name": "NDX_HV_High",
         "rawType": "float64",
         "type": "float"
        },
        {
         "name": "NDX_HV_Low",
         "rawType": "float64",
         "type": "float"
        },
        {
         "name": "NDX_HV_Close",
         "rawType": "float64",
         "type": "float"
        },
        {
         "name": "NDX_HV_Volume",
         "rawType": "float64",
         "type": "float"
        },
        {
         "name": "NDX_HV_Average",
         "rawType": "float64",
         "type": "float"
        },
        {
         "name": "NDX_HV_Barcount",
         "rawType": "float64",
         "type": "float"
        },
        {
         "name": "VIX_Open",
         "rawType": "float64",
         "type": "float"
        },
        {
         "name": "VIX_High",
         "rawType": "float64",
         "type": "float"
        },
        {
         "name": "VIX_Low",
         "rawType": "float64",
         "type": "float"
        },
        {
         "name": "VIX_Close",
         "rawType": "float64",
         "type": "float"
        },
        {
         "name": "VIX_Volume",
         "rawType": "float64",
         "type": "float"
        },
        {
         "name": "VIX_Average",
         "rawType": "float64",
         "type": "float"
        },
        {
         "name": "VIX_Barcount",
         "rawType": "float64",
         "type": "float"
        },
        {
         "name": "VIX_IV_Open",
         "rawType": "float64",
         "type": "float"
        },
        {
         "name": "VIX_IV_High",
         "rawType": "float64",
         "type": "float"
        },
        {
         "name": "VIX_IV_Low",
         "rawType": "float64",
         "type": "float"
        },
        {
         "name": "VIX_IV_Close",
         "rawType": "float64",
         "type": "float"
        },
        {
         "name": "VIX_IV_Volume",
         "rawType": "float64",
         "type": "float"
        },
        {
         "name": "VIX_IV_Average",
         "rawType": "float64",
         "type": "float"
        },
        {
         "name": "VIX_IV_Barcount",
         "rawType": "float64",
         "type": "float"
        },
        {
         "name": "VIX_HV_Open",
         "rawType": "float64",
         "type": "float"
        },
        {
         "name": "VIX_HV_High",
         "rawType": "float64",
         "type": "float"
        },
        {
         "name": "VIX_HV_Low",
         "rawType": "float64",
         "type": "float"
        },
        {
         "name": "VIX_HV_Close",
         "rawType": "float64",
         "type": "float"
        },
        {
         "name": "VIX_HV_Volume",
         "rawType": "float64",
         "type": "float"
        },
        {
         "name": "VIX_HV_Average",
         "rawType": "float64",
         "type": "float"
        },
        {
         "name": "VIX_HV_Barcount",
         "rawType": "float64",
         "type": "float"
        },
        {
         "name": "TNX_Open",
         "rawType": "float64",
         "type": "float"
        },
        {
         "name": "TNX_High",
         "rawType": "float64",
         "type": "float"
        },
        {
         "name": "TNX_Low",
         "rawType": "float64",
         "type": "float"
        },
        {
         "name": "TNX_Close",
         "rawType": "float64",
         "type": "float"
        },
        {
         "name": "TNX_Volume",
         "rawType": "float64",
         "type": "float"
        },
        {
         "name": "TNX_Average",
         "rawType": "float64",
         "type": "float"
        },
        {
         "name": "TNX_Barcount",
         "rawType": "float64",
         "type": "float"
        },
        {
         "name": "TNX_HV_Open",
         "rawType": "float64",
         "type": "float"
        },
        {
         "name": "TNX_HV_High",
         "rawType": "float64",
         "type": "float"
        },
        {
         "name": "TNX_HV_Low",
         "rawType": "float64",
         "type": "float"
        },
        {
         "name": "TNX_HV_Close",
         "rawType": "float64",
         "type": "float"
        },
        {
         "name": "TNX_HV_Volume",
         "rawType": "float64",
         "type": "float"
        },
        {
         "name": "TNX_HV_Average",
         "rawType": "float64",
         "type": "float"
        },
        {
         "name": "TNX_HV_Barcount",
         "rawType": "float64",
         "type": "float"
        },
        {
         "name": "IRX_Open",
         "rawType": "float64",
         "type": "float"
        },
        {
         "name": "IRX_High",
         "rawType": "float64",
         "type": "float"
        },
        {
         "name": "IRX_Low",
         "rawType": "float64",
         "type": "float"
        },
        {
         "name": "IRX_Close",
         "rawType": "float64",
         "type": "float"
        },
        {
         "name": "IRX_Volume",
         "rawType": "float64",
         "type": "float"
        },
        {
         "name": "IRX_Average",
         "rawType": "float64",
         "type": "float"
        },
        {
         "name": "IRX_Barcount",
         "rawType": "float64",
         "type": "float"
        },
        {
         "name": "IRX_HV_Open",
         "rawType": "float64",
         "type": "float"
        },
        {
         "name": "IRX_HV_High",
         "rawType": "float64",
         "type": "float"
        },
        {
         "name": "IRX_HV_Low",
         "rawType": "float64",
         "type": "float"
        },
        {
         "name": "IRX_HV_Close",
         "rawType": "float64",
         "type": "float"
        },
        {
         "name": "IRX_HV_Volume",
         "rawType": "float64",
         "type": "float"
        },
        {
         "name": "IRX_HV_Average",
         "rawType": "float64",
         "type": "float"
        },
        {
         "name": "IRX_HV_Barcount",
         "rawType": "float64",
         "type": "float"
        }
       ],
       "conversionMethod": "pd.DataFrame",
       "ref": "c1bc2942-9101-41ff-a71c-635337f09ddf",
       "rows": [
        [
         "2020-12-28 00:00:00+00:00",
         "3750.01",
         "3756.12",
         "3723.31",
         "3727.04",
         "0.0",
         "0.0",
         "21084.0",
         "0.16399954",
         "0.18168374",
         "0.16341218",
         "0.17814373",
         "1.0",
         "0.1816837425308054",
         "0.0",
         "0.10466063",
         "0.10466063",
         "0.10466063",
         "0.10466063",
         "1.0",
         "0.1046606303630931",
         "0.0",
         "12909.86",
         "12925.53",
         "12816.59",
         "12843.49",
         "0.0",
         "0.0",
         "22022",
         "0.2129724",
         "0.22878341",
         "0.21019436",
         "0.22454491",
         "1.0",
         "0.2287834073703773",
         "0.0",
         "0.14495013",
         "0.14495013",
         "0.14495013",
         "0.14495013",
         "1.0",
         "0.1449501313279847",
         "0.0",
         "21.61",
         "23.72",
         "20.99",
         "23.08",
         "0.0",
         "0.0",
         "1445.0",
         "1.08867375",
         "1.14785391",
         "1.08854675",
         "1.13861495",
         "1.0",
         "1.1478539148027505",
         "0.0",
         "1.10297668",
         "1.10297668",
         "1.10297668",
         "1.10297668",
         "1.0",
         "1.102976681064473",
         "0.0",
         "9.5",
         "9.5",
         "9.28",
         "9.35",
         "0.0",
         "0.0",
         "302.0",
         "0.52538271",
         "0.52538271",
         "0.52538271",
         "0.52538271",
         "1.0",
         "0.5253827123459622",
         "0.0",
         "0.9",
         "0.9",
         "0.9",
         "0.9",
         "0.0",
         "0.0",
         "1.0",
         "1.42395923",
         "1.42395923",
         "1.42395923",
         "1.42395923",
         "1.0",
         "1.423959230122829",
         "0.0"
        ],
        [
         "2020-12-29 00:00:00+00:00",
         "3736.19",
         "3744.63",
         "3730.21",
         "3732.04",
         "0.0",
         "0.0",
         "20553.0",
         "0.17549268",
         "0.1807789",
         "0.17234953",
         "0.1767309",
         "1.0",
         "0.1807788955824214",
         "0.0",
         "0.10410502",
         "0.10410502",
         "0.10410502",
         "0.10410502",
         "1.0",
         "0.1041050225877695",
         "0.0",
         "12900.03",
         "12917.46",
         "12828.79",
         "12845.36",
         "0.0",
         "0.0",
         "21719",
         "0.22556088",
         "0.22938664",
         "0.22046517",
         "0.2248624",
         "1.0",
         "0.2293866386693",
         "0.0",
         "0.1444739",
         "0.1444739",
         "0.1444739",
         "0.1444739",
         "1.0",
         "0.144473896091993",
         "0.0",
         "22.58",
         "23.15",
         "22.41",
         "22.77",
         "0.0",
         "0.0",
         "1495.0",
         "1.1233913",
         "1.13339224",
         "1.08670531",
         "1.08791177",
         "1.0",
         "1.1333922381364716",
         "0.0",
         "1.09899218",
         "1.09899218",
         "1.09899218",
         "1.09899218",
         "1.0",
         "1.0989921795900095",
         "0.0",
         "9.43",
         "9.45",
         "9.25",
         "9.26",
         "0.0",
         "0.0",
         "268.0",
         "0.51890591",
         "0.51890591",
         "0.51890591",
         "0.51890591",
         "1.0",
         "0.518905913136476",
         "0.0",
         "0.9",
         "0.9",
         "0.7",
         "0.7",
         "0.0",
         "0.0",
         "13.0",
         "1.43813517",
         "1.43813517",
         "1.43813517",
         "1.43813517",
         "1.0",
         "1.4381351656475132",
         "0.0"
        ],
        [
         "2020-12-30 00:00:00+00:00",
         "3733.27",
         "3760.2",
         "3726.88",
         "3756.07",
         "0.0",
         "0.0",
         "20639.0",
         "0.18014392",
         "0.18187424",
         "0.17346075",
         "0.17346075",
         "1.0",
         "0.1818742366252021",
         "0.0",
         "0.10242232",
         "0.10242232",
         "0.10242232",
         "0.10242232",
         "1.0",
         "0.1024223247539324",
         "0.0",
         "12852.96",
         "12904.09",
         "12804.75",
         "12888.28",
         "0.0",
         "0.0",
         "21767",
         "0.22664035",
         "0.23499034",
         "0.22414805",
         "0.22933902",
         "1.0",
         "0.2349903399461348",
         "0.0",
         "0.14474376",
         "0.14474376",
         "0.14474376",
         "0.14474376",
         "1.0",
         "0.1447437627257216",
         "0.0",
         "22.99",
         "23.25",
         "21.24",
         "22.75",
         "0.0",
         "0.0",
         "1496.0",
         "1.34863469",
         "1.35030151",
         "1.0555754",
         "1.09850007",
         "1.0",
         "1.350301513622791",
         "0.0",
         "1.10283381",
         "1.10283381",
         "1.10283381",
         "1.10283381",
         "1.0",
         "1.1028338104936757",
         "0.0",
         "9.27",
         "9.37",
         "9.12",
         "9.17",
         "0.0",
         "0.0",
         "265.0",
         "0.51150839",
         "0.51150839",
         "0.51150839",
         "0.51150839",
         "1.0",
         "0.5115083924707394",
         "0.0",
         "0.68",
         "0.68",
         "0.6",
         "0.65",
         "0.0",
         "0.0",
         "13.0",
         "1.41399004",
         "1.41399004",
         "1.41399004",
         "1.41399004",
         "1.0",
         "1.4139900391827378",
         "0.0"
        ]
       ],
       "shape": {
        "columns": 91,
        "rows": 3
       }
      },
      "text/html": [
       "<div>\n",
       "<style scoped>\n",
       "    .dataframe tbody tr th:only-of-type {\n",
       "        vertical-align: middle;\n",
       "    }\n",
       "\n",
       "    .dataframe tbody tr th {\n",
       "        vertical-align: top;\n",
       "    }\n",
       "\n",
       "    .dataframe thead th {\n",
       "        text-align: right;\n",
       "    }\n",
       "</style>\n",
       "<table border=\"1\" class=\"dataframe\">\n",
       "  <thead>\n",
       "    <tr style=\"text-align: right;\">\n",
       "      <th></th>\n",
       "      <th>SPX_Open</th>\n",
       "      <th>SPX_High</th>\n",
       "      <th>SPX_Low</th>\n",
       "      <th>SPX_Close</th>\n",
       "      <th>SPX_Volume</th>\n",
       "      <th>SPX_Average</th>\n",
       "      <th>SPX_Barcount</th>\n",
       "      <th>SPX_IV_Open</th>\n",
       "      <th>SPX_IV_High</th>\n",
       "      <th>SPX_IV_Low</th>\n",
       "      <th>...</th>\n",
       "      <th>IRX_Volume</th>\n",
       "      <th>IRX_Average</th>\n",
       "      <th>IRX_Barcount</th>\n",
       "      <th>IRX_HV_Open</th>\n",
       "      <th>IRX_HV_High</th>\n",
       "      <th>IRX_HV_Low</th>\n",
       "      <th>IRX_HV_Close</th>\n",
       "      <th>IRX_HV_Volume</th>\n",
       "      <th>IRX_HV_Average</th>\n",
       "      <th>IRX_HV_Barcount</th>\n",
       "    </tr>\n",
       "    <tr>\n",
       "      <th>Date</th>\n",
       "      <th></th>\n",
       "      <th></th>\n",
       "      <th></th>\n",
       "      <th></th>\n",
       "      <th></th>\n",
       "      <th></th>\n",
       "      <th></th>\n",
       "      <th></th>\n",
       "      <th></th>\n",
       "      <th></th>\n",
       "      <th></th>\n",
       "      <th></th>\n",
       "      <th></th>\n",
       "      <th></th>\n",
       "      <th></th>\n",
       "      <th></th>\n",
       "      <th></th>\n",
       "      <th></th>\n",
       "      <th></th>\n",
       "      <th></th>\n",
       "      <th></th>\n",
       "    </tr>\n",
       "  </thead>\n",
       "  <tbody>\n",
       "    <tr>\n",
       "      <th>2020-12-28 00:00:00+00:00</th>\n",
       "      <td>3750.01</td>\n",
       "      <td>3756.12</td>\n",
       "      <td>3723.31</td>\n",
       "      <td>3727.04</td>\n",
       "      <td>0.0</td>\n",
       "      <td>0.0</td>\n",
       "      <td>21084.0</td>\n",
       "      <td>0.164000</td>\n",
       "      <td>0.181684</td>\n",
       "      <td>0.163412</td>\n",
       "      <td>...</td>\n",
       "      <td>0.0</td>\n",
       "      <td>0.0</td>\n",
       "      <td>1.0</td>\n",
       "      <td>1.423959</td>\n",
       "      <td>1.423959</td>\n",
       "      <td>1.423959</td>\n",
       "      <td>1.423959</td>\n",
       "      <td>1.0</td>\n",
       "      <td>1.423959</td>\n",
       "      <td>0.0</td>\n",
       "    </tr>\n",
       "    <tr>\n",
       "      <th>2020-12-29 00:00:00+00:00</th>\n",
       "      <td>3736.19</td>\n",
       "      <td>3744.63</td>\n",
       "      <td>3730.21</td>\n",
       "      <td>3732.04</td>\n",
       "      <td>0.0</td>\n",
       "      <td>0.0</td>\n",
       "      <td>20553.0</td>\n",
       "      <td>0.175493</td>\n",
       "      <td>0.180779</td>\n",
       "      <td>0.172350</td>\n",
       "      <td>...</td>\n",
       "      <td>0.0</td>\n",
       "      <td>0.0</td>\n",
       "      <td>13.0</td>\n",
       "      <td>1.438135</td>\n",
       "      <td>1.438135</td>\n",
       "      <td>1.438135</td>\n",
       "      <td>1.438135</td>\n",
       "      <td>1.0</td>\n",
       "      <td>1.438135</td>\n",
       "      <td>0.0</td>\n",
       "    </tr>\n",
       "    <tr>\n",
       "      <th>2020-12-30 00:00:00+00:00</th>\n",
       "      <td>3733.27</td>\n",
       "      <td>3760.20</td>\n",
       "      <td>3726.88</td>\n",
       "      <td>3756.07</td>\n",
       "      <td>0.0</td>\n",
       "      <td>0.0</td>\n",
       "      <td>20639.0</td>\n",
       "      <td>0.180144</td>\n",
       "      <td>0.181874</td>\n",
       "      <td>0.173461</td>\n",
       "      <td>...</td>\n",
       "      <td>0.0</td>\n",
       "      <td>0.0</td>\n",
       "      <td>13.0</td>\n",
       "      <td>1.413990</td>\n",
       "      <td>1.413990</td>\n",
       "      <td>1.413990</td>\n",
       "      <td>1.413990</td>\n",
       "      <td>1.0</td>\n",
       "      <td>1.413990</td>\n",
       "      <td>0.0</td>\n",
       "    </tr>\n",
       "  </tbody>\n",
       "</table>\n",
       "<p>3 rows × 91 columns</p>\n",
       "</div>"
      ],
      "text/plain": [
       "                           SPX_Open  SPX_High  SPX_Low  SPX_Close  SPX_Volume  \\\n",
       "Date                                                                            \n",
       "2020-12-28 00:00:00+00:00   3750.01   3756.12  3723.31    3727.04         0.0   \n",
       "2020-12-29 00:00:00+00:00   3736.19   3744.63  3730.21    3732.04         0.0   \n",
       "2020-12-30 00:00:00+00:00   3733.27   3760.20  3726.88    3756.07         0.0   \n",
       "\n",
       "                           SPX_Average  SPX_Barcount  SPX_IV_Open  \\\n",
       "Date                                                                \n",
       "2020-12-28 00:00:00+00:00          0.0       21084.0     0.164000   \n",
       "2020-12-29 00:00:00+00:00          0.0       20553.0     0.175493   \n",
       "2020-12-30 00:00:00+00:00          0.0       20639.0     0.180144   \n",
       "\n",
       "                           SPX_IV_High  SPX_IV_Low  ...  IRX_Volume  \\\n",
       "Date                                                ...               \n",
       "2020-12-28 00:00:00+00:00     0.181684    0.163412  ...         0.0   \n",
       "2020-12-29 00:00:00+00:00     0.180779    0.172350  ...         0.0   \n",
       "2020-12-30 00:00:00+00:00     0.181874    0.173461  ...         0.0   \n",
       "\n",
       "                           IRX_Average  IRX_Barcount  IRX_HV_Open  \\\n",
       "Date                                                                \n",
       "2020-12-28 00:00:00+00:00          0.0           1.0     1.423959   \n",
       "2020-12-29 00:00:00+00:00          0.0          13.0     1.438135   \n",
       "2020-12-30 00:00:00+00:00          0.0          13.0     1.413990   \n",
       "\n",
       "                           IRX_HV_High  IRX_HV_Low  IRX_HV_Close  \\\n",
       "Date                                                               \n",
       "2020-12-28 00:00:00+00:00     1.423959    1.423959      1.423959   \n",
       "2020-12-29 00:00:00+00:00     1.438135    1.438135      1.438135   \n",
       "2020-12-30 00:00:00+00:00     1.413990    1.413990      1.413990   \n",
       "\n",
       "                           IRX_HV_Volume  IRX_HV_Average  IRX_HV_Barcount  \n",
       "Date                                                                       \n",
       "2020-12-28 00:00:00+00:00            1.0        1.423959              0.0  \n",
       "2020-12-29 00:00:00+00:00            1.0        1.438135              0.0  \n",
       "2020-12-30 00:00:00+00:00            1.0        1.413990              0.0  \n",
       "\n",
       "[3 rows x 91 columns]"
      ]
     },
     "execution_count": 7,
     "metadata": {},
     "output_type": "execute_result"
    }
   ],
   "source": [
    "macro_data = get_macro_data(MACRO_PATH)\n",
    "if macro_data.isna().any().any():\n",
    "    raise ValueError(f\"Missing values detected in macro_data for {TARGET}. Fix the data before saving.\")\n",
    "\n",
    "macro_data.tail(3)\n"
   ]
  },
  {
   "cell_type": "markdown",
   "metadata": {},
   "source": [
    "### Options Data\n",
    "\n",
    "Bought from iVolatility."
   ]
  },
  {
   "cell_type": "markdown",
   "metadata": {},
   "source": []
  },
  {
   "cell_type": "code",
   "execution_count": 8,
   "metadata": {},
   "outputs": [
    {
     "data": {
      "application/vnd.microsoft.datawrangler.viewer.v0+json": {
       "columns": [
        {
         "name": "Date",
         "rawType": "datetime64[ms, UTC]",
         "type": "unknown"
        },
        {
         "name": "OTM_IV_Call",
         "rawType": "float64",
         "type": "float"
        },
        {
         "name": "expiration_date",
         "rawType": "object",
         "type": "string"
        },
        {
         "name": "OTM_IV_Put",
         "rawType": "float64",
         "type": "float"
        },
        {
         "name": "OTM_Skew",
         "rawType": "float64",
         "type": "float"
        },
        {
         "name": "ATM_IV_Call",
         "rawType": "float64",
         "type": "float"
        },
        {
         "name": "ATM_IV_Put",
         "rawType": "float64",
         "type": "float"
        },
        {
         "name": "ATM_Skew",
         "rawType": "float64",
         "type": "float"
        },
        {
         "name": "ITM_IV_Call",
         "rawType": "float64",
         "type": "float"
        },
        {
         "name": "ITM_IV_Put",
         "rawType": "float64",
         "type": "float"
        },
        {
         "name": "ITM_Skew",
         "rawType": "float64",
         "type": "float"
        },
        {
         "name": "Skew",
         "rawType": "float64",
         "type": "float"
        },
        {
         "name": "Vol_Surface",
         "rawType": "object",
         "type": "string"
        },
        {
         "name": "DTE",
         "rawType": "int64",
         "type": "integer"
        }
       ],
       "conversionMethod": "pd.DataFrame",
       "ref": "27e60cf6-4fb7-4c1b-b314-8b4c7ce4fdd6",
       "rows": [
        [
         "2024-12-18 00:00:00+00:00",
         "0.366653",
         "2025-01-10",
         "0.319769",
         "-0.12787022061731387",
         "0.359481",
         "0.311878",
         "-0.1324214631649517",
         "0.364192",
         "0.325368",
         "-0.10660311044723669",
         "0.8675785368350483",
         "FLAT",
         "23"
        ],
        [
         "2024-12-19 00:00:00+00:00",
         "0.337653",
         "2025-01-10",
         "0.347327",
         "0.028650715379398426",
         "0.341921",
         "0.327597",
         "-0.04189271790852258",
         "0.338562",
         "0.339205",
         "0.00189920900750824",
         "0.9581072820914774",
         "SMILE",
         "22"
        ],
        [
         "2024-12-20 00:00:00+00:00",
         "0.308769",
         "2025-01-10",
         "0.292158",
         "-0.05379749910127002",
         "0.307702",
         "0.271117",
         "-0.11889750472860099",
         "0.307549",
         "0.333964",
         "0.08588875268656365",
         "0.881102495271399",
         "SMILE",
         "21"
        ]
       ],
       "shape": {
        "columns": 13,
        "rows": 3
       }
      },
      "text/html": [
       "<div>\n",
       "<style scoped>\n",
       "    .dataframe tbody tr th:only-of-type {\n",
       "        vertical-align: middle;\n",
       "    }\n",
       "\n",
       "    .dataframe tbody tr th {\n",
       "        vertical-align: top;\n",
       "    }\n",
       "\n",
       "    .dataframe thead th {\n",
       "        text-align: right;\n",
       "    }\n",
       "</style>\n",
       "<table border=\"1\" class=\"dataframe\">\n",
       "  <thead>\n",
       "    <tr style=\"text-align: right;\">\n",
       "      <th></th>\n",
       "      <th>OTM_IV_Call</th>\n",
       "      <th>expiration_date</th>\n",
       "      <th>OTM_IV_Put</th>\n",
       "      <th>OTM_Skew</th>\n",
       "      <th>ATM_IV_Call</th>\n",
       "      <th>ATM_IV_Put</th>\n",
       "      <th>ATM_Skew</th>\n",
       "      <th>ITM_IV_Call</th>\n",
       "      <th>ITM_IV_Put</th>\n",
       "      <th>ITM_Skew</th>\n",
       "      <th>Skew</th>\n",
       "      <th>Vol_Surface</th>\n",
       "      <th>DTE</th>\n",
       "    </tr>\n",
       "    <tr>\n",
       "      <th>Date</th>\n",
       "      <th></th>\n",
       "      <th></th>\n",
       "      <th></th>\n",
       "      <th></th>\n",
       "      <th></th>\n",
       "      <th></th>\n",
       "      <th></th>\n",
       "      <th></th>\n",
       "      <th></th>\n",
       "      <th></th>\n",
       "      <th></th>\n",
       "      <th></th>\n",
       "      <th></th>\n",
       "    </tr>\n",
       "  </thead>\n",
       "  <tbody>\n",
       "    <tr>\n",
       "      <th>2024-12-18 00:00:00+00:00</th>\n",
       "      <td>0.366653</td>\n",
       "      <td>2025-01-10</td>\n",
       "      <td>0.319769</td>\n",
       "      <td>-0.127870</td>\n",
       "      <td>0.359481</td>\n",
       "      <td>0.311878</td>\n",
       "      <td>-0.132421</td>\n",
       "      <td>0.364192</td>\n",
       "      <td>0.325368</td>\n",
       "      <td>-0.106603</td>\n",
       "      <td>0.867579</td>\n",
       "      <td>FLAT</td>\n",
       "      <td>23</td>\n",
       "    </tr>\n",
       "    <tr>\n",
       "      <th>2024-12-19 00:00:00+00:00</th>\n",
       "      <td>0.337653</td>\n",
       "      <td>2025-01-10</td>\n",
       "      <td>0.347327</td>\n",
       "      <td>0.028651</td>\n",
       "      <td>0.341921</td>\n",
       "      <td>0.327597</td>\n",
       "      <td>-0.041893</td>\n",
       "      <td>0.338562</td>\n",
       "      <td>0.339205</td>\n",
       "      <td>0.001899</td>\n",
       "      <td>0.958107</td>\n",
       "      <td>SMILE</td>\n",
       "      <td>22</td>\n",
       "    </tr>\n",
       "    <tr>\n",
       "      <th>2024-12-20 00:00:00+00:00</th>\n",
       "      <td>0.308769</td>\n",
       "      <td>2025-01-10</td>\n",
       "      <td>0.292158</td>\n",
       "      <td>-0.053797</td>\n",
       "      <td>0.307702</td>\n",
       "      <td>0.271117</td>\n",
       "      <td>-0.118898</td>\n",
       "      <td>0.307549</td>\n",
       "      <td>0.333964</td>\n",
       "      <td>0.085889</td>\n",
       "      <td>0.881102</td>\n",
       "      <td>SMILE</td>\n",
       "      <td>21</td>\n",
       "    </tr>\n",
       "  </tbody>\n",
       "</table>\n",
       "</div>"
      ],
      "text/plain": [
       "                           OTM_IV_Call expiration_date  OTM_IV_Put  OTM_Skew  \\\n",
       "Date                                                                           \n",
       "2024-12-18 00:00:00+00:00     0.366653      2025-01-10    0.319769 -0.127870   \n",
       "2024-12-19 00:00:00+00:00     0.337653      2025-01-10    0.347327  0.028651   \n",
       "2024-12-20 00:00:00+00:00     0.308769      2025-01-10    0.292158 -0.053797   \n",
       "\n",
       "                           ATM_IV_Call  ATM_IV_Put  ATM_Skew  ITM_IV_Call  \\\n",
       "Date                                                                        \n",
       "2024-12-18 00:00:00+00:00     0.359481    0.311878 -0.132421     0.364192   \n",
       "2024-12-19 00:00:00+00:00     0.341921    0.327597 -0.041893     0.338562   \n",
       "2024-12-20 00:00:00+00:00     0.307702    0.271117 -0.118898     0.307549   \n",
       "\n",
       "                           ITM_IV_Put  ITM_Skew      Skew Vol_Surface  DTE  \n",
       "Date                                                                        \n",
       "2024-12-18 00:00:00+00:00    0.325368 -0.106603  0.867579        FLAT   23  \n",
       "2024-12-19 00:00:00+00:00    0.339205  0.001899  0.958107       SMILE   22  \n",
       "2024-12-20 00:00:00+00:00    0.333964  0.085889  0.881102       SMILE   21  "
      ]
     },
     "execution_count": 8,
     "metadata": {},
     "output_type": "execute_result"
    }
   ],
   "source": [
    "optionchain_data = get_historic_optionschain_summary(TARGET, OPTIONS_PATH)\n",
    "if optionchain_data.isna().any().any():\n",
    "    raise ValueError(f\"Missing values detected in optionchain_data for {TARGET}. Fix the data before saving.\")\n",
    "optionchain_data.tail(3)\n"
   ]
  },
  {
   "cell_type": "markdown",
   "metadata": {},
   "source": [
    "# Feature Engineering\n",
    "\n",
    "Merge data and create price features."
   ]
  },
  {
   "cell_type": "code",
   "execution_count": 9,
   "metadata": {},
   "outputs": [
    {
     "data": {
      "application/vnd.microsoft.datawrangler.viewer.v0+json": {
       "columns": [
        {
         "name": "Date",
         "rawType": "datetime64[ns, UTC]",
         "type": "unknown"
        },
        {
         "name": "Open",
         "rawType": "float64",
         "type": "float"
        },
        {
         "name": "High",
         "rawType": "float64",
         "type": "float"
        },
        {
         "name": "Low",
         "rawType": "float64",
         "type": "float"
        },
        {
         "name": "Close",
         "rawType": "float64",
         "type": "float"
        },
        {
         "name": "Volume",
         "rawType": "int64",
         "type": "integer"
        },
        {
         "name": "IV_Open",
         "rawType": "float64",
         "type": "float"
        },
        {
         "name": "IV_High",
         "rawType": "float64",
         "type": "float"
        },
        {
         "name": "IV_Low",
         "rawType": "float64",
         "type": "float"
        },
        {
         "name": "IV_Close",
         "rawType": "float64",
         "type": "float"
        },
        {
         "name": "IV_Volume",
         "rawType": "float64",
         "type": "float"
        },
        {
         "name": "HV_Open",
         "rawType": "float64",
         "type": "float"
        },
        {
         "name": "HV_High",
         "rawType": "float64",
         "type": "float"
        },
        {
         "name": "HV_Low",
         "rawType": "float64",
         "type": "float"
        },
        {
         "name": "HV_Close",
         "rawType": "float64",
         "type": "float"
        },
        {
         "name": "HV_Volume",
         "rawType": "float64",
         "type": "float"
        },
        {
         "name": "Ticker",
         "rawType": "object",
         "type": "string"
        },
        {
         "name": "Quarter",
         "rawType": "period[Q-DEC]",
         "type": "unknown"
        },
        {
         "name": "Net Income",
         "rawType": "float64",
         "type": "float"
        },
        {
         "name": "Invested Capital",
         "rawType": "float64",
         "type": "float"
        },
        {
         "name": "Return on Investment",
         "rawType": "float64",
         "type": "float"
        },
        {
         "name": "Current Ratio",
         "rawType": "float64",
         "type": "float"
        },
        {
         "name": "Long-term Debt / Capital",
         "rawType": "float64",
         "type": "float"
        },
        {
         "name": "Gross Margin",
         "rawType": "float64",
         "type": "float"
        },
        {
         "name": "Operating Margin",
         "rawType": "float64",
         "type": "float"
        },
        {
         "name": "EBIT Margin",
         "rawType": "float64",
         "type": "float"
        },
        {
         "name": "EBITDA Margin",
         "rawType": "float64",
         "type": "float"
        },
        {
         "name": "Pre-Tax Profit Margin",
         "rawType": "float64",
         "type": "float"
        },
        {
         "name": "Net Profit Margin",
         "rawType": "float64",
         "type": "float"
        },
        {
         "name": "Asset Turnover",
         "rawType": "float64",
         "type": "float"
        },
        {
         "name": "Inventory Turnover Ratio",
         "rawType": "float64",
         "type": "float"
        },
        {
         "name": "Days Sales In Receivables",
         "rawType": "float64",
         "type": "float"
        },
        {
         "name": "Book Value Per Share",
         "rawType": "float64",
         "type": "float"
        },
        {
         "name": "Operating Cash Flow Per Share",
         "rawType": "float64",
         "type": "float"
        },
        {
         "name": "Free Cash Flow Per Share",
         "rawType": "float64",
         "type": "float"
        },
        {
         "name": "Stock Price",
         "rawType": "float64",
         "type": "float"
        },
        {
         "name": "Book Value per Share",
         "rawType": "float64",
         "type": "float"
        },
        {
         "name": "Price to Book Ratio",
         "rawType": "float64",
         "type": "float"
        },
        {
         "name": "EPS",
         "rawType": "float64",
         "type": "float"
        },
        {
         "name": "TTM FCF per Share",
         "rawType": "float64",
         "type": "float"
        },
        {
         "name": "Price to FCF Ratio",
         "rawType": "float64",
         "type": "float"
        },
        {
         "name": "Total Assets",
         "rawType": "float64",
         "type": "float"
        },
        {
         "name": "Return on Assets",
         "rawType": "float64",
         "type": "float"
        },
        {
         "name": "Current Assets",
         "rawType": "float64",
         "type": "float"
        },
        {
         "name": "Current Liabilities",
         "rawType": "float64",
         "type": "float"
        },
        {
         "name": "TTM Sales per Share",
         "rawType": "float64",
         "type": "float"
        },
        {
         "name": "Price to Sales Ratio",
         "rawType": "float64",
         "type": "float"
        },
        {
         "name": "Long Term Debt",
         "rawType": "float64",
         "type": "float"
        },
        {
         "name": "Shareholder's Equity",
         "rawType": "float64",
         "type": "float"
        },
        {
         "name": "Debt to Equity Ratio",
         "rawType": "float64",
         "type": "float"
        },
        {
         "name": "TTM Net EPS",
         "rawType": "float64",
         "type": "float"
        },
        {
         "name": "PE Ratio",
         "rawType": "float64",
         "type": "float"
        },
        {
         "name": "Return on Equity",
         "rawType": "float64",
         "type": "float"
        },
        {
         "name": "Current Assets - Inventory",
         "rawType": "float64",
         "type": "float"
        },
        {
         "name": "Quick Ratio",
         "rawType": "float64",
         "type": "float"
        },
        {
         "name": "Quick Ratio_QoQ_Growth",
         "rawType": "float64",
         "type": "float"
        },
        {
         "name": "Quick Ratio_YoY_Growth",
         "rawType": "float64",
         "type": "float"
        },
        {
         "name": "Current Ratio_QoQ_Growth",
         "rawType": "float64",
         "type": "float"
        },
        {
         "name": "Current Ratio_YoY_Growth",
         "rawType": "float64",
         "type": "float"
        },
        {
         "name": "Debt to Equity Ratio_QoQ_Growth",
         "rawType": "float64",
         "type": "float"
        },
        {
         "name": "Debt to Equity Ratio_YoY_Growth",
         "rawType": "float64",
         "type": "float"
        },
        {
         "name": "Gross Margin_QoQ_Growth",
         "rawType": "float64",
         "type": "float"
        },
        {
         "name": "Gross Margin_YoY_Growth",
         "rawType": "float64",
         "type": "float"
        },
        {
         "name": "Operating Margin_QoQ_Growth",
         "rawType": "float64",
         "type": "float"
        },
        {
         "name": "Operating Margin_YoY_Growth",
         "rawType": "float64",
         "type": "float"
        },
        {
         "name": "EBIT Margin_QoQ_Growth",
         "rawType": "float64",
         "type": "float"
        },
        {
         "name": "EBIT Margin_YoY_Growth",
         "rawType": "float64",
         "type": "float"
        },
        {
         "name": "Net Profit Margin_QoQ_Growth",
         "rawType": "float64",
         "type": "float"
        },
        {
         "name": "Net Profit Margin_YoY_Growth",
         "rawType": "float64",
         "type": "float"
        },
        {
         "name": "Asset Turnover_QoQ_Growth",
         "rawType": "float64",
         "type": "float"
        },
        {
         "name": "Asset Turnover_YoY_Growth",
         "rawType": "float64",
         "type": "float"
        },
        {
         "name": "Inventory Turnover Ratio_QoQ_Growth",
         "rawType": "float64",
         "type": "float"
        },
        {
         "name": "Inventory Turnover Ratio_YoY_Growth",
         "rawType": "float64",
         "type": "float"
        },
        {
         "name": "Price to Book Ratio_QoQ_Growth",
         "rawType": "float64",
         "type": "float"
        },
        {
         "name": "Price to Book Ratio_YoY_Growth",
         "rawType": "float64",
         "type": "float"
        },
        {
         "name": "PE Ratio_QoQ_Growth",
         "rawType": "float64",
         "type": "float"
        },
        {
         "name": "PE Ratio_YoY_Growth",
         "rawType": "float64",
         "type": "float"
        },
        {
         "name": "EPS_QoQ_Growth",
         "rawType": "float64",
         "type": "float"
        },
        {
         "name": "EPS_YoY_Growth",
         "rawType": "float64",
         "type": "float"
        },
        {
         "name": "Net Income_QoQ_Growth",
         "rawType": "float64",
         "type": "float"
        },
        {
         "name": "Net Income_YoY_Growth",
         "rawType": "float64",
         "type": "float"
        },
        {
         "name": "Free Cash Flow Per Share_QoQ_Growth",
         "rawType": "float64",
         "type": "float"
        },
        {
         "name": "Free Cash Flow Per Share_YoY_Growth",
         "rawType": "float64",
         "type": "float"
        },
        {
         "name": "Operating Cash Flow Per Share_QoQ_Growth",
         "rawType": "float64",
         "type": "float"
        },
        {
         "name": "Operating Cash Flow Per Share_YoY_Growth",
         "rawType": "float64",
         "type": "float"
        },
        {
         "name": "Return on Equity_QoQ_Growth",
         "rawType": "float64",
         "type": "float"
        },
        {
         "name": "Return on Equity_YoY_Growth",
         "rawType": "float64",
         "type": "float"
        },
        {
         "name": "Return on Assets_QoQ_Growth",
         "rawType": "float64",
         "type": "float"
        },
        {
         "name": "Return on Assets_YoY_Growth",
         "rawType": "float64",
         "type": "float"
        },
        {
         "name": "PMI",
         "rawType": "float64",
         "type": "float"
        },
        {
         "name": "PPI",
         "rawType": "float64",
         "type": "float"
        },
        {
         "name": "Retail Sales",
         "rawType": "float64",
         "type": "float"
        },
        {
         "name": "Employment",
         "rawType": "float64",
         "type": "float"
        },
        {
         "name": "Yield_Curve",
         "rawType": "float64",
         "type": "float"
        },
        {
         "name": "Treasury Yields",
         "rawType": "float64",
         "type": "float"
        },
        {
         "name": "CPI",
         "rawType": "float64",
         "type": "float"
        },
        {
         "name": "Consumer Confidence",
         "rawType": "float64",
         "type": "float"
        },
        {
         "name": "Consumer_Confidence",
         "rawType": "float64",
         "type": "float"
        },
        {
         "name": "Housing Starts",
         "rawType": "float64",
         "type": "float"
        },
        {
         "name": "Housing_Starts",
         "rawType": "float64",
         "type": "float"
        },
        {
         "name": "M2_Money_Supply",
         "rawType": "float64",
         "type": "float"
        },
        {
         "name": "Retail_Sales",
         "rawType": "float64",
         "type": "float"
        },
        {
         "name": "Treasury_Yields",
         "rawType": "float64",
         "type": "float"
        },
        {
         "name": "GDP",
         "rawType": "float64",
         "type": "float"
        },
        {
         "name": "Yield Curve",
         "rawType": "float64",
         "type": "float"
        },
        {
         "name": "PMI_YoY",
         "rawType": "float64",
         "type": "float"
        },
        {
         "name": "PPI_YoY",
         "rawType": "float64",
         "type": "float"
        },
        {
         "name": "Retail Sales_YoY",
         "rawType": "float64",
         "type": "float"
        },
        {
         "name": "Employment_YoY",
         "rawType": "float64",
         "type": "float"
        },
        {
         "name": "Yield_Curve_YoY",
         "rawType": "float64",
         "type": "float"
        },
        {
         "name": "Treasury Yields_YoY",
         "rawType": "float64",
         "type": "float"
        },
        {
         "name": "CPI_YoY",
         "rawType": "float64",
         "type": "float"
        },
        {
         "name": "Consumer Confidence_YoY",
         "rawType": "float64",
         "type": "float"
        },
        {
         "name": "Consumer_Confidence_YoY",
         "rawType": "float64",
         "type": "float"
        },
        {
         "name": "Housing Starts_YoY",
         "rawType": "float64",
         "type": "float"
        },
        {
         "name": "Housing_Starts_YoY",
         "rawType": "float64",
         "type": "float"
        },
        {
         "name": "M2_Money_Supply_YoY",
         "rawType": "float64",
         "type": "float"
        },
        {
         "name": "Retail_Sales_YoY",
         "rawType": "float64",
         "type": "float"
        },
        {
         "name": "Treasury_Yields_YoY",
         "rawType": "float64",
         "type": "float"
        },
        {
         "name": "GDP_YoY",
         "rawType": "float64",
         "type": "float"
        },
        {
         "name": "Yield Curve_YoY",
         "rawType": "float64",
         "type": "float"
        },
        {
         "name": "PMI_QoQ",
         "rawType": "float64",
         "type": "float"
        },
        {
         "name": "PPI_QoQ",
         "rawType": "float64",
         "type": "float"
        },
        {
         "name": "Retail Sales_QoQ",
         "rawType": "float64",
         "type": "float"
        },
        {
         "name": "Employment_QoQ",
         "rawType": "float64",
         "type": "float"
        },
        {
         "name": "Yield_Curve_QoQ",
         "rawType": "float64",
         "type": "float"
        },
        {
         "name": "Treasury Yields_QoQ",
         "rawType": "float64",
         "type": "float"
        },
        {
         "name": "CPI_QoQ",
         "rawType": "float64",
         "type": "float"
        },
        {
         "name": "Consumer Confidence_QoQ",
         "rawType": "float64",
         "type": "float"
        },
        {
         "name": "Consumer_Confidence_QoQ",
         "rawType": "float64",
         "type": "float"
        },
        {
         "name": "Housing Starts_QoQ",
         "rawType": "float64",
         "type": "float"
        },
        {
         "name": "Housing_Starts_QoQ",
         "rawType": "float64",
         "type": "float"
        },
        {
         "name": "M2_Money_Supply_QoQ",
         "rawType": "float64",
         "type": "float"
        },
        {
         "name": "Retail_Sales_QoQ",
         "rawType": "float64",
         "type": "float"
        },
        {
         "name": "Treasury_Yields_QoQ",
         "rawType": "float64",
         "type": "float"
        },
        {
         "name": "GDP_QoQ",
         "rawType": "float64",
         "type": "float"
        },
        {
         "name": "Yield Curve_QoQ",
         "rawType": "float64",
         "type": "float"
        },
        {
         "name": "SPX_Open",
         "rawType": "float64",
         "type": "float"
        },
        {
         "name": "SPX_High",
         "rawType": "float64",
         "type": "float"
        },
        {
         "name": "SPX_Low",
         "rawType": "float64",
         "type": "float"
        },
        {
         "name": "SPX_Close",
         "rawType": "float64",
         "type": "float"
        },
        {
         "name": "SPX_Volume",
         "rawType": "float64",
         "type": "float"
        },
        {
         "name": "SPX_IV_Open",
         "rawType": "float64",
         "type": "float"
        },
        {
         "name": "SPX_IV_High",
         "rawType": "float64",
         "type": "float"
        },
        {
         "name": "SPX_IV_Low",
         "rawType": "float64",
         "type": "float"
        },
        {
         "name": "SPX_IV_Close",
         "rawType": "float64",
         "type": "float"
        },
        {
         "name": "SPX_IV_Volume",
         "rawType": "float64",
         "type": "float"
        },
        {
         "name": "SPX_HV_Open",
         "rawType": "float64",
         "type": "float"
        },
        {
         "name": "SPX_HV_High",
         "rawType": "float64",
         "type": "float"
        },
        {
         "name": "SPX_HV_Low",
         "rawType": "float64",
         "type": "float"
        },
        {
         "name": "SPX_HV_Close",
         "rawType": "float64",
         "type": "float"
        },
        {
         "name": "SPX_HV_Volume",
         "rawType": "float64",
         "type": "float"
        },
        {
         "name": "NDX_Open",
         "rawType": "float64",
         "type": "float"
        },
        {
         "name": "NDX_High",
         "rawType": "float64",
         "type": "float"
        },
        {
         "name": "NDX_Low",
         "rawType": "float64",
         "type": "float"
        },
        {
         "name": "NDX_Close",
         "rawType": "float64",
         "type": "float"
        },
        {
         "name": "NDX_Volume",
         "rawType": "float64",
         "type": "float"
        },
        {
         "name": "NDX_IV_Open",
         "rawType": "float64",
         "type": "float"
        },
        {
         "name": "NDX_IV_High",
         "rawType": "float64",
         "type": "float"
        },
        {
         "name": "NDX_IV_Low",
         "rawType": "float64",
         "type": "float"
        },
        {
         "name": "NDX_IV_Close",
         "rawType": "float64",
         "type": "float"
        },
        {
         "name": "NDX_IV_Volume",
         "rawType": "float64",
         "type": "float"
        },
        {
         "name": "NDX_HV_Open",
         "rawType": "float64",
         "type": "float"
        },
        {
         "name": "NDX_HV_High",
         "rawType": "float64",
         "type": "float"
        },
        {
         "name": "NDX_HV_Low",
         "rawType": "float64",
         "type": "float"
        },
        {
         "name": "NDX_HV_Close",
         "rawType": "float64",
         "type": "float"
        },
        {
         "name": "NDX_HV_Volume",
         "rawType": "float64",
         "type": "float"
        },
        {
         "name": "VIX_Open",
         "rawType": "float64",
         "type": "float"
        },
        {
         "name": "VIX_High",
         "rawType": "float64",
         "type": "float"
        },
        {
         "name": "VIX_Low",
         "rawType": "float64",
         "type": "float"
        },
        {
         "name": "VIX_Close",
         "rawType": "float64",
         "type": "float"
        },
        {
         "name": "VIX_Volume",
         "rawType": "float64",
         "type": "float"
        },
        {
         "name": "VIX_IV_Open",
         "rawType": "float64",
         "type": "float"
        },
        {
         "name": "VIX_IV_High",
         "rawType": "float64",
         "type": "float"
        },
        {
         "name": "VIX_IV_Low",
         "rawType": "float64",
         "type": "float"
        },
        {
         "name": "VIX_IV_Close",
         "rawType": "float64",
         "type": "float"
        },
        {
         "name": "VIX_IV_Volume",
         "rawType": "float64",
         "type": "float"
        },
        {
         "name": "VIX_HV_Open",
         "rawType": "float64",
         "type": "float"
        },
        {
         "name": "VIX_HV_High",
         "rawType": "float64",
         "type": "float"
        },
        {
         "name": "VIX_HV_Low",
         "rawType": "float64",
         "type": "float"
        },
        {
         "name": "VIX_HV_Close",
         "rawType": "float64",
         "type": "float"
        },
        {
         "name": "VIX_HV_Volume",
         "rawType": "float64",
         "type": "float"
        },
        {
         "name": "TNX_Open",
         "rawType": "float64",
         "type": "float"
        },
        {
         "name": "TNX_High",
         "rawType": "float64",
         "type": "float"
        },
        {
         "name": "TNX_Low",
         "rawType": "float64",
         "type": "float"
        },
        {
         "name": "TNX_Close",
         "rawType": "float64",
         "type": "float"
        },
        {
         "name": "TNX_Volume",
         "rawType": "float64",
         "type": "float"
        },
        {
         "name": "TNX_HV_Open",
         "rawType": "float64",
         "type": "float"
        },
        {
         "name": "TNX_HV_High",
         "rawType": "float64",
         "type": "float"
        },
        {
         "name": "TNX_HV_Low",
         "rawType": "float64",
         "type": "float"
        },
        {
         "name": "TNX_HV_Close",
         "rawType": "float64",
         "type": "float"
        },
        {
         "name": "TNX_HV_Volume",
         "rawType": "float64",
         "type": "float"
        },
        {
         "name": "IRX_Open",
         "rawType": "float64",
         "type": "float"
        },
        {
         "name": "IRX_High",
         "rawType": "float64",
         "type": "float"
        },
        {
         "name": "IRX_Low",
         "rawType": "float64",
         "type": "float"
        },
        {
         "name": "IRX_Close",
         "rawType": "float64",
         "type": "float"
        },
        {
         "name": "IRX_Volume",
         "rawType": "float64",
         "type": "float"
        },
        {
         "name": "IRX_HV_Open",
         "rawType": "float64",
         "type": "float"
        },
        {
         "name": "IRX_HV_High",
         "rawType": "float64",
         "type": "float"
        },
        {
         "name": "IRX_HV_Low",
         "rawType": "float64",
         "type": "float"
        },
        {
         "name": "IRX_HV_Close",
         "rawType": "float64",
         "type": "float"
        },
        {
         "name": "IRX_HV_Volume",
         "rawType": "float64",
         "type": "float"
        },
        {
         "name": "OTM_IV_Call",
         "rawType": "float64",
         "type": "float"
        },
        {
         "name": "expiration_date",
         "rawType": "object",
         "type": "string"
        },
        {
         "name": "OTM_IV_Put",
         "rawType": "float64",
         "type": "float"
        },
        {
         "name": "OTM_Skew",
         "rawType": "float64",
         "type": "float"
        },
        {
         "name": "ATM_IV_Call",
         "rawType": "float64",
         "type": "float"
        },
        {
         "name": "ATM_IV_Put",
         "rawType": "float64",
         "type": "float"
        },
        {
         "name": "ATM_Skew",
         "rawType": "float64",
         "type": "float"
        },
        {
         "name": "ITM_IV_Call",
         "rawType": "float64",
         "type": "float"
        },
        {
         "name": "ITM_IV_Put",
         "rawType": "float64",
         "type": "float"
        },
        {
         "name": "ITM_Skew",
         "rawType": "float64",
         "type": "float"
        },
        {
         "name": "Skew",
         "rawType": "float64",
         "type": "float"
        },
        {
         "name": "Vol_Surface",
         "rawType": "object",
         "type": "string"
        },
        {
         "name": "DTE",
         "rawType": "float64",
         "type": "float"
        }
       ],
       "conversionMethod": "pd.DataFrame",
       "ref": "c1b7dd3c-f998-4f27-b58f-dab829fa8f31",
       "rows": [
        [
         "2024-12-18 00:00:00+00:00",
         "620.91",
         "627.27",
         "596.38",
         "597.19",
         "1490586",
         "0.30094892",
         "0.33741266",
         "0.29380539",
         "0.33741266",
         "1.0",
         "0.27724828",
         "0.27724828",
         "0.27724828",
         "0.27724828",
         "1.0",
         "META",
         "2024Q4",
         "62400000000.0",
         "193350000000.0",
         "0.3525999999999999",
         "2.671",
         "0.1072",
         "80.7571",
         "34.6555",
         "34.6555",
         "42.9415",
         "35.1574",
         "28.9825",
         "0.5875",
         "0.0",
         "43.7479",
         "59.8079",
         "8.3689",
         "9.6235",
         "571.98",
         "65.19",
         "8.77",
         "6.03",
         "20.13",
         "28.42",
         "256410000000.0",
         "0.2366",
         "91070000000.0",
         "33330000000.0",
         "59.73",
         "9.58",
         "91880000000.0",
         "164530000000.0",
         "0.56",
         "21.23",
         "26.96",
         "0.356",
         "0.0",
         "0.0",
         "0.0",
         "0.0",
         "0.21221748207315969",
         "0.0",
         "0.19148936170212785",
         "0.09803921568627459",
         "0.030757920183592666",
         "0.0",
         "0.3961944128856552",
         "0.0",
         "0.3961944128856552",
         "0.0",
         "0.4567291260379179",
         "0.0",
         "-0.06434145564580346",
         "0.0",
         "0.0",
         "0.0",
         "0.07872078720787193",
         "0.6301115241635687",
         "0.048619214313496695",
         "0.02043906131718392",
         "0.16860465116279072",
         "0.3735763097949888",
         "0.061224489795918366",
         "0.6970356268697308",
         "-2.4708309770896695",
         "0.0",
         "-6.596803317060122",
         "0.0",
         "0.04215456674473092",
         "0.5787139689578713",
         "0.0336391437308869",
         "0.5783855903935957",
         "49.7",
         "253.548",
         "736535.0",
         "159536.0",
         "0.33",
         "4.39",
         "317.685",
         "98.91297",
         "98.91297",
         "1289.0",
         "1499.0",
         "21533.8",
         "794912.0",
         "4.39",
         "29700.58",
         "0.33",
         "0.006072874493927127",
         "0.014735898441564643",
         "-0.03827270756783996",
         "0.014189086100798498",
         "-1.942857142857143",
         "0.09203980099502496",
         "0.028965932720523835",
         "0.00818746770197043",
         "0.00818746770197043",
         "-0.1779336734693877",
         "-0.04400510204081631",
         "0.03900527854709668",
         "0.03795279991016476",
         "0.09203980099502496",
         "0.04960294861283199",
         "-1.942857142857143",
         "0.03757828810020891",
         "0.003419290497221894",
         "0.077501835981731",
         "0.0032133312372268907",
         "1.2000000000000002",
         "0.18010752688172027",
         "0.009530134801039924",
         "0.0",
         "0.0",
         "-0.048708487084870855",
         "0.1062730627306272",
         "0.014654051303315319",
         "0.16290351367404088",
         "0.18010752688172027",
         "0.011086534585258656",
         "1.2000000000000002",
         "3733.27",
         "3760.2",
         "3726.88",
         "3756.07",
         "0.0",
         "0.18014392",
         "0.18187424",
         "0.17346075",
         "0.17346075",
         "1.0",
         "0.10242232",
         "0.10242232",
         "0.10242232",
         "0.10242232",
         "1.0",
         "12852.96",
         "12904.09",
         "12804.75",
         "12888.28",
         "0.0",
         "0.22664035",
         "0.23499034",
         "0.22414805",
         "0.22933902",
         "1.0",
         "0.14474376",
         "0.14474376",
         "0.14474376",
         "0.14474376",
         "1.0",
         "22.99",
         "23.25",
         "21.24",
         "22.75",
         "0.0",
         "1.34863469",
         "1.35030151",
         "1.0555754",
         "1.09850007",
         "1.0",
         "1.10283381",
         "1.10283381",
         "1.10283381",
         "1.10283381",
         "1.0",
         "9.27",
         "9.37",
         "9.12",
         "9.17",
         "0.0",
         "0.51150839",
         "0.51150839",
         "0.51150839",
         "0.51150839",
         "1.0",
         "0.68",
         "0.68",
         "0.6",
         "0.65",
         "0.0",
         "1.41399004",
         "1.41399004",
         "1.41399004",
         "1.41399004",
         "1.0",
         "0.366653",
         "2025-01-10",
         "0.319769",
         "-0.12787022061731387",
         "0.359481",
         "0.311878",
         "-0.1324214631649517",
         "0.364192",
         "0.325368",
         "-0.10660311044723669",
         "0.8675785368350483",
         "FLAT",
         "23.0"
        ],
        [
         "2024-12-19 00:00:00+00:00",
         "610.2",
         "611.52",
         "595.0",
         "595.57",
         "1280265",
         "0.34374659",
         "0.34722311",
         "0.32312561",
         "0.34246076",
         "1.0",
         "0.27623231",
         "0.27623231",
         "0.27623231",
         "0.27623231",
         "1.0",
         "META",
         "2024Q4",
         "62400000000.0",
         "193350000000.0",
         "0.3525999999999999",
         "2.671",
         "0.1072",
         "80.7571",
         "34.6555",
         "34.6555",
         "42.9415",
         "35.1574",
         "28.9825",
         "0.5875",
         "0.0",
         "43.7479",
         "59.8079",
         "8.3689",
         "9.6235",
         "571.98",
         "65.19",
         "8.77",
         "6.03",
         "20.13",
         "28.42",
         "256410000000.0",
         "0.2366",
         "91070000000.0",
         "33330000000.0",
         "59.73",
         "9.58",
         "91880000000.0",
         "164530000000.0",
         "0.56",
         "21.23",
         "26.96",
         "0.356",
         "0.0",
         "0.0",
         "0.0",
         "0.0",
         "0.21221748207315969",
         "0.0",
         "0.19148936170212785",
         "0.09803921568627459",
         "0.030757920183592666",
         "0.0",
         "0.3961944128856552",
         "0.0",
         "0.3961944128856552",
         "0.0",
         "0.4567291260379179",
         "0.0",
         "-0.06434145564580346",
         "0.0",
         "0.0",
         "0.0",
         "0.07872078720787193",
         "0.6301115241635687",
         "0.048619214313496695",
         "0.02043906131718392",
         "0.16860465116279072",
         "0.3735763097949888",
         "0.061224489795918366",
         "0.6970356268697308",
         "-2.4708309770896695",
         "0.0",
         "-6.596803317060122",
         "0.0",
         "0.04215456674473092",
         "0.5787139689578713",
         "0.0336391437308869",
         "0.5783855903935957",
         "49.7",
         "253.548",
         "736535.0",
         "159536.0",
         "0.33",
         "4.39",
         "317.685",
         "98.91297",
         "98.91297",
         "1289.0",
         "1499.0",
         "21533.8",
         "794912.0",
         "4.39",
         "29700.58",
         "0.33",
         "0.006072874493927127",
         "0.014735898441564643",
         "-0.03827270756783996",
         "0.014189086100798498",
         "-1.942857142857143",
         "0.09203980099502496",
         "0.028965932720523835",
         "0.00818746770197043",
         "0.00818746770197043",
         "-0.1779336734693877",
         "-0.04400510204081631",
         "0.03900527854709668",
         "0.03795279991016476",
         "0.09203980099502496",
         "0.04960294861283199",
         "-1.942857142857143",
         "0.03757828810020891",
         "0.003419290497221894",
         "0.077501835981731",
         "0.0032133312372268907",
         "1.2000000000000002",
         "0.18010752688172027",
         "0.009530134801039924",
         "0.0",
         "0.0",
         "-0.048708487084870855",
         "0.1062730627306272",
         "0.014654051303315319",
         "0.16290351367404088",
         "0.18010752688172027",
         "0.011086534585258656",
         "1.2000000000000002",
         "3733.27",
         "3760.2",
         "3726.88",
         "3756.07",
         "0.0",
         "0.18014392",
         "0.18187424",
         "0.17346075",
         "0.17346075",
         "1.0",
         "0.10242232",
         "0.10242232",
         "0.10242232",
         "0.10242232",
         "1.0",
         "12852.96",
         "12904.09",
         "12804.75",
         "12888.28",
         "0.0",
         "0.22664035",
         "0.23499034",
         "0.22414805",
         "0.22933902",
         "1.0",
         "0.14474376",
         "0.14474376",
         "0.14474376",
         "0.14474376",
         "1.0",
         "22.99",
         "23.25",
         "21.24",
         "22.75",
         "0.0",
         "1.34863469",
         "1.35030151",
         "1.0555754",
         "1.09850007",
         "1.0",
         "1.10283381",
         "1.10283381",
         "1.10283381",
         "1.10283381",
         "1.0",
         "9.27",
         "9.37",
         "9.12",
         "9.17",
         "0.0",
         "0.51150839",
         "0.51150839",
         "0.51150839",
         "0.51150839",
         "1.0",
         "0.68",
         "0.68",
         "0.6",
         "0.65",
         "0.0",
         "1.41399004",
         "1.41399004",
         "1.41399004",
         "1.41399004",
         "1.0",
         "0.337653",
         "2025-01-10",
         "0.347327",
         "0.028650715379398426",
         "0.341921",
         "0.327597",
         "-0.04189271790852258",
         "0.338562",
         "0.339205",
         "0.00189920900750824",
         "0.9581072820914774",
         "SMILE",
         "22.0"
        ],
        [
         "2024-12-20 00:00:00+00:00",
         "590.04",
         "603.11",
         "584.0",
         "585.25",
         "4112358",
         "0.35360466",
         "0.35916074",
         "0.30909254",
         "0.31423588",
         "1.0",
         "0.28253449",
         "0.28253449",
         "0.28253449",
         "0.28253449",
         "1.0",
         "META",
         "2024Q4",
         "62400000000.0",
         "193350000000.0",
         "0.3525999999999999",
         "2.671",
         "0.1072",
         "80.7571",
         "34.6555",
         "34.6555",
         "42.9415",
         "35.1574",
         "28.9825",
         "0.5875",
         "0.0",
         "43.7479",
         "59.8079",
         "8.3689",
         "9.6235",
         "571.98",
         "65.19",
         "8.77",
         "6.03",
         "20.13",
         "28.42",
         "256410000000.0",
         "0.2366",
         "91070000000.0",
         "33330000000.0",
         "59.73",
         "9.58",
         "91880000000.0",
         "164530000000.0",
         "0.56",
         "21.23",
         "26.96",
         "0.356",
         "0.0",
         "0.0",
         "0.0",
         "0.0",
         "0.21221748207315969",
         "0.0",
         "0.19148936170212785",
         "0.09803921568627459",
         "0.030757920183592666",
         "0.0",
         "0.3961944128856552",
         "0.0",
         "0.3961944128856552",
         "0.0",
         "0.4567291260379179",
         "0.0",
         "-0.06434145564580346",
         "0.0",
         "0.0",
         "0.0",
         "0.07872078720787193",
         "0.6301115241635687",
         "0.048619214313496695",
         "0.02043906131718392",
         "0.16860465116279072",
         "0.3735763097949888",
         "0.061224489795918366",
         "0.6970356268697308",
         "-2.4708309770896695",
         "0.0",
         "-6.596803317060122",
         "0.0",
         "0.04215456674473092",
         "0.5787139689578713",
         "0.0336391437308869",
         "0.5783855903935957",
         "49.7",
         "253.548",
         "736535.0",
         "159536.0",
         "0.33",
         "4.39",
         "317.685",
         "98.91297",
         "98.91297",
         "1289.0",
         "1499.0",
         "21533.8",
         "794912.0",
         "4.39",
         "29700.58",
         "0.33",
         "0.006072874493927127",
         "0.014735898441564643",
         "-0.03827270756783996",
         "0.014189086100798498",
         "-1.942857142857143",
         "0.09203980099502496",
         "0.028965932720523835",
         "0.00818746770197043",
         "0.00818746770197043",
         "-0.1779336734693877",
         "-0.04400510204081631",
         "0.03900527854709668",
         "0.03795279991016476",
         "0.09203980099502496",
         "0.04960294861283199",
         "-1.942857142857143",
         "0.03757828810020891",
         "0.003419290497221894",
         "0.077501835981731",
         "0.0032133312372268907",
         "1.2000000000000002",
         "0.18010752688172027",
         "0.009530134801039924",
         "0.0",
         "0.0",
         "-0.048708487084870855",
         "0.1062730627306272",
         "0.014654051303315319",
         "0.16290351367404088",
         "0.18010752688172027",
         "0.011086534585258656",
         "1.2000000000000002",
         "3733.27",
         "3760.2",
         "3726.88",
         "3756.07",
         "0.0",
         "0.18014392",
         "0.18187424",
         "0.17346075",
         "0.17346075",
         "1.0",
         "0.10242232",
         "0.10242232",
         "0.10242232",
         "0.10242232",
         "1.0",
         "12852.96",
         "12904.09",
         "12804.75",
         "12888.28",
         "0.0",
         "0.22664035",
         "0.23499034",
         "0.22414805",
         "0.22933902",
         "1.0",
         "0.14474376",
         "0.14474376",
         "0.14474376",
         "0.14474376",
         "1.0",
         "22.99",
         "23.25",
         "21.24",
         "22.75",
         "0.0",
         "1.34863469",
         "1.35030151",
         "1.0555754",
         "1.09850007",
         "1.0",
         "1.10283381",
         "1.10283381",
         "1.10283381",
         "1.10283381",
         "1.0",
         "9.27",
         "9.37",
         "9.12",
         "9.17",
         "0.0",
         "0.51150839",
         "0.51150839",
         "0.51150839",
         "0.51150839",
         "1.0",
         "0.68",
         "0.68",
         "0.6",
         "0.65",
         "0.0",
         "1.41399004",
         "1.41399004",
         "1.41399004",
         "1.41399004",
         "1.0",
         "0.308769",
         "2025-01-10",
         "0.292158",
         "-0.05379749910127002",
         "0.307702",
         "0.271117",
         "-0.11889750472860099",
         "0.307549",
         "0.333964",
         "0.08588875268656365",
         "0.881102495271399",
         "SMILE",
         "21.0"
        ]
       ],
       "shape": {
        "columns": 214,
        "rows": 3
       }
      },
      "text/html": [
       "<div>\n",
       "<style scoped>\n",
       "    .dataframe tbody tr th:only-of-type {\n",
       "        vertical-align: middle;\n",
       "    }\n",
       "\n",
       "    .dataframe tbody tr th {\n",
       "        vertical-align: top;\n",
       "    }\n",
       "\n",
       "    .dataframe thead th {\n",
       "        text-align: right;\n",
       "    }\n",
       "</style>\n",
       "<table border=\"1\" class=\"dataframe\">\n",
       "  <thead>\n",
       "    <tr style=\"text-align: right;\">\n",
       "      <th></th>\n",
       "      <th>Open</th>\n",
       "      <th>High</th>\n",
       "      <th>Low</th>\n",
       "      <th>Close</th>\n",
       "      <th>Volume</th>\n",
       "      <th>IV_Open</th>\n",
       "      <th>IV_High</th>\n",
       "      <th>IV_Low</th>\n",
       "      <th>IV_Close</th>\n",
       "      <th>IV_Volume</th>\n",
       "      <th>...</th>\n",
       "      <th>OTM_Skew</th>\n",
       "      <th>ATM_IV_Call</th>\n",
       "      <th>ATM_IV_Put</th>\n",
       "      <th>ATM_Skew</th>\n",
       "      <th>ITM_IV_Call</th>\n",
       "      <th>ITM_IV_Put</th>\n",
       "      <th>ITM_Skew</th>\n",
       "      <th>Skew</th>\n",
       "      <th>Vol_Surface</th>\n",
       "      <th>DTE</th>\n",
       "    </tr>\n",
       "    <tr>\n",
       "      <th>Date</th>\n",
       "      <th></th>\n",
       "      <th></th>\n",
       "      <th></th>\n",
       "      <th></th>\n",
       "      <th></th>\n",
       "      <th></th>\n",
       "      <th></th>\n",
       "      <th></th>\n",
       "      <th></th>\n",
       "      <th></th>\n",
       "      <th></th>\n",
       "      <th></th>\n",
       "      <th></th>\n",
       "      <th></th>\n",
       "      <th></th>\n",
       "      <th></th>\n",
       "      <th></th>\n",
       "      <th></th>\n",
       "      <th></th>\n",
       "      <th></th>\n",
       "      <th></th>\n",
       "    </tr>\n",
       "  </thead>\n",
       "  <tbody>\n",
       "    <tr>\n",
       "      <th>2024-12-18 00:00:00+00:00</th>\n",
       "      <td>620.91</td>\n",
       "      <td>627.27</td>\n",
       "      <td>596.38</td>\n",
       "      <td>597.19</td>\n",
       "      <td>1490586</td>\n",
       "      <td>0.300949</td>\n",
       "      <td>0.337413</td>\n",
       "      <td>0.293805</td>\n",
       "      <td>0.337413</td>\n",
       "      <td>1.0</td>\n",
       "      <td>...</td>\n",
       "      <td>-0.127870</td>\n",
       "      <td>0.359481</td>\n",
       "      <td>0.311878</td>\n",
       "      <td>-0.132421</td>\n",
       "      <td>0.364192</td>\n",
       "      <td>0.325368</td>\n",
       "      <td>-0.106603</td>\n",
       "      <td>0.867579</td>\n",
       "      <td>FLAT</td>\n",
       "      <td>23.0</td>\n",
       "    </tr>\n",
       "    <tr>\n",
       "      <th>2024-12-19 00:00:00+00:00</th>\n",
       "      <td>610.20</td>\n",
       "      <td>611.52</td>\n",
       "      <td>595.00</td>\n",
       "      <td>595.57</td>\n",
       "      <td>1280265</td>\n",
       "      <td>0.343747</td>\n",
       "      <td>0.347223</td>\n",
       "      <td>0.323126</td>\n",
       "      <td>0.342461</td>\n",
       "      <td>1.0</td>\n",
       "      <td>...</td>\n",
       "      <td>0.028651</td>\n",
       "      <td>0.341921</td>\n",
       "      <td>0.327597</td>\n",
       "      <td>-0.041893</td>\n",
       "      <td>0.338562</td>\n",
       "      <td>0.339205</td>\n",
       "      <td>0.001899</td>\n",
       "      <td>0.958107</td>\n",
       "      <td>SMILE</td>\n",
       "      <td>22.0</td>\n",
       "    </tr>\n",
       "    <tr>\n",
       "      <th>2024-12-20 00:00:00+00:00</th>\n",
       "      <td>590.04</td>\n",
       "      <td>603.11</td>\n",
       "      <td>584.00</td>\n",
       "      <td>585.25</td>\n",
       "      <td>4112358</td>\n",
       "      <td>0.353605</td>\n",
       "      <td>0.359161</td>\n",
       "      <td>0.309093</td>\n",
       "      <td>0.314236</td>\n",
       "      <td>1.0</td>\n",
       "      <td>...</td>\n",
       "      <td>-0.053797</td>\n",
       "      <td>0.307702</td>\n",
       "      <td>0.271117</td>\n",
       "      <td>-0.118898</td>\n",
       "      <td>0.307549</td>\n",
       "      <td>0.333964</td>\n",
       "      <td>0.085889</td>\n",
       "      <td>0.881102</td>\n",
       "      <td>SMILE</td>\n",
       "      <td>21.0</td>\n",
       "    </tr>\n",
       "  </tbody>\n",
       "</table>\n",
       "<p>3 rows × 214 columns</p>\n",
       "</div>"
      ],
      "text/plain": [
       "                             Open    High     Low   Close   Volume   IV_Open  \\\n",
       "Date                                                                           \n",
       "2024-12-18 00:00:00+00:00  620.91  627.27  596.38  597.19  1490586  0.300949   \n",
       "2024-12-19 00:00:00+00:00  610.20  611.52  595.00  595.57  1280265  0.343747   \n",
       "2024-12-20 00:00:00+00:00  590.04  603.11  584.00  585.25  4112358  0.353605   \n",
       "\n",
       "                            IV_High    IV_Low  IV_Close  IV_Volume  ...  \\\n",
       "Date                                                                ...   \n",
       "2024-12-18 00:00:00+00:00  0.337413  0.293805  0.337413        1.0  ...   \n",
       "2024-12-19 00:00:00+00:00  0.347223  0.323126  0.342461        1.0  ...   \n",
       "2024-12-20 00:00:00+00:00  0.359161  0.309093  0.314236        1.0  ...   \n",
       "\n",
       "                           OTM_Skew  ATM_IV_Call  ATM_IV_Put  ATM_Skew  \\\n",
       "Date                                                                     \n",
       "2024-12-18 00:00:00+00:00 -0.127870     0.359481    0.311878 -0.132421   \n",
       "2024-12-19 00:00:00+00:00  0.028651     0.341921    0.327597 -0.041893   \n",
       "2024-12-20 00:00:00+00:00 -0.053797     0.307702    0.271117 -0.118898   \n",
       "\n",
       "                           ITM_IV_Call ITM_IV_Put  ITM_Skew      Skew  \\\n",
       "Date                                                                    \n",
       "2024-12-18 00:00:00+00:00     0.364192   0.325368 -0.106603  0.867579   \n",
       "2024-12-19 00:00:00+00:00     0.338562   0.339205  0.001899  0.958107   \n",
       "2024-12-20 00:00:00+00:00     0.307549   0.333964  0.085889  0.881102   \n",
       "\n",
       "                           Vol_Surface   DTE  \n",
       "Date                                          \n",
       "2024-12-18 00:00:00+00:00         FLAT  23.0  \n",
       "2024-12-19 00:00:00+00:00        SMILE  22.0  \n",
       "2024-12-20 00:00:00+00:00        SMILE  21.0  \n",
       "\n",
       "[3 rows x 214 columns]"
      ]
     },
     "execution_count": 9,
     "metadata": {},
     "output_type": "execute_result"
    }
   ],
   "source": [
    "fundamentals['Quarter'] = pd.to_datetime(fundamentals.index, utc=True).to_period('Q')\n",
    "stock_data['Quarter'] = pd.to_datetime(stock_data.index, utc=True).to_period('Q')\n",
    "\n",
    "stk_idx = stock_data.index\n",
    "stock_aug_data = pd.merge(stock_data, fundamentals, on='Quarter', how='left')\n",
    "stock_aug_data = stock_aug_data.set_index(stk_idx, drop=False)\n",
    "stock_aug_data = pd.merge_asof(\n",
    "    stock_aug_data.sort_index(),\n",
    "    econ_df.sort_index(),\n",
    "    left_index=True,\n",
    "    right_index=True,\n",
    "    direction='backward'\n",
    ").bfill().ffill()\n",
    "if stock_aug_data.isna().any().any():\n",
    "    raise ValueError(f\"Missing macros detected in stock_aug_data for {TARGET}.\")\n",
    "stock_aug_data = pd.merge(\n",
    "    stock_aug_data,\n",
    "    macro_data,\n",
    "    left_index=True,\n",
    "    right_index=True,\n",
    "    how='left'\n",
    ").bfill().ffill()\n",
    "stock_aug_data = pd.merge(\n",
    "    stock_aug_data,\n",
    "    optionchain_data,\n",
    "    left_index=True,\n",
    "    right_index=True,\n",
    "    how='left'\n",
    ").bfill().ffill()\n",
    "stock_aug_data = stock_aug_data.drop(columns=[\n",
    "    col for col in stock_aug_data.columns if col.endswith(\"_Average\") or col.endswith(\"_Barcount\") or col in [\"Average\", \"Barcount\"]\n",
    "])\n",
    "\n",
    "if stock_aug_data.isna().any().any():\n",
    "    raise ValueError(f\"Missing values detected in stock_aug_data for {TARGET}.\")\n",
    "\n",
    "stock_aug_data.tail(3)"
   ]
  },
  {
   "cell_type": "code",
   "execution_count": 10,
   "metadata": {},
   "outputs": [],
   "source": [
    "engineered_df = feature_engineer(stock_aug_data.copy(), market_ticker='SPX', roll_window=5)\n",
    "engineered_df.reset_index(inplace=True, drop=False)\n",
    "for col in engineered_df.columns:\n",
    "    if hasattr(engineered_df[col], \"dtype\") and (isinstance(engineered_df[col].dtype, pd.PeriodDtype) or engineered_df[col].dtype == 'object'):\n",
    "        engineered_df[col] = engineered_df[col].astype(str)\n",
    "\n",
    "if engineered_df.isna().any().any():\n",
    "    raise ValueError(f\"Missing engineered values detected in engineered_df for {TARGET}.\")\n"
   ]
  },
  {
   "cell_type": "markdown",
   "metadata": {},
   "source": [
    "# Combine News"
   ]
  },
  {
   "cell_type": "code",
   "execution_count": 11,
   "metadata": {},
   "outputs": [
    {
     "data": {
      "application/vnd.microsoft.datawrangler.viewer.v0+json": {
       "columns": [
        {
         "name": "index",
         "rawType": "int64",
         "type": "integer"
        },
        {
         "name": "Date",
         "rawType": "datetime64[ns, UTC]",
         "type": "unknown"
        },
        {
         "name": "Open",
         "rawType": "float64",
         "type": "float"
        },
        {
         "name": "High",
         "rawType": "float64",
         "type": "float"
        },
        {
         "name": "Low",
         "rawType": "float64",
         "type": "float"
        },
        {
         "name": "Close",
         "rawType": "float64",
         "type": "float"
        },
        {
         "name": "Volume",
         "rawType": "int64",
         "type": "integer"
        },
        {
         "name": "IV_Open",
         "rawType": "float64",
         "type": "float"
        },
        {
         "name": "IV_High",
         "rawType": "float64",
         "type": "float"
        },
        {
         "name": "IV_Low",
         "rawType": "float64",
         "type": "float"
        },
        {
         "name": "IV_Close",
         "rawType": "float64",
         "type": "float"
        },
        {
         "name": "IV_Volume",
         "rawType": "float64",
         "type": "float"
        },
        {
         "name": "HV_Open",
         "rawType": "float64",
         "type": "float"
        },
        {
         "name": "HV_High",
         "rawType": "float64",
         "type": "float"
        },
        {
         "name": "HV_Low",
         "rawType": "float64",
         "type": "float"
        },
        {
         "name": "HV_Close",
         "rawType": "float64",
         "type": "float"
        },
        {
         "name": "HV_Volume",
         "rawType": "float64",
         "type": "float"
        },
        {
         "name": "Ticker",
         "rawType": "object",
         "type": "string"
        },
        {
         "name": "Quarter",
         "rawType": "object",
         "type": "string"
        },
        {
         "name": "Net_Income",
         "rawType": "float64",
         "type": "float"
        },
        {
         "name": "Invested_Capital",
         "rawType": "float64",
         "type": "float"
        },
        {
         "name": "Return_on_Investment",
         "rawType": "float64",
         "type": "float"
        },
        {
         "name": "Current_Ratio",
         "rawType": "float64",
         "type": "float"
        },
        {
         "name": "Long_term_Debt_/_Capital",
         "rawType": "float64",
         "type": "float"
        },
        {
         "name": "Gross_Margin",
         "rawType": "float64",
         "type": "float"
        },
        {
         "name": "Operating_Margin",
         "rawType": "float64",
         "type": "float"
        },
        {
         "name": "EBIT_Margin",
         "rawType": "float64",
         "type": "float"
        },
        {
         "name": "EBITDA_Margin",
         "rawType": "float64",
         "type": "float"
        },
        {
         "name": "Pre_Tax_Profit_Margin",
         "rawType": "float64",
         "type": "float"
        },
        {
         "name": "Net_Profit_Margin",
         "rawType": "float64",
         "type": "float"
        },
        {
         "name": "Asset_Turnover",
         "rawType": "float64",
         "type": "float"
        },
        {
         "name": "Inventory_Turnover_Ratio",
         "rawType": "float64",
         "type": "float"
        },
        {
         "name": "Days_Sales_In_Receivables",
         "rawType": "float64",
         "type": "float"
        },
        {
         "name": "Book_Value_Per_Share",
         "rawType": "float64",
         "type": "float"
        },
        {
         "name": "Operating_Cash_Flow_Per_Share",
         "rawType": "float64",
         "type": "float"
        },
        {
         "name": "Free_Cash_Flow_Per_Share",
         "rawType": "float64",
         "type": "float"
        },
        {
         "name": "Stock_Price",
         "rawType": "float64",
         "type": "float"
        },
        {
         "name": "Book_Value_per_Share",
         "rawType": "float64",
         "type": "float"
        },
        {
         "name": "Price_to_Book_Ratio",
         "rawType": "float64",
         "type": "float"
        },
        {
         "name": "EPS",
         "rawType": "float64",
         "type": "float"
        },
        {
         "name": "TTM_FCF_per_Share",
         "rawType": "float64",
         "type": "float"
        },
        {
         "name": "Price_to_FCF_Ratio",
         "rawType": "float64",
         "type": "float"
        },
        {
         "name": "Total_Assets",
         "rawType": "float64",
         "type": "float"
        },
        {
         "name": "Return_on_Assets",
         "rawType": "float64",
         "type": "float"
        },
        {
         "name": "Current_Assets",
         "rawType": "float64",
         "type": "float"
        },
        {
         "name": "Current_Liabilities",
         "rawType": "float64",
         "type": "float"
        },
        {
         "name": "TTM_Sales_per_Share",
         "rawType": "float64",
         "type": "float"
        },
        {
         "name": "Price_to_Sales_Ratio",
         "rawType": "float64",
         "type": "float"
        },
        {
         "name": "Long_Term_Debt",
         "rawType": "float64",
         "type": "float"
        },
        {
         "name": "Shareholder's_Equity",
         "rawType": "float64",
         "type": "float"
        },
        {
         "name": "Debt_to_Equity_Ratio",
         "rawType": "float64",
         "type": "float"
        },
        {
         "name": "TTM_Net_EPS",
         "rawType": "float64",
         "type": "float"
        },
        {
         "name": "PE_Ratio",
         "rawType": "float64",
         "type": "float"
        },
        {
         "name": "Return_on_Equity",
         "rawType": "float64",
         "type": "float"
        },
        {
         "name": "Current_Assets___Inventory",
         "rawType": "float64",
         "type": "float"
        },
        {
         "name": "Quick_Ratio",
         "rawType": "float64",
         "type": "float"
        },
        {
         "name": "Quick_Ratio_QoQ_Growth",
         "rawType": "float64",
         "type": "float"
        },
        {
         "name": "Quick_Ratio_YoY_Growth",
         "rawType": "float64",
         "type": "float"
        },
        {
         "name": "Current_Ratio_QoQ_Growth",
         "rawType": "float64",
         "type": "float"
        },
        {
         "name": "Current_Ratio_YoY_Growth",
         "rawType": "float64",
         "type": "float"
        },
        {
         "name": "Debt_to_Equity_Ratio_QoQ_Growth",
         "rawType": "float64",
         "type": "float"
        },
        {
         "name": "Debt_to_Equity_Ratio_YoY_Growth",
         "rawType": "float64",
         "type": "float"
        },
        {
         "name": "Gross_Margin_QoQ_Growth",
         "rawType": "float64",
         "type": "float"
        },
        {
         "name": "Gross_Margin_YoY_Growth",
         "rawType": "float64",
         "type": "float"
        },
        {
         "name": "Operating_Margin_QoQ_Growth",
         "rawType": "float64",
         "type": "float"
        },
        {
         "name": "Operating_Margin_YoY_Growth",
         "rawType": "float64",
         "type": "float"
        },
        {
         "name": "EBIT_Margin_QoQ_Growth",
         "rawType": "float64",
         "type": "float"
        },
        {
         "name": "EBIT_Margin_YoY_Growth",
         "rawType": "float64",
         "type": "float"
        },
        {
         "name": "Net_Profit_Margin_QoQ_Growth",
         "rawType": "float64",
         "type": "float"
        },
        {
         "name": "Net_Profit_Margin_YoY_Growth",
         "rawType": "float64",
         "type": "float"
        },
        {
         "name": "Asset_Turnover_QoQ_Growth",
         "rawType": "float64",
         "type": "float"
        },
        {
         "name": "Asset_Turnover_YoY_Growth",
         "rawType": "float64",
         "type": "float"
        },
        {
         "name": "Inventory_Turnover_Ratio_QoQ_Growth",
         "rawType": "float64",
         "type": "float"
        },
        {
         "name": "Inventory_Turnover_Ratio_YoY_Growth",
         "rawType": "float64",
         "type": "float"
        },
        {
         "name": "Price_to_Book_Ratio_QoQ_Growth",
         "rawType": "float64",
         "type": "float"
        },
        {
         "name": "Price_to_Book_Ratio_YoY_Growth",
         "rawType": "float64",
         "type": "float"
        },
        {
         "name": "PE_Ratio_QoQ_Growth",
         "rawType": "float64",
         "type": "float"
        },
        {
         "name": "PE_Ratio_YoY_Growth",
         "rawType": "float64",
         "type": "float"
        },
        {
         "name": "EPS_QoQ_Growth",
         "rawType": "float64",
         "type": "float"
        },
        {
         "name": "EPS_YoY_Growth",
         "rawType": "float64",
         "type": "float"
        },
        {
         "name": "Net_Income_QoQ_Growth",
         "rawType": "float64",
         "type": "float"
        },
        {
         "name": "Net_Income_YoY_Growth",
         "rawType": "float64",
         "type": "float"
        },
        {
         "name": "Free_Cash_Flow_Per_Share_QoQ_Growth",
         "rawType": "float64",
         "type": "float"
        },
        {
         "name": "Free_Cash_Flow_Per_Share_YoY_Growth",
         "rawType": "float64",
         "type": "float"
        },
        {
         "name": "Operating_Cash_Flow_Per_Share_QoQ_Growth",
         "rawType": "float64",
         "type": "float"
        },
        {
         "name": "Operating_Cash_Flow_Per_Share_YoY_Growth",
         "rawType": "float64",
         "type": "float"
        },
        {
         "name": "Return_on_Equity_QoQ_Growth",
         "rawType": "float64",
         "type": "float"
        },
        {
         "name": "Return_on_Equity_YoY_Growth",
         "rawType": "float64",
         "type": "float"
        },
        {
         "name": "Return_on_Assets_QoQ_Growth",
         "rawType": "float64",
         "type": "float"
        },
        {
         "name": "Return_on_Assets_YoY_Growth",
         "rawType": "float64",
         "type": "float"
        },
        {
         "name": "PMI",
         "rawType": "float64",
         "type": "float"
        },
        {
         "name": "PPI",
         "rawType": "float64",
         "type": "float"
        },
        {
         "name": "Retail_Sales",
         "rawType": "float64",
         "type": "float"
        },
        {
         "name": "Employment",
         "rawType": "float64",
         "type": "float"
        },
        {
         "name": "Yield_Curve",
         "rawType": "float64",
         "type": "float"
        },
        {
         "name": "Treasury_Yields",
         "rawType": "float64",
         "type": "float"
        },
        {
         "name": "CPI",
         "rawType": "float64",
         "type": "float"
        },
        {
         "name": "Consumer_Confidence",
         "rawType": "float64",
         "type": "float"
        },
        {
         "name": "Housing_Starts",
         "rawType": "float64",
         "type": "float"
        },
        {
         "name": "M2_Money_Supply",
         "rawType": "float64",
         "type": "float"
        },
        {
         "name": "GDP",
         "rawType": "float64",
         "type": "float"
        },
        {
         "name": "PMI_YoY",
         "rawType": "float64",
         "type": "float"
        },
        {
         "name": "PPI_YoY",
         "rawType": "float64",
         "type": "float"
        },
        {
         "name": "Retail_Sales_YoY",
         "rawType": "float64",
         "type": "float"
        },
        {
         "name": "Employment_YoY",
         "rawType": "float64",
         "type": "float"
        },
        {
         "name": "Yield_Curve_YoY",
         "rawType": "float64",
         "type": "float"
        },
        {
         "name": "Treasury_Yields_YoY",
         "rawType": "float64",
         "type": "float"
        },
        {
         "name": "CPI_YoY",
         "rawType": "float64",
         "type": "float"
        },
        {
         "name": "Consumer_Confidence_YoY",
         "rawType": "float64",
         "type": "float"
        },
        {
         "name": "Housing_Starts_YoY",
         "rawType": "float64",
         "type": "float"
        },
        {
         "name": "M2_Money_Supply_YoY",
         "rawType": "float64",
         "type": "float"
        },
        {
         "name": "GDP_YoY",
         "rawType": "float64",
         "type": "float"
        },
        {
         "name": "PMI_QoQ",
         "rawType": "float64",
         "type": "float"
        },
        {
         "name": "PPI_QoQ",
         "rawType": "float64",
         "type": "float"
        },
        {
         "name": "Retail_Sales_QoQ",
         "rawType": "float64",
         "type": "float"
        },
        {
         "name": "Employment_QoQ",
         "rawType": "float64",
         "type": "float"
        },
        {
         "name": "Yield_Curve_QoQ",
         "rawType": "float64",
         "type": "float"
        },
        {
         "name": "Treasury_Yields_QoQ",
         "rawType": "float64",
         "type": "float"
        },
        {
         "name": "CPI_QoQ",
         "rawType": "float64",
         "type": "float"
        },
        {
         "name": "Consumer_Confidence_QoQ",
         "rawType": "float64",
         "type": "float"
        },
        {
         "name": "Housing_Starts_QoQ",
         "rawType": "float64",
         "type": "float"
        },
        {
         "name": "M2_Money_Supply_QoQ",
         "rawType": "float64",
         "type": "float"
        },
        {
         "name": "GDP_QoQ",
         "rawType": "float64",
         "type": "float"
        },
        {
         "name": "SPX_Open",
         "rawType": "float64",
         "type": "float"
        },
        {
         "name": "SPX_High",
         "rawType": "float64",
         "type": "float"
        },
        {
         "name": "SPX_Low",
         "rawType": "float64",
         "type": "float"
        },
        {
         "name": "SPX_Close",
         "rawType": "float64",
         "type": "float"
        },
        {
         "name": "SPX_Volume",
         "rawType": "float64",
         "type": "float"
        },
        {
         "name": "SPX_IV_Open",
         "rawType": "float64",
         "type": "float"
        },
        {
         "name": "SPX_IV_High",
         "rawType": "float64",
         "type": "float"
        },
        {
         "name": "SPX_IV_Low",
         "rawType": "float64",
         "type": "float"
        },
        {
         "name": "SPX_IV_Close",
         "rawType": "float64",
         "type": "float"
        },
        {
         "name": "SPX_IV_Volume",
         "rawType": "float64",
         "type": "float"
        },
        {
         "name": "SPX_HV_Open",
         "rawType": "float64",
         "type": "float"
        },
        {
         "name": "SPX_HV_High",
         "rawType": "float64",
         "type": "float"
        },
        {
         "name": "SPX_HV_Low",
         "rawType": "float64",
         "type": "float"
        },
        {
         "name": "SPX_HV_Close",
         "rawType": "float64",
         "type": "float"
        },
        {
         "name": "SPX_HV_Volume",
         "rawType": "float64",
         "type": "float"
        },
        {
         "name": "NDX_Open",
         "rawType": "float64",
         "type": "float"
        },
        {
         "name": "NDX_High",
         "rawType": "float64",
         "type": "float"
        },
        {
         "name": "NDX_Low",
         "rawType": "float64",
         "type": "float"
        },
        {
         "name": "NDX_Close",
         "rawType": "float64",
         "type": "float"
        },
        {
         "name": "NDX_Volume",
         "rawType": "float64",
         "type": "float"
        },
        {
         "name": "NDX_IV_Open",
         "rawType": "float64",
         "type": "float"
        },
        {
         "name": "NDX_IV_High",
         "rawType": "float64",
         "type": "float"
        },
        {
         "name": "NDX_IV_Low",
         "rawType": "float64",
         "type": "float"
        },
        {
         "name": "NDX_IV_Close",
         "rawType": "float64",
         "type": "float"
        },
        {
         "name": "NDX_IV_Volume",
         "rawType": "float64",
         "type": "float"
        },
        {
         "name": "NDX_HV_Open",
         "rawType": "float64",
         "type": "float"
        },
        {
         "name": "NDX_HV_High",
         "rawType": "float64",
         "type": "float"
        },
        {
         "name": "NDX_HV_Low",
         "rawType": "float64",
         "type": "float"
        },
        {
         "name": "NDX_HV_Close",
         "rawType": "float64",
         "type": "float"
        },
        {
         "name": "NDX_HV_Volume",
         "rawType": "float64",
         "type": "float"
        },
        {
         "name": "VIX_Open",
         "rawType": "float64",
         "type": "float"
        },
        {
         "name": "VIX_High",
         "rawType": "float64",
         "type": "float"
        },
        {
         "name": "VIX_Low",
         "rawType": "float64",
         "type": "float"
        },
        {
         "name": "VIX_Close",
         "rawType": "float64",
         "type": "float"
        },
        {
         "name": "VIX_Volume",
         "rawType": "float64",
         "type": "float"
        },
        {
         "name": "VIX_IV_Open",
         "rawType": "float64",
         "type": "float"
        },
        {
         "name": "VIX_IV_High",
         "rawType": "float64",
         "type": "float"
        },
        {
         "name": "VIX_IV_Low",
         "rawType": "float64",
         "type": "float"
        },
        {
         "name": "VIX_IV_Close",
         "rawType": "float64",
         "type": "float"
        },
        {
         "name": "VIX_IV_Volume",
         "rawType": "float64",
         "type": "float"
        },
        {
         "name": "VIX_HV_Open",
         "rawType": "float64",
         "type": "float"
        },
        {
         "name": "VIX_HV_High",
         "rawType": "float64",
         "type": "float"
        },
        {
         "name": "VIX_HV_Low",
         "rawType": "float64",
         "type": "float"
        },
        {
         "name": "VIX_HV_Close",
         "rawType": "float64",
         "type": "float"
        },
        {
         "name": "VIX_HV_Volume",
         "rawType": "float64",
         "type": "float"
        },
        {
         "name": "TNX_Open",
         "rawType": "float64",
         "type": "float"
        },
        {
         "name": "TNX_High",
         "rawType": "float64",
         "type": "float"
        },
        {
         "name": "TNX_Low",
         "rawType": "float64",
         "type": "float"
        },
        {
         "name": "TNX_Close",
         "rawType": "float64",
         "type": "float"
        },
        {
         "name": "TNX_Volume",
         "rawType": "float64",
         "type": "float"
        },
        {
         "name": "TNX_HV_Open",
         "rawType": "float64",
         "type": "float"
        },
        {
         "name": "TNX_HV_High",
         "rawType": "float64",
         "type": "float"
        },
        {
         "name": "TNX_HV_Low",
         "rawType": "float64",
         "type": "float"
        },
        {
         "name": "TNX_HV_Close",
         "rawType": "float64",
         "type": "float"
        },
        {
         "name": "TNX_HV_Volume",
         "rawType": "float64",
         "type": "float"
        },
        {
         "name": "IRX_Open",
         "rawType": "float64",
         "type": "float"
        },
        {
         "name": "IRX_High",
         "rawType": "float64",
         "type": "float"
        },
        {
         "name": "IRX_Low",
         "rawType": "float64",
         "type": "float"
        },
        {
         "name": "IRX_Close",
         "rawType": "float64",
         "type": "float"
        },
        {
         "name": "IRX_Volume",
         "rawType": "float64",
         "type": "float"
        },
        {
         "name": "IRX_HV_Open",
         "rawType": "float64",
         "type": "float"
        },
        {
         "name": "IRX_HV_High",
         "rawType": "float64",
         "type": "float"
        },
        {
         "name": "IRX_HV_Low",
         "rawType": "float64",
         "type": "float"
        },
        {
         "name": "IRX_HV_Close",
         "rawType": "float64",
         "type": "float"
        },
        {
         "name": "IRX_HV_Volume",
         "rawType": "float64",
         "type": "float"
        },
        {
         "name": "OTM_IV_Call",
         "rawType": "float64",
         "type": "float"
        },
        {
         "name": "expiration_date",
         "rawType": "object",
         "type": "string"
        },
        {
         "name": "OTM_IV_Put",
         "rawType": "float64",
         "type": "float"
        },
        {
         "name": "OTM_Skew",
         "rawType": "float64",
         "type": "float"
        },
        {
         "name": "ATM_IV_Call",
         "rawType": "float64",
         "type": "float"
        },
        {
         "name": "ATM_IV_Put",
         "rawType": "float64",
         "type": "float"
        },
        {
         "name": "ATM_Skew",
         "rawType": "float64",
         "type": "float"
        },
        {
         "name": "ITM_IV_Call",
         "rawType": "float64",
         "type": "float"
        },
        {
         "name": "ITM_IV_Put",
         "rawType": "float64",
         "type": "float"
        },
        {
         "name": "ITM_Skew",
         "rawType": "float64",
         "type": "float"
        },
        {
         "name": "Skew",
         "rawType": "float64",
         "type": "float"
        },
        {
         "name": "Vol_Surface",
         "rawType": "object",
         "type": "string"
        },
        {
         "name": "DTE",
         "rawType": "float64",
         "type": "float"
        },
        {
         "name": "20MA",
         "rawType": "float64",
         "type": "float"
        },
        {
         "name": "50MA",
         "rawType": "float64",
         "type": "float"
        },
        {
         "name": "100MA",
         "rawType": "float64",
         "type": "float"
        },
        {
         "name": "200MA",
         "rawType": "float64",
         "type": "float"
        },
        {
         "name": "RSI",
         "rawType": "float64",
         "type": "float"
        },
        {
         "name": "ATR",
         "rawType": "float64",
         "type": "float"
        },
        {
         "name": "MACD",
         "rawType": "float64",
         "type": "float"
        },
        {
         "name": "Signal_Line",
         "rawType": "float64",
         "type": "float"
        },
        {
         "name": "VWAP",
         "rawType": "float64",
         "type": "float"
        },
        {
         "name": "20MA_Slope",
         "rawType": "float64",
         "type": "float"
        },
        {
         "name": "20MA_Z",
         "rawType": "float64",
         "type": "float"
        },
        {
         "name": "50MA_Slope",
         "rawType": "float64",
         "type": "float"
        },
        {
         "name": "50MA_Z",
         "rawType": "float64",
         "type": "float"
        },
        {
         "name": "100MA_Slope",
         "rawType": "float64",
         "type": "float"
        },
        {
         "name": "100MA_Z",
         "rawType": "float64",
         "type": "float"
        },
        {
         "name": "200MA_Slope",
         "rawType": "float64",
         "type": "float"
        },
        {
         "name": "200MA_Z",
         "rawType": "float64",
         "type": "float"
        },
        {
         "name": "Open_MA",
         "rawType": "float64",
         "type": "float"
        },
        {
         "name": "Open_Slope",
         "rawType": "float64",
         "type": "float"
        },
        {
         "name": "Open_Z",
         "rawType": "float64",
         "type": "float"
        },
        {
         "name": "High_MA",
         "rawType": "float64",
         "type": "float"
        },
        {
         "name": "High_Slope",
         "rawType": "float64",
         "type": "float"
        },
        {
         "name": "High_Z",
         "rawType": "float64",
         "type": "float"
        },
        {
         "name": "Low_MA",
         "rawType": "float64",
         "type": "float"
        },
        {
         "name": "Low_Slope",
         "rawType": "float64",
         "type": "float"
        },
        {
         "name": "Low_Z",
         "rawType": "float64",
         "type": "float"
        },
        {
         "name": "Close_MA",
         "rawType": "float64",
         "type": "float"
        },
        {
         "name": "Close_Slope",
         "rawType": "float64",
         "type": "float"
        },
        {
         "name": "Close_Z",
         "rawType": "float64",
         "type": "float"
        },
        {
         "name": "Volume_MA",
         "rawType": "float64",
         "type": "float"
        },
        {
         "name": "Volume_Slope",
         "rawType": "float64",
         "type": "float"
        },
        {
         "name": "Volume_Z",
         "rawType": "float64",
         "type": "float"
        },
        {
         "name": "IV_Close_MA",
         "rawType": "float64",
         "type": "float"
        },
        {
         "name": "IV_Close_Slope",
         "rawType": "float64",
         "type": "float"
        },
        {
         "name": "IV_Close_Z",
         "rawType": "float64",
         "type": "float"
        },
        {
         "name": "HV_Close_MA",
         "rawType": "float64",
         "type": "float"
        },
        {
         "name": "HV_Close_Slope",
         "rawType": "float64",
         "type": "float"
        },
        {
         "name": "HV_Close_Z",
         "rawType": "float64",
         "type": "float"
        },
        {
         "name": "SPX_Close_MA",
         "rawType": "float64",
         "type": "float"
        },
        {
         "name": "SPX_Close_Slope",
         "rawType": "float64",
         "type": "float"
        },
        {
         "name": "SPX_Close_Z",
         "rawType": "float64",
         "type": "float"
        },
        {
         "name": "NDX_Close_MA",
         "rawType": "float64",
         "type": "float"
        },
        {
         "name": "NDX_Close_Slope",
         "rawType": "float64",
         "type": "float"
        },
        {
         "name": "NDX_Close_Z",
         "rawType": "float64",
         "type": "float"
        },
        {
         "name": "VIX_Close_MA",
         "rawType": "float64",
         "type": "float"
        },
        {
         "name": "VIX_Close_Slope",
         "rawType": "float64",
         "type": "float"
        },
        {
         "name": "VIX_Close_Z",
         "rawType": "float64",
         "type": "float"
        },
        {
         "name": "TNX_Close_MA",
         "rawType": "float64",
         "type": "float"
        },
        {
         "name": "TNX_Close_Slope",
         "rawType": "float64",
         "type": "float"
        },
        {
         "name": "TNX_Close_Z",
         "rawType": "float64",
         "type": "float"
        },
        {
         "name": "Gap_Open",
         "rawType": "float64",
         "type": "float"
        },
        {
         "name": "Gap_Percentage",
         "rawType": "float64",
         "type": "float"
        },
        {
         "name": "Range_Percentage",
         "rawType": "float64",
         "type": "float"
        },
        {
         "name": "Weekly_High",
         "rawType": "float64",
         "type": "float"
        },
        {
         "name": "Weekly_Low",
         "rawType": "float64",
         "type": "float"
        },
        {
         "name": "Weekly_Range_Width",
         "rawType": "float64",
         "type": "float"
        },
        {
         "name": "Rolling_Gap",
         "rawType": "float64",
         "type": "float"
        },
        {
         "name": "Gap_Holding_Strength",
         "rawType": "float64",
         "type": "float"
        },
        {
         "name": "Daily_Cumulative_Return",
         "rawType": "float64",
         "type": "float"
        },
        {
         "name": "Daily_Past_Returns",
         "rawType": "object",
         "type": "string"
        },
        {
         "name": "Weekly_Past_Returns",
         "rawType": "object",
         "type": "string"
        },
        {
         "name": "Market_Returns",
         "rawType": "float64",
         "type": "float"
        },
        {
         "name": "Close_Returns",
         "rawType": "float64",
         "type": "float"
        },
        {
         "name": "Market_Beta",
         "rawType": "float64",
         "type": "float"
        },
        {
         "name": "MA_OTM_IV_Call",
         "rawType": "float64",
         "type": "float"
        },
        {
         "name": "MA_OTM_IV_Put",
         "rawType": "float64",
         "type": "float"
        },
        {
         "name": "MA_OTM_Skew",
         "rawType": "float64",
         "type": "float"
        },
        {
         "name": "MA_ATM_IV_Call",
         "rawType": "float64",
         "type": "float"
        },
        {
         "name": "MA_ATM_IV_Put",
         "rawType": "float64",
         "type": "float"
        },
        {
         "name": "MA_ATM_Skew",
         "rawType": "float64",
         "type": "float"
        },
        {
         "name": "MA_ITM_IV_Call",
         "rawType": "float64",
         "type": "float"
        },
        {
         "name": "MA_ITM_IV_Put",
         "rawType": "float64",
         "type": "float"
        },
        {
         "name": "MA_ITM_Skew",
         "rawType": "float64",
         "type": "float"
        },
        {
         "name": "MACD_Strength",
         "rawType": "float64",
         "type": "float"
        },
        {
         "name": "MACD_Strength_Slope",
         "rawType": "float64",
         "type": "float"
        },
        {
         "name": "RSI_Divergence",
         "rawType": "float64",
         "type": "float"
        },
        {
         "name": "Volume_Momentum",
         "rawType": "float64",
         "type": "float"
        },
        {
         "name": "Volume_Weighted_Returns",
         "rawType": "float64",
         "type": "float"
        },
        {
         "name": "BB_Upper",
         "rawType": "float64",
         "type": "float"
        },
        {
         "name": "BB_Middle",
         "rawType": "float64",
         "type": "float"
        },
        {
         "name": "BB_Lower",
         "rawType": "float64",
         "type": "float"
        },
        {
         "name": "BB_Width",
         "rawType": "float64",
         "type": "float"
        },
        {
         "name": "IV_Percentile",
         "rawType": "float64",
         "type": "float"
        },
        {
         "name": "VIX_Impact",
         "rawType": "float64",
         "type": "float"
        },
        {
         "name": "Momentum_Long",
         "rawType": "bool",
         "type": "boolean"
        },
        {
         "name": "Momentum_Short",
         "rawType": "bool",
         "type": "boolean"
        },
        {
         "name": "content",
         "rawType": "object",
         "type": "unknown"
        }
       ],
       "conversionMethod": "pd.DataFrame",
       "ref": "01af3978-7b7d-4ae5-b5e6-42b92e21eb9f",
       "rows": [
        [
         "3166",
         "2024-12-18 00:00:00+00:00",
         "620.91",
         "627.27",
         "596.38",
         "597.19",
         "1490586",
         "0.30094892",
         "0.33741266",
         "0.29380539",
         "0.33741266",
         "1.0",
         "0.27724828",
         "0.27724828",
         "0.27724828",
         "0.27724828",
         "1.0",
         "META",
         "2024Q4",
         "62400000000.0",
         "193350000000.0",
         "0.3525999999999999",
         "2.671",
         "0.1072",
         "80.7571",
         "34.6555",
         "34.6555",
         "42.9415",
         "35.1574",
         "28.9825",
         "0.5875",
         "0.0",
         "43.7479",
         "59.8079",
         "8.3689",
         "9.6235",
         "571.98",
         "65.19",
         "8.77",
         "6.03",
         "20.13",
         "28.42",
         "256410000000.0",
         "0.2366",
         "91070000000.0",
         "33330000000.0",
         "59.73",
         "9.58",
         "91880000000.0",
         "164530000000.0",
         "0.56",
         "21.23",
         "26.96",
         "0.356",
         "0.0",
         "0.0",
         "0.0",
         "0.0",
         "0.21221748207315969",
         "0.0",
         "0.19148936170212785",
         "0.09803921568627459",
         "0.030757920183592666",
         "0.0",
         "0.3961944128856552",
         "0.0",
         "0.3961944128856552",
         "0.0",
         "0.4567291260379179",
         "0.0",
         "-0.06434145564580346",
         "0.0",
         "0.0",
         "0.0",
         "0.07872078720787193",
         "0.6301115241635687",
         "0.048619214313496695",
         "0.02043906131718392",
         "0.16860465116279072",
         "0.3735763097949888",
         "0.061224489795918366",
         "0.6970356268697308",
         "-2.4708309770896695",
         "0.0",
         "-6.596803317060122",
         "0.0",
         "0.04215456674473092",
         "0.5787139689578713",
         "0.0336391437308869",
         "0.5783855903935957",
         "49.7",
         "253.548",
         "736535.0",
         "159536.0",
         "0.33",
         "4.39",
         "317.685",
         "98.91297",
         "1289.0",
         "21533.8",
         "29700.58",
         "0.006072874493927127",
         "0.014735898441564643",
         "-0.03827270756783996",
         "0.014189086100798498",
         "-1.942857142857143",
         "0.09203980099502496",
         "0.028965932720523835",
         "0.00818746770197043",
         "-0.1779336734693877",
         "0.03900527854709668",
         "0.04960294861283199",
         "0.03757828810020891",
         "0.003419290497221894",
         "0.077501835981731",
         "0.0032133312372268907",
         "1.2000000000000002",
         "0.18010752688172027",
         "0.009530134801039924",
         "0.0",
         "-0.048708487084870855",
         "0.014654051303315319",
         "0.011086534585258656",
         "3733.27",
         "3760.2",
         "3726.88",
         "3756.07",
         "0.0",
         "0.18014392",
         "0.18187424",
         "0.17346075",
         "0.17346075",
         "1.0",
         "0.10242232",
         "0.10242232",
         "0.10242232",
         "0.10242232",
         "1.0",
         "12852.96",
         "12904.09",
         "12804.75",
         "12888.28",
         "0.0",
         "0.22664035",
         "0.23499034",
         "0.22414805",
         "0.22933902",
         "1.0",
         "0.14474376",
         "0.14474376",
         "0.14474376",
         "0.14474376",
         "1.0",
         "22.99",
         "23.25",
         "21.24",
         "22.75",
         "0.0",
         "1.34863469",
         "1.35030151",
         "1.0555754",
         "1.09850007",
         "1.0",
         "1.10283381",
         "1.10283381",
         "1.10283381",
         "1.10283381",
         "1.0",
         "9.27",
         "9.37",
         "9.12",
         "9.17",
         "0.0",
         "0.51150839",
         "0.51150839",
         "0.51150839",
         "0.51150839",
         "1.0",
         "0.68",
         "0.68",
         "0.6",
         "0.65",
         "0.0",
         "1.41399004",
         "1.41399004",
         "1.41399004",
         "1.41399004",
         "1.0",
         "0.366653",
         "2025-01-10",
         "0.319769",
         "-0.12787022061731387",
         "0.359481",
         "0.311878",
         "-0.1324214631649517",
         "0.364192",
         "0.325368",
         "-0.10660311044723669",
         "0.8675785368350483",
         "FLAT",
         "23.0",
         "599.0229999999999",
         "585.8483999999999",
         "558.367",
         "524.082649999999",
         "49.14839286956006",
         "15.796877772804935",
         "11.590621078269578",
         "11.790399247191166",
         "126.58000790329653",
         "2.8209000000000026",
         "1.1664348775639277",
         "0.5452799999999965",
         "0.9769104574152752",
         "1.5548299999999418",
         "1.2092025956813655",
         "0.6019749999999606",
         "1.2240421573204476",
         "627.3639999999999",
         "-0.009144006127920367",
         "-1.5329115484608842",
         "631.624",
         "-0.007719686783200183",
         "-1.3062753088942887",
         "615.2",
         "-0.033012290430327225",
         "-1.6550068090565828",
         "618.402",
         "-0.035919540229885055",
         "-1.6738648196118715",
         "1016716.6",
         "0.44002944620271506",
         "1.5109879680564207",
         "0.29211951599999997",
         "0.13160835826758113",
         "1.5992319187517061",
         "0.270561936",
         "0.029958129388285012",
         "1.3055228445009983",
         "3756.07",
         "0.0",
         "0.4472135955234448",
         "12888.28",
         "0.0",
         "0.4472135953294231",
         "22.75",
         "0.0",
         "-0.4472135959261813",
         "9.17",
         "0.0",
         "-0.4472135947016216",
         "1.4699999999999136",
         "0.2373111197210244",
         "5.172558147323294",
         "636.58",
         "596.38",
         "6.73152598000637",
         "1.8639999999999872",
         "0.0023234494531199244",
         "0.943905291774673",
         "-0.30%, -1.66%, 0.63%, -0.77%, -3.59%",
         "-5.98%, 0.91%, 2.71%, 8.61%",
         "0.0",
         "-0.03591954022988508",
         "0.0",
         "0.30321739999999997",
         "0.28443660000000004",
         "-0.058180325150590725",
         "0.3045356",
         "0.2809248000000001",
         "-0.07489998412064293",
         "0.30478400000000005",
         "0.285347",
         "-0.06158443686979591",
         "-0.19977816892158806",
         "-1.2713687960642261",
         "-4.064460702556163",
         "0.11705580305006932",
         "-13787.401583462091",
         "641.071201662187",
         "618.4019999999995",
         "595.7327983378119",
         "0.07591956215672586",
         "1.0",
         "0.0",
         "False",
         "True",
         "['<p>Entrepreneur and investor <strong>Mark Cuban</strong> has been an outspoken critic of<strong> Elon Musk</strong> and the <strong>X</strong> social media platform. In a recent interview, Cuban shares what sets <strong>Bluesky </strong>apart from X and why he\\'s spending<a href=\"https://www.benzinga.com/general/social-media/24/12/42421291/alexandria-ocasio-cortez-aoc-hits-1-million-followers-with-top-bluesky-account-mark-cuban-gains-popularity-jack-dorsey-notably-absent\"> more time there.</a></p>\\n\\n\\n\\n<p><strong>Why Cuban Loves Bluesky:</strong> Alternate platforms to <strong>X,</strong> formerly known as Twitter, such as Bluesky and<strong> Meta Platforms Inc. </strong>(NASDAQ:<a class=\"ticker\" href=\"https://www.benzinga.com/stock/META#NASDAQ\">META</a>)-owned <strong>Threads</strong> have <a href=\"https://www.benzinga.com/general/social-media/24/12/42305424/threads-takes-on-x-bluesky-with-new-search-options-making-it-easier-for-you\">seen a rise</a> in user growth after the 2024 presidential election.</p>\\n\\n\\n\\n<p>Cuban is spending more time on Bluesky where his 775,000 plus <a href=\"https://bsky.app/profile/mcuban.bsky.social\">followers </a>make him one of the most followed accounts. Cuban has 8.8 million <a href=\"https://x.com/mcuban/\">followers </a>on X for comparison.</p>\\n\\n\\n\\n<p>During a recent <a href=\"https://www.youtube.com/watch?v=oEK2063FPLw\">interview </a>with <strong>Jules Terpak</strong>, Cuban discussed the current climate of social media and said that all the platforms are algorithmically driven except for one, naming Bluesky as the outlier.</p>\\n\\n\\n\\n<p><strong>\"There\\'s no algorithm,\" Cuban said.</strong></p>\\n\\n\\n\\n<p>Cuban highlighted several features of Bluesky during the interview including the limited number of bots, an \"old school\" chronological order and the ability to make your own lists with the open-source code.</p>\\n\\n\\n\\n<p>When it comes to what sets Bluesky apart from X, Cuban highlighted one item as the \"holy grail.\"<br>\"You truly own your threads.\"</p>\\n\\n\\n\\n<p>Cuban said Bluesky users have complete control over the threads on their posts, including the quote replies.<br>\"There\\'s a hide for everyone and there\\'s a block that really works.\"</p>\\n\\n\\n\\n<p>The entrepreneur said he saw a high volume of people come over from X to Bluesky to troll him during the 2024 election sharing memes and what he referenced as the \"Rachel Maddow\" pictures, which compare the TV host and investor\\'s resemblance. Cuban said he could block people and hide the replies on posts from trolls for everyone.</p>\\n\\n\\n\\n<p>Cuban says he sees a lower volume of trolls on Bluesky versus X, where he can\\'t even engage with anyone anymore due to the trolls. The investor recently counted 246 replies on a post on Bluesky and only five were from trolls.</p>\\n\\n\\n\\n<p>On Bluesky, Cuban is having engaging conversations with people and making fun posts for the first time in years on topics he enjoys talking with others about.</p>\\n\\n\\n\\n<p>\"People have lost the connection to just have normal engagement.\"</p>\\n\\n\\n\\n<p>Cuban said his followers on Bluesky are far more engaging than on Twitter, referencing a Bluesky post that recently got 110,000 likes.</p>\\n\\n\\n\\n<p>\"The engagement is insane. You can have a social friendly, intellectual conversation on Bluesky.\"</p>\\n\\n\\n\\n<p><strong>You may not be a billionaire like Mark Cuban, but you can uncover hidden gems in the stock market using our proprietary data and pattern recognition — </strong><a href=\"https://www.benzinga.com/general/social-media/24/12/42490690/benzingas-stock-whisper-index-5-stocks-investors-secretly-monitor-but-dont-talk-about-yet\"><strong>check out five stocks flying under the radar that deserve your attention.</strong></a></p>\\n\\n\\n\\n<p><strong>TikTok Ban:</strong> During the interview, Cuban and Terpak also discussed the pending ban of TikTok in the U.S. unless the company\\'s U.S. division is sold off.</p>\\n\\n\\n\\n<p>Cuban said he loved the old TikTok and referenced being on the musical.ly platform, which went on to become TikTok, saying he tried to invest in that precursor company.</p>\\n\\n\\n\\n<p>TikTok changed the world with quick videos, dance and attention grabbing content, but a push to make money made the platform feel more corporate, Cuban added.</p>\\n\\n\\n\\n<p>To fight off a potential ban, TikTok brought in Cuban for a meeting to share suggestions on how to get around the troubles, he told Terpak. Cuban said he suggested to the company to have an output in the form of a url for the feed of videos watched by anyone 16 and under.</p>\\n\\n\\n\\n<p>This would make it to where parents would be able to go back and see the list and watch videos their children had watched at any given time. Cuban said this would be good for parents and a governmental perspective to make sure there wasn\\'t propaganda forced on people.</p>\\n\\n\\n\\n<p>Cuban was asked what the biggest takeaway from TikTok is if the platform is banned.</p>\\n\\n\\n\\n<p>\"The biggest learning is he who controls the algorithm wins.\"</p>\\n\\n\\n\\n<p>Cuban said TikTok was an early winner of using an algorithm to put content that people would like in front of them based on what they were watching and were liking.</p>\\n\\n\\n\\n<p>While there is a potential ban date of Jan. 19 for TikTok in the U.S., which is the day before President <strong>Donald Trump\\'s </strong>inauguration, Cuban is skeptical this will be the last day anyone sees TikTok videos.</p>\\n\\n\\n\\n<p>\"TikTok will sue and won\\'t get closed on the 19<sup>th</sup>, that I\\'m confident of.\"</p>\\n\\n\\n\\n<p>Cuban also referenced one of Trump\\'s friends having a stake in the company, which is likely in reference to investor<strong> Jeff Yass, </strong>who is a Republican megadonor, <a href=\"https://www.benzinga.com/general/social-media/24/03/37722366/why-did-donald-trump-change-his-mind-about-tiktok-follow-the-money-says-rep-nancy-pelosi\">owning a 15% stake</a> in TikTok parent <strong>ByteDance</strong>.</p>\\n\\n\\n\\n<p><strong>Read Next: </strong></p>\\n\\n\\n\\n<ul>\\n<li><strong><a href=\"https://www.benzinga.com/general/entertainment/24/09/40741507/mark-cuban-shares-advice-he-would-give-to-his-younger-self-i-wish-someone-told-me\">Mark Cuban Shares Advice He Would Give To His Younger Self, &#8216;I Wish Someone Told Me…&#8217;</a></strong></li>\\n</ul>', '<p>YouTube sensation<strong>\\xa0Jimmy\\xa0Donaldson</strong>, better known by his creator name &#8220;MrBeast,&#8221;\\xa0is taking his talents to <strong>Amazon.com Inc </strong>(NASDAQ:<a class=\"ticker\" href=\"https://www.benzinga.com/stock/AMZN#NASDAQ\">AMZN</a>) to launch a new game show this week. </p>\\n\\n\\n\\n<p>The show is likely to garner a lot of attention and could benefit Amazon shares, as well as billionaire <strong>David Tepper</strong> who counts Amazon as his <a href=\"https://www.benzinga.com/markets/asia/24/11/42000692/david-teppers-appaloosa-trims-alibaba-stake-by-476-in-q3-2024-doubles-down-on-pdd-holdings-and-jd.com\">largest U.S. holding</a>.</p>\\n\\n\\n\\n<p><strong>What To Know:</strong> <a href=\"https://www.benzinga.com/general/entertainment/24/11/42199235/amazon-prime-vs-netflix-mrbeast-game-show-arrives-dec-19-squid-game-season-2-drops-1-week-later\">MrBeast&#8217;s &#8220;Beast Games&#8221;</a> is set to premiere exclusively on Amazon&#8217;s Prime Video platform on Thursday.</p>\\n\\n\\n\\n<p>The show is based on Donaldson&#8217;s popular YouTube channel, which has 337 million subscribers at the time of writing. According to Amazon, the show will be a reality competition series with 1,000 contestants competing for a $5 million cash prize over 10 episodes.</p>\\n\\n\\n\\n<p>The show will launch its first two episodes a week before the highly-anticipated release of &#8220;Squid Games 2&#8221; on <strong>Netflix Inc</strong> (NASDAQ:<a class=\"ticker\" href=\"https://www.benzinga.com/stock/NFLX#NASDAQ\">NFLX</a>), underscoring the competitive pressure of the streaming space. The remaining episodes will be added in weekly installments.</p>\\n\\n\\n\\n<p>Donaldson, who will serve as host and executive producer, previously said he chose Amazon over other streaming platforms because the company gave the streamer &#8220;the most creative control.&#8221;</p>\\n\\n\\n\\n<p>&#8220;If you\\'re a streamer/youtuber I want to see your reaction to my new show tomorrow!! I convinced Prime Video to let you guys react to episode 1 on stream and make reaction videos on it,&#8221; Donaldson said in a <a href=\"https://x.com/MrBeast/status/1869443030039814198\">post</a> on X on Wednesday.</p>\\n\\n\\n\\n<figure class=\"wp-block-embed is-type-rich is-provider-twitter wp-block-embed-twitter\"><div class=\"wp-block-embed__wrapper\">\\n<blockquote class=\"twitter-tweet\" data-width=\"500\" data-dnt=\"true\"><p lang=\"en\" dir=\"ltr\">If you\\'re a streamer/youtuber I want to see your reaction to my new show tomorrow!! I convinced Prime Video to let you guys react to episode 1 on stream and make reaction videos on it &#x1f600;</p>&mdash; MrBeast (@MrBeast) <a href=\"https://twitter.com/MrBeast/status/1869443030039814198?ref_src=twsrc%5Etfw\">December 18, 2024</a></blockquote><script async src=\"https://platform.twitter.com/widgets.js\" charset=\"utf-8\"></script>\\n</div></figure>\\n\\n\\n\\n<p><strong>Related Link: <a href=\"https://www.benzinga.com/general/entertainment/24/11/42199235/amazon-prime-vs-netflix-mrbeast-game-show-arrives-dec-19-squid-game-season-2-drops-1-week-later\">Amazon Prime Vs. Netflix: MrBeast Game Show Arrives Dec. 19, &#8216;Squid Game&#8217; Season 2 Drops 1 Week Later</a></strong></p>\\n\\n\\n\\n<p><strong>Why It Matters:</strong> Amazon shares are up more than 50% year-to-date and have climbed nearly 15% over just the past month as the stock rallied to new highs. Given the popularity of MrBeast, &#8220;Beast Games&#8221; has the potential to make waves in the streaming world, which could further benefit Amazon shares.</p>\\n\\n\\n\\n<p>Amazon is Tepper&#8217;s largest U.S. holding and represents the third largest position in Appaloosa&#8217;s portfolio behind <strong>Alibaba Group Holding Ltd</strong> (NYSE:<a class=\"ticker\" href=\"https://www.benzinga.com/stock/BABA#NYSE\">BABA</a>) and <strong>PDD Holdings Inc</strong> (NASDAQ:<a class=\"ticker\" href=\"https://www.benzinga.com/stock/PDD#NASDAQ\">PDD</a>).</p>\\n\\n\\n\\n<p>In the third quarter, Tepper trimmed his Amazon position by 8%, but it still remains his largest U.S.-based holding by a wide margin, representing 8.86% of the firm&#8217;s portfolio, versus a 6.2% weighting in his next-largest holding <strong>Microsoft Corp</strong> (NASDAQ:<a class=\"ticker\" href=\"https://www.benzinga.com/stock/MSFT#NASDAQ\">MSFT</a>) and a 5.31% weighting in his third-largest U.S. position <strong>Meta Platforms Inc</strong> (NASDAQ:<a class=\"ticker\" href=\"https://www.benzinga.com/stock/META#NASDAQ\">META</a>). It&#8217;s worth noting that Tepper trimmed Microsoft by about 18% and Meta by about 33% in the third quarter.</p>\\n\\n\\n\\n<p>Appaloosa is already outpacing gains in the S&amp;P 500 this year with the firm up approximately 30% versus roughly a 27% gain in the S&amp;P 500. Appaloosa appears to be anticipating further price appreciation in Amazon shares. </p>\\n\\n\\n\\n<p><strong>Price Action:</strong> <a href=\"http://benzinga.com/quote/amzn\">Amazon shares</a> were down 1.17% at $228.41 at the time of publication, according to <a href=\"http://pro.benzinga.com\">Benzinga Pro</a>.</p>\\n\\n\\n\\n<p><strong>Now Read:</strong></p>\\n\\n\\n\\n<ul>\\n<li><a href=\"https://www.benzinga.com/news/24/09/41018088/leaked-mrbeast-handbook-unveils-youtube-stars-secret-weapons-for-success-useful-guide-or-ignored-man\"><strong>Leaked MrBeast Handbook Unveils YouTube Star&#8217;s &#8216;Secret Weapons&#8217; For Success: Useful Guide Or Ignored Manual?</strong></a></li>\\n</ul>\\n\\n\\n\\n<p><em>Photo: Shutterstock.</em></p>', '<p>The list of companies that have market capitalizations greater than $1 trillion continues to grow with <strong>Broadcom Inc </strong>(NASDAQ:<a class=\"ticker\" href=\"https://www.benzinga.com/stock/AVGO#NASDAQ\">AVGO</a>) recently joining the club after its quarterly financial results sparked <a href=\"https://www.benzinga.com/analyst-ratings/analyst-color/24/12/42488220/broadcom-hits-1-trillion-milestone-the-next-magnificent-tech-giant\">a rally in shares.</a></p>\\n\\n\\n\\n<p>A Benzinga poll asks readers which company could be next to join the elusive club.</p>\\n\\n\\n\\n<p><strong>What Happened:</strong> Less than two years ago, investors could count on one hand the number of companies that were valued at more than $1 trillion. That changed in May 2023 when <strong>NVIDIA Corporation</strong> (NASDAQ:<a class=\"ticker\" href=\"https://www.benzinga.com/stock/NVDA#NASDAQ\">NVDA</a>) became the sixth company in the club and ninth public company in history to be valued at <a href=\"https://www.benzinga.com/news/23/05/32630114/nvidia-becomes-ninth-company-to-hit-1-trillion-market-cap-who-could-be-next-to-join-elusive-club\">more than $1 trillion.</a></p>\\n\\n\\n\\n<p>Fast forward to December 2024 and there are now 10 companies valued at $1 trillion or more. <strong>Berkshire Hathaway Inc </strong>(NYSE:<a class=\"ticker\" href=\"https://www.benzinga.com/stock/BRK#NYSE\">BRK</a>) (NYSE:<a class=\"ticker\" href=\"https://www.benzinga.com/stock/BRK#NYSE\">BRK</a>) crossed the milestone earlier this year and currently hovers near it again, with a market capitalization of $983 billion.</p>\\n\\n\\n\\n<p>Here is the current list of members in the $1 trillion market capitalization club, according to <a href=\"https://companiesmarketcap.com/\">Companiesmarketcap.com</a>:</p>\\n\\n\\n\\n<ul>\\n<li><strong>Apple</strong>: $3.82 trillion</li>\\n\\n\\n\\n<li><strong>Microsoft</strong>: $3.35 trillion</li>\\n\\n\\n\\n<li><strong>Nvidia</strong>: $3.30 trillion</li>\\n\\n\\n\\n<li><strong>Amazon.com</strong>: $2.43 trillion</li>\\n\\n\\n\\n<li><strong>Alphabet</strong>: $2.39 trillion</li>\\n\\n\\n\\n<li><strong>Saudi Aramco</strong>: $1.83 trillion</li>\\n\\n\\n\\n<li><strong>Meta Platforms</strong>: $1.57 trillion</li>\\n\\n\\n\\n<li><strong>Tesla</strong>: $1.52 trillion</li>\\n\\n\\n\\n<li><strong>Broadcom</strong>: $1.10 trillion</li>\\n\\n\\n\\n<li><strong>Taiwan Semiconductor</strong>: $1.06 trillion</li>\\n</ul>\\n\\n\\n\\n<p>Benzinga recently asked who will be the next company to join the club for the first time with Berkshire Hathaway left out due to its close proximity and the fact it had already been in the club.</p>\\n\\n\\n\\n<p>\"Following Broadcom, which company will join the $1 trillion club next?\" Benzinga asked.</p>\\n\\n\\n\\n<p>The results were as follows along with the market caps at the time the poll was conducted:</p>\\n\\n\\n\\n<ul>\\n<li><strong>Walmart Inc</strong> (NYSE:<a class=\"ticker\" href=\"https://www.benzinga.com/stock/WMT#NYSE\">WMT</a>), $759 billion: 53%</li>\\n\\n\\n\\n<li><strong>Eli Lilly </strong>(NYSE:<a class=\"ticker\" href=\"https://www.benzinga.com/stock/LLY#NYSE\">LLY</a>), $757 billion: 24%</li>\\n\\n\\n\\n<li><strong>JPMorgan Chase</strong> (NYSE:<a class=\"ticker\" href=\"https://www.benzinga.com/stock/JPM#NYSE\">JPM</a>), $675 billion: 13%</li>\\n\\n\\n\\n<li><strong>Visa Inc</strong> (NYSE:<a class=\"ticker\" href=\"https://www.benzinga.com/stock/V#NYSE\">V</a>), $619 billion: 9%</li>\\n</ul>\\n\\n\\n\\n<p>Over half of readers polled said they believe Walmart will be the next company to join the $1 trillion club for the first time, followed by Eli Lilly at around one fourth of readers.</p>\\n\\n\\n\\n<p>Here\\'s a look at the current year-to-date and five-year returns of the four stocks featured in the poll:</p>\\n\\n\\n\\n<figure class=\"wp-block-image size-large is-resized\"><img loading=\"lazy\" decoding=\"async\" width=\"1024\" height=\"765\" src=\"https://editorial-assets.benzinga.com/wp-content/uploads/2024/12/18143238/output-1024x765.png\" alt=\"\" class=\"wp-image-698436\" style=\"width:920px;height:auto\" srcset=\"https://editorial-assets.benzinga.com/wp-content/uploads/2024/12/18143238/output-1024x765.png 1024w,https://editorial-assets.benzinga.com/wp-content/uploads/2024/12/18143238/output-300x224.png 300w,https://editorial-assets.benzinga.com/wp-content/uploads/2024/12/18143238/output-768x574.png 768w,https://editorial-assets.benzinga.com/wp-content/uploads/2024/12/18143238/output.png 1446w\" sizes=\"(max-width: 1024px) 100vw, 1024px\" /></figure>\\n\\n\\n\\n<p><em>Chart created using ChatGPT.</em></p>\\n\\n\\n\\n<p>The chart above shows that while Walmart is the top gainer year-to-date, it is Eli Lilly that has the better five-year stock growth.</p>\\n\\n\\n\\n<p><strong>Read Also: <a href=\"https://www.benzinga.com/etfs/specialty-etfs/24/07/39618512/nancy-pelosi-loads-up-on-more-nvidia-shares-sells-tesla-she-always-reports-right-before-a-hol\">Nancy Pelosi Loads Up On More Nvidia Shares, Buys Broadcom Options </a></strong></p>\\n\\n\\n\\n<p><strong>Why It\\'s Important: </strong>Broadcom stock is up 28% over the last five days and up over 113% year-to-date. The company <a href=\"https://www.benzinga.com/news/earnings/24/12/42472970/broadcom-reports-mixed-q4-results-eps-beat-revenues-miss-q1-guidance-in-line-with-estimates\">beat fourth-quarter</a> analyst earnings per share, missed revenue estimates and provided guidance that was in-line. The guidance and positive outlook was enough to send shares higher and provide entry into the club.</p>\\n\\n\\n\\n<p><strong>Tesla Inc</strong> (NASDAQ:<a class=\"ticker\" href=\"https://www.benzinga.com/stock/TSLA#NASDAQ\">TSLA</a>), which was previously a member of the club, has <a href=\"https://www.benzinga.com/news/management/24/11/41856784/elon-musks-wealth-tops-300-billion-as-teslas-market-cap-soars-above-1-trillion\">rejoined the $1 trillion club</a> thanks to impressive gains for the electric vehicle stock since <strong>Donald Trump</strong> won the 2024 presidential election.</p>\\n\\n\\n\\n<p><strong>Meta Platforms </strong>(NASDAQ:<a class=\"ticker\" href=\"https://www.benzinga.com/stock/META#NASDAQ\">META</a>) is another company that was previously in the $1 trillion club years ago and rejoined the club earlier this year.</p>\\n\\n\\n\\n<p>In August, <a href=\"https://www.benzinga.com/top-stories/24/08/40604676/warren-buffetts-berkshire-hathaway-breaks-1-trillion-poll-points-to-big-pharma-not-tech-as-next-cont\">Benzinga polled readers </a>to ask which company they thought would hit the $1 trillion valuation next after Berkshire Hathaway joined.</p>\\n\\n\\n\\n<p>The results were:</p>\\n\\n\\n\\n<ul>\\n<li>Eli Lilly: 43%</li>\\n\\n\\n\\n<li>Taiwan Semiconductor: 25%</li>\\n\\n\\n\\n<li>Tesla: 19%</li>\\n\\n\\n\\n<li>Broadcom: 11%</li>\\n\\n\\n\\n<li>Walmart: 3%</li>\\n</ul>\\n\\n\\n\\n<p>That poll was conducted when Eli Lilly and Taiwan Semiconductor both traded with market capitalizations of around $800 billion. Readers ended up being wrong with Eli Lilly still out of the club, while Taiwan Semiconductor, Tesla and Broadcom have all joined in recent months.</p>\\n\\n\\n\\n<p><strong>Read Next: </strong></p>\\n\\n\\n\\n<ul>\\n<li><strong><a href=\"https://www.benzinga.com/tech/24/11/42121665/could-another-magnificent-7-stock-beat-nvidia-in-2025-poll-says-not-likely-27-pick-this-potential-winner\">Could Another Magnificent 7 Stock Beat Nvidia In 2025? Poll Says Not Likely, 27% Pick This Potential Winner</a></strong></li>\\n</ul>\\n\\n\\n\\n<p><em>The study was conducted by Benzinga from Dec. 16 through Dec. 17, 2024, and included the responses of a diverse population of adults 18 or older. Opting into the survey was completely voluntary, with no incentives offered to potential respondents. The study reflects results from 128 adults.</em></p>\\n\\n\\n\\n<p><em>Image created using artificial intelligence via Midjourney.</em></p>', '<p>JPMorgan analyst Doug Anmuth has rolled out an optimistic<a href=\"https://www.benzinga.com/markets/24/12/42497093/stock-market-predictions-for-2025-a-mixed-bag-of-expectations\"> internet 2025 outlook</a>, emphasizing mega-cap tech leaders as top picks. The big winners? <strong>Amazon.com Inc</strong> (NASDAQ:<a class=\"ticker\" href=\"https://www.benzinga.com/stock/AMZN#NASDAQ\">AMZN</a>), <strong>Meta Platforms Inc</strong> (NASDAQ:<a class=\"ticker\" href=\"https://www.benzinga.com/stock/META#NASDAQ\">META</a>), <strong>Alphabet Inc</strong>&#8216;s (NASDAQ:<a class=\"ticker\" href=\"https://www.benzinga.com/stock/GOOGL#NASDAQ\">GOOGL</a>) (NASDAQ:<a class=\"ticker\" href=\"https://www.benzinga.com/stock/GOOG#NASDAQ\">GOOG</a>) Google, and <strong>Spotify Technology SA</strong> (NYSE:<a class=\"ticker\" href=\"https://www.benzinga.com/stock/SPOT#NYSE\">SPOT</a>). </p>\\n\\n\\n\\n<p>Despite \"heavy capex investments,\" Anmuth expects \"increasing returns\" as artificial intelligence shifts to practical applications, driving growth in advertising, cloud, and software tools.</p>\\n\\n\\n\\n<h2 class=\"wp-block-heading\">Why 2025 Looks Promising</h2>\\n\\n\\n\\n<p>Anmuth highlights three transformative AI trends reshaping the tech landscape:</p>\\n\\n\\n\\n<ol>\\n<li>A 30% boost in engineering efficiency across major companies.</li>\\n\\n\\n\\n<li>Billions in AI revenue for AWS and Google Cloud.</li>\\n\\n\\n\\n<li>Accelerated ad and search growth for Meta and Google, driven by improved targeting and conversions.</li>\\n</ol>\\n\\n\\n\\n<p>These advancements, coupled with a pro-business political backdrop and stabilized macro trends, are set to support strong revenue growth across the Internet sector in 2025.</p>\\n\\n\\n\\n<p><strong>Read Also: <a href=\"https://www.benzinga.com/24/12/42556006/amazon-to-rally-around-21-here-are-10-top-analyst-forecasts-for-wednesday\">Amazon To Rally Around 21%?</a></strong></p>\\n\\n\\n\\n<h2 class=\"wp-block-heading\">Capex Surge: A Long-Term Play</h2>\\n\\n\\n\\n<p>Big tech is gearing up for significant infrastructure spending in 2025, exceeding market expectations. </p>\\n\\n\\n\\n<p>Anmuth projects capex of $97 billion for Amazon, $64 billion for Meta, and $62 billion for Alphabet. While these investments may weigh on margins, the long-term outlook remains bullish. </p>\\n\\n\\n\\n<p>Amazon and Alphabet are forecasted to expand margins and free cash flow, while Meta\\'s outlook is steadier, despite double-digit revenue and EPS growth expectations.</p>\\n\\n\\n\\n<h2 class=\"wp-block-heading\">Stock-Specific Highlights</h2>\\n\\n\\n\\n<ul>\\n<li><strong>Amazon (Target Price: $280)</strong><br>Amazon&#8217;s dominance in e-commerce and cloud markets positions it for multi-year margin and free cash flow expansion. With high-growth AWS and advertising streams, the company is poised to capitalize on untapped potential in IT and retail digitization.</li>\\n\\n\\n\\n<li><strong>Alphabet (Target Price: $232)</strong><br>Alphabet\\'s ad business and AI-driven innovation keep it ahead of the pack. Search, YouTube ads, and cloud services present robust growth opportunities, while its \"Other Bets\" businesses like Waymo and Verily add optionality.</li>\\n\\n\\n\\n<li><strong>Meta Platforms (Target Price: $725)</strong><br>Meta\\'s dual focus on AI and the metaverse underscores its commitment to long-term growth. Despite increased infrastructure spending, Meta\\'s unmatched reach and targeting capabilities ensure sustained profitability and value for advertisers.</li>\\n\\n\\n\\n<li><strong>Spotify (Target Price: $555)</strong><br>Spotify continues to ride the audio streaming wave with solid user growth, cost discipline, and profit gains from podcasts and marketplace contributions.</li>\\n</ul>\\n\\n\\n\\n<p>As AI matures, these mega-cap tech leaders are well-positioned to reap the rewards of their massive investments. </p>\\n\\n\\n\\n<p>While elevated capex may challenge short-term margins, the broader narrative of innovation, efficiency, and market dominance paints a bullish picture for 2025. </p>\\n\\n\\n\\n<p>For investors, JPMorgan\\'s favorites—Amazon, Meta, Alphabet, and Spotify—stand as compelling opportunities to capitalize on the next phase of tech evolution.</p>\\n\\n\\n\\n<p><strong>Read Next: </strong></p>\\n\\n\\n\\n<ul>\\n<li><strong><a href=\"https://www.benzinga.com/24/12/42548075/us-stock-markets-outsized-influence-resurges-as-it-dominates-two-thirds-of-msci-world-indexs-capitalization-mirroring-late-1980s-peak\">US Stocks Led By Apple, Nvidia, And Other Tech Giants Dominate Nearly Two-Thirds Of MSCI World Index, Drawing Parallels To 1980s Peak</a></strong></li>\\n</ul>\\n\\n\\n\\n<p><em>Image created using artificial intelligence via Midjourney.</em></p>', '<p><strong>Meta Platforms Inc&#8217;s</strong> (NASDAQ:<a class=\"ticker\" href=\"https://www.benzinga.com/stock/META#NASDAQ\">META</a>) <strong>Instagram </strong>has the potential to generate 50% of the company&#8217;s advertising revenue in the U.S., Bloomberg <a target=\"_blank\" href=\"https://www.bloomberg.com/news/articles/2024-12-18/instagram-expected-to-generate-50-of-meta-s-us-ad-sales-in-2025?sref=TBDibEcD\" rel=\"noreferrer noopener\">cites</a> from Emarketer estimates.</p>\\n\\n\\n\\n<p>Instagram could breach $32 billion in U.S. advertising revenue in 2025, up over 24% in 2024, as its short-form video product Reels gain traction, Bloomberg cites Emarketer. The video-sharing app boasts over 148 million American users.</p>\\n\\n\\n\\n<p><strong><em>Also Read: </em></strong><em><a target=\"_blank\" href=\"https://www.benzinga.com/media/24/12/42554393/disneys-marvel-rivals-game-hits-20-million-players-proves-superhero-power-still-reigns\" rel=\"noreferrer noopener\">Disney&#8217;s Marvel Rivals Game Hits 20 Million Players, Proves Superhero Power Still Reigns</a></em></p>\\n\\n\\n\\n<p>By early 2022, Instagram accounted for nearly 30%&nbsp;of Meta&#8217;s global business from 27% in 2021, Bloomberg cited court filings.</p>\\n\\n\\n\\n<p>Reels competes with <strong>ByteDance&#8217;s</strong> <strong>TikTok </strong>and <strong>Alphabet Inc</strong> (NASDAQ:<a class=\"ticker\" href=\"https://www.benzinga.com/stock/GOOG#NASDAQ\">GOOG</a>) (NASDAQ:<a class=\"ticker\" href=\"https://www.benzinga.com/stock/GOOGL#NASDAQ\">GOOGL</a>) YouTube Shorts.</p>\\n\\n\\n\\n<p>Meta&#8217;s focus on video content has been instrumental to its growth, as users devoted nearly 67% of their Instagram time to surfing videos, Bloomberg cited Jasmine Enberg of Emarketer.</p>\\n\\n\\n\\n<p><a target=\"_blank\" href=\"https://www.benzinga.com/24/12/42369266/meta-reddit-stocks-climb-record-highs-as-tiktoks-battle-against-us-ban-continues-after-court-ruling\" rel=\"noreferrer noopener\">The TikTok ban</a> could serve as a tailwind for Instagram, helping it win over 20% of reallocated TikTok ad dollars in the U.S, Reuters cites Enberg.</p>\\n\\n\\n\\n<p>Meta previously told Instagram Reels accounted for over 50%&nbsp;of the time people spend on the app.</p>\\n\\n\\n\\n<p>In 2024, 53.7% of Instagram&#8217;s ad revenue primarily came from its Feed features and 24.6% from Stories features. With Reels&#8217; revenue boost, the combined revenue share from Instagram Explore, Reels, and Threads could rise 9.6% in 2025.</p>\\n\\n\\n\\n<p>In October, <strong>BofA Securities</strong> analyst Justin Post <a target=\"_blank\" href=\"https://www.benzinga.com/news/24/10/41465662/metas-reels-monetization-and-ai-innovations-drive-top-ai-pick-analyst\" rel=\"noreferrer noopener\">projected Meta&#8217;s upside</a> from ramping up Messaging and Reel monetization powered by new artificial intelligence tools and CRM integration.</p>\\n\\n\\n\\n<p>Meta Platforms stock surged 79% year-to-date. Investors can gain exposure to the stock through <strong>Vanguard Communication Services ETF</strong> (NYSE:<a class=\"ticker\" href=\"https://www.benzinga.com/stock/VOX#NYSE\">VOX</a>) and <strong>The Communication Services Select Sector SPDR Fund</strong> (NYSE:<a class=\"ticker\" href=\"https://www.benzinga.com/stock/XLC#NYSE\">XLC</a>).</p>\\n\\n\\n\\n<h2 class=\"wp-block-heading\"><span style=\"text-decoration: underline;\">Is Meta A Good Stock To Buy?</span></h2>\\n\\n\\n\\n<p>An investor or trader\\'s decision to buy or sell a stock is unique to their time horizon and risk tolerance. Many typical investors evaluate earnings growth and valuation on a particular stock before making a decision. </p>\\n\\n\\n\\n<p>For example, for Meta Platforms (NASDAQ:<a class=\"ticker\" href=\"https://www.benzinga.com/stock/META#NASDAQ\">META</a>), you\\'ll notice that earnings in its last quarter grew 14.86% <a href=\"https://www.benzinga.com/quote/META/earnings\">source</a>. As an investor, you\\'ll want to decide whether that\\'s better or worse than what you\\'d like to see among stocks in your portfolio. </p>\\n\\n\\n\\n<p>On the valuation side, Meta Platforms\\'s price to earnings ratio &#8211; a measure of how much an investor pays for the company\\'s earnings &#8211; is compressed 15.56% in the current quarter when compared with last year. That places it below similar businesses Alphabet, Baidu, Pinterest in its sector. You\\'ll need to decide whether that makes it more or less attractive based on how you think the company will perform over time.</p>\\n\\n\\n\\n<p>There are many different valuation metrics that may help you make a decision. Find more on <a href=\"https://www.benzinga.com/quote/META\">Meta Platforms\\'s quote page</a>, or if you\\'d like a deeper dive in an advanced program, try <a href=\"https://pro.benzinga.com\">Benzinga PRO</a> for free.</p>\\n\\n\\n\\n<p><strong>Price Action:</strong> META stock is up 1.15% at $626.545 at the last check on Wednesday.</p>\\n\\n\\n\\n<p><strong>Also Read:</strong></p>\\n\\n\\n\\n<ul>\\n<li><strong><a href=\"https://www.benzinga.com/24/12/42553094/jabil-q1-earnings-tops-expectations-cloud-and-data-center-growth-outlook\" target=\"_blank\" rel=\"noreferrer noopener\">Jabil Q1 Earnings: Revenue And EPS Beat, Cloud and Data Center Growth, Raises Annual Outlook</a></strong></li>\\n</ul>\\n\\n\\n\\n<p><em>Photo via Shutterstock</em></p>', '', '', '<p>Amidst the fast-paced and highly competitive business environment of today, conducting comprehensive company analysis is essential for investors and industry enthusiasts. In this article, we will delve into an extensive industry comparison, evaluating <b>Meta Platforms (NASDAQ:<a class=\"ticker\" href=\"https://www.benzinga.com/stock/META#NASDAQ\">META</a>)</b> in comparison to its major competitors within the Interactive Media &amp; Services industry. By analyzing critical financial metrics, market position, and growth potential, our objective is to provide valuable insights for investors and offer a deeper understanding of company\\'s performance in the industry.</p>\\n<h3>Meta Platforms Background</h3>\\n<p>Meta is the largest social media company in the world, boasting close to 4 billion monthly active users worldwide. The firm\\'s \"Family of Apps,\" its core business, consists of Facebook, Instagram, Messenger, and WhatsApp. End users can leverage these applications for a variety of different purposes, from keeping in touch with friends to following celebrities and running digital businesses for free. Meta packages customer data, gleaned from its application ecosystem and sells ads to digital advertisers. While the firm has been investing heavily in its Reality Labs business, it remains a very small part of Meta\\'s overall sales.</p>\\n<table>\\n<thead>\\n<tr>\\n<th><strong>Company</strong></th>\\n<th><strong>P/E</strong></th>\\n<th><strong>P/B</strong></th>\\n<th><strong>P/S</strong></th>\\n<th><strong>ROE</strong></th>\\n<th><strong>EBITDA (in billions)</strong></th>\\n<th><strong>Gross Profit (in billions)</strong></th>\\n<th><strong>Revenue Growth</strong></th>\\n</tr>\\n</thead>\\n<tbody>\\n<tr>\\n<td>Meta Platforms Inc</td>\\n<td>29.23</td>\\n<td>9.50</td>\\n<td>10.40</td>\\n<td>9.77%</td>\\n<td>$22.06</td>\\n<td>$33.21</td>\\n<td>18.87%</td>\\n</tr>\\n<tr>\\n<td>Alphabet Inc</td>\\n<td>25.92</td>\\n<td>7.62</td>\\n<td>7.19</td>\\n<td>8.55%</td>\\n<td>$35.74</td>\\n<td>$51.79</td>\\n<td>15.09%</td>\\n</tr>\\n<tr>\\n<td>Baidu Inc</td>\\n<td>11.95</td>\\n<td>0.89</td>\\n<td>1.72</td>\\n<td>2.98%</td>\\n<td>$9.27</td>\\n<td>$17.16</td>\\n<td>-2.58%</td>\\n</tr>\\n<tr>\\n<td>Pinterest Inc</td>\\n<td>96.88</td>\\n<td>7.24</td>\\n<td>6.20</td>\\n<td>1.0%</td>\\n<td>$-0.0</td>\\n<td>$0.71</td>\\n<td>17.71%</td>\\n</tr>\\n<tr>\\n<td>Kanzhun Ltd</td>\\n<td>31.47</td>\\n<td>3.01</td>\\n<td>6.49</td>\\n<td>3.18%</td>\\n<td>$0.33</td>\\n<td>$1.6</td>\\n<td>18.98%</td>\\n</tr>\\n<tr>\\n<td>ZoomInfo Technologies Inc</td>\\n<td>373</td>\\n<td>2.30</td>\\n<td>3.42</td>\\n<td>1.35%</td>\\n<td>$0.07</td>\\n<td>$0.26</td>\\n<td>-3.25%</td>\\n</tr>\\n<tr>\\n<td>Yelp Inc</td>\\n<td>24.20</td>\\n<td>3.53</td>\\n<td>2.06</td>\\n<td>5.21%</td>\\n<td>$0.06</td>\\n<td>$0.33</td>\\n<td>4.41%</td>\\n</tr>\\n<tr>\\n<td>Weibo Corp</td>\\n<td>7.16</td>\\n<td>0.71</td>\\n<td>1.55</td>\\n<td>3.78%</td>\\n<td>$0.14</td>\\n<td>$0.37</td>\\n<td>5.05%</td>\\n</tr>\\n<tr>\\n<td>Ziff Davis Inc</td>\\n<td>43.42</td>\\n<td>1.42</td>\\n<td>1.91</td>\\n<td>-2.68%</td>\\n<td>$0.02</td>\\n<td>$0.3</td>\\n<td>3.69%</td>\\n</tr>\\n<tr>\\n<td>JOYY Inc</td>\\n<td>12.09</td>\\n<td>0.41</td>\\n<td>1.11</td>\\n<td>1.17%</td>\\n<td>$0.06</td>\\n<td>$0.21</td>\\n<td>-1.48%</td>\\n</tr>\\n<tr>\\n<td>Tripadvisor Inc</td>\\n<td>51.88</td>\\n<td>1.99</td>\\n<td>1.11</td>\\n<td>4.33%</td>\\n<td>$0.1</td>\\n<td>$0.48</td>\\n<td>-0.19%</td>\\n</tr>\\n<tr>\\n<td>Hello Group Inc</td>\\n<td>8.05</td>\\n<td>0.85</td>\\n<td>0.96</td>\\n<td>4.03%</td>\\n<td>$0.56</td>\\n<td>$1.05</td>\\n<td>-12.1%</td>\\n</tr>\\n<tr>\\n<td><strong>Average</strong></td>\\n<td><strong>62.37</strong></td>\\n<td><strong>2.72</strong></td>\\n<td><strong>3.07</strong></td>\\n<td><strong>2.99%</strong></td>\\n<td><strong>$4.21</strong></td>\\n<td><strong>$6.75</strong></td>\\n<td><strong>4.12%</strong></td>\\n</tr>\\n</tbody>\\n</table>\\n\\n<style>\\n        table {\\n            width: 100%;\\n            border-collapse: collapse;\\n            font-family: Arial, sans-serif;\\n            font-size: 14px;\\n        }\\n\\n        th, td {\\n            padding: 8px;\\n            text-align: left;\\n        }\\n\\n        th {\\n            background-color: #293a5a;\\n            color: #fff;\\n            text-align: left;\\n        }\\n\\n        tr:nth-child(even) {\\n            background-color: #f2f4f8;\\n        }\\n\\n        tr:hover {\\n            background-color: #e1e4ea;\\n        }\\n\\n        td:nth-child(3), td:nth-child(5) {\\n            text-align: left;\\n        }\\n\\n        .dividend-amount {\\n            font-weight: bold;\\n            color: #0d6efd;\\n        }\\n\\n        .dividend-frequency {\\n            font-size: 12px;\\n            color: #6c757d;\\n        }\\n    </style>\\n\\n<p>By carefully studying Meta Platforms, we can deduce the following trends: </p>\\n<ul>\\n<li>\\n<p>With a Price to Earnings ratio of <b>29.23</b>, which is <b>0.47x</b> less than the industry average, the stock shows potential for growth at a reasonable price, making it an interesting consideration for market participants.</p>\\n</li>\\n<li>\\n<p>With a Price to Book ratio of <b>9.5</b>, which is <b>3.49x</b> the industry average, Meta Platforms might be considered overvalued in terms of its book value, as it is trading at a higher multiple compared to its industry peers.</p>\\n</li>\\n<li>\\n<p>The Price to Sales ratio of <b>10.4</b>, which is <b>3.39x</b> the industry average, suggests the stock could potentially be overvalued in relation to its sales performance compared to its peers.</p>\\n</li>\\n<li>\\n<p>The company has a higher Return on Equity (ROE) of <b>9.77%</b>, which is <b>6.78%</b> above the industry average. This suggests efficient use of equity to generate profits and demonstrates profitability and growth potential.</p>\\n</li>\\n<li>\\n<p>With higher Earnings Before Interest, Taxes, Depreciation, and Amortization (EBITDA) of <b>$22.06 Billion</b>, which is <b>5.24x</b> above the industry average, the company demonstrates stronger profitability and robust cash flow generation.</p>\\n</li>\\n<li>\\n<p>Compared to its industry, the company has higher gross profit of <b>$33.21 Billion</b>, which indicates <b>4.92x</b> above the industry average, indicating stronger profitability and higher earnings from its core operations.</p>\\n</li>\\n<li>\\n<p>With a revenue growth of <b>18.87%</b>, which surpasses the industry average of <b>4.12%</b>, the company is demonstrating robust sales expansion and gaining market share.</p>\\n</li>\\n</ul>\\n<h3>Debt To Equity Ratio</h3>\\n<p><img src=\"https://www.benzinga.com/files/images/story/2024/1734534035_0.png\" alt=\"debt to equity\" /></p>\\n\\n<p>The debt-to-equity (D/E) ratio assesses the extent to which a company relies on borrowed funds compared to its equity.</p>\\n<p>Considering the debt-to-equity ratio in industry comparisons allows for a concise evaluation of a company\\'s financial health and risk profile, aiding in informed decision-making.</p>\\n<p>In terms of the Debt-to-Equity ratio, Meta Platforms stands in comparison with its top 4 peers, leading to the following comparisons:</p>\\n<ul>\\n<li>\\n<p>Meta Platforms has a stronger financial position compared to its top 4 peers, as evidenced by its lower debt-to-equity ratio of <b>0.3</b>.</p>\\n</li>\\n<li>\\n<p>This suggests that the company has a more favorable balance between debt and equity, which can be perceived as a positive indicator by investors.</p>\\n</li>\\n</ul>\\n<h3>Key Takeaways</h3>\\n<p>For Meta Platforms, the PE, PB, and PS ratios indicate that the company is relatively undervalued compared to its peers in the Interactive Media &amp; Services industry. On the other hand, Meta Platforms shows strong performance in terms of ROE, EBITDA, gross profit, and revenue growth, outperforming its industry peers in these key metrics.</p>\\n<p><em>This article was generated by Benzinga\\'s automated content engine and reviewed by an editor.</em></p>', '<p>The U.S. has the world&#8217;s largest companies by market capitalization and about two-thirds of the MSCI World Index is dominated by companies based out of America.</p>\\n\\n\\n\\n<p><strong>What Happened: </strong>U.S.-based companies ranking among the world&#8217;s top ten firms by market capitalization include <strong>Apple Inc.</strong> (NASDAQ:<a class=\"ticker\" href=\"https://www.benzinga.com/stock/AAPL#NASDAQ\">AAPL</a>), <strong>Microsoft Corp.</strong> (NASDAQ:<a class=\"ticker\" href=\"https://www.benzinga.com/stock/MSFT#NASDAQ\">MSFT</a>), <strong>Nvidia Corp.</strong> (NASDAQ:<a class=\"ticker\" href=\"https://www.benzinga.com/stock/NVDA#NASDAQ\">NVDA</a>), <strong>Amazon.com Inc.</strong> (NASDAQ:<a class=\"ticker\" href=\"https://www.benzinga.com/stock/AMZN#NASDAQ\">AMZN</a>), <strong>Alphabet Inc.</strong> (NASDAQ:<a class=\"ticker\" href=\"https://www.benzinga.com/stock/GOOG#NASDAQ\">GOOG</a>) (NASDAQ:<a class=\"ticker\" href=\"https://www.benzinga.com/stock/GOOGL#NASDAQ\">GOOGL</a>), <strong>Meta Platforms Inc.</strong> (NASDAQ:<a class=\"ticker\" href=\"https://www.benzinga.com/stock/META#NASDAQ\">META</a>),<strong> Tesla Inc.</strong> (NASDAQ:<a class=\"ticker\" href=\"https://www.benzinga.com/stock/TSLA#NASDAQ\">TSLA</a>), and <strong>Broadcom Inc.</strong> (NASDAQ:<a class=\"ticker\" href=\"https://www.benzinga.com/stock/AVGO#NASDAQ\">AVGO</a>).</p>\\n\\n\\n\\n<p>These magnificent seven firms along with Broadcom are the beneficiaries of the U.S. tech and AI boom. The remaining two non-U.S. firms that make up the top ten include Saudi Arabian Oil Co and <strong>Taiwan Semiconductor Mfg Co Ltd</strong> (NYSE:<a class=\"ticker\" href=\"https://www.benzinga.com/stock/TSMC#NYSE\">TSMC</a>).</p>\\n\\n\\n\\n<p>According to an X post by<strong> Kevin Gordon</strong>, director and senior investment strategist at Charles Schwab, &#8220;Such an imbalance has not been seen since the late 1980s.&#8221; The data shared by him shows nine out of the top ten companies by market capitalization were based out of the U.S. in the 1980s.</p>\\n\\n\\n\\n<p>\"…the US, with 4% of the world\\'s population, roughly a quarter of global GDP and a third of global profits, now accounts for more than two-thirds of the MSCI World index\\'s capitalization. Such an imbalance has not been seen since the late 1980s…,&#8221; he said.</p>\\n\\n\\n\\n<figure class=\"wp-block-embed is-type-rich is-provider-twitter wp-block-embed-twitter\"><div class=\"wp-block-embed__wrapper\">\\n<blockquote class=\"twitter-tweet\" data-width=\"500\" data-dnt=\"true\"><p lang=\"en\" dir=\"ltr\">\"…the US, with 4% of the world\\'s population, roughly a quarter of global GDP and a third of global profits, now accounts for more than two-thirds of the MSCI World index\\'s capitalization. Such an imbalance has not been seen since the late 1980s…\" <br>\\u2066<a href=\"https://twitter.com/Gavekal?ref_src=twsrc%5Etfw\">@Gavekal</a>\\u2069 <a href=\"https://t.co/OKO0XCPld5\">pic.twitter.com/OKO0XCPld5</a></p>&mdash; Kevin Gordon (@KevRGordon) <a href=\"https://twitter.com/KevRGordon/status/1868748830851633403?ref_src=twsrc%5Etfw\">December 16, 2024</a></blockquote><script async src=\"https://platform.twitter.com/widgets.js\" charset=\"utf-8\"></script>\\n</div></figure>\\n\\n\\n\\n<p><strong>Why It Matters:</strong> Additionally, the top ten constituents in the MSCI World index are U.S.-based firms. This index captures 1,397 large and mid-cap companies across 23 developed markets.</p>\\n\\n\\n\\n<p>According <a href=\"https://www.msci.com/documents/10199/178e6643-6ae6-47b9-82be-e1fc565ededb\">to</a> MSCI&#8217;s latest release, dated Nov. 29, the U.S. has a weightage of 73.92% in the index, followed by Japan with 5.23%, the United Kingdom with 3.44%, Canada with 3.1% and France with 2.5%.</p>\\n\\n\\n\\n<p>The index has the highest exposure of 25.29% to information technology companies, followed by 16.3% to financial firms.</p>\\n\\n\\n\\n<p><strong>Read Next:</strong></p>\\n\\n\\n\\n<ul>\\n<li><a href=\"https://www.benzinga.com/analyst-ratings/price-target/24/12/42513306/elon-musks-tesla-nearly-5-times-more-expensive-than-industry-average-stock-surges-over-60-since-election\"><strong>Elon Musk&#8217;s Tesla Nearly 5 Times More Expensive Than Industry Average: Stock Surges Over 60% Since Election</strong></a></li>\\n</ul>\\n\\n\\n\\n<p><em>Photo courtesy: Shutterstock</em></p>', '<p><strong>Microsoft Corp.</strong>\\xa0(NASDAQ:<a class=\"ticker\" href=\"https://www.benzinga.com/stock/MSFT#NASDAQ\">MSFT</a>) has reportedly acquired nearly twice as many <strong>Nvidia Corp.</strong>\\xa0(NASDAQ:<a class=\"ticker\" href=\"https://www.benzinga.com/stock/NVDA#NASDAQ\">NVDA</a>) AI chips as its closest competitors. This strategic investment is aimed at bolstering its AI capabilities, particularly for its Azure cloud services.</p>\\n\\n\\n\\n<p><strong>What Happened</strong>: Analysts at technology consultancy <strong>Omdia</strong> estimate that Microsoft has purchased approximately 485,000 of Nvidia &#8220;Hopper&#8221; AI chips this year.</p>\\n\\n\\n\\n<p>This acquisition is significant as it doubles the number acquired by its nearest rival,\\xa0<strong>Meta Platforms Inc.</strong>\\xa0(NASDAQ:<a class=\"ticker\" href=\"https://www.benzinga.com/stock/META#NASDAQ\">META</a>), which bought 224,000 chips, Financial Times <a href=\"https://www.ft.com/content/e85e43d1-5ce4-4531-94f1-9e9c1c5b4ff1\">reported</a> on Wednesday.</p>\\n\\n\\n\\n<p>The demand for Nvidia&#8217;s advanced GPUs has surged since the introduction of ChatGPT, prompting tech giants to invest heavily in AI infrastructure. Analysts from Omdia estimate that&nbsp;<strong>ByteDance</strong>&nbsp;and&nbsp;<strong>Tencent</strong>&nbsp;each ordered about 230,000 Nvidia chips, including the H20 model, tailored for Chinese markets.</p>\\n\\n\\n\\n<p><strong>See Also:&nbsp;<a href=\"https://www.benzinga.com/markets/24/12/42497173/investment-guru-peter-lynch-if-you-cant-explain-to-an-11-year-old-in-2-minutes-or-less-why-you-own-the-stock-you-shouldnt-own-it?itm_source=parsely-api\" target=\"_blank\" rel=\"noreferrer noopener\">Investment Guru Peter Lynch: &#8216;If You Can&#8217;t Explain To An 11-Year-Old In 2 Minutes Or Less Why You Own The&nbsp;Stock, You Shouldn&#8217;t Own It&#8217;</a></strong></p>\\n\\n\\n\\n<p>Microsoft&#8217;s aggressive expansion in AI infrastructure is partly driven by its $13 billion investment in OpenAI. The company aims to leverage its AI capabilities for both internal services and customer offerings through Azure. Despite competition, Microsoft continues to rely on Nvidia&#8217;s chips while developing its own AI accelerators.</p>\\n\\n\\n\\n<p><strong>Why It Matters</strong>: The acquisition of Nvidia chips by Microsoft underscores the tech giant&#8217;s strategic focus on enhancing its AI infrastructure. Nvidia&#8217;s dominance in the AI semiconductor market is well-documented, with CNBC\\'s <strong>Jim Cramer </strong>emphasizing that <a href=\"https://www.benzinga.com/24/11/42028342/blackwell-backfires-nvidias-ai-chips-struggle-with-server-overheating-impacting-meta-microsoft-and-musks-xai-data-centers\">no company can rival </a>Nvidia&#8217;s technological superiority. </p>\\n\\n\\n\\n<p>Nvidia posted $35.1 billion in revenue in the third quarter, with data center revenue alone reaching $30.8 billion, underscoring its pivotal role in AI infrastructure.</p>\\n\\n\\n\\n<p>However, Nvidia&#8217;s <a href=\"https://www.benzinga.com/news/global/24/11/42179729/as-nvidia-maintains-chip-supremacy-jim-cramer-says-the-so-called-enemies-of-semiconductor-giant-arent-really-enemies\">chips have faced challenges</a>, such as overheating issues in its Blackwell AI chips, impacting companies like Meta and Microsoft.</p>\\n\\n\\n\\n<p>Despite these challenges, Nvidia&#8217;s chips remain integral to AI advancements, and Microsoft&#8217;s substantial investment reflects its commitment to staying at the forefront of AI technology.</p>\\n\\n\\n\\n<p><strong>Read Next:&nbsp;</strong></p>\\n\\n\\n\\n<ul>\\n<li><strong><a href=\"https://www.benzinga.com/news/global/24/12/42502247/trumps-ex-secretary-of-state-mike-pompeo-backs-nippon-steels-149b-acquisition-of-us-steel-citing-national-security-concerns?itm_source=parsely-api\" target=\"_blank\" rel=\"noreferrer noopener\">Trump&#8217;s Ex-Secretary Of State Mike Pompeo Backs Nippon Steel&#8217;s $14.9B Acquisition Of US Steel Citing National Security Concerns</a></strong></li>\\n</ul>\\n\\n\\n\\n<p><strong><em>Disclaimer</em></strong><em>: This content was partially produced with the help of&nbsp;<a href=\"https://www.benzinga.com/author/benzinga-neuro\" target=\"_blank\" rel=\"noreferrer noopener\">Benzinga Neuro</a>&nbsp;and was reviewed and published by Benzinga editors.</em></p>\\n\\n\\n\\n<p><em>Image via Shutterstock</em></p>']"
        ],
        [
         "3167",
         "2024-12-19 00:00:00+00:00",
         "610.2",
         "611.52",
         "595.0",
         "595.57",
         "1280265",
         "0.34374659",
         "0.34722311",
         "0.32312561",
         "0.34246076",
         "1.0",
         "0.27623231",
         "0.27623231",
         "0.27623231",
         "0.27623231",
         "1.0",
         "META",
         "2024Q4",
         "62400000000.0",
         "193350000000.0",
         "0.3525999999999999",
         "2.671",
         "0.1072",
         "80.7571",
         "34.6555",
         "34.6555",
         "42.9415",
         "35.1574",
         "28.9825",
         "0.5875",
         "0.0",
         "43.7479",
         "59.8079",
         "8.3689",
         "9.6235",
         "571.98",
         "65.19",
         "8.77",
         "6.03",
         "20.13",
         "28.42",
         "256410000000.0",
         "0.2366",
         "91070000000.0",
         "33330000000.0",
         "59.73",
         "9.58",
         "91880000000.0",
         "164530000000.0",
         "0.56",
         "21.23",
         "26.96",
         "0.356",
         "0.0",
         "0.0",
         "0.0",
         "0.0",
         "0.21221748207315969",
         "0.0",
         "0.19148936170212785",
         "0.09803921568627459",
         "0.030757920183592666",
         "0.0",
         "0.3961944128856552",
         "0.0",
         "0.3961944128856552",
         "0.0",
         "0.4567291260379179",
         "0.0",
         "-0.06434145564580346",
         "0.0",
         "0.0",
         "0.0",
         "0.07872078720787193",
         "0.6301115241635687",
         "0.048619214313496695",
         "0.02043906131718392",
         "0.16860465116279072",
         "0.3735763097949888",
         "0.061224489795918366",
         "0.6970356268697308",
         "-2.4708309770896695",
         "0.0",
         "-6.596803317060122",
         "0.0",
         "0.04215456674473092",
         "0.5787139689578713",
         "0.0336391437308869",
         "0.5783855903935957",
         "49.7",
         "253.548",
         "736535.0",
         "159536.0",
         "0.33",
         "4.39",
         "317.685",
         "98.91297",
         "1289.0",
         "21533.8",
         "29700.58",
         "0.006072874493927127",
         "0.014735898441564643",
         "-0.03827270756783996",
         "0.014189086100798498",
         "-1.942857142857143",
         "0.09203980099502496",
         "0.028965932720523835",
         "0.00818746770197043",
         "-0.1779336734693877",
         "0.03900527854709668",
         "0.04960294861283199",
         "0.03757828810020891",
         "0.003419290497221894",
         "0.077501835981731",
         "0.0032133312372268907",
         "1.2000000000000002",
         "0.18010752688172027",
         "0.009530134801039924",
         "0.0",
         "-0.048708487084870855",
         "0.014654051303315319",
         "0.011086534585258656",
         "3733.27",
         "3760.2",
         "3726.88",
         "3756.07",
         "0.0",
         "0.18014392",
         "0.18187424",
         "0.17346075",
         "0.17346075",
         "1.0",
         "0.10242232",
         "0.10242232",
         "0.10242232",
         "0.10242232",
         "1.0",
         "12852.96",
         "12904.09",
         "12804.75",
         "12888.28",
         "0.0",
         "0.22664035",
         "0.23499034",
         "0.22414805",
         "0.22933902",
         "1.0",
         "0.14474376",
         "0.14474376",
         "0.14474376",
         "0.14474376",
         "1.0",
         "22.99",
         "23.25",
         "21.24",
         "22.75",
         "0.0",
         "1.34863469",
         "1.35030151",
         "1.0555754",
         "1.09850007",
         "1.0",
         "1.10283381",
         "1.10283381",
         "1.10283381",
         "1.10283381",
         "1.0",
         "9.27",
         "9.37",
         "9.12",
         "9.17",
         "0.0",
         "0.51150839",
         "0.51150839",
         "0.51150839",
         "0.51150839",
         "1.0",
         "0.68",
         "0.68",
         "0.6",
         "0.65",
         "0.0",
         "1.41399004",
         "1.41399004",
         "1.41399004",
         "1.41399004",
         "1.0",
         "0.337653",
         "2025-01-10",
         "0.347327",
         "0.028650715379398426",
         "0.341921",
         "0.327597",
         "-0.04189271790852258",
         "0.338562",
         "0.339205",
         "0.00189920900750824",
         "0.9581072820914774",
         "SMILE",
         "22.0",
         "600.5255",
         "585.9495999999998",
         "559.6908",
         "524.5800499999991",
         "48.44197744764745",
         "15.848529360461724",
         "9.473581076769392",
         "11.327035613106812",
         "126.61843812396198",
         "2.5191999999999988",
         "1.058136263046602",
         "0.3672000000000002",
         "0.8416969089637297",
         "1.4620799999999656",
         "1.2110549687425332",
         "0.5637499999999721",
         "1.214045548901077",
         "623.004",
         "-0.017248876648789557",
         "-1.6229436548781484",
         "626.612",
         "-0.025108804820890528",
         "-1.7472008571964173",
         "608.746",
         "-0.0023139608974143927",
         "-1.1501685359675038",
         "611.3580000000001",
         "-0.0027127044994055566",
         "-1.1437923242036032",
         "1126490.2",
         "-0.1410995407175433",
         "0.5426440690774563",
         "0.30751143999999997",
         "0.01496120507155837",
         "1.1265703536220217",
         "0.27097784799999997",
         "-0.0036644771971174454",
         "0.9463400630865665",
         "3756.07",
         "0.0",
         "0.4472135955234448",
         "12888.28",
         "0.0",
         "0.4472135953294231",
         "22.75",
         "0.0",
         "-0.4472135959261813",
         "9.17",
         "0.0",
         "-0.4472135947016216",
         "13.009999999999991",
         "2.1785361442756894",
         "2.7738133216918213",
         "632.15",
         "595.0",
         "6.237721846298499",
         "4.601999999999975",
         "0.02062493064252761",
         "0.9441652530953251",
         "-1.66%, 0.63%, -0.77%, -3.59%, -0.27%",
         "-5.98%, 0.91%, 2.71%, 8.61%",
         "0.0",
         "-0.002712704499405527",
         "0.0",
         "0.3160612",
         "0.3016854",
         "-0.04341619215392577",
         "0.3154142",
         "0.2959190000000001",
         "-0.059001239925157045",
         "0.31560540000000004",
         "0.30083160000000003",
         "-0.04526323351725807",
         "-1.85345453633742",
         "-1.5134248381544995",
         "-3.9653548293924374",
         "0.14814380006885067",
         "-14045.018404734865",
         "636.04992386188",
         "611.3579999999995",
         "586.666076138119",
         "0.08291862874852819",
         "1.0",
         "0.0",
         "False",
         "True",
         "['<p>Meta Platforms (NASDAQ:<a class=\"ticker\" href=\"https://www.benzinga.com/stock/META#NASDAQ\">META</a>) has outperformed the market over the past 10 years by 11.19% on an annualized basis producing an average annual return of 22.11%. Currently, Meta Platforms has a market capitalization of $1.51 trillion. </p>\\n<p><strong>Buying $1000 In META:</strong> If an investor had bought $1000 of META stock 10 years ago, it would be worth <strong>$7,388.29</strong> today based on a price of $597.04 for META at the time of writing.</p>\\n<h3>Meta Platforms\\'s Performance Over Last 10 Years</h3>\\n<p><img src=\"https://www.benzinga.com/files/images/story/2024/1734651910_0.png\" alt=\"comp_fig\" /></p>\\n\\n<p>Finally -- what\\'s the point of all this? The key insight to take from this article is to note how much of a difference compounded returns can make in your cash growth over a period of time.</p>\\n<p><em>This article was generated by Benzinga\\'s automated content engine and reviewed by an editor.</em></p>', '<p>In today\\'s rapidly changing and highly competitive business world, it is vital for investors and industry enthusiasts to carefully assess companies. In this article, we will perform a comprehensive industry comparison, evaluating <b>Meta Platforms (NASDAQ:<a class=\"ticker\" href=\"https://www.benzinga.com/stock/META#NASDAQ\">META</a>)</b> against its key competitors in the Interactive Media &amp; Services industry. By analyzing important financial metrics, market position, and growth prospects, we aim to provide valuable insights for investors and shed light on company\\'s performance within the industry.</p>\\n<h3>Meta Platforms Background</h3>\\n<p>Meta is the largest social media company in the world, boasting close to 4 billion monthly active users worldwide. The firm\\'s \"Family of Apps,\" its core business, consists of Facebook, Instagram, Messenger, and WhatsApp. End users can leverage these applications for a variety of different purposes, from keeping in touch with friends to following celebrities and running digital businesses for free. Meta packages customer data, gleaned from its application ecosystem and sells ads to digital advertisers. While the firm has been investing heavily in its Reality Labs business, it remains a very small part of Meta\\'s overall sales.</p>\\n<table>\\n<thead>\\n<tr>\\n<th><strong>Company</strong></th>\\n<th><strong>P/E</strong></th>\\n<th><strong>P/B</strong></th>\\n<th><strong>P/S</strong></th>\\n<th><strong>ROE</strong></th>\\n<th><strong>EBITDA (in billions)</strong></th>\\n<th><strong>Gross Profit (in billions)</strong></th>\\n<th><strong>Revenue Growth</strong></th>\\n</tr>\\n</thead>\\n<tbody>\\n<tr>\\n<td>Meta Platforms Inc</td>\\n<td>28.18</td>\\n<td>9.16</td>\\n<td>10.03</td>\\n<td>9.77%</td>\\n<td>$22.06</td>\\n<td>$33.21</td>\\n<td>18.87%</td>\\n</tr>\\n<tr>\\n<td>Alphabet Inc</td>\\n<td>24.99</td>\\n<td>7.34</td>\\n<td>6.94</td>\\n<td>8.55%</td>\\n<td>$35.74</td>\\n<td>$51.79</td>\\n<td>15.09%</td>\\n</tr>\\n<tr>\\n<td>Baidu Inc</td>\\n<td>11.71</td>\\n<td>0.87</td>\\n<td>1.69</td>\\n<td>2.98%</td>\\n<td>$9.27</td>\\n<td>$17.16</td>\\n<td>-2.58%</td>\\n</tr>\\n<tr>\\n<td>Pinterest Inc</td>\\n<td>93.34</td>\\n<td>6.98</td>\\n<td>5.98</td>\\n<td>1.0%</td>\\n<td>$-0.0</td>\\n<td>$0.71</td>\\n<td>17.71%</td>\\n</tr>\\n<tr>\\n<td>Kanzhun Ltd</td>\\n<td>30.89</td>\\n<td>2.95</td>\\n<td>6.37</td>\\n<td>3.18%</td>\\n<td>$0.33</td>\\n<td>$1.6</td>\\n<td>18.98%</td>\\n</tr>\\n<tr>\\n<td>ZoomInfo Technologies Inc</td>\\n<td>352</td>\\n<td>2.17</td>\\n<td>3.23</td>\\n<td>1.35%</td>\\n<td>$0.07</td>\\n<td>$0.26</td>\\n<td>-3.25%</td>\\n</tr>\\n<tr>\\n<td>Yelp Inc</td>\\n<td>23.18</td>\\n<td>3.38</td>\\n<td>1.97</td>\\n<td>5.21%</td>\\n<td>$0.06</td>\\n<td>$0.33</td>\\n<td>4.41%</td>\\n</tr>\\n<tr>\\n<td>Weibo Corp</td>\\n<td>6.85</td>\\n<td>0.68</td>\\n<td>1.48</td>\\n<td>3.78%</td>\\n<td>$0.14</td>\\n<td>$0.37</td>\\n<td>5.05%</td>\\n</tr>\\n<tr>\\n<td>Ziff Davis Inc</td>\\n<td>41.47</td>\\n<td>1.36</td>\\n<td>1.83</td>\\n<td>-2.68%</td>\\n<td>$0.02</td>\\n<td>$0.3</td>\\n<td>3.69%</td>\\n</tr>\\n<tr>\\n<td>JOYY Inc</td>\\n<td>11.42</td>\\n<td>0.39</td>\\n<td>1.05</td>\\n<td>1.17%</td>\\n<td>$0.06</td>\\n<td>$0.21</td>\\n<td>-1.48%</td>\\n</tr>\\n<tr>\\n<td>Tripadvisor Inc</td>\\n<td>49.81</td>\\n<td>1.91</td>\\n<td>1.06</td>\\n<td>4.33%</td>\\n<td>$0.1</td>\\n<td>$0.48</td>\\n<td>-0.19%</td>\\n</tr>\\n<tr>\\n<td>Hello Group Inc</td>\\n<td>7.84</td>\\n<td>0.83</td>\\n<td>0.93</td>\\n<td>4.03%</td>\\n<td>$0.56</td>\\n<td>$1.05</td>\\n<td>-12.1%</td>\\n</tr>\\n<tr>\\n<td><strong>Average</strong></td>\\n<td><strong>59.41</strong></td>\\n<td><strong>2.62</strong></td>\\n<td><strong>2.96</strong></td>\\n<td><strong>2.99%</strong></td>\\n<td><strong>$4.21</strong></td>\\n<td><strong>$6.75</strong></td>\\n<td><strong>4.12%</strong></td>\\n</tr>\\n</tbody>\\n</table>\\n\\n<style>\\n        table {\\n            width: 100%;\\n            border-collapse: collapse;\\n            font-family: Arial, sans-serif;\\n            font-size: 14px;\\n        }\\n\\n        th, td {\\n            padding: 8px;\\n            text-align: left;\\n        }\\n\\n        th {\\n            background-color: #293a5a;\\n            color: #fff;\\n            text-align: left;\\n        }\\n\\n        tr:nth-child(even) {\\n            background-color: #f2f4f8;\\n        }\\n\\n        tr:hover {\\n            background-color: #e1e4ea;\\n        }\\n\\n        td:nth-child(3), td:nth-child(5) {\\n            text-align: left;\\n        }\\n\\n        .dividend-amount {\\n            font-weight: bold;\\n            color: #0d6efd;\\n        }\\n\\n        .dividend-frequency {\\n            font-size: 12px;\\n            color: #6c757d;\\n        }\\n    </style>\\n\\n<p>When conducting a detailed analysis of Meta Platforms, the following trends become clear: </p>\\n<ul>\\n<li>\\n<p>The Price to Earnings ratio of <b>28.18</b> is <b>0.47x</b> lower than the industry average, indicating potential undervaluation for the stock.</p>\\n</li>\\n<li>\\n<p>With a Price to Book ratio of <b>9.16</b>, which is <b>3.5x</b> the industry average, Meta Platforms might be considered overvalued in terms of its book value, as it is trading at a higher multiple compared to its industry peers.</p>\\n</li>\\n<li>\\n<p>The Price to Sales ratio of <b>10.03</b>, which is <b>3.39x</b> the industry average, suggests the stock could potentially be overvalued in relation to its sales performance compared to its peers.</p>\\n</li>\\n<li>\\n<p>The Return on Equity (ROE) of <b>9.77%</b> is <b>6.78%</b> above the industry average, highlighting efficient use of equity to generate profits.</p>\\n</li>\\n<li>\\n<p>With higher Earnings Before Interest, Taxes, Depreciation, and Amortization (EBITDA) of <b>$22.06 Billion</b>, which is <b>5.24x</b> above the industry average, the company demonstrates stronger profitability and robust cash flow generation.</p>\\n</li>\\n<li>\\n<p>The company has higher gross profit of <b>$33.21 Billion</b>, which indicates <b>4.92x</b> above the industry average, indicating stronger profitability and higher earnings from its core operations.</p>\\n</li>\\n<li>\\n<p>The company\\'s revenue growth of <b>18.87%</b> is notably higher compared to the industry average of <b>4.12%</b>, showcasing exceptional sales performance and strong demand for its products or services.</p>\\n</li>\\n</ul>\\n<h3>Debt To Equity Ratio</h3>\\n<p><img src=\"https://www.benzinga.com/files/images/story/2024/1734620435_0.png\" alt=\"debt to equity\" /></p>\\n\\n<p>The debt-to-equity (D/E) ratio is an important measure to assess the financial structure and risk profile of a company.</p>\\n<p>Considering the debt-to-equity ratio in industry comparisons allows for a concise evaluation of a company\\'s financial health and risk profile, aiding in informed decision-making.</p>\\n<p>When assessing Meta Platforms against its top 4 peers using the Debt-to-Equity ratio, the following comparisons can be made:</p>\\n<ul>\\n<li>\\n<p>When comparing the debt-to-equity ratio, Meta Platforms is in a stronger financial position compared to its top 4 peers.</p>\\n</li>\\n<li>\\n<p>The company has a lower level of debt relative to its equity, indicating a more favorable balance between the two with a lower debt-to-equity ratio of <b>0.3</b>.</p>\\n</li>\\n</ul>\\n<h3>Key Takeaways</h3>\\n<p>For Meta Platforms, the PE ratio is low compared to peers, indicating potential undervaluation. The high PB and PS ratios suggest the market values its assets and sales highly. In terms of ROE, EBITDA, gross profit, and revenue growth, Meta Platforms outperforms its industry peers, reflecting strong financial performance and growth potential.</p>\\n<p><em>This article was generated by Benzinga\\'s automated content engine and reviewed by an editor.</em></p>', '<p><strong>Perplexity AI</strong>, backed by <strong>Amazon.com Inc. </strong>founder <strong>Jeff Bezos</strong>, <a href=\"https://www.benzinga.com/markets/equities/24/10/41420230/jeff-bezos-backed-perplexity-aims-for-8b-valuation-in-new-funding-round-ai-fueled-google-challen\">secured $500 million in funding</a> led by Institutional Venture Partners, tripling its valuation to $9 billion, <a href=\"https://www.ft.com/content/d4fb70f9-b971-433b-884c-2f01d1d08968\">reported</a> the Financial Times on Wednesday, citing sources. </p>\\n\\n\\n\\n<p><strong>What Happened</strong>: The San Francisco-based startup has seen rapid growth in 2024, processing hundreds of millions of monthly queries from 15 million active users, mostly in the U.S. The company&#8217;s market share in AI search increased from 2.7% to 5.8% this year, according to FirstPageSage data.</p>\\n\\n\\n\\n<p>Perplexity challenges <strong>Alphabet Inc.&#8217;s </strong>(NASDAQ:<a class=\"ticker\" href=\"https://www.benzinga.com/stock/GOOGL#NASDAQ\">GOOGL</a>) (NASDAQ:<a class=\"ticker\" href=\"https://www.benzinga.com/stock/GOOG#NASDAQ\">GOOG</a>) <strong>Google</strong> and <strong>Microsoft Corp.</strong>&#8216;s (NASDAQ:<a class=\"ticker\" href=\"https://www.benzinga.com/stock/MSFT#NASDAQ\">MSFT</a>) artificial intelligence-powered search offerings, while also taking on <strong>OpenAI</strong>.</p>\\n\\n\\n\\n<p>While OpenAI&#8217;s ChatGPT maintains market leadership with a 73.8% share, followed by Google&#8217;s Gemini at 13.5%, Perplexity&#8217;s growth trajectory has attracted high-profile investors. </p>\\n\\n\\n\\n<p>OpenAI&#8217;s website continues to lead the AI platform race, ranking 92nd globally and 139th in U.S. web traffic, according to recent Similarweb data. The company attracted 250.1 million total visits, showcasing its commanding market position.</p>\\n\\n\\n\\n<p>Perplexity.ai, while trailing in overall rankings at 467th globally and 547th in the U.S., demonstrated strong user engagement. The platform recorded 58.69 million total visits, with users spending an average of six minutes per session and viewing nearly four pages per visit.</p>\\n\\n\\n\\n<p>In contrast, Google&#8217;s Gemini platform struggled to gain traction, ranking 12,612th globally and 31,018th in the U.S. The service recorded just 989,992 total visits, with notably high bounce rates suggesting challenges in user retention.</p>\\n\\n\\n\\n<p>Monthly visit data further highlights the disparity, with OpenAI recording 83.39 million visits compared to Perplexity.ai&#8217;s 19.56 million and Gemini&#8217;s 329,997 visits. While OpenAI leads in raw traffic numbers, </p>\\n\\n\\n\\n<figure class=\"wp-block-image size-large\"><img decoding=\"async\" src=\"https://editorial-assets.benzinga.com/wp-content/uploads/2024/12/19035716/Screenshot-2024-12-19-at-2.21.33%E2%80%AFPM-1024x499.png\" alt=\"\" class=\"wp-image-699219\"/></figure>\\n\\n\\n\\n<p>Perplexity AI did not immediately respond to\\xa0<a href=\"http://pro.benzinga.com/\" target=\"_blank\" rel=\"noreferrer noopener\">Benzinga</a>\\'s request for comment.</p>\\n\\n\\n\\n<p>Similarweb data also shows conversations about Perplexity versus ChatGPT surging over the course of the year, largely taking off in August.</p>\\n\\n\\n\\n<figure class=\"wp-block-image size-large\"><img loading=\"lazy\" decoding=\"async\" width=\"1024\" height=\"365\" src=\"https://editorial-assets.benzinga.com/wp-content/uploads/2024/12/19042831/Perplexity-versus-ChatGPT-1024x365.jpg\" alt=\"\" class=\"wp-image-699287\" srcset=\"https://editorial-assets.benzinga.com/wp-content/uploads/2024/12/19042831/Perplexity-versus-ChatGPT-1024x365.jpg 1024w,https://editorial-assets.benzinga.com/wp-content/uploads/2024/12/19042831/Perplexity-versus-ChatGPT-300x107.jpg 300w,https://editorial-assets.benzinga.com/wp-content/uploads/2024/12/19042831/Perplexity-versus-ChatGPT-768x274.jpg 768w,https://editorial-assets.benzinga.com/wp-content/uploads/2024/12/19042831/Perplexity-versus-ChatGPT.jpg 1373w\" sizes=\"(max-width: 1024px) 100vw, 1024px\" /></figure>\\n\\n\\n\\n<p><strong>See Also: <a href=\"https://www.benzinga.com/24/12/42569479/openai-takes-a-page-from-googles-2007-playbook-by-turning-phones-into-an-ai-hotline-with-toll-free-number-1-800-chatgpt\">OpenAI Takes A Page From Google&#8217;s 2007 Playbook, Turns Phones Into AI Hotlines With 1-800-CHATGPT</a></strong></p>\\n\\n\\n\\n<p><strong>Why It Matters</strong>: Previous backers of Perplexity include<strong> NVIDIA Corp.</strong>, <strong>SoftBank</strong>&#8216;s Vision Fund 2, and notable AI experts like <strong>Meta Platforms Inc.</strong>&#8216;s chief AI scientist <strong>Yann LeCun</strong>.</p>\\n\\n\\n\\n<p>The funding comes as competition intensifies in the AI search space. OpenAI recently integrated web searching into ChatGPT, while Anthropic&#8217;s Claude expanded its capabilities with a &#8220;computer use&#8221; feature.</p>\\n\\n\\n\\n<p>Both Google and Microsoft have incorporated large language models into their search products to provide more conversational results.</p>\\n\\n\\n\\n<p>Perplexity&#8217;s revenue model relies on subscriptions, with annualized revenues growing from $5 million in January to $35 million in August. The company is now exploring advertising partnerships with major brands, potentially challenging the traditional search <a href=\"https://www.benzinga.com/markets/equities/24/10/41420230/jeff-bezos-backed-perplexity-aims-for-8b-valuation-in-new-funding-round-ai-fueled-google-challen\">advertising system pioneered by Google</a>.</p>\\n\\n\\n\\n<p><strong>Read Next: </strong></p>\\n\\n\\n\\n<ul>\\n<li><strong><a href=\"https://www.benzinga.com/news/24/12/42569744/apple-reportedly-in-talks-with-tencent-tiktok-parent-bytedance-to-roll-out-ai-features-in-china\">Apple Reportedly In Talks With Tencent, TikTok-Parent ByteDance To Roll Out AI Features In China</a></strong></li>\\n</ul>\\n\\n\\n\\n<p><em>Image Via Shutterstock </em></p>\\n\\n\\n\\n<p><strong><em>Disclaimer</em>:</strong><em>&nbsp;This content was partially produced with the help of AI tools and was reviewed and published by Benzinga editors.</em></p>', '<p><strong>Apple Inc. </strong>(NASDAQ:<a class=\"ticker\" href=\"https://www.benzinga.com/stock/AAPL#NASDAQ\">AAPL</a>) has slammed <strong>Meta Platforms, Inc.</strong> (NASDAQ:<a class=\"ticker\" href=\"https://www.benzinga.com/stock/META#NASDAQ\">META</a>) for its numerous requests to access iPhone-maker&#8217;s software tools, citing potential privacy and security risks.</p>\\n\\n\\n\\n<p><strong>What Happened:</strong> Under the EU&#8217;s Digital Markets Act, Apple is required to allow competitors and app developers to inter-operate with its services or face significant fines.</p>\\n\\n\\n\\n<p>Meta has so far submitted 15 interoperability requests, more than any other company, seeking extensive access to Apple&#8217;s technology stack, reported Reuters, citing a report in which Cupertino complained about it.</p>\\n\\n\\n\\n<p>The <strong>Tim Cook</strong>-led tech giant has expressed concerns that Meta&#8217;s requests could compromise user privacy and security.</p>\\n\\n\\n\\n<p><strong>See Also: <a href=\"https://www.benzinga.com/analyst-ratings/analyst-color/24/12/42513402/apples-2025-bull-case-can-it-deliver-without-riding-the-ai-wave?itm_source=parsely-api\">Apple&#8217;s 2025 Bull Case: Can It Deliver Without Riding The AI Wave?</a></strong></p>\\n\\n\\n\\n<p>The company also suggested that the requests are unrelated to the use of Meta&#8217;s external devices like smart glasses and VR headsets.</p>\\n\\n\\n\\n<p>Apple cited Meta\\'s history of receiving fines in Europe as a reason for its concern.</p>\\n\\n\\n\\n<p>In response, a Meta spokesperson accused Apple of using privacy as a pretext for anticompetitive behavior. &#8220;Every time Apple is called out for its anticompetitive behavior, they defend themselves on privacy grounds that have no basis in reality.&#8221;</p>\\n\\n\\n\\n<p>Apple and Meta did not immediately respond to <a href=\"https://pro.benzinga.com/dashboard\">Benzinga\\'s</a> request for comments.</p>\\n\\n\\n\\n<p><em>Subscribe to the </em><a href=\"https://bztechtrends.beehiiv.com/subscribe\"><em>Benzinga Tech Trends newsletter</em></a><em> to get all the latest tech developments delivered to your inbox.</em></p>\\n\\n\\n\\n<p><strong>Why It Matters:</strong> Since 2014, Cook and Meta CEO <strong>Mark Zuckerberg</strong> have clashed over privacy, business models, and product strategies.</p>\\n\\n\\n\\n<p>From <strong>Facebook&#8217;s Cambridge Analytica</strong> scandal to <strong>Apple\\'s iOS</strong> privacy updates and competing VR headsets, their battle epitomizes the growing tensions between Silicon Valley&#8217;s biggest players.</p>\\n\\n\\n\\n<p>This year in February, Apple launched its first-generation mixed-reality headset called <strong>Vision Pro</strong>, and Zuckerberg wasted no time in sharing his thoughts on the device.</p>\\n\\n\\n\\n<p>&nbsp;&#8220;I don\\'t think that Quest is the better value, I think [Meta&#8217;s] Quest is the better product, period,&#8221; he stated at the time.</p>\\n\\n\\n\\n<p>In June, <a href=\"https://www.benzinga.com/news/24/06/39470144/apple-reportedly-said-no-to-metas-offer-for-iphone-ai-integration-due-to-privacy-policy-concerns\">Apple reportedly declined Meta&#8217;s proposal</a> to integrate its AI chatbot, <strong>Llama</strong>, into the iPhone, citing privacy policy concerns. This report came just days after Apple announced a partnership with <strong>OpenAI</strong>.</p>\\n\\n\\n\\n<p>In July, Meta CEO <strong>Mark Zuckerberg</strong> criticized Apple&#8217;s approach, describing it as &#8220;soul-crushing&#8221; and accusing the company of <a href=\"https://www.benzinga.com/news/24/07/39926076/mark-zuckerberg-slams-tim-cooks-apple-after-cupertino-reportedly-rejected-its-iphone-ai-partnership\">trying to limit Meta&#8217;s</a> technological advancements.</p>\\n\\n\\n\\n<p><strong>Price Action:</strong> On Wednesday, Meta&#8217;s stock finished 3.59% lower at $597.19, while Apple saw a decline of 2.14%, ending at $248.05, according to <a href=\"https://pro.benzinga.com/dashboard\">Benzinga Pro</a>.</p>\\n\\n\\n\\n<p><em>Check out more of Benzinga&#8217;s Consumer Tech coverage by </em><a href=\"https://www.benzinga.com/topic/consumer-tech\"><em>following this link</em></a><em>.</em></p>\\n\\n\\n\\n<p><strong>Read Next:</strong></p>\\n\\n\\n\\n<ul>\\n<li><strong><a href=\"https://www.benzinga.com/tech/24/12/42525551/ahead-of-trumps-return-to-white-house-us-approves-406m-grant-for-taiwans-chipmaker-globalwafers?itm_source=parsely-api\">Ahead Of Trump&#8217;s Return To White House, US Approves $406M Grant For Taiwan&#8217;s Chipmaker GlobalWafers</a></strong></li>\\n</ul>\\n\\n\\n\\n<p><strong><em>Disclaimer:</em></strong><em> This content was partially produced with the help of </em><a href=\"https://www.benzinga.com/author/benzinga-neuro\"><em>Benzinga Neuro</em></a><em> and was reviewed and published by Benzinga editors.</em></p>', '<p>On Wednesday, Senate minority leader <strong>Mitch McConnell</strong> (R-Ky.) submitted an amicus brief to the Supreme Court, urging the rejection of <strong>TikTok&#8217;s</strong> request to delay a law that could ban the app in January.</p>\\n\\n\\n\\n<p><strong>What Happened: </strong>McConnell dismissed TikTok&#8217;s First Amendment claims in his filing. &#8220;The topsy-turvy idea that TikTok has an expressive right to facilitate the CCP censorship regime is absurd,&#8221; his counsel <strong>Michael A. Fragoso</strong> wrote.</p>\\n\\n\\n\\n<p>&#8220;TikTok clearly desires this Court to enjoin the divesture date in the vain hopes that the divesture order will be punted into the next presidential administration where, perhaps, TikTok will find relief from divesture from a less hostile Department of Justice,&#8221; the filing read.</p>\\n\\n\\n\\n<p><strong>See Also: <a href=\"https://www.benzinga.com/24/12/42546621/elon-musk-agrees-as-satya-nadella-reflects-on-ais-global-impact-in-2024-from-cancer-research-to-rainforest-conservation-and-more?itm_source=parsely-api\">Elon Musk Agrees With Satya Nadella As Microsoft CEO Reflects On &#8216;Incredible Speed&#8217; Of AI Diffusion In 2024</a></strong></p>\\n\\n\\n\\n<p>On the same day, the Supreme Court said it will hear arguments on whether the law that bans TikTok nationwide infringes on the First Amendment, with oral arguments scheduled for Jan. 10.</p>\\n\\n\\n\\n<p>This timeline allows the court to potentially rule before the ban&#8217;s effective date of Jan. 19.</p>\\n\\n\\n\\n<p><em>Subscribe to the </em><a href=\"https://bztechtrends.beehiiv.com/subscribe\"><em>Benzinga Tech Trends newsletter</em></a><em> to get all the latest tech developments delivered to your inbox.</em></p>\\n\\n\\n\\n<p><strong>Why It Matters:</strong> McConnell was instrumental in passing a <a href=\"https://www.benzinga.com/news/24/04/38500093/tiktok-ban-courts-must-decide-whether-national-security-concerns-trump-freedom-of-expression\">foreign aid package</a> in April that included the law. It mandated <strong>ByteDance</strong>, TikTok&#8217;s China-based parent company, to divest from the app or face a ban in the U.S.</p>\\n\\n\\n\\n<p>Earlier this week, President-elect <strong>Donald Trump</strong> <a href=\"https://www.benzinga.com/general/social-media/24/12/42522134/trump-meets-tiktok-ceo-shou-zi-chew-at-mar-a-lago-as-platform-urges-supreme-court-to-block-looming-ban\">met with TikTok CEO</a> <strong>Shou Zi Chew</strong>. Trump, who previously attempted to ban TikTok during his first presidency, has also expressed support for the social media platform, promising to &#8220;save&#8221; it.</p>\\n\\n\\n\\n<p>A potential TikTok ban could lead users to <a href=\"https://www.benzinga.com/24/12/42512436/tiktok-ban-could-lead-to-more-time-spent-on-youtube-reddit-snapchat\">spend more time on</a> platforms like <strong>YouTube</strong>, owned by <strong>Alphabet Inc.\\'s</strong> (NASDAQ:<a class=\"ticker\" href=\"https://www.benzinga.com/stock/GOOG#NASDAQ\">GOOG</a>) (NASDAQ:<a class=\"ticker\" href=\"https://www.benzinga.com/stock/GOOGL#NASDAQ\">GOOGL</a>) <strong>Google</strong>, <strong>Reddit Inc.</strong> (NYSE:<a class=\"ticker\" href=\"https://www.benzinga.com/stock/RDDT#NYSE\">RDDT</a>), and <strong>Snap Inc.\\'s</strong> (NYSE:<a class=\"ticker\" href=\"https://www.benzinga.com/stock/SNAP#NYSE\">SNAP</a>) <strong>Snapchat</strong>.</p>\\n\\n\\n\\n<p>The platform also competes with <strong>Meta Platforms, Inc.\\'s</strong> (NASDAQ:<a class=\"ticker\" href=\"https://www.benzinga.com/stock/META#NASDAQ\">META</a>) <strong>Facebook</strong> and <strong>Instagram</strong>. In fact, following a court ruling against TikTok, stocks for Meta, Reddit, and Snap <a href=\"https://www.benzinga.com/24/12/42369266/meta-reddit-stocks-climb-record-highs-as-tiktoks-battle-against-us-ban-continues-after-court-ruling\">reached record highs</a>.</p>\\n\\n\\n\\n<p>In September, acquisition speculation ignited after <strong>Amazon.com, Inc. </strong>(NASDAQ:<a class=\"ticker\" href=\"https://www.benzinga.com/stock/AMZN#NASDAQ\">AMZN</a>) decided to <a href=\"https://www.benzinga.com/news/24/09/40866761/is-amazon-eyeing-tiktok-for-a-possible-acquisition\">deepen its ties with TikTok</a>. In May 2024, venture capitalist<strong> Kevin O\\'Leary</strong> also <a href=\"https://www.benzinga.com/markets/cryptocurrency/24/05/38948567/kevin-oleary-wants-to-buy-tiktok-talks-potential-for-crypto-payments-on-the-platform\">expressed interest in acquiring</a> TikTok.</p>\\n\\n\\n\\n<p>In July, Needham analyst <strong>Laura Martin</strong> assessed <a href=\"https://www.benzinga.com/top-stories/24/07/39991984/tiktok-vs-reels-vs-shorts-analyst-sizes-up-short-form-video-platforms-on-valuation-and-monetization\">TikTok as being more valuable</a> than <strong>Instagram Reels</strong> and <strong>YouTube Shorts</strong>, citing metrics such as revenue, active user base, and engagement levels.</p>\\n\\n\\n\\n<p><em>Photo by Consolidated News Photos on Shutterstock</em></p>\\n\\n\\n\\n<p><em>Check out more of Benzinga\\'s Consumer Tech coverage by </em><a href=\"https://www.benzinga.com/topic/consumer-tech\"><em>following this link</em></a><em>.</em></p>\\n\\n\\n\\n<p><strong>Read Next:</strong></p>\\n\\n\\n\\n<ul>\\n<li><strong><a href=\"https://www.benzinga.com/24/12/42545936/samsung-galaxy-s25-ultra-and-s25-leaks-show-off-sleek-curved-design-and-slimmer-bezels-than-apples-iphone-16-pro-max?itm_source=parsely-api\">Samsung Galaxy S25 Ultra And S25+ Leaks Feature Sleek Curved Design And Slimmer Bezels Than Apple&#8217;s iPhone 16 Pro Max</a></strong></li>\\n</ul>\\n\\n\\n\\n<p><strong><em>Disclaimer:</em></strong><em> This content was partially produced with the help of AI tools and was reviewed and published by Benzinga editors.</em></p>', '<p>The stock market experienced a turbulent day following remarks from\\xa0<strong>Federal Reserve Chair Jerome Powell</strong>. The\\xa0<strong>S&amp;P 500</strong>\\xa0and\\xa0<strong>Nasdaq</strong>\\xa0indices both saw significant declines, with the former dropping by 2.95% and the latter tumbling 3.6%. Powell&#8217;s announcement of a <a href=\"https://www.benzinga.com/economics/macro-economic-events/24/12/42563299/feds-powell-shocks-markets-its-a-new-phase-were-significantly-closer-to-neutral\">cautious approach</a> to future interest rate cuts contributed to the market&#8217;s volatility.</p>\\n\\n\\n\\n<p>Despite the overall market downturn, several stocks stood out, drawing the interest of retail traders and investors. These are the top stocks that gained the attention of retail traders and investors throughout the day:</p>\\n\\n\\n\\n<p><strong>Micron Technology Inc.</strong></p>\\n\\n\\n\\n<p>Micron&#8217;s stock fell 4.33%, closing at $103.90. The stock hit an intraday high of $112.04 and a low of $102.73, with a 52-week range between $157.54 and $78.63. The company reported <a href=\"https://www.benzinga.com/news/earnings/24/12/42564387/micron-q1-earnings-revenue-miss-eps-beat-soft-guidance-sinks-shares-as-consumer-markets-turn-weaker-in-near-term\">first-quarter earnings</a>, revealing a revenue miss of $8.71 billion, slightly below the consensus estimate. However, adjusted earnings per share beat expectations at $1.79. Despite this,\\xa0soft guidance\\xa0for the near term due to weaker consumer markets led to the stock&#8217;s decline.</p>\\n\\n\\n\\n<p><strong>Quantum Corporation</strong></p>\\n\\n\\n\\n<p>Quantum&#8217;s shares surged 153.04%, closing at $60.02, after reaching a high of $64.20 and a low of $22.15. The stock&#8217;s 52-week range is $64.20 to $2.22. The company announced the development of a\\xa0<a href=\"https://www.benzinga.com/24/12/42556629/whats-going-on-with-quantum-corporation-stock-wednesday\">parallel file system client</a>\\xa0for its Myriad all-flash file system. This new client supports NVIDIA&#8217;s GPUDirect Storage, enhancing cross-platform compatibility.</p>\\n\\n\\n\\n<p><strong>Meta Platforms Inc.</strong></p>\\n\\n\\n\\n<p>Meta&#8217;s stock dropped 3.59%, closing at $597.19. It recorded an intraday high of $627.36 and a low of $596.32, with a 52-week high of $638.40 and a low of $340.02. The company is projected to see significant growth in advertising revenue, with Instagram <a href=\"https://www.benzinga.com/24/12/42560942/instagrams-ad-revenue-could-hit-32-billion-by-2025-driving-metas-growth-report\">potentially generating</a> $32 billion by 2025. This growth is driven by the increasing popularity of its short-form video product, Reels, according to a previous report.</p>\\n\\n\\n\\n<p><strong>Amazon.com Inc.</strong></p>\\n\\n\\n\\n<p>Amazon&#8217;s shares declined by 4.60%, closing at $220.52. The stock&#8217;s intraday high was $231.40, with a low of $220.11, and a 52-week range of $233 to $144.05. The company is set to <a href=\"https://www.benzinga.com/24/12/42562732/mrbeasts-new-game-show-to-premiere-on-amazon-prime-video-thursday-why-billionaire-david-tepper-may-be-watching\">premiere a new game show</a> by YouTube star <strong>MrBeast</strong> on its Prime Video platform. This move is anticipated to attract significant attention, as highlighted in a\\xa0recent report.</p>\\n\\n\\n\\n<p><strong>Tesla, Inc.</strong></p>\\n\\n\\n\\n<p>Tesla&#8217;s stock plummeted 8.28%, closing at $440.13. The stock reached an intraday high of $488.54 and a low of $427.01, with a 52-week high of $488.54 and a low of $138.80. Despite the decline, Tesla remains a <a href=\"https://www.benzinga.com/24/12/42562149/teslas-bright-2025-outlook-rivian-faces-roadblocks-analyst-view\">top pick for analysts</a> due to its long-term potential. Baird analyst <strong>Ben Kallo</strong> emphasized Tesla&#8217;s momentum, even amidst geopolitical and policy challenges, as detailed in a\\xa0recent analysis.</p>\\n\\n\\n\\n<p><em>Image via Shutterstock</em></p>\\n\\n\\n\\n<p><em>Prepare for the day&#8217;s trading&nbsp;<a href=\"https://editorial.benzinga.com/wp-admin/Premarket%20Movers%20&amp;%20News\">with top premarket movers and news</a>&nbsp;by Benzinga.</em></p>\\n\\n\\n\\n<p><strong>Read Next:\\xa0</strong></p>\\n\\n\\n\\n<ul>\\n<li><a href=\"https://www.benzinga.com/tech/24/12/42525257/analyst-hikes-teslas-price-target-to-515-musk-expresses-hope-for-stock-to-touch-69042?itm_source=parsely-api\" target=\"_blank\" rel=\"noreferrer noopener\"><strong>Elon Musk Hopes TSLA Stock Will Reach $690 As Analysts Raise Price Target Despite Technical Indicators Flashing Warning Signals</strong></a></li>\\n</ul>\\n\\n\\n\\n<p>This story was generated using <a href=\"https://www.benzinga.com/author/benzinga-neuro\">Benzinga Neuro</a> and edited by <u><a href=\"https://www.benzinga.com/author/shivdeep-dhaliwal\" target=\"_blank\" rel=\"noreferrer noopener\">Shivdeep Dhaliwal</a></u></p>']"
        ],
        [
         "3168",
         "2024-12-20 00:00:00+00:00",
         "590.04",
         "603.11",
         "584.0",
         "585.25",
         "4112358",
         "0.35360466",
         "0.35916074",
         "0.30909254",
         "0.31423588",
         "1.0",
         "0.28253449",
         "0.28253449",
         "0.28253449",
         "0.28253449",
         "1.0",
         "META",
         "2024Q4",
         "62400000000.0",
         "193350000000.0",
         "0.3525999999999999",
         "2.671",
         "0.1072",
         "80.7571",
         "34.6555",
         "34.6555",
         "42.9415",
         "35.1574",
         "28.9825",
         "0.5875",
         "0.0",
         "43.7479",
         "59.8079",
         "8.3689",
         "9.6235",
         "571.98",
         "65.19",
         "8.77",
         "6.03",
         "20.13",
         "28.42",
         "256410000000.0",
         "0.2366",
         "91070000000.0",
         "33330000000.0",
         "59.73",
         "9.58",
         "91880000000.0",
         "164530000000.0",
         "0.56",
         "21.23",
         "26.96",
         "0.356",
         "0.0",
         "0.0",
         "0.0",
         "0.0",
         "0.21221748207315969",
         "0.0",
         "0.19148936170212785",
         "0.09803921568627459",
         "0.030757920183592666",
         "0.0",
         "0.3961944128856552",
         "0.0",
         "0.3961944128856552",
         "0.0",
         "0.4567291260379179",
         "0.0",
         "-0.06434145564580346",
         "0.0",
         "0.0",
         "0.0",
         "0.07872078720787193",
         "0.6301115241635687",
         "0.048619214313496695",
         "0.02043906131718392",
         "0.16860465116279072",
         "0.3735763097949888",
         "0.061224489795918366",
         "0.6970356268697308",
         "-2.4708309770896695",
         "0.0",
         "-6.596803317060122",
         "0.0",
         "0.04215456674473092",
         "0.5787139689578713",
         "0.0336391437308869",
         "0.5783855903935957",
         "49.7",
         "253.548",
         "736535.0",
         "159536.0",
         "0.33",
         "4.39",
         "317.685",
         "98.91297",
         "1289.0",
         "21533.8",
         "29700.58",
         "0.006072874493927127",
         "0.014735898441564643",
         "-0.03827270756783996",
         "0.014189086100798498",
         "-1.942857142857143",
         "0.09203980099502496",
         "0.028965932720523835",
         "0.00818746770197043",
         "-0.1779336734693877",
         "0.03900527854709668",
         "0.04960294861283199",
         "0.03757828810020891",
         "0.003419290497221894",
         "0.077501835981731",
         "0.0032133312372268907",
         "1.2000000000000002",
         "0.18010752688172027",
         "0.009530134801039924",
         "0.0",
         "-0.048708487084870855",
         "0.014654051303315319",
         "0.011086534585258656",
         "3733.27",
         "3760.2",
         "3726.88",
         "3756.07",
         "0.0",
         "0.18014392",
         "0.18187424",
         "0.17346075",
         "0.17346075",
         "1.0",
         "0.10242232",
         "0.10242232",
         "0.10242232",
         "0.10242232",
         "1.0",
         "12852.96",
         "12904.09",
         "12804.75",
         "12888.28",
         "0.0",
         "0.22664035",
         "0.23499034",
         "0.22414805",
         "0.22933902",
         "1.0",
         "0.14474376",
         "0.14474376",
         "0.14474376",
         "0.14474376",
         "1.0",
         "22.99",
         "23.25",
         "21.24",
         "22.75",
         "0.0",
         "1.34863469",
         "1.35030151",
         "1.0555754",
         "1.09850007",
         "1.0",
         "1.10283381",
         "1.10283381",
         "1.10283381",
         "1.10283381",
         "1.0",
         "9.27",
         "9.37",
         "9.12",
         "9.17",
         "0.0",
         "0.51150839",
         "0.51150839",
         "0.51150839",
         "0.51150839",
         "1.0",
         "0.68",
         "0.68",
         "0.6",
         "0.65",
         "0.0",
         "1.41399004",
         "1.41399004",
         "1.41399004",
         "1.41399004",
         "1.0",
         "0.308769",
         "2025-01-10",
         "0.292158",
         "-0.05379749910127002",
         "0.307702",
         "0.271117",
         "-0.11889750472860099",
         "0.307549",
         "0.333964",
         "0.08588875268656365",
         "0.881102495271399",
         "SMILE",
         "21.0",
         "601.6334999999999",
         "585.9779999999998",
         "560.795",
         "524.945349999999",
         "44.094068968615396",
         "16.081491549000173",
         "6.883722601784598",
         "10.43837301084237",
         "126.73925874292857",
         "1.8642499999999482",
         "1.0477430919697295",
         "0.20047999999997201",
         "0.6848033187142553",
         "1.3199000000000167",
         "1.2012999922619552",
         "0.5039849999999461",
         "1.1573647308444335",
         "615.568",
         "-0.033038348082596",
         "-1.5821538100552048",
         "621.034",
         "-0.013752616431187808",
         "-1.3788033749291844",
         "602.154",
         "-0.018487394957983194",
         "-1.2109692865071056",
         "604.3380000000001",
         "-0.017327937941803734",
         "-1.1425212103245048",
         "1802564.2",
         "2.212114679382784",
         "1.7721027648317922",
         "0.315864606",
         "-0.08241785131820636",
         "-0.06765704618065492",
         "0.274603586",
         "0.022814782238906255",
         "1.3040483736952693",
         "3756.07",
         "0.0",
         "0.4472135955234448",
         "12888.28",
         "0.0",
         "0.4472135953294231",
         "22.75",
         "0.0",
         "-0.4472135959261813",
         "9.17",
         "0.0",
         "-0.4472135947016216",
         "-5.530000000000086",
         "-0.9285222559900743",
         "3.265271251601882",
         "632.15",
         "584.0",
         "8.227253310551044",
         "4.209999999999946",
         "-0.008858772267076903",
         "0.9434190376400419",
         "0.63%, -0.77%, -3.59%, -0.27%, -1.73%",
         "-5.98%, 0.91%, 2.71%, 8.61%",
         "0.0",
         "-0.01732793794180376",
         "0.0",
         "0.3223396",
         "0.3061832",
         "-0.04861791321098023",
         "0.32181119999999996",
         "0.2964290000000001",
         "-0.07759426343205413",
         "0.3217500000000001",
         "0.3139512",
         "-0.021973340334384577",
         "-3.5546504090577713",
         "-1.748807901577489",
         "-3.5608069836254614",
         "0.5904051274072264",
         "-25873.77621578932",
         "634.2242306756903",
         "604.3379999999995",
         "574.4517693243088",
         "0.10213150166831522",
         "0.4906902840615972",
         "0.0",
         "False",
         "True",
         "['<p>Benzinga readers pick which Magnificent 7 stock could have the best performance if there is a<a href=\"https://www.benzinga.com/topic/santa-claus-rally\"> Santa Claus rally</a> to close 2024 and kickstart 2025.</p>\\n\\n\\n\\n<p><strong>What Happened: </strong>The majority of the <a href=\"https://www.benzinga.com/topic/magnificent-seven\">Magnificent 7 stocks </a>have outperformed the S&amp;P 500 year-to-date in 2024. With a limited number of trading days left to close out the year, one last question on the mind of investors is whether there will be a Santa Claus rally.</p>\\n\\n\\n\\n<p>The term &#8220;Santa Claus rally&#8221; was first used by Yale Hirsch in 1972 in the Stock Trader\\'s Almanac. The term is associated with the last five trading days of a year and the first two days of the following year.</p>\\n\\n\\n\\n<p><strong>Check This Out: <a href=\"https://www.benzinga.com/general/education/24/12/42625025/santa-claus-rally-in-2024-poll-shows-investors-split-on-end-of-year-returns-57-say-this\">Santa Claus Rally In 2024? Poll Shows Investors Split On End Of Year Returns, 57% Say This…</a></strong></p>\\n\\n\\n\\n<p>Combine the Santa Claus rally potential and the Magnificent 7 outperformance in 2024, and you have the latest Benzinga poll.</p>\\n\\n\\n\\n<p>\"Which Magnificent 7 stock will do the best if there\\'s a Santa Rally?\" Benzinga asked.</p>\\n\\n\\n\\n<p>The results were:</p>\\n\\n\\n\\n<ul>\\n<li><strong>NVIDIA Corporation</strong> (NASDAQ:<a class=\"ticker\" href=\"https://www.benzinga.com/stock/NVDA#NASDAQ\">NVDA</a>): 28%</li>\\n\\n\\n\\n<li><strong>Tesla Inc</strong> (NASDAQ:<a class=\"ticker\" href=\"https://www.benzinga.com/stock/TSLA#NASDAQ\">TSLA</a>): 25%</li>\\n\\n\\n\\n<li><strong>Amazon.com Inc </strong>(NASDAQ:<a class=\"ticker\" href=\"https://www.benzinga.com/stock/AMZN#NASDAQ\">AMZN</a>): 17%</li>\\n\\n\\n\\n<li><strong>Alphabet Inc </strong>(NASDAQ:<a class=\"ticker\" href=\"https://www.benzinga.com/stock/GOOG#NASDAQ\">GOOG</a>)(NASDAQ:<a class=\"ticker\" href=\"https://www.benzinga.com/stock/GOOGL#NASDAQ\">GOOGL</a>): 9%</li>\\n\\n\\n\\n<li><strong>Apple Inc</strong> (NASDAQ:<a class=\"ticker\" href=\"https://www.benzinga.com/stock/AAPL#NASDAQ\">AAPL</a>): 9%</li>\\n\\n\\n\\n<li><strong>Meta Platforms</strong> (NASDAQ:<a class=\"ticker\" href=\"https://www.benzinga.com/stock/META#NASDAQ\">META</a>): 7%</li>\\n\\n\\n\\n<li><strong>Microsoft Corporation </strong>(NASDAQ:<a class=\"ticker\" href=\"https://www.benzinga.com/stock/MSFT#NASDAQ\">MSFT</a>): 5%</li>\\n</ul>\\n\\n\\n\\n<p>Nvidia was the winner of the poll with more than one-fourth of the vote, which comes as the stock is the top performer among the Mag 7 stocks for year-to-date and five-year gains. Trailing Nvidia was Tesla, with exactly one-fourth of the vote.</p>\\n\\n\\n\\n<p>Amazon also received a double-digit percentage ranking third at 17%. The other Mag 7 stocks had much smaller percentages in the poll.</p>\\n\\n\\n\\n<p><strong>Read Also: <a href=\"https://www.benzinga.com/tech/24/11/42143676/which-magnificent-7-stock-should-doj-target-next-benzinga-poll-finds-over-50-say\">Which Magnificent 7 Stock Should DOJ Target Next? Benzinga Poll Finds Over 50% Say&#8230;</a></strong></p>\\n\\n\\n\\n<p><strong>Why It\\'s Important:</strong> The expectation for a Santa Claus Rally comes with major stock market indexes enjoying a strong 2024 and could add to their year-to-date gains.</p>\\n\\n\\n\\n<p>Here are the current year-to-date returns of three of the largest market index ETFs.</p>\\n\\n\\n\\n<ul>\\n<li><strong>SPDR S&amp;P 500 ETF Trust</strong> (NYSE:<a class=\"ticker\" href=\"https://www.benzinga.com/stock/SPY#NYSE\">SPY</a>): +23.8%</li>\\n\\n\\n\\n<li><strong>Invesco QQQ Trust</strong> (NASDAQ:<a class=\"ticker\" href=\"https://www.benzinga.com/stock/QQQ#NASDAQ\">QQQ</a>): +28.1%</li>\\n\\n\\n\\n<li><strong>SPDR Dow Jones Industrial Average ETF</strong> (NYSE:<a class=\"ticker\" href=\"https://www.benzinga.com/stock/DIA#NYSE\">DIA</a>): +12.7%</li>\\n</ul>\\n\\n\\n\\n<p>For comparison, here are the year-to-date returns of the Magnificent 7 stocks:</p>\\n\\n\\n\\n<ul>\\n<li>Nvidia: +177.8%</li>\\n\\n\\n\\n<li>Tesla: +77.4%</li>\\n\\n\\n\\n<li>Meta Platforms: +72.9%</li>\\n\\n\\n\\n<li>Amazon: +49.8%</li>\\n\\n\\n\\n<li>Alphabet: +38.3%</li>\\n\\n\\n\\n<li>Apple: +35.8%</li>\\n\\n\\n\\n<li>Microsoft: +18.7%</li>\\n</ul>\\n\\n\\n\\n<p>Nvidia has significantly outperformed the S&amp;P 500 and other major indexes and also the other Magnificent 7 stocks. The Benzinga poll shows that readers think Nvidia could go out on a high note in 2024 and kick 2025 off with a bang if there is a Santa Claus rally.</p>\\n\\n\\n\\n<p>Only Microsoft trails the S&amp;P 500 and Invesco QQQ Trust year-to-date returns in 2024, showing the strength of the Magnificent 7 stocks this year. </p>\\n\\n\\n\\n<p><a href=\"https://www.benzinga.com/tech/24/11/42121665/could-another-magnificent-7-stock-beat-nvidia-in-2025-poll-says-not-likely-27-pick-this-potential-winner\">A recent Benzinga poll</a> asked if any Magnificent 7 stocks could beat Nvidia for stock returns in 2025. The results were:</p>\\n\\n\\n\\n<ul>\\n<li>None – Nvidia will dominate: 48%</li>\\n\\n\\n\\n<li>Tesla: 27%</li>\\n\\n\\n\\n<li>Amazon: 8%</li>\\n\\n\\n\\n<li>Meta: 7%</li>\\n\\n\\n\\n<li>Alphabet: 6%</li>\\n\\n\\n\\n<li>Microsoft: 3%</li>\\n\\n\\n\\n<li>Apple: 2%</li>\\n</ul>\\n\\n\\n\\n<p>The poll found the near-majority predicting Nvidia will have the strongest growth in 2025 and dominate the Magnificent 7 stocks once again.</p>\\n\\n\\n\\n<p>Based on the recent polls, Benzinga readers don\\'t expect the gains for Nvidia to stop anytime soon and a Santa Claus rally could accelerate the company\\'s potential 2025 gains.</p>\\n\\n\\n\\n<p><strong>Read Next: </strong></p>\\n\\n\\n\\n<ul>\\n<li><strong><a href=\"https://www.benzinga.com/24/12/42352997/santa-rally-here-are-10-sp-500-stocks-that-historically-outperformed-in-decembers-second-half\">Santa Rally: 10 S&amp;P 500 Stocks That Outperform In December&#8217;s Second Half</a></strong></li>\\n</ul>\\n\\n\\n\\n<p><em>The study was conducted by Benzinga from Dec. 18 through Dec. 19, 2024, and included the responses of a diverse population of adults 18 or older. Opting into the survey was completely voluntary, with no incentives offered to potential respondents. The study reflects results from 169 adults.</em></p>\\n\\n\\n\\n<p><em>Image created using photos from Shutterstock.</em></p>', '', '<p>Few hedge fund managers command the attention of Wall Street quite like <strong>Dan S. Loeb</strong>. As the founder of Third Point, a $7 billion hedge fund, Loeb has made his mark with bold activist strategies that challenge the status quo and drive <a href=\"https://www.benzinga.com/general/hedge-funds\">transformation in global companies.</a></p>\\n\\n\\n\\n<h3 class=\"wp-block-heading\">Portfolio Overview</h3>\\n\\n\\n\\n<p>As of Q3 2024, Third Point\\'s portfolio is valued at $7.37 billion, comprising 41 investments. The fund gained 5.3% during the quarter, with top holdings including <strong>Pacific Gas &amp; Electric Co.</strong> (NYSE:<a class=\"ticker\" href=\"https://www.benzinga.com/stock/PCG#NYSE\">PCG</a>) at 13%, <strong>Amazon.com, Inc.</strong> (NASDAQ:<a class=\"ticker\" href=\"https://www.benzinga.com/stock/AMZN#NASDAQ\">AMZN</a>) at 9.3%, and <strong>Danaher Corporation</strong> (NYSE:<a class=\"ticker\" href=\"https://www.benzinga.com/stock/DHR#NYSE\">DHR</a>) at 7.3%. Smaller positions include <strong>Vistra Corp.</strong> (NYSE:<a class=\"ticker\" href=\"https://www.benzinga.com/stock/VST#NYSE\">VST</a>) and <strong>Bath &amp; Body Works, Inc.</strong> (NYSE:<a class=\"ticker\" href=\"https://www.benzinga.com/stock/BBWI#NYSE\">BBWI</a>), each at 5.1%.</p>\\n\\n\\n\\n<p><strong>Best Performers</strong>: These five stocks have surged over 20% in the last 6 months.</p>\\n\\n\\n\\n<ol>\\n<li><strong>Live Nation Entertainment, Inc.</strong> (NYSE:<a class=\"ticker\" href=\"https://www.benzinga.com/stock/LYV#NYSE\">LYV</a>) escalated around 43%.</li>\\n\\n\\n\\n<li>Amazon surged about 18%</li>\\n\\n\\n\\n<li><strong>Meta Platforms, Inc.</strong> (NASDAQ:<a class=\"ticker\" href=\"https://www.benzinga.com/stock/META#NASDAQ\">META</a>) rose roughly 17%</li>\\n\\n\\n\\n<li><strong>Corpay, Inc.</strong> (NYSE:<a class=\"ticker\" href=\"https://www.benzinga.com/stock/CPAY#NYSE\">CPAY</a>) rocketed about 29%</li>\\n\\n\\n\\n<li><strong>Cinemark Holdings Inc</strong> (NYSE:<a class=\"ticker\" href=\"https://www.benzinga.com/stock/CNK#NYSE\">CNK</a>) increased approximately 60%</li>\\n</ol>\\n\\n\\n\\n<p>These gains highlight Loeb\\'s ability to capitalize on growth opportunities across the entertainment, tech, and financial sectors.</p>\\n\\n\\n\\n<p><strong>Also Read: <a href=\"https://www.benzinga.com/economics/macro-economic-events/24/12/42615908/feds-preferred-inflation-gauge-falls-more-than-expected-markets-breathe-sigh-of-relief\">Fed&#8217;s Preferred Inflation Gauge Falls More Than Expected: Markets Breathe Sigh Of Relief</a></strong></p>\\n\\n\\n\\n<p><strong>Investment strategy</strong>:</p>\\n\\n\\n\\n<ul>\\n<li>Loeb is a prominent activist investor who acquires significant stakes in underperforming companies to advocate for improvements in management, operations, or governance, with the goal of enhancing shareholder value. A key example is his 2011 investment in <strong>Yahoo</strong>, where a 5% stake and strategic push led to transformations and over $1 billion in gains, <a href=\"https://hedgefundalpha.com/dan-loeb-portfolio/\">according </a>to Hedge Fund Alpha.</li>\\n\\n\\n\\n<li>Throughout his career, Loeb has focused more on creating spin-offs than investing in existing ones. He recently applied his activist strategy with <strong>Sony </strong>and <strong>Shell </strong>to pursue spin-offs, <a href=\"https://www.cnbc.com/2021/10/28/shell-vs-activist-dan-loeb-is-bigger-for-big-oil-than-exxon-board-war.html\">according </a>to CNBC, but was unsuccessful in these efforts.</li>\\n\\n\\n\\n<li>Beyond equities, Loeb explores opportunities in credit markets, including distressed debt and corporate bonds, aiming to generate high-risk-adjusted returns by exploiting inefficiencies in those areas. In 2012, Loeb invested in <strong>Greek sovereign bonds </strong>during the financial crisis, assessing the risk-reward ratio and achieving strong returns, adding to an already successful year, CNBC <a href=\"https://www.cnbc.com/2012/10/03/third-points-loeb-bets-big-and-wins-on-greek-debt.html\">reported</a>.</li>\\n</ul>\\n\\n\\n\\n<p><strong>Historical Performance:</strong> Since launching in 1995, the fund has averaged annual returns of 16%, attracting new investors with consistent positive performance, according to Hedge Fund Alpha.</p>\\n\\n\\n\\n<p>Loeb\\'s major successes came during the dot-com bubble and the 2008 financial crisis, with his fund posting a 45% return in 2009 despite a market downturn.</p>\\n\\n\\n\\n<p>Third Point&#8217;s assets under management reportedly peaked at nearly $18 billion in 2022 before declining to approximately $7 billion, attributed to underperformance during a challenging market period in 2022. By the end of 2023, the fund achieved modest positive returns, indicating some stabilization.</p>\\n\\n\\n\\n<p><strong>Read Next: </strong></p>\\n\\n\\n\\n<ul>\\n<li><a href=\"https://www.benzinga.com/analyst-ratings/analyst-color/24/10/41397978/hedge-fund-billionaire-daniel-loeb-bets-on-trump-win-singles-out-this-recent-buy-as\" target=\"_blank\" rel=\"noreferrer noopener\"><strong>Hedge Fund Billionaire Daniel Loeb Bets On Trump Win, Singles Out This Recent Buy As Having &#8216;Significant Upside Potential&#8217;</strong></a></li>\\n</ul>\\n\\n\\n\\n<p><em>Image created using artificial intelligence via Midjourney.</em></p>', '<p>In today\\'s fast-paced and competitive business landscape, it is essential for investors and industry enthusiasts to thoroughly analyze companies before making investment decisions. In this article, we will conduct a comprehensive industry comparison, evaluating <b>Meta Platforms (NASDAQ:<a class=\"ticker\" href=\"https://www.benzinga.com/stock/META#NASDAQ\">META</a>)</b> against its key competitors in the Interactive Media &amp; Services industry. By examining key financial metrics, market position, and growth prospects, we aim to provide valuable insights for investors and shed light on company\\'s performance within the industry.</p>\\n<h3>Meta Platforms Background</h3>\\n<p>Meta is the largest social media company in the world, boasting close to 4 billion monthly active users worldwide. The firm\\'s \"Family of Apps,\" its core business, consists of Facebook, Instagram, Messenger, and WhatsApp. End users can leverage these applications for a variety of different purposes, from keeping in touch with friends to following celebrities and running digital businesses for free. Meta packages customer data, gleaned from its application ecosystem and sells ads to digital advertisers. While the firm has been investing heavily in its Reality Labs business, it remains a very small part of Meta\\'s overall sales.</p>\\n<table>\\n<thead>\\n<tr>\\n<th><strong>Company</strong></th>\\n<th><strong>P/E</strong></th>\\n<th><strong>P/B</strong></th>\\n<th><strong>P/S</strong></th>\\n<th><strong>ROE</strong></th>\\n<th><strong>EBITDA (in billions)</strong></th>\\n<th><strong>Gross Profit (in billions)</strong></th>\\n<th><strong>Revenue Growth</strong></th>\\n</tr>\\n</thead>\\n<tbody>\\n<tr>\\n<td>Meta Platforms Inc</td>\\n<td>28.11</td>\\n<td>9.14</td>\\n<td>10</td>\\n<td>9.77%</td>\\n<td>$22.06</td>\\n<td>$33.21</td>\\n<td>18.87%</td>\\n</tr>\\n<tr>\\n<td>Alphabet Inc</td>\\n<td>25</td>\\n<td>7.35</td>\\n<td>6.94</td>\\n<td>8.55%</td>\\n<td>$35.74</td>\\n<td>$51.79</td>\\n<td>15.09%</td>\\n</tr>\\n<tr>\\n<td>Baidu Inc</td>\\n<td>11.35</td>\\n<td>0.84</td>\\n<td>1.63</td>\\n<td>2.98%</td>\\n<td>$9.27</td>\\n<td>$17.16</td>\\n<td>-2.58%</td>\\n</tr>\\n<tr>\\n<td>Pinterest Inc</td>\\n<td>92.53</td>\\n<td>6.92</td>\\n<td>5.92</td>\\n<td>1.0%</td>\\n<td>$-0.0</td>\\n<td>$0.71</td>\\n<td>17.71%</td>\\n</tr>\\n<tr>\\n<td>Kanzhun Ltd</td>\\n<td>31.07</td>\\n<td>2.97</td>\\n<td>6.40</td>\\n<td>3.18%</td>\\n<td>$0.33</td>\\n<td>$1.6</td>\\n<td>18.98%</td>\\n</tr>\\n<tr>\\n<td>ZoomInfo Technologies Inc</td>\\n<td>349.33</td>\\n<td>2.16</td>\\n<td>3.20</td>\\n<td>1.35%</td>\\n<td>$0.07</td>\\n<td>$0.26</td>\\n<td>-3.25%</td>\\n</tr>\\n<tr>\\n<td>Yelp Inc</td>\\n<td>23.35</td>\\n<td>3.41</td>\\n<td>1.99</td>\\n<td>5.21%</td>\\n<td>$0.06</td>\\n<td>$0.33</td>\\n<td>4.41%</td>\\n</tr>\\n<tr>\\n<td>Weibo Corp</td>\\n<td>6.75</td>\\n<td>0.67</td>\\n<td>1.46</td>\\n<td>3.78%</td>\\n<td>$0.14</td>\\n<td>$0.37</td>\\n<td>5.05%</td>\\n</tr>\\n<tr>\\n<td>Ziff Davis Inc</td>\\n<td>41.76</td>\\n<td>1.36</td>\\n<td>1.84</td>\\n<td>-2.68%</td>\\n<td>$0.02</td>\\n<td>$0.3</td>\\n<td>3.69%</td>\\n</tr>\\n<tr>\\n<td>JOYY Inc</td>\\n<td>11.39</td>\\n<td>0.39</td>\\n<td>1.04</td>\\n<td>1.17%</td>\\n<td>$0.06</td>\\n<td>$0.21</td>\\n<td>-1.48%</td>\\n</tr>\\n<tr>\\n<td>Tripadvisor Inc</td>\\n<td>53.42</td>\\n<td>2.05</td>\\n<td>1.14</td>\\n<td>4.33%</td>\\n<td>$0.1</td>\\n<td>$0.48</td>\\n<td>-0.19%</td>\\n</tr>\\n<tr>\\n<td>Hello Group Inc</td>\\n<td>7.78</td>\\n<td>0.82</td>\\n<td>0.93</td>\\n<td>4.03%</td>\\n<td>$0.56</td>\\n<td>$1.05</td>\\n<td>-12.1%</td>\\n</tr>\\n<tr>\\n<td><strong>Average</strong></td>\\n<td><strong>59.43</strong></td>\\n<td><strong>2.63</strong></td>\\n<td><strong>2.95</strong></td>\\n<td><strong>2.99%</strong></td>\\n<td><strong>$4.21</strong></td>\\n<td><strong>$6.75</strong></td>\\n<td><strong>4.12%</strong></td>\\n</tr>\\n</tbody>\\n</table>\\n\\n<style>\\n        table {\\n            width: 100%;\\n            border-collapse: collapse;\\n            font-family: Arial, sans-serif;\\n            font-size: 14px;\\n        }\\n\\n        th, td {\\n            padding: 8px;\\n            text-align: left;\\n        }\\n\\n        th {\\n            background-color: #293a5a;\\n            color: #fff;\\n            text-align: left;\\n        }\\n\\n        tr:nth-child(even) {\\n            background-color: #f2f4f8;\\n        }\\n\\n        tr:hover {\\n            background-color: #e1e4ea;\\n        }\\n\\n        td:nth-child(3), td:nth-child(5) {\\n            text-align: left;\\n        }\\n\\n        .dividend-amount {\\n            font-weight: bold;\\n            color: #0d6efd;\\n        }\\n\\n        .dividend-frequency {\\n            font-size: 12px;\\n            color: #6c757d;\\n        }\\n    </style>\\n\\n<p>When closely examining Meta Platforms, the following trends emerge: </p>\\n<ul>\\n<li>\\n<p>With a Price to Earnings ratio of <b>28.11</b>, which is <b>0.47x</b> less than the industry average, the stock shows potential for growth at a reasonable price, making it an interesting consideration for market participants.</p>\\n</li>\\n<li>\\n<p>With a Price to Book ratio of <b>9.14</b>, which is <b>3.48x</b> the industry average, Meta Platforms might be considered overvalued in terms of its book value, as it is trading at a higher multiple compared to its industry peers.</p>\\n</li>\\n<li>\\n<p>The Price to Sales ratio of <b>10.0</b>, which is <b>3.39x</b> the industry average, suggests the stock could potentially be overvalued in relation to its sales performance compared to its peers.</p>\\n</li>\\n<li>\\n<p>The Return on Equity (ROE) of <b>9.77%</b> is <b>6.78%</b> above the industry average, highlighting efficient use of equity to generate profits.</p>\\n</li>\\n<li>\\n<p>The company exhibits higher Earnings Before Interest, Taxes, Depreciation, and Amortization (EBITDA) of <b>$22.06 Billion</b>, which is <b>5.24x</b> above the industry average, implying stronger profitability and robust cash flow generation.</p>\\n</li>\\n<li>\\n<p>Compared to its industry, the company has higher gross profit of <b>$33.21 Billion</b>, which indicates <b>4.92x</b> above the industry average, indicating stronger profitability and higher earnings from its core operations.</p>\\n</li>\\n<li>\\n<p>The company\\'s revenue growth of <b>18.87%</b> exceeds the industry average of <b>4.12%</b>, indicating strong sales performance and market outperformance.</p>\\n</li>\\n</ul>\\n<h3>Debt To Equity Ratio</h3>\\n<p><img src=\"https://www.benzinga.com/files/images/story/2024/1734706834_0.png\" alt=\"debt to equity\" /></p>\\n\\n<p>The debt-to-equity (D/E) ratio indicates the proportion of debt and equity used by a company to finance its assets and operations.</p>\\n<p>Considering the debt-to-equity ratio in industry comparisons allows for a concise evaluation of a company\\'s financial health and risk profile, aiding in informed decision-making.</p>\\n<p>When evaluating Meta Platforms alongside its top 4 peers in terms of the Debt-to-Equity ratio, the following insights arise:</p>\\n<ul>\\n<li>\\n<p>Among its top 4 peers, Meta Platforms has a stronger financial position with a lower debt-to-equity ratio of <b>0.3</b>.</p>\\n</li>\\n<li>\\n<p>This indicates that the company relies less on debt financing and maintains a more favorable balance between debt and equity, which can be viewed positively by investors.</p>\\n</li>\\n</ul>\\n<h3>Key Takeaways</h3>\\n<p>The PE, PB, and PS ratios for Meta Platforms indicate that it may be overvalued compared to its peers in the Interactive Media &amp; Services industry. However, its high ROE, EBITDA, gross profit, and revenue growth suggest strong financial performance relative to industry standards. This suggests that while the stock may be expensive based on traditional valuation metrics, its operational efficiency and growth potential are favorable.</p>\\n<p><em>This article was generated by Benzinga\\'s automated content engine and reviewed by an editor.</em></p>', '<p><strong>Broadcom Inc</strong> (NASDAQ:<a class=\"ticker\" href=\"https://www.benzinga.com/stock/AVGO#NASDAQ\">AVGO</a>) chief Hock Tan expressed enormous conviction over the sustainability of the <a target=\"_blank\" href=\"https://www.benzinga.com/topic/ai\" rel=\"noreferrer noopener\">artificial intelligence frenzy</a> as <strong>Alphabet Inc</strong> (NASDAQ:<a class=\"ticker\" href=\"https://www.benzinga.com/stock/GOOG#NASDAQ\">GOOG</a>) (NASDAQ:<a class=\"ticker\" href=\"https://www.benzinga.com/stock/GOOGL#NASDAQ\">GOOGL</a>) <strong>Google</strong>, <strong>Meta Platforms Inc</strong> (NASDAQ:<a class=\"ticker\" href=\"https://www.benzinga.com/stock/META#NASDAQ\">META</a>) and <strong>TikTok</strong> parent <strong>ByteDance </strong>splurged on designing custom processors that accelerate training and deployment of AI systems, the Financial Times reports.</p>\\n\\n\\n\\n<p>Reportedly, OpenAI and <strong>Apple Inc</strong> (NASDAQ:<a class=\"ticker\" href=\"https://www.benzinga.com/stock/AAPL#NASDAQ\">AAPL</a>) also tapped Broadcom to develop their AI server chips to diversify their exposure to <strong>Nvidia Corp</strong> (NASDAQ:<a class=\"ticker\" href=\"https://www.benzinga.com/stock/NVDA#NASDAQ\">NVDA</a>).</p>\\n\\n\\n\\n<p>Broadcom stock has surged over 101% year-to-date.</p>\\n\\n\\n\\n<p><strong><em>Also Read:</em></strong><em> <a target=\"_blank\" href=\"https://www.benzinga.com/analyst-ratings/downgrades/24/12/42561430/match-group-analyst-flags-tinder-woes-industry-challenges-for-stock-downgrade\" rel=\"noreferrer noopener\">Match Group Analyst Flags Tinder Woes, Industry Challenges For Stock Downgrade</a></em></p>\\n\\n\\n\\n<p>Tan <a target=\"_blank\" href=\"https://www.ft.com/content/5b4160b7-6920-4bf2-a1a8-f1404b513d8f\" rel=\"noreferrer noopener\">told</a> FT that he expected the demand to continue for at least ten years, citing their enormous return potential.</p>\\n\\n\\n\\n<p>Tan stressed to the FT that clients were intensely ramping up AI infrastructure investment plans spanning three to five years.</p>\\n\\n\\n\\n<p>He does not expect the phenomenon to lose steam until his clients run out of finances.</p>\\n\\n\\n\\n<p>Last week, Tan told investors Broadcom <a target=\"_blank\" href=\"https://www.benzinga.com//node/42488220\" rel=\"noreferrer noopener\">could generate</a> tens of billions of dollars in additional annual revenue from AI chips by 2027.</p>\\n\\n\\n\\n<p>Tan&#8217;s experience and dealmaking prowess fuelled speculation of rescuing struggling chipmaker <strong>Intel Corp</strong> (NASDAQ:<a class=\"ticker\" href=\"https://www.benzinga.com/stock/INTC#NASDAQ\">INTC</a>). However, Tan claimed no hostile offers since 2018, when it was tracking <strong>Qualcomm Inc</strong> (NASDAQ:<a class=\"ticker\" href=\"https://www.benzinga.com/stock/QCOM#NASDAQ\">QCOM</a>), which succumbed to regulatory opposition.</p>\\n\\n\\n\\n<p>Tan backed his thesis by citing investments by OpenAI and Elon Musk&#8217;s xAI in data centers in 2024.</p>\\n\\n\\n\\n<p>Tan told the FT that its customers will build clusters of up to 1 million AI chips by 2027. However, Tan said that even 1 million chips may not suffice the AI ambitions of OpenAI and Anthropic.</p>\\n\\n\\n\\n<p>Broadcom&#8217;s stock price rallied 24% in a single day last Friday after its AI revenues had surged by 220% in fiscal 2024. The chipmaker added over $200 billion to its market cap, breaching the $1 trillion milestone for the first time.</p>\\n\\n\\n\\n<p><strong>Rosenblatt&#8217;s</strong> Hans Mosesmann&nbsp;expects <a target=\"_blank\" href=\"https://www.benzinga.com/analyst-ratings/analyst-color/24/12/42489281/broadcoms-ai-chip-leadership-puts-pressure-on-nvidia-and-marvell-analysts-say\" rel=\"noreferrer noopener\">Broadcom&#8217;s growing moat</a> in expanding custom-chip (ASIC) AI and surging AI opportunities to intensify the rivalry with <strong>Advanced Micro Devices, Inc </strong>(NASDAQ:<a class=\"ticker\" href=\"https://www.benzinga.com/stock/AMD#NASDAQ\">AMD</a>) and<strong> </strong>Nvidia. B of A Securities<strong>&#8216; </strong>Vivek Arya&nbsp;credited Broadcom with maintaining a position at customer Apple.</p>\\n\\n\\n\\n<p>Investors can gain exposure to Broadcom through <strong>Amplify ETF Trust Amplify Cybersecurity ETF</strong> (NYSE:<a class=\"ticker\" href=\"https://www.benzinga.com/stock/HACK#NYSE\">HACK</a>) and <strong>First Trust NASDAQ Technology Dividend Index Fund</strong> (NASDAQ:<a class=\"ticker\" href=\"https://www.benzinga.com/stock/TDIV#NASDAQ\">TDIV</a>).</p>\\n\\n\\n\\n<p><strong>Price Action:&nbsp;</strong>AVGO stock closed lower by 2.37% at $218.32 Thursday.</p>\\n\\n\\n\\n<p><strong>Also Read:</strong></p>\\n\\n\\n\\n<ul>\\n<li><strong><a href=\"https://www.benzinga.com/24/12/42561240/salesforces-ai-powered-agentforce-20-spurs-analyst-upgrades-and-growth-optimism\" target=\"_blank\" rel=\"noreferrer noopener\">Wall Street Analysts Are Bullish On Salesforce&#8217;s AI Vision &#8211; Here&#8217;s Why</a></strong></li>\\n</ul>\\n\\n\\n\\n<p><em>Photo via Shutterstock</em></p>', '<p><strong>OpenAI</strong> CEO <strong>Sam Altman</strong> has criticized <strong>Elon Musk</strong>, calling him a legendary entrepreneur but also a &#8220;bully.&#8221;</p>\\n\\n\\n\\n<p><strong>What Happened:</strong> In an interview with Free Press Journal, Altman noted that Musk would likely be content with OpenAI&#8217;s progress if he was at the helm.</p>\\n\\n\\n\\n<p>&#8220;Elon definitely did a lot to help open in the early days and in spite of all of this I&#8217;m very grateful and I think he&#8217;s just a sort of legendary entrepreneur,&#8221; Altman stated, adding, &#8220;He&#8217;s also clearly a bully and he&#8217;s also someone who clearly likes to get in fights. Now it&#8217;s me, it&#8217;s been Bezos, Gates, Zuckerberg lots of other people.&#8221;</p>\\n\\n\\n\\n<p><strong>See Also: <a href=\"https://www.benzinga.com/24/12/42568204/nvidia-and-apple-team-up-to-supercharge-llms-with-redrafter-technique?itm_source=parsely-api\">Nvidia, Apple Team Up To Supercharge ChatGPT-Like LLMs With ReDrafter Technique</a></strong></p>\\n\\n\\n\\n<p>Musk has filed multiple lawsuits against OpenAI, accusing the organization of prioritizing profits over public good and violating its founding principles.</p>\\n\\n\\n\\n<p>Last month, he sought a court injunction to block OpenAI from continuing its for-profit operations. The <strong>xAI</strong> owner has also been targeting <strong>ChatGPT</strong>-parent on <strong>X</strong>, formerly <strong>Twitter</strong>.</p>\\n\\n\\n\\n<p>&#8220;Our job is to build AGI [artificial general intelligence] in a way that benefits humanity,&#8221; Altman said in response. &#8220;Not to engage in a Twitter fight with Elon.&#8221;</p>\\n\\n\\n\\n<figure class=\"wp-block-embed is-type-video is-provider-youtube wp-block-embed-youtube wp-embed-aspect-16-9 wp-has-aspect-ratio\"><div class=\"wp-block-embed__wrapper\">\\n<iframe loading=\"lazy\" title=\"Sam Altman on His Feud With Elon Musk\" width=\"500\" height=\"281\" src=\"https://www.youtube.com/embed/zbDD2KAzuBU?feature=oembed\" frameborder=\"0\" allow=\"accelerometer; autoplay; clipboard-write; encrypted-media; gyroscope; picture-in-picture; web-share\" referrerpolicy=\"strict-origin-when-cross-origin\" allowfullscreen></iframe>\\n</div></figure>\\n\\n\\n\\n<p><em>Subscribe to the </em><a href=\"https://bztechtrends.beehiiv.com/subscribe\"><em>Benzinga Tech Trends newsletter</em></a><em> to get all the latest tech developments delivered to your inbox.</em></p>\\n\\n\\n\\n<p><strong>Why It Matters:</strong> The feud between Musk and Altman has drawn attention because of the <strong>Tesla </strong>CEO&#8217;s latest alliance with <strong>Meta Platforms Inc.</strong> (NASDAQ:<a class=\"ticker\" href=\"https://www.benzinga.com/stock/META#NASDAQ\">META</a>), led by <strong>Mark Zuckerberg</strong>.</p>\\n\\n\\n\\n<p><a href=\"https://www.benzinga.com/24/12/42495758/elon-musk-finds-an-unlikely-ally-in-mark-zuckerbergs-meta-in-his-fight-against-sam-altmans-openai\">Meta has supported Musk&#8217;s stance</a> against OpenAI&#8217;s for-profit transition, arguing that assets developed under its nonprofit status should not be used for private gain. This alliance is notable given Musk&#8217;s previous disagreements with Zuckerberg.</p>\\n\\n\\n\\n<p>Earlier this month, OpenAI made a series of emails public revealing that <a href=\"https://www.benzinga.com/tech/24/12/42499756/musk-backed-for-profit-direction-for-openai-leaked-emails-say\">Musk once advocated for a profit-making</a> business model, contradicting his current public disapproval of OpenAI&#8217;s shift.</p>\\n\\n\\n\\n<p>Musk has also continuously targeted <strong>Microsoft Corporation\\'s</strong> (NASDAQ:<a class=\"ticker\" href=\"https://www.benzinga.com/stock/MSFT#NASDAQ\">MSFT</a>) investment into OpenAI, which has now <a href=\"https://www.benzinga.com/startups/24/10/41556636/microsoft-and-openai-clash-over-14-billion-as-the-ai-leader-converts-to-a-for-profit-business-disrup\">reached about $14 billion</a>.</p>\\n\\n\\n\\n<p><em>Photo courtesy: Shutterstock</em></p>\\n\\n\\n\\n<p><em>Check out more of Benzinga\\'s Consumer Tech coverage by </em><a href=\"https://www.benzinga.com/topic/consumer-tech\"><em>following this link</em></a><em>.</em></p>\\n\\n\\n\\n<p><strong>Read Next:</strong></p>\\n\\n\\n\\n<ul>\\n<li><a href=\"https://www.benzinga.com/24/12/42546621/elon-musk-agrees-as-satya-nadella-reflects-on-ais-global-impact-in-2024-from-cancer-research-to-rainforest-conservation-and-more?itm_source=parsely-api\"><strong>Elon Musk Agrees With Satya Nadella As Microsoft CEO Reflects On ‘Incredible Speed\\' Of AI Diffusion In 2024</strong></a></li>\\n</ul>\\n\\n\\n\\n<p><strong><em>Disclaimer:</em></strong><em> This content was partially produced with the help of </em><a href=\"https://www.benzinga.com/author/benzinga-neuro\"><em>Benzinga Neuro</em></a><em> and was reviewed and published by Benzinga editors.</em></p>', '<p><strong>Marques Brownlee</strong>, popularly known as<strong> MKBHD</strong>, highlights how <strong>Google&#8217;s Veo 2</strong> AI video generator, owned by <strong>Alphabet Inc.</strong> (NASDAQ:<a class=\"ticker\" href=\"https://www.benzinga.com/stock/GOOG#NASDAQ\">GOOG</a>) (NASDAQ:<a class=\"ticker\" href=\"https://www.benzinga.com/stock/GOOGL#NASDAQ\">GOOGL</a>), outshines <strong>OpenAI&#8217;s Sora</strong> model.</p>\\n\\n\\n\\n<p><strong>What Happened: </strong>On Thursday, Brownlee shared a <strong>YouTube Short</strong> of his observations pointing out that while Sora often displayed its AI nature through inaccuracies in movement and physics, Veo 2 delivered more realistic results.</p>\\n\\n\\n\\n<p>However, he acknowledged that Veo 2 still has flaws, such as issues with complex scenes and garbled text.</p>\\n\\n\\n\\n<p>One of the standout points in Brownlee\\'s comparison was his emphasis on <strong>YouTube </strong>data—something that sets Veo 2 apart from other models, including OpenAI\\'s Sora.</p>\\n\\n\\n\\n<p><strong>See Also: <a href=\"https://www.benzinga.com/24/12/42545936/samsung-galaxy-s25-ultra-and-s25-leaks-show-off-sleek-curved-design-and-slimmer-bezels-than-apples-iphone-16-pro-max?itm_source=parsely-api\">Samsung Galaxy S25 Ultra And S25+ Leaks Feature Sleek Curved Design And Slimmer Bezels Than Apple&#8217;s iPhone 16 Pro Max</a></strong></p>\\n\\n\\n\\n<p>He suggested that the difference between the two is like \"using a little bit of YouTube data\" versus \"owning YouTube and just using all of it.\"</p>\\n\\n\\n\\n<figure class=\"wp-block-embed is-type-video is-provider-youtube wp-block-embed-youtube wp-embed-aspect-16-9 wp-has-aspect-ratio\"><div class=\"wp-block-embed__wrapper\">\\n<iframe loading=\"lazy\" title=\"SORA vs VEO 2 - AI Generated Videos\" width=\"500\" height=\"281\" src=\"https://www.youtube.com/embed/74J0uiZk29k?feature=oembed\" frameborder=\"0\" allow=\"accelerometer; autoplay; clipboard-write; encrypted-media; gyroscope; picture-in-picture; web-share\" referrerpolicy=\"strict-origin-when-cross-origin\" allowfullscreen></iframe>\\n</div></figure>\\n\\n\\n\\n<p>In March this year, former OpenAI CTO <strong>Mira Murati&#8217;s</strong> <a href=\"https://www.benzinga.com/news/24/03/37704187/is-openais-viral-ai-video-generator-sora-trained-on-youtube-and-instagram-cto-mira-murati-is-not-sur\">uncertainty about whether</a> YouTube videos were used to train Sora created controversy. The following month, YouTube CEO <strong>Neal Mohan</strong> said that using YouTube videos in such manner would violate their policy.</p>\\n\\n\\n\\n<p>When asked if Google is using YouTube to train <strong>Gemini</strong>, Mohan said, &#8220;Google uses YouTube content really in accordance. Again, back with those terms of service or individual contracts that we might have with creators or uploaders to our platform.&#8221;</p>\\n\\n\\n\\n<p><em>Subscribe to the </em><a href=\"https://bztechtrends.beehiiv.com/subscribe\"><em>Benzinga Tech Trends newsletter</em></a><em> to get all the latest tech developments delivered to your inbox.</em></p>\\n\\n\\n\\n<p><strong>Why It Matters:</strong> Earlier this week, <strong>Elon Musk</strong>, who co-founded OpenAI in 2015 and left the AI startup in 2018 over some differences, <a href=\"https://www.benzinga.com/tech/24/12/42525899/elon-musk-reacts-after-sundar-pichai-shares-veo-2-as-google-looks-to-challenge-openais-sora-in-ai-video-race-looks-impressive\">expressed admiration</a> for Google&#8217;s Veo 2.</p>\\n\\n\\n\\n<p>On the flip side, <strong>Marc Andreessen</strong> has praised OpenAI&#8217;s Sora model, suggesting it may have <a href=\"https://www.benzinga.com/tech/24/12/42501018/marc-andreessen-praises-openais-sora-video-model-we-may-have-basically-just-solved-the-fundamental-challenge-of-robotics\">solved a significant challenge</a> in robotics.</p>\\n\\n\\n\\n<p>Earlier this year, <strong>Amazon.com Inc.</strong> (NASDAQ:<a class=\"ticker\" href=\"https://www.benzinga.com/stock/AMZN#NASDAQ\">AMZN</a>) also introduced its <a href=\"https://www.benzinga.com/top-stories/24/09/40945913/as-the-ai-arms-race-wages-on-amazon-takes-shot-at-rival-adobe-with-new-text-to-video-product\">AI-powered video tool</a> for advertisers, joining <strong>Adobe&#8217;s Inc.</strong> (NASDAQ:<a class=\"ticker\" href=\"https://www.benzinga.com/stock/ADBE#NASDAQ\">ADBE</a>) <strong>Firefly</strong> Video Model <a href=\"https://www.benzinga.com/tech/24/12/42525899/elon-musk-reacts-after-sundar-pichai-shares-veo-2-as-google-looks-to-challenge-openais-sora-in-ai-video-race-looks-impressive\">in the competitive market</a>.</p>\\n\\n\\n\\n<p>In October 2024, <strong>Meta Platforms Inc.</strong> (NASDAQ:<a class=\"ticker\" href=\"https://www.benzinga.com/stock/META#NASDAQ\">META</a>) unveiled <strong>Movie Gen</strong>, a new tool that generates videos, images, and audio <a href=\"https://www.benzinga.com/24/12/42608267/meta-flexes-movie-gen-ai-as-instagram-boss-teases-video-editing-magic-for-2025\">based on text prompts</a>.</p>\\n\\n\\n\\n<p><em>Photo via Wikimedia courtesy of Ramsey Cardy/Collision via Sportsfile</em></p>\\n\\n\\n\\n<p><em>Check out more of Benzinga&#8217;s Consumer Tech coverage by </em><a href=\"https://www.benzinga.com/topic/consumer-tech\"><em>following this link</em></a><em>.</em></p>\\n\\n\\n\\n<p><strong>Read Next:</strong></p>\\n\\n\\n\\n<ul>\\n<li><strong><a href=\"https://www.benzinga.com/24/12/42546621/elon-musk-agrees-as-satya-nadella-reflects-on-ais-global-impact-in-2024-from-cancer-research-to-rainforest-conservation-and-more?itm_source=parsely-api\">Elon Musk Agrees With Satya Nadella As Microsoft CEO Reflects On &#8216;Incredible Speed&#8217; Of AI Diffusion In 2024</a></strong></li>\\n</ul>\\n\\n\\n\\n<p><strong><em>Disclaimer: </em></strong><em>This content was partially produced with the help of </em><a href=\"https://www.benzinga.com/author/benzinga-neuro\"><em>Benzinga Neuro</em></a><em> and was reviewed and published by Benzinga editors.</em></p>', '<p>Social media platform, <strong>Bluesky</strong> is set to create its own payment system, a process that could take at least 12 months. The company is also planning to introduce subscriptions early next year.</p>\\n\\n\\n\\n<p><strong>What Happened</strong>: In an interview with Buffer on Thursday, COO <strong>Rose Wang</strong> said that Bluesky aims to align its financial incentives with those of its users, creators, and developers.</p>\\n\\n\\n\\n<p>She said, &#8220;As they\\'re making more money, we should be making money, but if they\\'re not making money, we shouldn\\'t be making money.&#8221;</p>\\n\\n\\n\\n<p>Wang explained that the goal is to facilitate payments within the app and across other platforms, increasing transaction volumes. Creators will retain most of the earnings, while Bluesky will take a percentage of the transaction fees.</p>\\n\\n\\n\\n<p><strong>See Also: <a href=\"https://www.benzinga.com/24/12/42568430/senate-minority-leader-mcconnell-urges-supreme-court-to-reject-tiktoks-delay-request-pushing-for-january-ban-amid-first-amendment-debate?itm_source=parsely-api\">Mitch McConnell Urges Supreme Court To Reject TikTok&#8217;s Delay Request, Says Platform Hoping For Less Hostile DOJ In Trump Administration</a></strong></p>\\n\\n\\n\\n<p>&#8220;Coming is like 12 months. Payment systems take a while, but absolutely it&#8217;s things that we are prioritizing,&#8221; she stated.</p>\\n\\n\\n\\n<p>Wang also spoke about the upcoming subscription model will offer users improved self-expression tools, such as custom icons and domains. However, core app features will remain accessible without a paywall.</p>\\n\\n\\n\\n<figure class=\"wp-block-embed is-type-video is-provider-youtube wp-block-embed-youtube wp-embed-aspect-16-9 wp-has-aspect-ratio\"><div class=\"wp-block-embed__wrapper\">\\n<iframe loading=\"lazy\" title=\"Bluesky&#039;s Rose Wang on Subscriptions, Creator Monetization, and More\" width=\"500\" height=\"281\" src=\"https://www.youtube.com/embed/GxgTgEgwAiY?feature=oembed\" frameborder=\"0\" allow=\"accelerometer; autoplay; clipboard-write; encrypted-media; gyroscope; picture-in-picture; web-share\" referrerpolicy=\"strict-origin-when-cross-origin\" allowfullscreen></iframe>\\n</div></figure>\\n\\n\\n\\n<p><em>Subscribe to the&nbsp;</em><a href=\"https://bztechtrends.beehiiv.com/subscribe\" target=\"_blank\" rel=\"noreferrer noopener\"><em>Benzinga Tech Trends newsletter</em></a><em>&nbsp;to get all the latest tech developments delivered to your inbox.</em></p>\\n\\n\\n\\n<p><strong>Why It Matters:</strong> Several other social media platforms have also developed integrated payment systems to support transactions and enable monetization. For example:&nbsp;</p>\\n\\n\\n\\n<p><strong>Meta Platforms, Inc.</strong> (NASDAQ:<a class=\"ticker\" href=\"https://www.benzinga.com/stock/META#NASDAQ\">META</a>) has <strong>Meta</strong> <strong>Pay</strong>, which powers transactions across <strong>Instagram</strong>, <strong>Messenger</strong>, and <strong>Facebook</strong>.</p>\\n\\n\\n\\n<p><strong>YouTube</strong>, owned by <strong>Alphabet Inc.\\'s</strong> (NASDAQ:<a class=\"ticker\" href=\"https://www.benzinga.com/stock/GOOG#NASDAQ\">GOOG</a>) (NASDAQ:<a class=\"ticker\" href=\"https://www.benzinga.com/stock/GOOGL#NASDAQ\">GOOGL</a>) <strong>Google</strong>, provides monetization options like Super Chats, Channel Memberships, and tipping during live streams.</p>\\n\\n\\n\\n<p><strong>Elon Musk\\'s X</strong>, formerly <strong>Twitter</strong>, is working on <a href=\"https://www.benzinga.com/markets/cryptocurrency/24/06/39382770/inside-elon-musks-plan-to-add-payments-to-x\">expanding its payment capabilities</a> as part of its push to become a super app.</p>\\n\\n\\n\\n<p>Bluesky, founded by <strong>Jack Dorsey</strong>, has been gaining traction, <a href=\"https://www.benzinga.com/general/social-media/24/12/42421291/alexandria-ocasio-cortez-aoc-hits-1-million-followers-with-top-bluesky-account-mark-cuban-gains-popularity-jack-dorsey-notably-absent\">reaching nearly 25 million users</a> by Dec. 10, 2024. Notable figures like <strong>Alexandria Ocasio-Cortez</strong> and <strong>Mark Cuban </strong>have contributed to its popularity.</p>\\n\\n\\n\\n<p><em>Image via Bluesky</em></p>\\n\\n\\n\\n<p><em>Check out more of Benzinga&#8217;s Consumer Tech coverage by&nbsp;</em><a href=\"https://www.benzinga.com/topic/consumer-tech\" target=\"_blank\" rel=\"noreferrer noopener\"><em>following this link</em></a><em>.</em></p>\\n\\n\\n\\n<p><strong>Read Next:</strong></p>\\n\\n\\n\\n<ul>\\n<li><strong><a href=\"https://www.benzinga.com/trading-ideas/technicals/24/12/42509206/soundhound-ai-soars-over-700-short-squeeze-potential-has-traders-talking?itm_source=parsely-api\">SoundHound AI Soars 700%: Short Squeeze Potential Has Traders Talking</a></strong></li>\\n</ul>\\n\\n\\n\\n<p><strong><em>Disclaimer:</em></strong><em>&nbsp;This content was partially produced with the help of AI tools and was reviewed and published by Benzinga editors.</em></p>', '<p><strong>Meta Platforms, Inc.</strong>\\xa0(NASDAQ:<a class=\"ticker\" href=\"https://www.benzinga.com/stock/META#NASDAQ\">META</a>) plans to introduce a new AI video editing feature in 2025.</p>\\n\\n\\n\\n<p><strong>What Happened:</strong> On Thursday, Head of <strong>Instagram</strong>, <strong>Adam Mosseri</strong>, shared a teaser video of the AI tool that lets users tweak nearly every video detail with just a text prompt.</p>\\n\\n\\n\\n<p>Powered by <strong>Meta&#8217;s Movie Gen AI</strong>, the tool simplifies video transformations for creators without advanced editing skills.</p>\\n\\n\\n\\n<p><strong>See Also: <a href=\"https://www.benzinga.com/tech/24/12/42570376/jeff-bezos-backed-perplexity-raises-500-million-tripling-its-valuation-to-9-billion-as-competition-with-google-and-openai-heats-up?itm_source=parsely-api\">Jeff Bezos-Backed Perplexity Raises $500 Million, Tripling Its Valuation To $9 Billion As Competition With Google And OpenAI Heats Up</a></strong></p>\\n\\n\\n\\n<p>The teaser shows AI altering Mosseri&#8217;s appearance and background, as well as turning him into a felt puppet.</p>\\n\\n\\n\\n<figure class=\"wp-block-image size-large\"><img decoding=\"async\" src=\"https://editorial-assets.benzinga.com/wp-content/uploads/2024/12/19202935/Screenshot-2024-12-20-at-6.51.48%E2%80%AFAM-1024x868.png\" alt=\"\" class=\"wp-image-700744\"/><figcaption class=\"wp-element-caption\"><em>Source: Instagram</em></figcaption></figure>\\n\\n\\n\\n<p><em>Subscribe to the </em><a href=\"https://bztechtrends.beehiiv.com/subscribe\"><em>Benzinga Tech Trends newsletter</em></a><em> to get all the latest tech developments delivered to your inbox.</em></p>\\n\\n\\n\\n<p><strong>Why It Matters:</strong> Subtle edits, like adding objects or accessories like a gold chain, blend seamlessly without distortion. However, <strong>OpenAI\\'s Sora</strong> video model initially impressed with polished previews, but its public release fell short of expectations.</p>\\n\\n\\n\\n<p>It remains to be seen whether Instagram\\'s AI video tools will deliver on their promise once they debut.</p>\\n\\n\\n\\n<p>Meta first introduced its Movie Gen AI <a href=\"https://www.benzinga.com/top-stories/24/10/41188250/metas-movie-gen-brings-ai-powered-video-audio-creation-to-all\">video generator in October</a>. While the exact release date remains unannounced, Instagram will be the first platform to integrate this innovative text-to-video model.</p>\\n\\n\\n\\n<p>In September 2024, <strong>Adobe Inc.</strong> (NASDAQ:<a class=\"ticker\" href=\"https://www.benzinga.com/stock/ADBE#NASDAQ\">ADBE</a>) also unveiled its <a href=\"https://www.benzinga.com/markets/equities/24/09/40819405/adobe-shakes-up-video-editing-with-ai-powered-creation-tools-whats-on-the-cards\">generative AI video capabilities</a> with the <strong>Adobe Firefly Video Model</strong>.</p>\\n\\n\\n\\n<p><em>Image via Unsplash</em></p>\\n\\n\\n\\n<p><em>Check out more of Benzinga&#8217;s Consumer Tech coverage by </em><a href=\"https://www.benzinga.com/topic/consumer-tech\"><em>following this link</em></a><em>.</em></p>\\n\\n\\n\\n<p><strong>Read Next:</strong></p>\\n\\n\\n\\n<ul>\\n<li><strong><a href=\"https://www.benzinga.com/trading-ideas/technicals/24/12/42509206/soundhound-ai-soars-over-700-short-squeeze-potential-has-traders-talking?itm_source=parsely-api\">SoundHound AI Soars 700%: Short Squeeze Potential Has Traders Talking</a></strong></li>\\n</ul>\\n\\n\\n\\n<p><strong><em>Disclaimer:</em></strong><em> This content was partially produced with the help of </em><a href=\"https://www.benzinga.com/author/benzinga-neuro\"><em>Benzinga Neuro</em></a><em> and was reviewed and published by Benzinga editors.</em></p>', '<p>The <strong>House Artificial Intelligence Task Force</strong> released a report on Tuesday with recommendations on how Congress can boost the development of AI while also protecting against potential risks <a href=\"https://www.benzinga.com/analyst-ratings/analyst-color/24/12/42561047/amazon-meta-alphabet-spotify-lead-jpmorgans-2025-tech-picks-for-ai-potential\">of the technology.\\xa0</a></p>\\n\\n\\n\\n<p><strong>The Details:</strong> The bipartisan House AI task force, chaired by Rep. <strong>Jay Obernolte</strong> (R-Calif.), released the 253-page<a href=\"https://www.speaker.gov/wp-content/uploads/2024/12/AI-Task-Force-Report-FINAL.pdf\"> document</a> as the culmination of the group\\'s work which began in February.</p>\\n\\n\\n\\n<p>Obernolte said the report is just the \"beginning of the conversation\" around AI policy.\\xa0</p>\\n\\n\\n\\n<p>\"It will only be effective if future Congresses implement some of the recommendations that we have created,\" he added.&nbsp;</p>\\n\\n\\n\\n<p><strong>Read More: </strong><a href=\"https://www.benzinga.com/general/social-media/24/12/42598651/mystery-drone-sightings-all-over-the-country-trump-says-what-to-know-about-investigations-lawmakers-reactions\"><strong>&#8216;Mystery Drone&#8217; Sightings Spark Investigations, Politicians Respond: &#8216;Shoot Them Down,&#8217; Trump Says</strong></a></p>\\n\\n\\n\\n<p>The representative said the task force met to consider bills that it could endorse and introduce for passage this Congress, but the group agreed not to do so in order to remain bipartisan.\\xa0</p>\\n\\n\\n\\n<p>\"Disagreements started to emerge about the language in each individual bill and we realized that if we wanted to maintain this coalition that was broadly bipartisan … it probably was counterproductive to actually be talking about legislative language,\" Obernolte said.</p>\\n\\n\\n\\n<p>The report contains 66 key findings and 89 recommendations across 14 areas and will serve as the foundation for future legislative action on AI. The effects of future AI legislation will ripple across industries, government agencies and individuals.&nbsp;</p>\\n\\n\\n\\n<p><strong>Why It Matters:</strong> The task force wrote in its report that the government should lead by example and foster trust in AI by using the technology to improve efficiency and services while adopting responsible policies surrounding its use.&nbsp;</p>\\n\\n\\n\\n<p>Companies that are sufficiently large and capable of handling the government\\'s needs, like <strong>Alphabet, Inc. </strong>(NASDAQ:<a class=\"ticker\" href=\"https://www.benzinga.com/stock/GOOG#NASDAQ\">GOOG</a>) (NASDAQ:<a class=\"ticker\" href=\"https://www.benzinga.com/stock/GOOGL#NASDAQ\">GOOGL</a>) could benefit from contracts to supply agencies and departments with AI services.\\xa0</p>\\n\\n\\n\\n<p>The House task force also highlighted the importance of promoting AI innovation which may include further legislation like the CHIPS and Science Act, which was designed to promote U.S. semiconductor manufacturing. <strong>Intel Corp.</strong> (NASDAQ:<a class=\"ticker\" href=\"https://www.benzinga.com/stock/INTC#NASDAQ\">INTC</a>) received more than $7 billion in direct funding and <strong>Taiwan Semiconductor Manufacturing Company Ltd.</strong> (NYSE:<a class=\"ticker\" href=\"https://www.benzinga.com/stock/TSM#NYSE\">TSM</a>) received $6.6 billion in funding from the program.</p>\\n\\n\\n\\n<p>Another principle the task force emphasized was its duty to protect against AI-related risks and harms. Companies developing large AI models, such as <strong>OpenAI </strong>and <strong>Meta Platforms, Inc.</strong> (NASDAQ:<a class=\"ticker\" href=\"https://www.benzinga.com/stock/META#NASDAQ\">META</a>) may need to report on training and safety processes if the government determines they could pose security or public health risks.\\xa0</p>\\n\\n\\n\\n<p>The task force also suggested that future Congresses take an \"incremental approach\" to AI regulation as the technology is rapidly evolving and legislation will need to adapt and evolve as well.&nbsp;</p>\\n\\n\\n\\n<p>\"What we\\'re embracing here is incrementalism. We don\\'t think it\\'s important that everyone agrees on every single aspect of AI immediately,\" Obernolte said.</p>\\n\\n\\n\\n<p><strong>Read Next:&nbsp;</strong></p>\\n\\n\\n\\n<ul>\\n<li><a href=\"https://www.benzinga.com/24/12/42564443/santa-came-early-with-rate-cut-but-federal-reserve-brings-coal-next-year-experts-weigh-in-on-rate-cut-feds-2025-projections\"><strong>&#8216;Santa Came Early&#8217; But Fed Brings &#8216;Coal Next Year&#8217;: Experts Weigh In On Interest Rate Cut, 2025 Projections</strong></a></li>\\n</ul>\\n\\n\\n\\n<p><em>Photo: Shutterstock</em></p>']"
        ]
       ],
       "shape": {
        "columns": 287,
        "rows": 3
       }
      },
      "text/html": [
       "<div>\n",
       "<style scoped>\n",
       "    .dataframe tbody tr th:only-of-type {\n",
       "        vertical-align: middle;\n",
       "    }\n",
       "\n",
       "    .dataframe tbody tr th {\n",
       "        vertical-align: top;\n",
       "    }\n",
       "\n",
       "    .dataframe thead th {\n",
       "        text-align: right;\n",
       "    }\n",
       "</style>\n",
       "<table border=\"1\" class=\"dataframe\">\n",
       "  <thead>\n",
       "    <tr style=\"text-align: right;\">\n",
       "      <th></th>\n",
       "      <th>Date</th>\n",
       "      <th>Open</th>\n",
       "      <th>High</th>\n",
       "      <th>Low</th>\n",
       "      <th>Close</th>\n",
       "      <th>Volume</th>\n",
       "      <th>IV_Open</th>\n",
       "      <th>IV_High</th>\n",
       "      <th>IV_Low</th>\n",
       "      <th>IV_Close</th>\n",
       "      <th>...</th>\n",
       "      <th>Volume_Weighted_Returns</th>\n",
       "      <th>BB_Upper</th>\n",
       "      <th>BB_Middle</th>\n",
       "      <th>BB_Lower</th>\n",
       "      <th>BB_Width</th>\n",
       "      <th>IV_Percentile</th>\n",
       "      <th>VIX_Impact</th>\n",
       "      <th>Momentum_Long</th>\n",
       "      <th>Momentum_Short</th>\n",
       "      <th>content</th>\n",
       "    </tr>\n",
       "  </thead>\n",
       "  <tbody>\n",
       "    <tr>\n",
       "      <th>3166</th>\n",
       "      <td>2024-12-18 00:00:00+00:00</td>\n",
       "      <td>620.91</td>\n",
       "      <td>627.27</td>\n",
       "      <td>596.38</td>\n",
       "      <td>597.19</td>\n",
       "      <td>1490586</td>\n",
       "      <td>0.300949</td>\n",
       "      <td>0.337413</td>\n",
       "      <td>0.293805</td>\n",
       "      <td>0.337413</td>\n",
       "      <td>...</td>\n",
       "      <td>-13787.401583</td>\n",
       "      <td>641.071202</td>\n",
       "      <td>618.402</td>\n",
       "      <td>595.732798</td>\n",
       "      <td>0.075920</td>\n",
       "      <td>1.00000</td>\n",
       "      <td>0.0</td>\n",
       "      <td>False</td>\n",
       "      <td>True</td>\n",
       "      <td>[&lt;p&gt;Entrepreneur and investor &lt;strong&gt;Mark Cub...</td>\n",
       "    </tr>\n",
       "    <tr>\n",
       "      <th>3167</th>\n",
       "      <td>2024-12-19 00:00:00+00:00</td>\n",
       "      <td>610.20</td>\n",
       "      <td>611.52</td>\n",
       "      <td>595.00</td>\n",
       "      <td>595.57</td>\n",
       "      <td>1280265</td>\n",
       "      <td>0.343747</td>\n",
       "      <td>0.347223</td>\n",
       "      <td>0.323126</td>\n",
       "      <td>0.342461</td>\n",
       "      <td>...</td>\n",
       "      <td>-14045.018405</td>\n",
       "      <td>636.049924</td>\n",
       "      <td>611.358</td>\n",
       "      <td>586.666076</td>\n",
       "      <td>0.082919</td>\n",
       "      <td>1.00000</td>\n",
       "      <td>0.0</td>\n",
       "      <td>False</td>\n",
       "      <td>True</td>\n",
       "      <td>[&lt;p&gt;Meta Platforms (NASDAQ:&lt;a class=\"ticker\" h...</td>\n",
       "    </tr>\n",
       "    <tr>\n",
       "      <th>3168</th>\n",
       "      <td>2024-12-20 00:00:00+00:00</td>\n",
       "      <td>590.04</td>\n",
       "      <td>603.11</td>\n",
       "      <td>584.00</td>\n",
       "      <td>585.25</td>\n",
       "      <td>4112358</td>\n",
       "      <td>0.353605</td>\n",
       "      <td>0.359161</td>\n",
       "      <td>0.309093</td>\n",
       "      <td>0.314236</td>\n",
       "      <td>...</td>\n",
       "      <td>-25873.776216</td>\n",
       "      <td>634.224231</td>\n",
       "      <td>604.338</td>\n",
       "      <td>574.451769</td>\n",
       "      <td>0.102132</td>\n",
       "      <td>0.49069</td>\n",
       "      <td>0.0</td>\n",
       "      <td>False</td>\n",
       "      <td>True</td>\n",
       "      <td>[&lt;p&gt;Benzinga readers pick which Magnificent 7 ...</td>\n",
       "    </tr>\n",
       "  </tbody>\n",
       "</table>\n",
       "<p>3 rows × 287 columns</p>\n",
       "</div>"
      ],
      "text/plain": [
       "                          Date    Open    High     Low   Close   Volume  \\\n",
       "3166 2024-12-18 00:00:00+00:00  620.91  627.27  596.38  597.19  1490586   \n",
       "3167 2024-12-19 00:00:00+00:00  610.20  611.52  595.00  595.57  1280265   \n",
       "3168 2024-12-20 00:00:00+00:00  590.04  603.11  584.00  585.25  4112358   \n",
       "\n",
       "       IV_Open   IV_High    IV_Low  IV_Close  ...  Volume_Weighted_Returns  \\\n",
       "3166  0.300949  0.337413  0.293805  0.337413  ...            -13787.401583   \n",
       "3167  0.343747  0.347223  0.323126  0.342461  ...            -14045.018405   \n",
       "3168  0.353605  0.359161  0.309093  0.314236  ...            -25873.776216   \n",
       "\n",
       "        BB_Upper  BB_Middle    BB_Lower  BB_Width  IV_Percentile VIX_Impact  \\\n",
       "3166  641.071202    618.402  595.732798  0.075920        1.00000        0.0   \n",
       "3167  636.049924    611.358  586.666076  0.082919        1.00000        0.0   \n",
       "3168  634.224231    604.338  574.451769  0.102132        0.49069        0.0   \n",
       "\n",
       "     Momentum_Long  Momentum_Short  \\\n",
       "3166         False            True   \n",
       "3167         False            True   \n",
       "3168         False            True   \n",
       "\n",
       "                                                content  \n",
       "3166  [<p>Entrepreneur and investor <strong>Mark Cub...  \n",
       "3167  [<p>Meta Platforms (NASDAQ:<a class=\"ticker\" h...  \n",
       "3168  [<p>Benzinga readers pick which Magnificent 7 ...  \n",
       "\n",
       "[3 rows x 287 columns]"
      ]
     },
     "execution_count": 11,
     "metadata": {},
     "output_type": "execute_result"
    }
   ],
   "source": [
    "from pathlib import Path\n",
    "\n",
    "news_df = pd.read_parquet(f'{NEWS_PATH}/{TARGET}_2012-01-01_2025-01-21.parquet')\n",
    "news_df['datetime'] = pd.to_datetime(news_df['datetime'], utc=True).dt.normalize()\n",
    "news_df['content'] = news_df['content'].fillna('').str.strip()\n",
    "news_df = news_df.groupby('datetime')['content'].apply(list).reset_index()\n",
    "news_df['content'] = news_df['content'].apply(lambda x: x if x else [])\n",
    "\n",
    "missing_csv_path = Path(f'{NEWS_PATH}/missing_{TARGET}.csv')\n",
    "if missing_csv_path.exists():\n",
    "    missing_df = pd.read_csv(missing_csv_path)\n",
    "    missing_df['datetime'] = pd.to_datetime(missing_df['datetime'], utc=True).dt.normalize()\n",
    "    missing_df['content'] = missing_df['content'].fillna('').str.strip()\n",
    "    missing_df['summary'] = missing_df['summary'].fillna('').str.strip()\n",
    "    missing_df['content'] = missing_df.apply(\n",
    "        lambda row: row['content'] if row['content'] else row['summary'], axis=1\n",
    "    )\n",
    "    missing_grouped = missing_df.groupby('datetime')['content'].apply(list).reset_index()\n",
    "    missing_grouped['content'] = missing_grouped['content'].apply(lambda x: x if x else [])\n",
    "\n",
    "    news_df = pd.concat([news_df, missing_grouped], ignore_index=True)\n",
    "    news_df = news_df.groupby('datetime')['content'].sum().reset_index()\n",
    "\n",
    "engineered_df = pd.merge(engineered_df, news_df, left_on='Date', right_on='datetime', how='left')\n",
    "engineered_df = engineered_df[~engineered_df.index.duplicated(keep='first')].drop('datetime', axis=1)\n",
    "engineered_df = engineered_df.loc[:, ~engineered_df.columns.duplicated(keep='first')]\n",
    "\n",
    "engineered_df.tail(3)"
   ]
  },
  {
   "cell_type": "code",
   "execution_count": 12,
   "metadata": {},
   "outputs": [],
   "source": [
    "engineered_df = pl.from_pandas(engineered_df)\n",
    "engineered_df = engineered_df.with_columns(\n",
    "        pl.col(\"content\").cast(pl.List(pl.Utf8))\n",
    "    )\n",
    "engineered_df = engineered_df.unique()\n",
    "engineered_df = engineered_df.sort(by='Date')\n",
    "output_file = f\"{HISTORIC_PATH}/engineered_{TARGET}_data.parquet\"\n",
    "engineered_df.write_parquet(output_file)"
   ]
  },
  {
   "cell_type": "markdown",
   "metadata": {},
   "source": [
    "# Persist to Parquet\n",
    "\n",
    "Note macro and economic is downloaded once."
   ]
  },
  {
   "cell_type": "code",
   "execution_count": 13,
   "metadata": {},
   "outputs": [
    {
     "data": {
      "application/vnd.jupyter.widget-view+json": {
       "model_id": "db41dda674d94c768810055923438bdf",
       "version_major": 2,
       "version_minor": 0
      },
      "text/plain": [
       "  0%|          | 0/6 [00:00<?, ?it/s]"
      ]
     },
     "metadata": {},
     "output_type": "display_data"
    },
    {
     "name": "stdout",
     "output_type": "stream",
     "text": [
      "Parquet written to ./data/historic/engineered_META_data.parquet\n",
      "Parquet written to ./data/historic/engineered_AAPL_data.parquet\n",
      "Parquet written to ./data/historic/engineered_MSFT_data.parquet\n",
      "Parquet written to ./data/historic/engineered_GOOGL_data.parquet\n",
      "Parquet written to ./data/historic/engineered_TSLA_data.parquet\n",
      "Parquet written to ./data/historic/engineered_AMZN_data.parquet\n"
     ]
    }
   ],
   "source": [
    "tickers = [\"META\", \"AAPL\", \"MSFT\", \"GOOGL\", \"TSLA\", \"AMZN\"]\n",
    "for ticker in tqdm(tickers):\n",
    "    fundamentals = get_fundamentals(ticker, FUNDAMENTALS_PATH)\n",
    "    stock_data = get_historic(ticker, HISTORIC_PATH)\n",
    "    optionchain_data = get_historic_optionschain_summary(ticker, OPTIONS_PATH)\n",
    "\n",
    "    fundamentals['Quarter'] = pd.to_datetime(fundamentals.index, utc=True).to_period('Q')\n",
    "    stock_data['Quarter'] = pd.to_datetime(stock_data.index, utc=True).to_period('Q')\n",
    "\n",
    "    stk_idx = stock_data.index\n",
    "    stock_aug_data = pd.merge(stock_data, fundamentals, on='Quarter', how='left')\n",
    "    stock_aug_data = stock_aug_data.set_index(stk_idx, drop=False)\n",
    "    stock_aug_data = pd.merge_asof(\n",
    "        stock_aug_data.sort_index(),\n",
    "        econ_df.sort_index(),\n",
    "        left_index=True,\n",
    "        right_index=True,\n",
    "        direction='backward'\n",
    "    ).bfill().ffill()\n",
    "    if stock_aug_data.isna().any().any():\n",
    "        raise ValueError(f\"Missing macros detected in stock_aug_data for {ticker}.\")\n",
    "    stock_aug_data = pd.merge(\n",
    "        stock_aug_data,\n",
    "        macro_data,\n",
    "        left_index=True,\n",
    "        right_index=True,\n",
    "        how='left'\n",
    "    ).bfill().ffill()\n",
    "    stock_aug_data = pd.merge(\n",
    "        stock_aug_data,\n",
    "        optionchain_data,\n",
    "        left_index=True,\n",
    "        right_index=True,\n",
    "        how='left'\n",
    "    ).bfill().ffill()\n",
    "    stock_aug_data = stock_aug_data.drop(columns=[\n",
    "        col for col in stock_aug_data.columns if col.endswith(\"_Average\") or col.endswith(\"_Barcount\") or col in [\"Average\", \"Barcount\"]\n",
    "    ])\n",
    "    if stock_aug_data.isna().any().any():\n",
    "        raise ValueError(f\"Missing values detected in stock_aug_data for {ticker}.\")\n",
    "\n",
    "    stock_aug_data.tail(3)\n",
    "    engineered_df = feature_engineer(stock_aug_data.copy(), market_ticker='SPX', roll_window=5)\n",
    "    engineered_df.reset_index(inplace=True, drop=False)\n",
    "    for col in engineered_df.columns:\n",
    "        if hasattr(engineered_df[col], \"dtype\") and (isinstance(engineered_df[col].dtype, pd.PeriodDtype) or engineered_df[col].dtype == 'object'):\n",
    "            engineered_df[col] = engineered_df[col].astype(str)\n",
    "\n",
    "    if engineered_df.isna().any().any():\n",
    "        raise ValueError(f\"Missing values detected in engineered data for {ticker}.\")\n",
    "\n",
    "    news_df = pd.read_parquet(f'{NEWS_PATH}/{ticker}_2012-01-01_2025-01-21.parquet')\n",
    "    news_df['datetime'] = pd.to_datetime(news_df['datetime'], utc=True).dt.normalize()\n",
    "    news_df['content'] = news_df['content'].fillna('').str.strip()\n",
    "    news_df = news_df.groupby('datetime')['content'].apply(list).reset_index()\n",
    "    news_df['content'] = news_df['content'].apply(lambda x: x if x else [])\n",
    "\n",
    "    missing_csv_path = Path(f'{NEWS_PATH}/missing_{ticker}.csv')\n",
    "    if missing_csv_path.exists():\n",
    "        missing_df = pd.read_csv(missing_csv_path)\n",
    "        missing_df['datetime'] = pd.to_datetime(missing_df['datetime'], utc=True).dt.normalize()\n",
    "        missing_df['content'] = missing_df['content'].fillna('').str.strip()\n",
    "        missing_df['summary'] = missing_df['summary'].fillna('').str.strip()\n",
    "        missing_df['content'] = missing_df.apply(\n",
    "            lambda row: row['content'] if row['content'] else row['summary'], axis=1\n",
    "        )\n",
    "        missing_grouped = missing_df.groupby('datetime')['content'].apply(list).reset_index()\n",
    "        missing_grouped['content'] = missing_grouped['content'].apply(lambda x: x if x else [])\n",
    "        news_df = pd.concat([news_df, missing_grouped], ignore_index=True)\n",
    "        news_df = news_df.groupby('datetime')['content'].sum().reset_index()\n",
    "\n",
    "    engineered_df = pd.merge(engineered_df, news_df, left_on='Date', right_on='datetime', how='left')\n",
    "    # Front fill missing news days.\n",
    "    engineered_df['content'] = engineered_df['content'].ffill().apply(\n",
    "        lambda x: x if isinstance(x, list) else []\n",
    "    )\n",
    "    engineered_df = engineered_df[~engineered_df.index.duplicated(keep='first')].drop('datetime', axis=1)\n",
    "    engineered_df = engineered_df.loc[:, ~engineered_df.columns.duplicated(keep='first')]\n",
    "    engineered_df = pl.from_pandas(engineered_df)\n",
    "    engineered_df = engineered_df.unique()\n",
    "    engineered_df = engineered_df.sort(by='Date')\n",
    "\n",
    "    output_file = f\"{HISTORIC_PATH}/engineered_{ticker}_data.parquet\"\n",
    "    engineered_df.write_parquet(output_file)\n",
    "\n",
    "    print(f\"Parquet written to {output_file}\")\n"
   ]
  }
 ],
 "metadata": {
  "kaggle": {
   "accelerator": "gpu",
   "dataSources": [
    {
     "datasetId": 5722911,
     "sourceId": 9421991,
     "sourceType": "datasetVersion"
    },
    {
     "sourceId": 197612253,
     "sourceType": "kernelVersion"
    }
   ],
   "dockerImageVersionId": 30762,
   "isGpuEnabled": true,
   "isInternetEnabled": true,
   "language": "python",
   "sourceType": "notebook"
  },
  "kernelspec": {
   "display_name": "quant_drl",
   "language": "python",
   "name": "python3"
  },
  "language_info": {
   "codemirror_mode": {
    "name": "ipython",
    "version": 3
   },
   "file_extension": ".py",
   "mimetype": "text/x-python",
   "name": "python",
   "nbconvert_exporter": "python",
   "pygments_lexer": "ipython3",
   "version": "3.10.14"
  },
  "papermill": {
   "default_parameters": {},
   "duration": 1234.187031,
   "end_time": "2024-09-17T20:07:16.406924",
   "environment_variables": {},
   "exception": null,
   "input_path": "__notebook__.ipynb",
   "output_path": "__notebook__.ipynb",
   "parameters": {},
   "start_time": "2024-09-17T19:46:42.219893",
   "version": "2.6.0"
  }
 },
 "nbformat": 4,
 "nbformat_minor": 4
}
